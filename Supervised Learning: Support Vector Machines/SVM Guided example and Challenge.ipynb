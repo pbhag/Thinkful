{
 "cells": [
  {
   "cell_type": "markdown",
   "metadata": {},
   "source": [
    "# Support Vector Machines \n",
    "## Guided example and challenge\n",
    "\n",
    "Using the [Epicurious Recipes dataset](https://www.kaggle.com/hugodarwood/epirecipes) \n",
    "\n",
    "__Goal__: Predict a recipe's rating from ingredient and keyword list"
   ]
  },
  {
   "cell_type": "code",
   "execution_count": 17,
   "metadata": {},
   "outputs": [],
   "source": [
    "import numpy as np\n",
    "import pandas as pd\n",
    "import scipy\n",
    "import matplotlib.pyplot as plt\n",
    "import seaborn as sns\n",
    "%matplotlib inline"
   ]
  },
  {
   "cell_type": "code",
   "execution_count": 18,
   "metadata": {},
   "outputs": [],
   "source": [
    "raw_data = pd.read_csv(\"epi_r.csv\")"
   ]
  },
  {
   "cell_type": "code",
   "execution_count": 25,
   "metadata": {
    "scrolled": true
   },
   "outputs": [],
   "source": [
    "#list(raw_data.columns)\n"
   ]
  },
  {
   "cell_type": "code",
   "execution_count": 21,
   "metadata": {},
   "outputs": [
    {
     "data": {
      "text/plain": [
       "(20052, 680)"
      ]
     },
     "execution_count": 21,
     "metadata": {},
     "output_type": "execute_result"
    }
   ],
   "source": [
    "raw_data.shape"
   ]
  },
  {
   "cell_type": "code",
   "execution_count": 18,
   "metadata": {},
   "outputs": [
    {
     "data": {
      "text/html": [
       "<div>\n",
       "<style scoped>\n",
       "    .dataframe tbody tr th:only-of-type {\n",
       "        vertical-align: middle;\n",
       "    }\n",
       "\n",
       "    .dataframe tbody tr th {\n",
       "        vertical-align: top;\n",
       "    }\n",
       "\n",
       "    .dataframe thead th {\n",
       "        text-align: right;\n",
       "    }\n",
       "</style>\n",
       "<table border=\"1\" class=\"dataframe\">\n",
       "  <thead>\n",
       "    <tr style=\"text-align: right;\">\n",
       "      <th></th>\n",
       "      <th>title</th>\n",
       "      <th>rating</th>\n",
       "      <th>calories</th>\n",
       "      <th>protein</th>\n",
       "      <th>fat</th>\n",
       "      <th>sodium</th>\n",
       "      <th>#cakeweek</th>\n",
       "      <th>#wasteless</th>\n",
       "      <th>22-minute meals</th>\n",
       "      <th>3-ingredient recipes</th>\n",
       "      <th>...</th>\n",
       "      <th>yellow squash</th>\n",
       "      <th>yogurt</th>\n",
       "      <th>yonkers</th>\n",
       "      <th>yuca</th>\n",
       "      <th>zucchini</th>\n",
       "      <th>cookbooks</th>\n",
       "      <th>leftovers</th>\n",
       "      <th>snack</th>\n",
       "      <th>snack week</th>\n",
       "      <th>turkey</th>\n",
       "    </tr>\n",
       "  </thead>\n",
       "  <tbody>\n",
       "    <tr>\n",
       "      <th>0</th>\n",
       "      <td>Lentil, Apple, and Turkey Wrap</td>\n",
       "      <td>2.500</td>\n",
       "      <td>426.0</td>\n",
       "      <td>30.0</td>\n",
       "      <td>7.0</td>\n",
       "      <td>559.0</td>\n",
       "      <td>0.0</td>\n",
       "      <td>0.0</td>\n",
       "      <td>0.0</td>\n",
       "      <td>0.0</td>\n",
       "      <td>...</td>\n",
       "      <td>0.0</td>\n",
       "      <td>0.0</td>\n",
       "      <td>0.0</td>\n",
       "      <td>0.0</td>\n",
       "      <td>0.0</td>\n",
       "      <td>0.0</td>\n",
       "      <td>0.0</td>\n",
       "      <td>0.0</td>\n",
       "      <td>0.0</td>\n",
       "      <td>1.0</td>\n",
       "    </tr>\n",
       "    <tr>\n",
       "      <th>1</th>\n",
       "      <td>Boudin Blanc Terrine with Red Onion Confit</td>\n",
       "      <td>4.375</td>\n",
       "      <td>403.0</td>\n",
       "      <td>18.0</td>\n",
       "      <td>23.0</td>\n",
       "      <td>1439.0</td>\n",
       "      <td>0.0</td>\n",
       "      <td>0.0</td>\n",
       "      <td>0.0</td>\n",
       "      <td>0.0</td>\n",
       "      <td>...</td>\n",
       "      <td>0.0</td>\n",
       "      <td>0.0</td>\n",
       "      <td>0.0</td>\n",
       "      <td>0.0</td>\n",
       "      <td>0.0</td>\n",
       "      <td>0.0</td>\n",
       "      <td>0.0</td>\n",
       "      <td>0.0</td>\n",
       "      <td>0.0</td>\n",
       "      <td>0.0</td>\n",
       "    </tr>\n",
       "    <tr>\n",
       "      <th>2</th>\n",
       "      <td>Potato and Fennel Soup Hodge</td>\n",
       "      <td>3.750</td>\n",
       "      <td>165.0</td>\n",
       "      <td>6.0</td>\n",
       "      <td>7.0</td>\n",
       "      <td>165.0</td>\n",
       "      <td>0.0</td>\n",
       "      <td>0.0</td>\n",
       "      <td>0.0</td>\n",
       "      <td>0.0</td>\n",
       "      <td>...</td>\n",
       "      <td>0.0</td>\n",
       "      <td>0.0</td>\n",
       "      <td>0.0</td>\n",
       "      <td>0.0</td>\n",
       "      <td>0.0</td>\n",
       "      <td>0.0</td>\n",
       "      <td>0.0</td>\n",
       "      <td>0.0</td>\n",
       "      <td>0.0</td>\n",
       "      <td>0.0</td>\n",
       "    </tr>\n",
       "    <tr>\n",
       "      <th>3</th>\n",
       "      <td>Mahi-Mahi in Tomato Olive Sauce</td>\n",
       "      <td>5.000</td>\n",
       "      <td>NaN</td>\n",
       "      <td>NaN</td>\n",
       "      <td>NaN</td>\n",
       "      <td>NaN</td>\n",
       "      <td>0.0</td>\n",
       "      <td>0.0</td>\n",
       "      <td>0.0</td>\n",
       "      <td>0.0</td>\n",
       "      <td>...</td>\n",
       "      <td>0.0</td>\n",
       "      <td>0.0</td>\n",
       "      <td>0.0</td>\n",
       "      <td>0.0</td>\n",
       "      <td>0.0</td>\n",
       "      <td>0.0</td>\n",
       "      <td>0.0</td>\n",
       "      <td>0.0</td>\n",
       "      <td>0.0</td>\n",
       "      <td>0.0</td>\n",
       "    </tr>\n",
       "    <tr>\n",
       "      <th>4</th>\n",
       "      <td>Spinach Noodle Casserole</td>\n",
       "      <td>3.125</td>\n",
       "      <td>547.0</td>\n",
       "      <td>20.0</td>\n",
       "      <td>32.0</td>\n",
       "      <td>452.0</td>\n",
       "      <td>0.0</td>\n",
       "      <td>0.0</td>\n",
       "      <td>0.0</td>\n",
       "      <td>0.0</td>\n",
       "      <td>...</td>\n",
       "      <td>0.0</td>\n",
       "      <td>0.0</td>\n",
       "      <td>0.0</td>\n",
       "      <td>0.0</td>\n",
       "      <td>0.0</td>\n",
       "      <td>0.0</td>\n",
       "      <td>0.0</td>\n",
       "      <td>0.0</td>\n",
       "      <td>0.0</td>\n",
       "      <td>0.0</td>\n",
       "    </tr>\n",
       "  </tbody>\n",
       "</table>\n",
       "<p>5 rows × 680 columns</p>\n",
       "</div>"
      ],
      "text/plain": [
       "                                         title  rating  calories  protein  \\\n",
       "0              Lentil, Apple, and Turkey Wrap    2.500     426.0     30.0   \n",
       "1  Boudin Blanc Terrine with Red Onion Confit    4.375     403.0     18.0   \n",
       "2                Potato and Fennel Soup Hodge    3.750     165.0      6.0   \n",
       "3             Mahi-Mahi in Tomato Olive Sauce    5.000       NaN      NaN   \n",
       "4                    Spinach Noodle Casserole    3.125     547.0     20.0   \n",
       "\n",
       "    fat  sodium  #cakeweek  #wasteless  22-minute meals  3-ingredient recipes  \\\n",
       "0   7.0   559.0        0.0         0.0              0.0                   0.0   \n",
       "1  23.0  1439.0        0.0         0.0              0.0                   0.0   \n",
       "2   7.0   165.0        0.0         0.0              0.0                   0.0   \n",
       "3   NaN     NaN        0.0         0.0              0.0                   0.0   \n",
       "4  32.0   452.0        0.0         0.0              0.0                   0.0   \n",
       "\n",
       "   ...  yellow squash  yogurt  yonkers  yuca  zucchini  cookbooks  leftovers  \\\n",
       "0  ...            0.0     0.0      0.0   0.0       0.0        0.0        0.0   \n",
       "1  ...            0.0     0.0      0.0   0.0       0.0        0.0        0.0   \n",
       "2  ...            0.0     0.0      0.0   0.0       0.0        0.0        0.0   \n",
       "3  ...            0.0     0.0      0.0   0.0       0.0        0.0        0.0   \n",
       "4  ...            0.0     0.0      0.0   0.0       0.0        0.0        0.0   \n",
       "\n",
       "   snack  snack week  turkey  \n",
       "0    0.0         0.0     1.0  \n",
       "1    0.0         0.0     0.0  \n",
       "2    0.0         0.0     0.0  \n",
       "3    0.0         0.0     0.0  \n",
       "4    0.0         0.0     0.0  \n",
       "\n",
       "[5 rows x 680 columns]"
      ]
     },
     "execution_count": 18,
     "metadata": {},
     "output_type": "execute_result"
    }
   ],
   "source": [
    "raw_data.head()"
   ]
  },
  {
   "cell_type": "code",
   "execution_count": 7,
   "metadata": {},
   "outputs": [
    {
     "data": {
      "text/plain": [
       "count    20052.000000\n",
       "mean         3.714467\n",
       "std          1.340829\n",
       "min          0.000000\n",
       "25%          3.750000\n",
       "50%          4.375000\n",
       "75%          4.375000\n",
       "max          5.000000\n",
       "Name: rating, dtype: float64"
      ]
     },
     "execution_count": 7,
     "metadata": {},
     "output_type": "execute_result"
    }
   ],
   "source": [
    "# Target variable is rating\n",
    "raw_data.rating.describe()"
   ]
  },
  {
   "cell_type": "markdown",
   "metadata": {},
   "source": [
    "We learn a few things from this analysis. From a ratings perspective, there are just over 20,000 recipes with an average rating of 3.71. What is interesting is that the 25th percentile is actually above the mean. This means there is likely some kind of outlier population. This makes sense when we think about reviews: some bad recipes may have very few very low reviews.\n",
    "\n",
    "Let's validate the idea a bit further with a histogram."
   ]
  },
  {
   "cell_type": "code",
   "execution_count": 12,
   "metadata": {},
   "outputs": [
    {
     "data": {
      "image/png": "[encoded data removed]",
      "text/plain": [
       "<Figure size 432x288 with 1 Axes>"
      ]
     },
     "metadata": {
      "needs_background": "light"
     },
     "output_type": "display_data"
    }
   ],
   "source": [
    "raw_data.rating.hist(bins=20)\n",
    "plt.title('Histogram of Recipe Ratings')\n",
    "plt.show()"
   ]
  },
  {
   "cell_type": "markdown",
   "metadata": {},
   "source": [
    "So a few things are shown in this histogram. Firstly there are sharp discontinutities. We don't have continuous data. No recipe has a 3.5 rating, for example. Also we see the anticipated increase at 0.\n",
    "\n",
    "Let's try a naive approach again, this time using SVM Regressor. But first, we'll have to do a bit of data cleaning."
   ]
  },
  {
   "cell_type": "code",
   "execution_count": 13,
   "metadata": {},
   "outputs": [
    {
     "data": {
      "text/plain": [
       "calories    4117\n",
       "protein     4162\n",
       "fat         4183\n",
       "sodium      4119\n",
       "dtype: int64"
      ]
     },
     "execution_count": 13,
     "metadata": {},
     "output_type": "execute_result"
    }
   ],
   "source": [
    "# Counting nulls\n",
    "null_count = raw_data.isnull().sum()\n",
    "null_count[null_count > 0]"
   ]
  },
  {
   "cell_type": "markdown",
   "metadata": {},
   "source": [
    "What we can see right away is that nutrition information is not available for all goods. Now this would be an interesting data point, but let's focus on ingredients and keywords right now. So we'll actually drop the whole columns for calories, protein, fat, and sodium. We'll come back to nutrition information later."
   ]
  },
  {
   "cell_type": "code",
   "execution_count": 159,
   "metadata": {},
   "outputs": [
    {
     "name": "stderr",
     "output_type": "stream",
     "text": [
      "/Users/pbhag/Library/Python/3.7/lib/python/site-packages/sklearn/svm/base.py:193: FutureWarning: The default value of gamma will change from 'auto' to 'scale' in version 0.22 to account better for unscaled features. Set gamma explicitly to 'auto' or 'scale' to avoid this warning.\n",
      "  \"avoid this warning.\", FutureWarning)\n"
     ]
    },
    {
     "data": {
      "text/plain": [
       "SVR(C=1.0, cache_size=200, coef0=0.0, degree=3, epsilon=0.1,\n",
       "    gamma='auto_deprecated', kernel='rbf', max_iter=-1, shrinking=True,\n",
       "    tol=0.001, verbose=False)"
      ]
     },
     "execution_count": 159,
     "metadata": {},
     "output_type": "execute_result"
    }
   ],
   "source": [
    "from sklearn.svm import SVR #importing SVM Regressor\n",
    "svr = SVR()\n",
    "\n",
    "#feature set:\n",
    "X = raw_data.drop(['rating', 'title', 'calories', 'protein', 'fat', 'sodium'], 1).sample(frac=0.3, replace=True, random_state=1)\n",
    "\n",
    "#target:\n",
    "Y = raw_data.rating.sample(frac=0.3, replace=True, random_state=1)\n",
    "svr.fit(X,Y)"
   ]
  },
  {
   "cell_type": "markdown",
   "metadata": {},
   "source": [
    "Let's see what a scatter plot looks like, comparing actuals to predicted."
   ]
  },
  {
   "cell_type": "code",
   "execution_count": 15,
   "metadata": {},
   "outputs": [
    {
     "data": {
      "image/png": "[encoded data removed]",
      "text/plain": [
       "<Figure size 432x288 with 1 Axes>"
      ]
     },
     "metadata": {
      "needs_background": "light"
     },
     "output_type": "display_data"
    }
   ],
   "source": [
    "plt.scatter(Y, svr.predict(X))\n",
    "plt.show()"
   ]
  },
  {
   "cell_type": "markdown",
   "metadata": {},
   "source": [
    "Now that is a pretty useless visualization. This is because of the discontinuous nature of our outcome variable. There's too much data for us to really see what's going on here. If you wanted to look at it you could create histograms, here we'll move on to the scores of both our full fit model and with cross validation. Again if you choose to run it again it will take some time, so you probably shouldn't"
   ]
  },
  {
   "cell_type": "code",
   "execution_count": 160,
   "metadata": {},
   "outputs": [
    {
     "data": {
      "text/plain": [
       "0.26884408577365915"
      ]
     },
     "execution_count": 160,
     "metadata": {},
     "output_type": "execute_result"
    }
   ],
   "source": [
    "svr.score(X, Y)"
   ]
  },
  {
   "cell_type": "code",
   "execution_count": 161,
   "metadata": {},
   "outputs": [
    {
     "name": "stderr",
     "output_type": "stream",
     "text": [
      "/Users/pbhag/Library/Python/3.7/lib/python/site-packages/sklearn/svm/base.py:193: FutureWarning: The default value of gamma will change from 'auto' to 'scale' in version 0.22 to account better for unscaled features. Set gamma explicitly to 'auto' or 'scale' to avoid this warning.\n",
      "  \"avoid this warning.\", FutureWarning)\n",
      "/Users/pbhag/Library/Python/3.7/lib/python/site-packages/sklearn/svm/base.py:193: FutureWarning: The default value of gamma will change from 'auto' to 'scale' in version 0.22 to account better for unscaled features. Set gamma explicitly to 'auto' or 'scale' to avoid this warning.\n",
      "  \"avoid this warning.\", FutureWarning)\n",
      "/Users/pbhag/Library/Python/3.7/lib/python/site-packages/sklearn/svm/base.py:193: FutureWarning: The default value of gamma will change from 'auto' to 'scale' in version 0.22 to account better for unscaled features. Set gamma explicitly to 'auto' or 'scale' to avoid this warning.\n",
      "  \"avoid this warning.\", FutureWarning)\n",
      "/Users/pbhag/Library/Python/3.7/lib/python/site-packages/sklearn/svm/base.py:193: FutureWarning: The default value of gamma will change from 'auto' to 'scale' in version 0.22 to account better for unscaled features. Set gamma explicitly to 'auto' or 'scale' to avoid this warning.\n",
      "  \"avoid this warning.\", FutureWarning)\n",
      "/Users/pbhag/Library/Python/3.7/lib/python/site-packages/sklearn/svm/base.py:193: FutureWarning: The default value of gamma will change from 'auto' to 'scale' in version 0.22 to account better for unscaled features. Set gamma explicitly to 'auto' or 'scale' to avoid this warning.\n",
      "  \"avoid this warning.\", FutureWarning)\n"
     ]
    },
    {
     "data": {
      "text/plain": [
       "array([0.26330566, 0.25816523, 0.26266863, 0.25727706, 0.267485  ])"
      ]
     },
     "execution_count": 161,
     "metadata": {},
     "output_type": "execute_result"
    }
   ],
   "source": [
    "from sklearn.model_selection import cross_val_score\n",
    "cross_val_score(svr, X, Y, cv=5)"
   ]
  },
  {
   "cell_type": "markdown",
   "metadata": {},
   "source": [
    "Oh dear, so this did seem not to work very well. In fact it is remarkably poor. Now there are many things that we could do here.\n",
    "\n",
    "Firstly the overfit is a problem, even though it was poor in the first place. We could go back and clean up our feature set. There might be some gains to be made by getting rid of the noise.\n",
    "\n",
    "We could also see how removing the nulls but including dietary information performs. Though its a slight change to the question we could still possibly get some improvements there.\n",
    "\n",
    "Lastly, we could take our regression problem and turn it into a classifier. With this number of features and a discontinuous outcome, we might have better luck thinking of this as a classification problem. We could make it simpler still by instead of classifying on each possible value, group reviews to some decided high and low values.\n",
    "\n",
    "And that is your challenge.\n",
    "\n",
    "Transform this regression problem into a binary classifier and clean up the feature set. You can choose whether or not to include nutritional information, but try to cut your feature set down to the 30 most valuable features.\n",
    "\n",
    "Good luck!"
   ]
  },
  {
   "cell_type": "markdown",
   "metadata": {},
   "source": [
    "## Challenge attempt:\n",
    "\n",
    "First, making this a binary classification problem. Instead of predicting a continuous rating, we can decide if a recipe is \"good\" or \"bad\". We saw that the ratings are not normally distributed, with a mean rating of 3.71 and median rating of 4.375. \n",
    "\n",
    "Let's split the rating variable so that: \n",
    "- \"good\" rating: _rating >= 4, classified as 1_\n",
    "- \"bad\" rating: _rating < 4, classified as 0_\n"
   ]
  },
  {
   "cell_type": "code",
   "execution_count": 17,
   "metadata": {},
   "outputs": [],
   "source": [
    "import numpy as np\n",
    "import pandas as pd\n",
    "import scipy\n",
    "import matplotlib.pyplot as plt\n",
    "import seaborn as sns\n",
    "import warnings\n",
    "warnings.simplefilter(action='ignore', category=FutureWarning)\n",
    "warnings.filterwarnings('ignore')\n",
    "\n",
    "%matplotlib inline"
   ]
  },
  {
   "cell_type": "code",
   "execution_count": 18,
   "metadata": {},
   "outputs": [],
   "source": [
    "# Create a new df of the data to play with. \n",
    "# initialize it by dropping the features with several missing values:\n",
    "df = pd.read_csv('epi_r.csv')\n",
    "df = df.drop(['calories', 'protein', 'fat', 'sodium'], 1)\n",
    "df = df.dropna()\n"
   ]
  },
  {
   "cell_type": "code",
   "execution_count": 47,
   "metadata": {},
   "outputs": [
    {
     "data": {
      "text/html": [
       "<div>\n",
       "<style scoped>\n",
       "    .dataframe tbody tr th:only-of-type {\n",
       "        vertical-align: middle;\n",
       "    }\n",
       "\n",
       "    .dataframe tbody tr th {\n",
       "        vertical-align: top;\n",
       "    }\n",
       "\n",
       "    .dataframe thead th {\n",
       "        text-align: right;\n",
       "    }\n",
       "</style>\n",
       "<table border=\"1\" class=\"dataframe\">\n",
       "  <thead>\n",
       "    <tr style=\"text-align: right;\">\n",
       "      <th></th>\n",
       "      <th>title</th>\n",
       "      <th>rating</th>\n",
       "      <th>#cakeweek</th>\n",
       "      <th>#wasteless</th>\n",
       "      <th>22-minute meals</th>\n",
       "      <th>3-ingredient recipes</th>\n",
       "      <th>30 days of groceries</th>\n",
       "      <th>advance prep required</th>\n",
       "      <th>alabama</th>\n",
       "      <th>alaska</th>\n",
       "      <th>...</th>\n",
       "      <th>yellow squash</th>\n",
       "      <th>yogurt</th>\n",
       "      <th>yonkers</th>\n",
       "      <th>yuca</th>\n",
       "      <th>zucchini</th>\n",
       "      <th>cookbooks</th>\n",
       "      <th>leftovers</th>\n",
       "      <th>snack</th>\n",
       "      <th>snack week</th>\n",
       "      <th>turkey</th>\n",
       "    </tr>\n",
       "  </thead>\n",
       "  <tbody>\n",
       "    <tr>\n",
       "      <th>0</th>\n",
       "      <td>Lentil, Apple, and Turkey Wrap</td>\n",
       "      <td>0</td>\n",
       "      <td>0.0</td>\n",
       "      <td>0.0</td>\n",
       "      <td>0.0</td>\n",
       "      <td>0.0</td>\n",
       "      <td>0.0</td>\n",
       "      <td>0.0</td>\n",
       "      <td>0.0</td>\n",
       "      <td>0.0</td>\n",
       "      <td>...</td>\n",
       "      <td>0.0</td>\n",
       "      <td>0.0</td>\n",
       "      <td>0.0</td>\n",
       "      <td>0.0</td>\n",
       "      <td>0.0</td>\n",
       "      <td>0.0</td>\n",
       "      <td>0.0</td>\n",
       "      <td>0.0</td>\n",
       "      <td>0.0</td>\n",
       "      <td>1.0</td>\n",
       "    </tr>\n",
       "    <tr>\n",
       "      <th>1</th>\n",
       "      <td>Boudin Blanc Terrine with Red Onion Confit</td>\n",
       "      <td>1</td>\n",
       "      <td>0.0</td>\n",
       "      <td>0.0</td>\n",
       "      <td>0.0</td>\n",
       "      <td>0.0</td>\n",
       "      <td>0.0</td>\n",
       "      <td>0.0</td>\n",
       "      <td>0.0</td>\n",
       "      <td>0.0</td>\n",
       "      <td>...</td>\n",
       "      <td>0.0</td>\n",
       "      <td>0.0</td>\n",
       "      <td>0.0</td>\n",
       "      <td>0.0</td>\n",
       "      <td>0.0</td>\n",
       "      <td>0.0</td>\n",
       "      <td>0.0</td>\n",
       "      <td>0.0</td>\n",
       "      <td>0.0</td>\n",
       "      <td>0.0</td>\n",
       "    </tr>\n",
       "    <tr>\n",
       "      <th>2</th>\n",
       "      <td>Potato and Fennel Soup Hodge</td>\n",
       "      <td>0</td>\n",
       "      <td>0.0</td>\n",
       "      <td>0.0</td>\n",
       "      <td>0.0</td>\n",
       "      <td>0.0</td>\n",
       "      <td>0.0</td>\n",
       "      <td>0.0</td>\n",
       "      <td>0.0</td>\n",
       "      <td>0.0</td>\n",
       "      <td>...</td>\n",
       "      <td>0.0</td>\n",
       "      <td>0.0</td>\n",
       "      <td>0.0</td>\n",
       "      <td>0.0</td>\n",
       "      <td>0.0</td>\n",
       "      <td>0.0</td>\n",
       "      <td>0.0</td>\n",
       "      <td>0.0</td>\n",
       "      <td>0.0</td>\n",
       "      <td>0.0</td>\n",
       "    </tr>\n",
       "    <tr>\n",
       "      <th>3</th>\n",
       "      <td>Mahi-Mahi in Tomato Olive Sauce</td>\n",
       "      <td>1</td>\n",
       "      <td>0.0</td>\n",
       "      <td>0.0</td>\n",
       "      <td>0.0</td>\n",
       "      <td>0.0</td>\n",
       "      <td>0.0</td>\n",
       "      <td>0.0</td>\n",
       "      <td>0.0</td>\n",
       "      <td>0.0</td>\n",
       "      <td>...</td>\n",
       "      <td>0.0</td>\n",
       "      <td>0.0</td>\n",
       "      <td>0.0</td>\n",
       "      <td>0.0</td>\n",
       "      <td>0.0</td>\n",
       "      <td>0.0</td>\n",
       "      <td>0.0</td>\n",
       "      <td>0.0</td>\n",
       "      <td>0.0</td>\n",
       "      <td>0.0</td>\n",
       "    </tr>\n",
       "    <tr>\n",
       "      <th>4</th>\n",
       "      <td>Spinach Noodle Casserole</td>\n",
       "      <td>0</td>\n",
       "      <td>0.0</td>\n",
       "      <td>0.0</td>\n",
       "      <td>0.0</td>\n",
       "      <td>0.0</td>\n",
       "      <td>0.0</td>\n",
       "      <td>0.0</td>\n",
       "      <td>0.0</td>\n",
       "      <td>0.0</td>\n",
       "      <td>...</td>\n",
       "      <td>0.0</td>\n",
       "      <td>0.0</td>\n",
       "      <td>0.0</td>\n",
       "      <td>0.0</td>\n",
       "      <td>0.0</td>\n",
       "      <td>0.0</td>\n",
       "      <td>0.0</td>\n",
       "      <td>0.0</td>\n",
       "      <td>0.0</td>\n",
       "      <td>0.0</td>\n",
       "    </tr>\n",
       "  </tbody>\n",
       "</table>\n",
       "<p>5 rows × 676 columns</p>\n",
       "</div>"
      ],
      "text/plain": [
       "                                         title  rating  #cakeweek  #wasteless  \\\n",
       "0              Lentil, Apple, and Turkey Wrap        0        0.0         0.0   \n",
       "1  Boudin Blanc Terrine with Red Onion Confit        1        0.0         0.0   \n",
       "2                Potato and Fennel Soup Hodge        0        0.0         0.0   \n",
       "3             Mahi-Mahi in Tomato Olive Sauce        1        0.0         0.0   \n",
       "4                    Spinach Noodle Casserole        0        0.0         0.0   \n",
       "\n",
       "   22-minute meals  3-ingredient recipes  30 days of groceries  \\\n",
       "0              0.0                   0.0                   0.0   \n",
       "1              0.0                   0.0                   0.0   \n",
       "2              0.0                   0.0                   0.0   \n",
       "3              0.0                   0.0                   0.0   \n",
       "4              0.0                   0.0                   0.0   \n",
       "\n",
       "   advance prep required  alabama  alaska  ...  yellow squash  yogurt  \\\n",
       "0                    0.0      0.0     0.0  ...            0.0     0.0   \n",
       "1                    0.0      0.0     0.0  ...            0.0     0.0   \n",
       "2                    0.0      0.0     0.0  ...            0.0     0.0   \n",
       "3                    0.0      0.0     0.0  ...            0.0     0.0   \n",
       "4                    0.0      0.0     0.0  ...            0.0     0.0   \n",
       "\n",
       "   yonkers  yuca  zucchini  cookbooks  leftovers  snack  snack week  turkey  \n",
       "0      0.0   0.0       0.0        0.0        0.0    0.0         0.0     1.0  \n",
       "1      0.0   0.0       0.0        0.0        0.0    0.0         0.0     0.0  \n",
       "2      0.0   0.0       0.0        0.0        0.0    0.0         0.0     0.0  \n",
       "3      0.0   0.0       0.0        0.0        0.0    0.0         0.0     0.0  \n",
       "4      0.0   0.0       0.0        0.0        0.0    0.0         0.0     0.0  \n",
       "\n",
       "[5 rows x 676 columns]"
      ]
     },
     "execution_count": 47,
     "metadata": {},
     "output_type": "execute_result"
    }
   ],
   "source": [
    "df.head()"
   ]
  },
  {
   "cell_type": "code",
   "execution_count": 19,
   "metadata": {},
   "outputs": [
    {
     "data": {
      "text/plain": [
       "1    10738\n",
       "0     9314\n",
       "Name: rating, dtype: int64"
      ]
     },
     "execution_count": 19,
     "metadata": {},
     "output_type": "execute_result"
    }
   ],
   "source": [
    "# Transform rating variable to binary: \n",
    "\n",
    "df.rating = df.rating.apply(lambda x: 1 if x >= 4 else 0)\n",
    "df.rating.value_counts()"
   ]
  },
  {
   "cell_type": "markdown",
   "metadata": {},
   "source": [
    "### Feature selection, first attempt:\n",
    "\n",
    "See how selecting the 30 most commonly mentioned ingredients/keywords/phrases work as features:"
   ]
  },
  {
   "cell_type": "code",
   "execution_count": 20,
   "metadata": {
    "scrolled": false
   },
   "outputs": [
    {
     "data": {
      "text/plain": [
       "['bon appétit',\n",
       " 'peanut free',\n",
       " 'soy free',\n",
       " 'tree nut free',\n",
       " 'vegetarian',\n",
       " 'gourmet',\n",
       " 'kosher',\n",
       " 'pescatarian',\n",
       " 'quick & easy',\n",
       " 'wheat/gluten-free',\n",
       " 'bake',\n",
       " 'summer',\n",
       " 'dessert',\n",
       " 'dairy free',\n",
       " 'side',\n",
       " 'no sugar added',\n",
       " 'winter',\n",
       " 'fall',\n",
       " 'dinner',\n",
       " 'sugar conscious',\n",
       " 'healthy',\n",
       " 'kidney friendly',\n",
       " 'onion',\n",
       " 'tomato',\n",
       " 'vegetable',\n",
       " 'sauté',\n",
       " 'milk/cream',\n",
       " 'fruit',\n",
       " 'vegan',\n",
       " 'kid-friendly']"
      ]
     },
     "execution_count": 20,
     "metadata": {},
     "output_type": "execute_result"
    }
   ],
   "source": [
    "features1 = df.drop(['rating', 'title'], 1) #\n",
    "features1 = features1.apply(pd.Series.value_counts).transpose()\n",
    "features1 = features1.reset_index()\n",
    "features1.columns = ['keyword', 'not mentioned', 'mentioned'] \n",
    "features1 = features1.sort_values(by='mentioned', ascending=False)\n",
    "features1 = features1.head(30)\n",
    "\n",
    "# Put the top keywords into a list: \n",
    "features1_list = list(features1.keyword)\n",
    "features1_list"
   ]
  },
  {
   "cell_type": "markdown",
   "metadata": {},
   "source": [
    "These are the most commonly mentioned ingredients/keywords/phrases for the recipes in our dataset. Lets use them as our features in our SVC model:"
   ]
  },
  {
   "cell_type": "code",
   "execution_count": 21,
   "metadata": {
    "scrolled": true
   },
   "outputs": [
    {
     "name": "stdout",
     "output_type": "stream",
     "text": [
      "score array:\n",
      " [0.56544503 0.56619297 0.57306733 0.56359102 0.57630923]\n",
      "\n",
      "score array mean:\n",
      " 0.5689211153119444\n",
      "\n",
      "score array std dev:\n",
      " 0.004893080206561349\n",
      "\n",
      "runtime:\n",
      " 105.51647454500016 seconds\n"
     ]
    }
   ],
   "source": [
    "from sklearn.svm import SVC\n",
    "from sklearn.model_selection import cross_val_score\n",
    "from sklearn.model_selection import KFold\n",
    "import time\n",
    "svc = SVC()\n",
    "X1 = df[features1_list]\n",
    "Y1 = df.rating\n",
    "\n",
    "\n",
    "#uncomment below to run svm (might take a while)\n",
    "start_time = time.perf_counter()\n",
    "svc.fit(X1,Y1)\n",
    "scores_svc = cross_val_score(svc,X1,Y1,cv=KFold(5, shuffle=True))\n",
    "\n",
    "print('score array:\\n', scores_svc)\n",
    "print('\\nscore array mean:\\n', np.mean(scores_svc))\n",
    "print('\\nscore array std dev:\\n', np.std(scores_svc))\n",
    "print('\\nruntime:\\n',time.perf_counter() - start_time, \"seconds\")\n",
    "\n"
   ]
  },
  {
   "cell_type": "markdown",
   "metadata": {},
   "source": [
    "Not a great score.."
   ]
  },
  {
   "cell_type": "code",
   "execution_count": 22,
   "metadata": {
    "scrolled": false
   },
   "outputs": [
    {
     "name": "stdout",
     "output_type": "stream",
     "text": [
      "\n",
      "Best parameters:\n",
      " {'C': 10, 'kernel': 'rbf'}\n",
      "\n",
      "Best score:\n",
      " 0.5765010971474167\n",
      "\n",
      "runtime:\n",
      " 606.1941586580001 seconds\n"
     ]
    }
   ],
   "source": [
    "\n",
    "#try other c values and kernels\n",
    "from sklearn.model_selection import GridSearchCV\n",
    "\n",
    "params = [{'C': [0.01, 0.1, 1, 10], 'kernel':['linear']},\n",
    "          {'C': [0.01, 0.1, 1, 10], 'kernel':['poly']},\n",
    "          {'C': [0.01, 0.1, 1, 10], 'kernel':['rbf']},\n",
    "          {'C': [0.01, 0.1, 1, 10], 'kernel':['sigmoid']}]\n",
    "\n",
    "grid = GridSearchCV(estimator=svc, param_grid=params)\n",
    "\n",
    "#uncomment below to run svm (might take a while)\n",
    "start_time = time.perf_counter()\n",
    "grid.fit(X1,Y1)\n",
    "print('\\nBest parameters:\\n', grid.best_params_)\n",
    "print('\\nBest score:\\n', grid.best_score_)\n",
    "print('\\nruntime:\\n',time.perf_counter() - start_time, \"seconds\")"
   ]
  },
  {
   "cell_type": "markdown",
   "metadata": {},
   "source": [
    "Looks the scores arent much better regardless of trying out different parameters for the C-value and kernel type.\n"
   ]
  },
  {
   "cell_type": "code",
   "execution_count": 56,
   "metadata": {},
   "outputs": [
    {
     "data": {
      "text/plain": [
       "<matplotlib.axes._subplots.AxesSubplot at 0x1330f20f0>"
      ]
     },
     "execution_count": 56,
     "metadata": {},
     "output_type": "execute_result"
    },
    {
     "data": {
      "image/png": "[encoded data removed]",
      "text/plain": [
       "<Figure size 432x288 with 2 Axes>"
      ]
     },
     "metadata": {
      "needs_background": "light"
     },
     "output_type": "display_data"
    }
   ],
   "source": [
    "# taking a look at our feature set to see any collinearities: \n",
    "df2 = pd.concat([X1, Y1], 1)\n",
    "sns.heatmap(df2.corr())"
   ]
  },
  {
   "cell_type": "code",
   "execution_count": 23,
   "metadata": {},
   "outputs": [
    {
     "name": "stdout",
     "output_type": "stream",
     "text": [
      "score array:\n",
      " [0.58040389 0.57068063 0.57117926 0.58354115 0.57420803]\n",
      "\n",
      "score array mean:\n",
      " 0.5760025907360253\n",
      "\n",
      "score array std dev:\n",
      " 0.005118779841322413\n",
      "\n",
      "runtime:\n",
      " 109.8590287699999 seconds\n"
     ]
    }
   ],
   "source": [
    "#best result was from default rbf kernel with c=10\n",
    "svc1 = SVC(C=10)\n",
    "\n",
    "#uncomment below to run svm (might take a while)\n",
    "start_time = time.perf_counter()\n",
    "svc1.fit(X1,Y1)\n",
    "scores_svc1 = cross_val_score(svc1,X1,Y1,cv=5)\n",
    "\n",
    "print('score array:\\n', scores_svc1)\n",
    "print('\\nscore array mean:\\n', np.mean(scores_svc1))\n",
    "print('\\nscore array std dev:\\n', np.std(scores_svc1))\n",
    "print('\\nruntime:\\n',time.perf_counter() - start_time, \"seconds\")"
   ]
  },
  {
   "cell_type": "markdown",
   "metadata": {},
   "source": [
    "## Feature selection, round 2:\n",
    "\n",
    "Using SKLearn's **SelectKBest** module, lets see if we can find a better featureset:\n",
    "\n",
    "(using f_classif to select the best features:)"
   ]
  },
  {
   "cell_type": "code",
   "execution_count": 24,
   "metadata": {},
   "outputs": [
    {
     "name": "stdout",
     "output_type": "stream",
     "text": [
      "score array:\n",
      " [0.56270257 0.56818748 0.57043131 0.56708229 0.57246196]\n",
      "\n",
      "score array mean:\n",
      " 0.5681731242191693\n",
      "\n",
      "score array std dev:\n",
      " 0.0033048643000487803\n",
      "\n",
      "runtime:\n",
      " 104.50788000000011 seconds\n"
     ]
    }
   ],
   "source": [
    "from sklearn.pipeline import make_pipeline\n",
    "from sklearn.feature_selection import SelectKBest, f_classif #using f_classif to select the best features:\n",
    "import warnings\n",
    "warnings.filterwarnings('ignore')\n",
    "\n",
    "#data & target\n",
    "X2 = df.drop(['title','rating'],1)\n",
    "Y2 = df.rating\n",
    "\n",
    "#use f val for kbest, fit SVC\n",
    "# f_classif: Used only for categorical targets and based on the\n",
    "# Analysis of Variance (ANOVA) statistical test.\n",
    "\n",
    "\n",
    "f_vals = SelectKBest(f_classif, k=30)\n",
    "svc2 = SVC()\n",
    "svc2_f = make_pipeline(f_vals, svc2)\n",
    "\n",
    "#uncomment below to run svm (might take a while)\n",
    "start_time = time.clock()\n",
    "svc2_f.fit(X2,Y2)\n",
    "scores_svc2 = cross_val_score(svc2_f,X2,Y2,cv=5)\n",
    "\n",
    "print('score array:\\n', scores_svc2)\n",
    "print('\\nscore array mean:\\n', np.mean(scores_svc2))\n",
    "print('\\nscore array std dev:\\n', np.std(scores_svc2))\n",
    "print('\\nruntime:\\n',time.clock() - start_time, \"seconds\")"
   ]
  },
  {
   "cell_type": "markdown",
   "metadata": {},
   "source": [
    "Using SelectKBest to find the 30 best features, this time using Chi^2 to determine the best features:"
   ]
  },
  {
   "cell_type": "code",
   "execution_count": 58,
   "metadata": {},
   "outputs": [
    {
     "name": "stdout",
     "output_type": "stream",
     "text": [
      "              Specs       Score\n",
      "277  house & garden  168.736737\n",
      "186           drink  130.854678\n",
      "8         alcoholic  114.406372\n",
      "57      bon appétit  100.806123\n",
      "235             gin  100.128167\n",
      "520           roast   87.120913\n",
      "616    thanksgiving   83.703405\n",
      "134  cocktail party   76.283693\n",
      "179          dinner   67.082465\n",
      "580          spirit   64.501838\n"
     ]
    }
   ],
   "source": [
    "X3 = df.drop(['title','rating'],1)\n",
    "Y3 = df.rating\n",
    "from sklearn.feature_selection import chi2\n",
    "# Apply SelectKBest class to extract the top 30 best features\n",
    "bestfeatures = SelectKBest(score_func=chi2, k=30)\n",
    "fit = bestfeatures.fit(X3, Y3)\n",
    "dfscores = pd.DataFrame(fit.scores_)\n",
    "dfcolumns = pd.DataFrame(X3.columns)\n",
    "\n",
    "#concat two dataframes for better visualization \n",
    "featureScores = pd.concat([dfcolumns,dfscores],axis=1)\n",
    "featureScores.columns = ['Specs','Score']  #naming the dataframe columns\n",
    "print(featureScores.nlargest(10,'Score'))  #print 10 best features"
   ]
  },
  {
   "cell_type": "code",
   "execution_count": 33,
   "metadata": {},
   "outputs": [
    {
     "data": {
      "text/plain": [
       "['house & garden',\n",
       " 'drink',\n",
       " 'alcoholic',\n",
       " 'bon appétit',\n",
       " 'gin',\n",
       " 'roast',\n",
       " 'thanksgiving',\n",
       " 'cocktail party',\n",
       " 'dinner',\n",
       " 'spirit',\n",
       " 'christmas',\n",
       " 'bitters',\n",
       " 'soy free',\n",
       " 'peanut free',\n",
       " 'grill/barbecue',\n",
       " 'low fat',\n",
       " 'backyard bbq',\n",
       " 'cocktail',\n",
       " 'fall',\n",
       " 'grill',\n",
       " 'stuffing/dressing',\n",
       " 'harpercollins',\n",
       " 'pasta',\n",
       " 'rum',\n",
       " 'goat cheese',\n",
       " 'tree nut free',\n",
       " 'stir-fry',\n",
       " 'vegan',\n",
       " \"father's day\",\n",
       " 'meat']"
      ]
     },
     "execution_count": 33,
     "metadata": {},
     "output_type": "execute_result"
    }
   ],
   "source": [
    "features2 = featureScores.sort_values(by='Score', ascending=False)\n",
    "features2 = features2.head(30)\n",
    "\n",
    "# Put the top keywords into a list: \n",
    "features2_list = list(features2.Specs)\n",
    "features2_list\n"
   ]
  },
  {
   "cell_type": "markdown",
   "metadata": {},
   "source": [
    "Running the model again with new set of SelectKBest Features (selected with chi2)"
   ]
  },
  {
   "cell_type": "code",
   "execution_count": 34,
   "metadata": {},
   "outputs": [
    {
     "name": "stdout",
     "output_type": "stream",
     "text": [
      "score array:\n",
      " [0.56394914 0.56968337 0.58478803 0.58179551 0.56134663]\n",
      "\n",
      "score array mean:\n",
      " 0.5723125370318904\n",
      "\n",
      "score array std dev:\n",
      " 0.009409300634247447\n",
      "\n",
      "runtime:\n",
      " 101.84023616200011 seconds\n"
     ]
    }
   ],
   "source": [
    "from sklearn.svm import SVC\n",
    "from sklearn.model_selection import cross_val_score\n",
    "from sklearn.model_selection import KFold\n",
    "import time\n",
    "svc = SVC()\n",
    "X4 = df[features2_list]\n",
    "Y4 = df.rating\n",
    "\n",
    "\n",
    "#uncomment below to run svm (might take a while)\n",
    "start_time = time.perf_counter()\n",
    "svc.fit(X4,Y4)\n",
    "scores_svc = cross_val_score(svc,X4,Y4,cv=KFold(5, shuffle=True))\n",
    "\n",
    "print('score array:\\n', scores_svc)\n",
    "print('\\nscore array mean:\\n', np.mean(scores_svc))\n",
    "print('\\nscore array std dev:\\n', np.std(scores_svc))\n",
    "print('\\nruntime:\\n',time.perf_counter() - start_time, \"seconds\")\n"
   ]
  },
  {
   "cell_type": "markdown",
   "metadata": {},
   "source": [
    "This doesnt perform any better than the first set of features we created."
   ]
  },
  {
   "cell_type": "code",
   "execution_count": 35,
   "metadata": {},
   "outputs": [
    {
     "name": "stdout",
     "output_type": "stream",
     "text": [
      "\n",
      "Best parameters:\n",
      " {'C': 10, 'kernel': 'rbf'}\n",
      "\n",
      "Best score:\n",
      " 0.5763016157989228\n",
      "\n",
      "runtime:\n",
      " 619.3142212039998 seconds\n"
     ]
    }
   ],
   "source": [
    "#try other c values and kernels\n",
    "from sklearn.model_selection import GridSearchCV\n",
    "\n",
    "params = [{'C': [0.01, 0.1, 1, 10], 'kernel':['linear']},\n",
    "          {'C': [0.01, 0.1, 1, 10], 'kernel':['poly']},\n",
    "          {'C': [0.01, 0.1, 1, 10], 'kernel':['rbf']},\n",
    "          {'C': [0.01, 0.1, 1, 10], 'kernel':['sigmoid']}]\n",
    "\n",
    "grid = GridSearchCV(estimator=svc, param_grid=params)\n",
    "\n",
    "#uncomment below to run svm (might take a while)\n",
    "start_time = time.perf_counter()\n",
    "grid.fit(X4,Y4)\n",
    "print('\\nBest parameters:\\n', grid.best_params_)\n",
    "print('\\nBest score:\\n', grid.best_score_)\n",
    "print('\\nruntime:\\n',time.perf_counter() - start_time, \"seconds\")"
   ]
  },
  {
   "cell_type": "markdown",
   "metadata": {},
   "source": [
    "## Using PCA to condense our feature set and to create a better model: "
   ]
  },
  {
   "cell_type": "code",
   "execution_count": 49,
   "metadata": {},
   "outputs": [
    {
     "data": {
      "text/html": [
       "<div>\n",
       "<style scoped>\n",
       "    .dataframe tbody tr th:only-of-type {\n",
       "        vertical-align: middle;\n",
       "    }\n",
       "\n",
       "    .dataframe tbody tr th {\n",
       "        vertical-align: top;\n",
       "    }\n",
       "\n",
       "    .dataframe thead th {\n",
       "        text-align: right;\n",
       "    }\n",
       "</style>\n",
       "<table border=\"1\" class=\"dataframe\">\n",
       "  <thead>\n",
       "    <tr style=\"text-align: right;\">\n",
       "      <th></th>\n",
       "      <th>bon appétit</th>\n",
       "      <th>peanut free</th>\n",
       "      <th>soy free</th>\n",
       "      <th>tree nut free</th>\n",
       "      <th>vegetarian</th>\n",
       "      <th>gourmet</th>\n",
       "      <th>kosher</th>\n",
       "      <th>pescatarian</th>\n",
       "      <th>quick &amp; easy</th>\n",
       "      <th>wheat/gluten-free</th>\n",
       "      <th>...</th>\n",
       "      <th>healthy</th>\n",
       "      <th>kidney friendly</th>\n",
       "      <th>onion</th>\n",
       "      <th>tomato</th>\n",
       "      <th>vegetable</th>\n",
       "      <th>sauté</th>\n",
       "      <th>milk/cream</th>\n",
       "      <th>fruit</th>\n",
       "      <th>vegan</th>\n",
       "      <th>kid-friendly</th>\n",
       "    </tr>\n",
       "  </thead>\n",
       "  <tbody>\n",
       "    <tr>\n",
       "      <th>0</th>\n",
       "      <td>0.0</td>\n",
       "      <td>0.0</td>\n",
       "      <td>0.0</td>\n",
       "      <td>0.0</td>\n",
       "      <td>0.0</td>\n",
       "      <td>0.0</td>\n",
       "      <td>0.0</td>\n",
       "      <td>0.0</td>\n",
       "      <td>0.0</td>\n",
       "      <td>0.0</td>\n",
       "      <td>...</td>\n",
       "      <td>0.0</td>\n",
       "      <td>0.0</td>\n",
       "      <td>0.0</td>\n",
       "      <td>1.0</td>\n",
       "      <td>1.0</td>\n",
       "      <td>0.0</td>\n",
       "      <td>0.0</td>\n",
       "      <td>1.0</td>\n",
       "      <td>0.0</td>\n",
       "      <td>1.0</td>\n",
       "    </tr>\n",
       "    <tr>\n",
       "      <th>1</th>\n",
       "      <td>1.0</td>\n",
       "      <td>0.0</td>\n",
       "      <td>0.0</td>\n",
       "      <td>0.0</td>\n",
       "      <td>0.0</td>\n",
       "      <td>0.0</td>\n",
       "      <td>0.0</td>\n",
       "      <td>0.0</td>\n",
       "      <td>0.0</td>\n",
       "      <td>0.0</td>\n",
       "      <td>...</td>\n",
       "      <td>0.0</td>\n",
       "      <td>0.0</td>\n",
       "      <td>1.0</td>\n",
       "      <td>0.0</td>\n",
       "      <td>0.0</td>\n",
       "      <td>0.0</td>\n",
       "      <td>0.0</td>\n",
       "      <td>0.0</td>\n",
       "      <td>0.0</td>\n",
       "      <td>0.0</td>\n",
       "    </tr>\n",
       "    <tr>\n",
       "      <th>2</th>\n",
       "      <td>0.0</td>\n",
       "      <td>0.0</td>\n",
       "      <td>0.0</td>\n",
       "      <td>0.0</td>\n",
       "      <td>0.0</td>\n",
       "      <td>1.0</td>\n",
       "      <td>0.0</td>\n",
       "      <td>0.0</td>\n",
       "      <td>0.0</td>\n",
       "      <td>0.0</td>\n",
       "      <td>...</td>\n",
       "      <td>0.0</td>\n",
       "      <td>0.0</td>\n",
       "      <td>0.0</td>\n",
       "      <td>0.0</td>\n",
       "      <td>1.0</td>\n",
       "      <td>0.0</td>\n",
       "      <td>0.0</td>\n",
       "      <td>0.0</td>\n",
       "      <td>0.0</td>\n",
       "      <td>0.0</td>\n",
       "    </tr>\n",
       "    <tr>\n",
       "      <th>3</th>\n",
       "      <td>1.0</td>\n",
       "      <td>1.0</td>\n",
       "      <td>1.0</td>\n",
       "      <td>1.0</td>\n",
       "      <td>0.0</td>\n",
       "      <td>0.0</td>\n",
       "      <td>1.0</td>\n",
       "      <td>1.0</td>\n",
       "      <td>0.0</td>\n",
       "      <td>0.0</td>\n",
       "      <td>...</td>\n",
       "      <td>1.0</td>\n",
       "      <td>0.0</td>\n",
       "      <td>0.0</td>\n",
       "      <td>1.0</td>\n",
       "      <td>0.0</td>\n",
       "      <td>1.0</td>\n",
       "      <td>0.0</td>\n",
       "      <td>0.0</td>\n",
       "      <td>0.0</td>\n",
       "      <td>0.0</td>\n",
       "    </tr>\n",
       "    <tr>\n",
       "      <th>4</th>\n",
       "      <td>1.0</td>\n",
       "      <td>0.0</td>\n",
       "      <td>0.0</td>\n",
       "      <td>0.0</td>\n",
       "      <td>1.0</td>\n",
       "      <td>0.0</td>\n",
       "      <td>0.0</td>\n",
       "      <td>0.0</td>\n",
       "      <td>1.0</td>\n",
       "      <td>0.0</td>\n",
       "      <td>...</td>\n",
       "      <td>0.0</td>\n",
       "      <td>0.0</td>\n",
       "      <td>0.0</td>\n",
       "      <td>0.0</td>\n",
       "      <td>1.0</td>\n",
       "      <td>0.0</td>\n",
       "      <td>0.0</td>\n",
       "      <td>0.0</td>\n",
       "      <td>0.0</td>\n",
       "      <td>0.0</td>\n",
       "    </tr>\n",
       "  </tbody>\n",
       "</table>\n",
       "<p>5 rows × 30 columns</p>\n",
       "</div>"
      ],
      "text/plain": [
       "   bon appétit  peanut free  soy free  tree nut free  vegetarian  gourmet  \\\n",
       "0          0.0          0.0       0.0            0.0         0.0      0.0   \n",
       "1          1.0          0.0       0.0            0.0         0.0      0.0   \n",
       "2          0.0          0.0       0.0            0.0         0.0      1.0   \n",
       "3          1.0          1.0       1.0            1.0         0.0      0.0   \n",
       "4          1.0          0.0       0.0            0.0         1.0      0.0   \n",
       "\n",
       "   kosher  pescatarian  quick & easy  wheat/gluten-free  ...  healthy  \\\n",
       "0     0.0          0.0           0.0                0.0  ...      0.0   \n",
       "1     0.0          0.0           0.0                0.0  ...      0.0   \n",
       "2     0.0          0.0           0.0                0.0  ...      0.0   \n",
       "3     1.0          1.0           0.0                0.0  ...      1.0   \n",
       "4     0.0          0.0           1.0                0.0  ...      0.0   \n",
       "\n",
       "   kidney friendly  onion  tomato  vegetable  sauté  milk/cream  fruit  vegan  \\\n",
       "0              0.0    0.0     1.0        1.0    0.0         0.0    1.0    0.0   \n",
       "1              0.0    1.0     0.0        0.0    0.0         0.0    0.0    0.0   \n",
       "2              0.0    0.0     0.0        1.0    0.0         0.0    0.0    0.0   \n",
       "3              0.0    0.0     1.0        0.0    1.0         0.0    0.0    0.0   \n",
       "4              0.0    0.0     0.0        1.0    0.0         0.0    0.0    0.0   \n",
       "\n",
       "   kid-friendly  \n",
       "0           1.0  \n",
       "1           0.0  \n",
       "2           0.0  \n",
       "3           0.0  \n",
       "4           0.0  \n",
       "\n",
       "[5 rows x 30 columns]"
      ]
     },
     "execution_count": 49,
     "metadata": {},
     "output_type": "execute_result"
    }
   ],
   "source": [
    "# Revisiting the first feature set we created:\n",
    "X1.head()"
   ]
  },
  {
   "cell_type": "code",
   "execution_count": 59,
   "metadata": {},
   "outputs": [
    {
     "name": "stdout",
     "output_type": "stream",
     "text": [
      "0.560842533407195\n",
      "0.008822942008584479\n"
     ]
    }
   ],
   "source": [
    "from sklearn.decomposition import PCA\n",
    "\n",
    "pca = PCA(3) #creating 3 pca variables \n",
    "pca.fit(X1) # from our first feature set (top 30 keywords)\n",
    "X1_trans = pca.transform(X1) # X1_trans is 3 variables, a dimensionality reduction of our 30 variable feature set, X1\n",
    "\n",
    "\n",
    "\n",
    "svc = SVC()\n",
    "\n",
    "#svc.fit(X1_trans, Y)\n",
    "\n",
    "scores = cross_val_score(svc, X1_trans, Y1, cv=KFold(5, shuffle=True) )\n",
    "\n",
    "\n",
    "print(scores.mean())\n",
    "print(scores.std())\n"
   ]
  },
  {
   "cell_type": "code",
   "execution_count": 60,
   "metadata": {},
   "outputs": [
    {
     "name": "stdout",
     "output_type": "stream",
     "text": [
      "0.5624376978272345\n",
      "0.00301718924172598\n"
     ]
    }
   ],
   "source": [
    "# What if we PCA'd the the whole dataset? like every single variable condensed into 3 PCA features? here we try:\n",
    "pca = PCA(3)\n",
    "X5 = df.drop(['rating', 'title'], 1) # the whole dataset, minus rating and title, so every single feature:\n",
    "pca.fit(X5) # PCA fitting all the features\n",
    "X2_trans = pca.transform(X5) # X2_trans is 3 features that represents every feature\n",
    "\n",
    "\n",
    "svc = SVC()\n",
    "\n",
    "scores2 = cross_val_score(svc, X2_trans, Y1, cv=KFold(5, shuffle=True))\n",
    "\n",
    "print(scores2.mean())\n",
    "print(scores2.std())"
   ]
  },
  {
   "cell_type": "code",
   "execution_count": 61,
   "metadata": {
    "scrolled": false
   },
   "outputs": [
    {
     "name": "stdout",
     "output_type": "stream",
     "text": [
      "0.572960020790706\n",
      "0.017667626613265066\n"
     ]
    }
   ],
   "source": [
    "# Just out of curiosity, checking if all the features fitted \n",
    "# to the data (without PCA) performs better than using PCA at all:\n",
    "\n",
    "## DO NOT RUN THIS CELL AGAIN AS IT TAKES EXTREMELY LONG TO RUN ####\n",
    "\n",
    "## COMMENTING THIS OUT SO THAT IT WONT BE RUN ACCIDENTALLY IN THE FUTURE \n",
    "\n",
    "# X5 = df.drop(['rating', 'title'], 1) # the whole dataset, minus rating and title, so every single feature:\n",
    "\n",
    "# svc = SVC()\n",
    "\n",
    "# scores2 = cross_val_score(svc, X5, Y1, cv=KFold(5, shuffle=True))\n",
    "\n",
    "# print(scores2.mean())\n",
    "# print(scores2.std())"
   ]
  },
  {
   "cell_type": "markdown",
   "metadata": {},
   "source": [
    "hardly a difference between every single feature used vs every single feature transformed into 3 PCA variables. "
   ]
  },
  {
   "cell_type": "markdown",
   "metadata": {},
   "source": [
    "This dataset honestly just looks like a bad dataset to do a classification on our target, 'rating'. Even using every single variable results in a low score and pretty much has no differentiation between using the top 30 features, selecting the best features with SelectKBest *(using both f_classif and chi2 methods)* PCA for dimensionality reduction was just to see if there would be a different result, but there wasnt. "
   ]
  },
  {
   "cell_type": "markdown",
   "metadata": {},
   "source": [
    "Lets try a different model, like RFC to check if SVM is the problem here. Running RFC to see if we can get better results:"
   ]
  },
  {
   "cell_type": "code",
   "execution_count": 48,
   "metadata": {},
   "outputs": [
    {
     "name": "stdout",
     "output_type": "stream",
     "text": [
      "0.562537361408247\n",
      "0.0023069061948385924\n"
     ]
    }
   ],
   "source": [
    "from sklearn.ensemble import RandomForestClassifier\n",
    "rfc = RandomForestClassifier()\n",
    "#using PCA variable of our first feature set (top 30)\n",
    "print(scores3.mean())\n",
    "scores3 = cross_val_score(rfc, X1_trans, Y1, cv=KFold(5, shuffle=True)) \n",
    "print(scores3.std())"
   ]
  },
  {
   "cell_type": "code",
   "execution_count": 50,
   "metadata": {},
   "outputs": [
    {
     "name": "stdout",
     "output_type": "stream",
     "text": [
      "0.5892676187864918\n",
      "0.008206705725777887\n"
     ]
    }
   ],
   "source": [
    "rfc = RandomForestClassifier()\n",
    "# Using PCA variable of all the features in the dataset\n",
    "scores3 = cross_val_score(rfc, X2_trans, Y1, cv=KFold(5, shuffle=True)) \n",
    "print(scores3.mean())\n",
    "print(scores3.std())"
   ]
  },
  {
   "cell_type": "code",
   "execution_count": 55,
   "metadata": {},
   "outputs": [
    {
     "data": {
      "text/plain": [
       "<matplotlib.axes._subplots.AxesSubplot at 0x13314db70>"
      ]
     },
     "execution_count": 55,
     "metadata": {},
     "output_type": "execute_result"
    },
    {
     "data": {
      "image/png": "[encoded data removed]",
      "text/plain": [
       "<Figure size 432x288 with 2 Axes>"
      ]
     },
     "metadata": {
      "needs_background": "light"
     },
     "output_type": "display_data"
    }
   ],
   "source": [
    "df3 = pd.concat([X5, Y1], 1)\n",
    "sns.heatmap(df3.corr())"
   ]
  },
  {
   "cell_type": "code",
   "execution_count": 54,
   "metadata": {},
   "outputs": [
    {
     "data": {
      "text/plain": [
       "rating               1.000000\n",
       "bon appétit          0.097076\n",
       "house & garden       0.092801\n",
       "drink                0.083065\n",
       "alcoholic            0.077158\n",
       "gin                  0.071066\n",
       "roast                0.068198\n",
       "thanksgiving         0.067094\n",
       "peanut free          0.065897\n",
       "soy free             0.065799\n",
       "cocktail party       0.063534\n",
       "dinner               0.062186\n",
       "spirit               0.057028\n",
       "christmas            0.054409\n",
       "bitters              0.052951\n",
       "grill/barbecue       0.051204\n",
       "low fat              0.049230\n",
       "tree nut free        0.047943\n",
       "backyard bbq         0.047682\n",
       "fall                 0.046565\n",
       "cocktail             0.045829\n",
       "pasta                0.043092\n",
       "grill                0.042924\n",
       "stuffing/dressing    0.042454\n",
       "harpercollins        0.042345\n",
       "rum                  0.041792\n",
       "goat cheese          0.041207\n",
       "vegan                0.039458\n",
       "stir-fry             0.038336\n",
       "father's day         0.036564\n",
       "meat                 0.035801\n",
       "Name: rating, dtype: float64"
      ]
     },
     "execution_count": 54,
     "metadata": {},
     "output_type": "execute_result"
    }
   ],
   "source": [
    "abs(df3.corr().loc[:,'rating']).sort_values(ascending=False)"
   ]
  },
  {
   "cell_type": "markdown",
   "metadata": {},
   "source": [
    "The correlations of our features to our target variable is so awfully low, no wonder we have such bad results. \n",
    "Doing all this really just tells me that trying to classify a recipe as \"good\" or \"bad\" based on what appears in its ingredient list is not a good method. "
   ]
  },
  {
   "cell_type": "code",
   "execution_count": null,
   "metadata": {},
   "outputs": [],
   "source": []
  }
 ],
 "metadata": {
  "kernelspec": {
   "display_name": "Python 3",
   "language": "python",
   "name": "python3"
  },
  "language_info": {
   "codemirror_mode": {
    "name": "ipython",
    "version": 3
   },
   "file_extension": ".py",
   "mimetype": "text/x-python",
   "name": "python",
   "nbconvert_exporter": "python",
   "pygments_lexer": "ipython3",
   "version": "3.7.3"
  }
 },
 "nbformat": 4,
 "nbformat_minor": 2
}
