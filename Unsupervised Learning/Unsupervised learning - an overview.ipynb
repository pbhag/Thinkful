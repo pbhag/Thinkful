{
 "cells": [
  {
   "cell_type": "markdown",
   "metadata": {},
   "source": [
    "# Unsupervised learning: an overview\n",
    "- Supervised learning requires information about the process and an observable, recordable outcome of interest\n",
    "- This is not the case with unsupervised learning\n",
    "- Unsupervised learning looks through available data and allows something to be done or said about it"
   ]
  },
  {
   "cell_type": "markdown",
   "metadata": {},
   "source": [
    "## Clustering\n",
    "- A clustering algorithm goes over your set of variables and groups observations it thinks are related\n",
    "- Typically you tell it how manhy groups (clusters) it is allowed to generate, algorithim goes over the data creating groups that minimize your cost function\n",
    "- Sometimes the algorithm can find the number of groups on its own"
   ]
  },
  {
   "cell_type": "markdown",
   "metadata": {},
   "source": [
    "## Variable importance\n",
    "- PCA is an unsupervised technique for finding which variables tend to be most influential"
   ]
  },
  {
   "cell_type": "markdown",
   "metadata": {},
   "source": [
    "## Neural Networks\n",
    "- Can function as either supervised or unsupervised\n",
    "- Unsupervised neural networks important for discovering latent variables\n",
    "    - Latent variables are impactful but not explicitly defined in the initial dataset\n",
    "    - Example: image recognition\n"
   ]
  },
  {
   "cell_type": "markdown",
   "metadata": {},
   "source": [
    "# Power and problems"
   ]
  },
  {
   "cell_type": "markdown",
   "metadata": {},
   "source": [
    "## Evaluation\n",
    "- Evaluation is perhaps the biggest difficulty in unsupervised learning\n",
    "- Since there is no outcome variable, defining accuracy isn't possible since there's nothing to evaluate against\n",
    "- Approaches for dealing with this:\n",
    "    - Volatility: stability to changes, exclusion, or addition of some data is good\n",
    "    - Testing: test what you intended to do and see if it works ## Complexity\n",
    "- Since evaluation is hard to define so is a stopping condition\n",
    "- Can lead to increasingly complex and resource consuming models\n",
    "- Imposing limitations can help keep structures simple\n",
    "- Some models can perform very strong while being complex (neural networks)"
   ]
  },
  {
   "cell_type": "markdown",
   "metadata": {},
   "source": [
    "## Drill: Unsupervised or supervised?\n",
    "- Define the likelihood that an individual will contract a specific disease: supervised\n",
    "- Translate a set of images into variables for modeling: unsupervised\n",
    "- Ecommerce company wants to identify power users: supervised\n",
    "- Same company wants to see shopping patterns in users: unsupervised/both\n",
    "- Reduce the number of variables inputting into a random forest model: unsupervised/both"
   ]
  },
  {
   "cell_type": "code",
   "execution_count": null,
   "metadata": {},
   "outputs": [],
   "source": []
  }
 ],
 "metadata": {
  "kernelspec": {
   "display_name": "Python 3",
   "language": "python",
   "name": "python3"
  },
  "language_info": {
   "codemirror_mode": {
    "name": "ipython",
    "version": 3
   },
   "file_extension": ".py",
   "mimetype": "text/x-python",
   "name": "python",
   "nbconvert_exporter": "python",
   "pygments_lexer": "ipython3",
   "version": "3.7.3"
  }
 },
 "nbformat": 4,
 "nbformat_minor": 2
}
