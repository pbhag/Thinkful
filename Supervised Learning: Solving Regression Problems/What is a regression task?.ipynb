{
 "cells": [
  {
   "cell_type": "markdown",
   "metadata": {},
   "source": [
    "# Supervised learning: solving regression problems\n",
    "\n",
    "# What is a regression task?\n",
    "\n"
   ]
  },
  {
   "cell_type": "markdown",
   "metadata": {},
   "source": [
    "1. Let's assume that you have World Bank data on financial, economic and social indicators for several countries. You want to measure the factors that affect the level of development in these countries. To this end, you decide to use per capita income as a proxy for the development level, which is defined as the national income divided by the population. You want to use some features in your dataset to predict per capita income. Is this task a classification or a regression task? Why? \n",
    "   \n",
    "   - Regression. The target variable, per captita income, is a continouous variable. \n",
    "\n",
    "\n",
    "     \n",
    "2. Which of the following arguments are false and why?\n",
    "  * OLS is a special type of linear regression models \n",
    "     \n",
    "     - False. OLS is not a model, it is an optimization algorithim.\n",
    "     \n",
    "     \n",
    "  * Regression models become useless if they don’t meet the assumptions of linear regression. \n",
    "     \n",
    "     - False. Even if the assumptions are not met, there are ways to fix this. \n",
    "     \n",
    "     \n",
    "  * Estimation and prediction are the same thing in the context of linear regression models.\n",
    "      \n",
    "      - False. Estimation refers to the process of determining the coefficients of the features in the training phase. Prediction is to determine the value of the outcome variable using a previously unseen feature value. \n",
    "      \n",
    "      \n",
    "  * Linear regression is only one kind of regression model. Regression problems can also be solved with other kind of models like Support Vector Machines or Random Forests.\n",
    "      \n",
    "       - True\n",
    "       \n",
    "       \n",
    "       \n",
    "3. Assume that your project manager wants you to discover which free services your company offers make your customers buy more of your paid services. Formulate this task as a regression problem and write down the potential outcome and features that you’d like to work on.\n",
    "    \n",
    "    - "
   ]
  },
  {
   "cell_type": "code",
   "execution_count": null,
   "metadata": {},
   "outputs": [],
   "source": []
  }
 ],
 "metadata": {
  "kernelspec": {
   "display_name": "Python 3",
   "language": "python",
   "name": "python3"
  },
  "language_info": {
   "codemirror_mode": {
    "name": "ipython",
    "version": 3
   },
   "file_extension": ".py",
   "mimetype": "text/x-python",
   "name": "python",
   "nbconvert_exporter": "python",
   "pygments_lexer": "ipython3",
   "version": "3.7.3"
  }
 },
 "nbformat": 4,
 "nbformat_minor": 2
}
