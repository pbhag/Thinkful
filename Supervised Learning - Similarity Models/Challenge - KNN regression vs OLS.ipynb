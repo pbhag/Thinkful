{
 "cells": [
  {
   "cell_type": "markdown",
   "metadata": {},
   "source": [
    "# Challenge: model comparison\n",
    "\n",
    "Find a data set and build a KNN Regression and an OLS regression. Compare the two. How similar are they?\n",
    "\n",
    "For this challenge, we will be using the [Avocado Prices](https://www.kaggle.com/neuromusic/avocado-prices/downloads/avocado-prices.zip/1) dataset, containing historical data on avocado prices and sales volume in multiple US markets. \n",
    "\n",
    "\n"
   ]
  },
  {
   "cell_type": "code",
   "execution_count": 4,
   "metadata": {},
   "outputs": [],
   "source": [
    "# Importing libraries:\n",
    "\n",
    "import numpy as np\n",
    "import pandas as pd\n",
    "import matplotlib.pyplot as plt\n",
    "%matplotlib inline\n",
    "import seaborn as sns\n",
    "import warnings\n",
    "import scipy"
   ]
  },
  {
   "cell_type": "code",
   "execution_count": 5,
   "metadata": {},
   "outputs": [
    {
     "data": {
      "text/html": [
       "<div>\n",
       "<style scoped>\n",
       "    .dataframe tbody tr th:only-of-type {\n",
       "        vertical-align: middle;\n",
       "    }\n",
       "\n",
       "    .dataframe tbody tr th {\n",
       "        vertical-align: top;\n",
       "    }\n",
       "\n",
       "    .dataframe thead th {\n",
       "        text-align: right;\n",
       "    }\n",
       "</style>\n",
       "<table border=\"1\" class=\"dataframe\">\n",
       "  <thead>\n",
       "    <tr style=\"text-align: right;\">\n",
       "      <th></th>\n",
       "      <th>Unnamed: 0</th>\n",
       "      <th>Date</th>\n",
       "      <th>AveragePrice</th>\n",
       "      <th>Total Volume</th>\n",
       "      <th>4046</th>\n",
       "      <th>4225</th>\n",
       "      <th>4770</th>\n",
       "      <th>Total Bags</th>\n",
       "      <th>Small Bags</th>\n",
       "      <th>Large Bags</th>\n",
       "      <th>XLarge Bags</th>\n",
       "      <th>type</th>\n",
       "      <th>year</th>\n",
       "      <th>region</th>\n",
       "    </tr>\n",
       "  </thead>\n",
       "  <tbody>\n",
       "    <tr>\n",
       "      <th>0</th>\n",
       "      <td>0</td>\n",
       "      <td>2015-12-27</td>\n",
       "      <td>1.33</td>\n",
       "      <td>64236.62</td>\n",
       "      <td>1036.74</td>\n",
       "      <td>54454.85</td>\n",
       "      <td>48.16</td>\n",
       "      <td>8696.87</td>\n",
       "      <td>8603.62</td>\n",
       "      <td>93.25</td>\n",
       "      <td>0.0</td>\n",
       "      <td>conventional</td>\n",
       "      <td>2015</td>\n",
       "      <td>Albany</td>\n",
       "    </tr>\n",
       "    <tr>\n",
       "      <th>1</th>\n",
       "      <td>1</td>\n",
       "      <td>2015-12-20</td>\n",
       "      <td>1.35</td>\n",
       "      <td>54876.98</td>\n",
       "      <td>674.28</td>\n",
       "      <td>44638.81</td>\n",
       "      <td>58.33</td>\n",
       "      <td>9505.56</td>\n",
       "      <td>9408.07</td>\n",
       "      <td>97.49</td>\n",
       "      <td>0.0</td>\n",
       "      <td>conventional</td>\n",
       "      <td>2015</td>\n",
       "      <td>Albany</td>\n",
       "    </tr>\n",
       "    <tr>\n",
       "      <th>2</th>\n",
       "      <td>2</td>\n",
       "      <td>2015-12-13</td>\n",
       "      <td>0.93</td>\n",
       "      <td>118220.22</td>\n",
       "      <td>794.70</td>\n",
       "      <td>109149.67</td>\n",
       "      <td>130.50</td>\n",
       "      <td>8145.35</td>\n",
       "      <td>8042.21</td>\n",
       "      <td>103.14</td>\n",
       "      <td>0.0</td>\n",
       "      <td>conventional</td>\n",
       "      <td>2015</td>\n",
       "      <td>Albany</td>\n",
       "    </tr>\n",
       "    <tr>\n",
       "      <th>3</th>\n",
       "      <td>3</td>\n",
       "      <td>2015-12-06</td>\n",
       "      <td>1.08</td>\n",
       "      <td>78992.15</td>\n",
       "      <td>1132.00</td>\n",
       "      <td>71976.41</td>\n",
       "      <td>72.58</td>\n",
       "      <td>5811.16</td>\n",
       "      <td>5677.40</td>\n",
       "      <td>133.76</td>\n",
       "      <td>0.0</td>\n",
       "      <td>conventional</td>\n",
       "      <td>2015</td>\n",
       "      <td>Albany</td>\n",
       "    </tr>\n",
       "    <tr>\n",
       "      <th>4</th>\n",
       "      <td>4</td>\n",
       "      <td>2015-11-29</td>\n",
       "      <td>1.28</td>\n",
       "      <td>51039.60</td>\n",
       "      <td>941.48</td>\n",
       "      <td>43838.39</td>\n",
       "      <td>75.78</td>\n",
       "      <td>6183.95</td>\n",
       "      <td>5986.26</td>\n",
       "      <td>197.69</td>\n",
       "      <td>0.0</td>\n",
       "      <td>conventional</td>\n",
       "      <td>2015</td>\n",
       "      <td>Albany</td>\n",
       "    </tr>\n",
       "  </tbody>\n",
       "</table>\n",
       "</div>"
      ],
      "text/plain": [
       "   Unnamed: 0        Date  AveragePrice  Total Volume     4046       4225  \\\n",
       "0           0  2015-12-27          1.33      64236.62  1036.74   54454.85   \n",
       "1           1  2015-12-20          1.35      54876.98   674.28   44638.81   \n",
       "2           2  2015-12-13          0.93     118220.22   794.70  109149.67   \n",
       "3           3  2015-12-06          1.08      78992.15  1132.00   71976.41   \n",
       "4           4  2015-11-29          1.28      51039.60   941.48   43838.39   \n",
       "\n",
       "     4770  Total Bags  Small Bags  Large Bags  XLarge Bags          type  \\\n",
       "0   48.16     8696.87     8603.62       93.25          0.0  conventional   \n",
       "1   58.33     9505.56     9408.07       97.49          0.0  conventional   \n",
       "2  130.50     8145.35     8042.21      103.14          0.0  conventional   \n",
       "3   72.58     5811.16     5677.40      133.76          0.0  conventional   \n",
       "4   75.78     6183.95     5986.26      197.69          0.0  conventional   \n",
       "\n",
       "   year  region  \n",
       "0  2015  Albany  \n",
       "1  2015  Albany  \n",
       "2  2015  Albany  \n",
       "3  2015  Albany  \n",
       "4  2015  Albany  "
      ]
     },
     "execution_count": 5,
     "metadata": {},
     "output_type": "execute_result"
    }
   ],
   "source": [
    "avocado = pd.read_csv('avocado.csv')\n",
    "avocado.head()"
   ]
  },
  {
   "cell_type": "code",
   "execution_count": 6,
   "metadata": {},
   "outputs": [
    {
     "name": "stdout",
     "output_type": "stream",
     "text": [
      "<class 'pandas.core.frame.DataFrame'>\n",
      "RangeIndex: 18249 entries, 0 to 18248\n",
      "Data columns (total 14 columns):\n",
      "Unnamed: 0      18249 non-null int64\n",
      "Date            18249 non-null object\n",
      "AveragePrice    18249 non-null float64\n",
      "Total Volume    18249 non-null float64\n",
      "4046            18249 non-null float64\n",
      "4225            18249 non-null float64\n",
      "4770            18249 non-null float64\n",
      "Total Bags      18249 non-null float64\n",
      "Small Bags      18249 non-null float64\n",
      "Large Bags      18249 non-null float64\n",
      "XLarge Bags     18249 non-null float64\n",
      "type            18249 non-null object\n",
      "year            18249 non-null int64\n",
      "region          18249 non-null object\n",
      "dtypes: float64(9), int64(2), object(3)\n",
      "memory usage: 1.9+ MB\n"
     ]
    }
   ],
   "source": [
    "avocado.info()"
   ]
  },
  {
   "cell_type": "code",
   "execution_count": 7,
   "metadata": {},
   "outputs": [
    {
     "data": {
      "text/html": [
       "<div>\n",
       "<style scoped>\n",
       "    .dataframe tbody tr th:only-of-type {\n",
       "        vertical-align: middle;\n",
       "    }\n",
       "\n",
       "    .dataframe tbody tr th {\n",
       "        vertical-align: top;\n",
       "    }\n",
       "\n",
       "    .dataframe thead th {\n",
       "        text-align: right;\n",
       "    }\n",
       "</style>\n",
       "<table border=\"1\" class=\"dataframe\">\n",
       "  <thead>\n",
       "    <tr style=\"text-align: right;\">\n",
       "      <th></th>\n",
       "      <th>Unnamed: 0</th>\n",
       "      <th>AveragePrice</th>\n",
       "      <th>Total Volume</th>\n",
       "      <th>4046</th>\n",
       "      <th>4225</th>\n",
       "      <th>4770</th>\n",
       "      <th>Total Bags</th>\n",
       "      <th>Small Bags</th>\n",
       "      <th>Large Bags</th>\n",
       "      <th>XLarge Bags</th>\n",
       "      <th>year</th>\n",
       "    </tr>\n",
       "  </thead>\n",
       "  <tbody>\n",
       "    <tr>\n",
       "      <th>count</th>\n",
       "      <td>18249.000000</td>\n",
       "      <td>18249.000000</td>\n",
       "      <td>1.824900e+04</td>\n",
       "      <td>1.824900e+04</td>\n",
       "      <td>1.824900e+04</td>\n",
       "      <td>1.824900e+04</td>\n",
       "      <td>1.824900e+04</td>\n",
       "      <td>1.824900e+04</td>\n",
       "      <td>1.824900e+04</td>\n",
       "      <td>18249.000000</td>\n",
       "      <td>18249.000000</td>\n",
       "    </tr>\n",
       "    <tr>\n",
       "      <th>mean</th>\n",
       "      <td>24.232232</td>\n",
       "      <td>1.405978</td>\n",
       "      <td>8.506440e+05</td>\n",
       "      <td>2.930084e+05</td>\n",
       "      <td>2.951546e+05</td>\n",
       "      <td>2.283974e+04</td>\n",
       "      <td>2.396392e+05</td>\n",
       "      <td>1.821947e+05</td>\n",
       "      <td>5.433809e+04</td>\n",
       "      <td>3106.426507</td>\n",
       "      <td>2016.147899</td>\n",
       "    </tr>\n",
       "    <tr>\n",
       "      <th>std</th>\n",
       "      <td>15.481045</td>\n",
       "      <td>0.402677</td>\n",
       "      <td>3.453545e+06</td>\n",
       "      <td>1.264989e+06</td>\n",
       "      <td>1.204120e+06</td>\n",
       "      <td>1.074641e+05</td>\n",
       "      <td>9.862424e+05</td>\n",
       "      <td>7.461785e+05</td>\n",
       "      <td>2.439660e+05</td>\n",
       "      <td>17692.894652</td>\n",
       "      <td>0.939938</td>\n",
       "    </tr>\n",
       "    <tr>\n",
       "      <th>min</th>\n",
       "      <td>0.000000</td>\n",
       "      <td>0.440000</td>\n",
       "      <td>8.456000e+01</td>\n",
       "      <td>0.000000e+00</td>\n",
       "      <td>0.000000e+00</td>\n",
       "      <td>0.000000e+00</td>\n",
       "      <td>0.000000e+00</td>\n",
       "      <td>0.000000e+00</td>\n",
       "      <td>0.000000e+00</td>\n",
       "      <td>0.000000</td>\n",
       "      <td>2015.000000</td>\n",
       "    </tr>\n",
       "    <tr>\n",
       "      <th>25%</th>\n",
       "      <td>10.000000</td>\n",
       "      <td>1.100000</td>\n",
       "      <td>1.083858e+04</td>\n",
       "      <td>8.540700e+02</td>\n",
       "      <td>3.008780e+03</td>\n",
       "      <td>0.000000e+00</td>\n",
       "      <td>5.088640e+03</td>\n",
       "      <td>2.849420e+03</td>\n",
       "      <td>1.274700e+02</td>\n",
       "      <td>0.000000</td>\n",
       "      <td>2015.000000</td>\n",
       "    </tr>\n",
       "    <tr>\n",
       "      <th>50%</th>\n",
       "      <td>24.000000</td>\n",
       "      <td>1.370000</td>\n",
       "      <td>1.073768e+05</td>\n",
       "      <td>8.645300e+03</td>\n",
       "      <td>2.906102e+04</td>\n",
       "      <td>1.849900e+02</td>\n",
       "      <td>3.974383e+04</td>\n",
       "      <td>2.636282e+04</td>\n",
       "      <td>2.647710e+03</td>\n",
       "      <td>0.000000</td>\n",
       "      <td>2016.000000</td>\n",
       "    </tr>\n",
       "    <tr>\n",
       "      <th>75%</th>\n",
       "      <td>38.000000</td>\n",
       "      <td>1.660000</td>\n",
       "      <td>4.329623e+05</td>\n",
       "      <td>1.110202e+05</td>\n",
       "      <td>1.502069e+05</td>\n",
       "      <td>6.243420e+03</td>\n",
       "      <td>1.107834e+05</td>\n",
       "      <td>8.333767e+04</td>\n",
       "      <td>2.202925e+04</td>\n",
       "      <td>132.500000</td>\n",
       "      <td>2017.000000</td>\n",
       "    </tr>\n",
       "    <tr>\n",
       "      <th>max</th>\n",
       "      <td>52.000000</td>\n",
       "      <td>3.250000</td>\n",
       "      <td>6.250565e+07</td>\n",
       "      <td>2.274362e+07</td>\n",
       "      <td>2.047057e+07</td>\n",
       "      <td>2.546439e+06</td>\n",
       "      <td>1.937313e+07</td>\n",
       "      <td>1.338459e+07</td>\n",
       "      <td>5.719097e+06</td>\n",
       "      <td>551693.650000</td>\n",
       "      <td>2018.000000</td>\n",
       "    </tr>\n",
       "  </tbody>\n",
       "</table>\n",
       "</div>"
      ],
      "text/plain": [
       "         Unnamed: 0  AveragePrice  Total Volume          4046          4225  \\\n",
       "count  18249.000000  18249.000000  1.824900e+04  1.824900e+04  1.824900e+04   \n",
       "mean      24.232232      1.405978  8.506440e+05  2.930084e+05  2.951546e+05   \n",
       "std       15.481045      0.402677  3.453545e+06  1.264989e+06  1.204120e+06   \n",
       "min        0.000000      0.440000  8.456000e+01  0.000000e+00  0.000000e+00   \n",
       "25%       10.000000      1.100000  1.083858e+04  8.540700e+02  3.008780e+03   \n",
       "50%       24.000000      1.370000  1.073768e+05  8.645300e+03  2.906102e+04   \n",
       "75%       38.000000      1.660000  4.329623e+05  1.110202e+05  1.502069e+05   \n",
       "max       52.000000      3.250000  6.250565e+07  2.274362e+07  2.047057e+07   \n",
       "\n",
       "               4770    Total Bags    Small Bags    Large Bags    XLarge Bags  \\\n",
       "count  1.824900e+04  1.824900e+04  1.824900e+04  1.824900e+04   18249.000000   \n",
       "mean   2.283974e+04  2.396392e+05  1.821947e+05  5.433809e+04    3106.426507   \n",
       "std    1.074641e+05  9.862424e+05  7.461785e+05  2.439660e+05   17692.894652   \n",
       "min    0.000000e+00  0.000000e+00  0.000000e+00  0.000000e+00       0.000000   \n",
       "25%    0.000000e+00  5.088640e+03  2.849420e+03  1.274700e+02       0.000000   \n",
       "50%    1.849900e+02  3.974383e+04  2.636282e+04  2.647710e+03       0.000000   \n",
       "75%    6.243420e+03  1.107834e+05  8.333767e+04  2.202925e+04     132.500000   \n",
       "max    2.546439e+06  1.937313e+07  1.338459e+07  5.719097e+06  551693.650000   \n",
       "\n",
       "               year  \n",
       "count  18249.000000  \n",
       "mean    2016.147899  \n",
       "std        0.939938  \n",
       "min     2015.000000  \n",
       "25%     2015.000000  \n",
       "50%     2016.000000  \n",
       "75%     2017.000000  \n",
       "max     2018.000000  "
      ]
     },
     "execution_count": 7,
     "metadata": {},
     "output_type": "execute_result"
    }
   ],
   "source": [
    "avocado.describe()"
   ]
  },
  {
   "cell_type": "code",
   "execution_count": 8,
   "metadata": {
    "scrolled": false
   },
   "outputs": [
    {
     "data": {
      "text/plain": [
       "Unnamed: 0      0\n",
       "Date            0\n",
       "AveragePrice    0\n",
       "Total Volume    0\n",
       "4046            0\n",
       "4225            0\n",
       "4770            0\n",
       "Total Bags      0\n",
       "Small Bags      0\n",
       "Large Bags      0\n",
       "XLarge Bags     0\n",
       "type            0\n",
       "year            0\n",
       "region          0\n",
       "dtype: int64"
      ]
     },
     "execution_count": 8,
     "metadata": {},
     "output_type": "execute_result"
    }
   ],
   "source": [
    "avocado.isnull().sum()"
   ]
  },
  {
   "cell_type": "markdown",
   "metadata": {},
   "source": [
    "We need to do some feature processing, "
   ]
  },
  {
   "cell_type": "markdown",
   "metadata": {},
   "source": [
    "No missing values, nice!"
   ]
  },
  {
   "cell_type": "code",
   "execution_count": 9,
   "metadata": {
    "scrolled": false
   },
   "outputs": [
    {
     "data": {
      "image/png": "[encoded data removed]",
      "text/plain": [
       "<Figure size 432x288 with 2 Axes>"
      ]
     },
     "metadata": {
      "needs_background": "light"
     },
     "output_type": "display_data"
    }
   ],
   "source": [
    "sns.heatmap(avocado.corr())\n",
    "plt.show()\n"
   ]
  },
  {
   "cell_type": "markdown",
   "metadata": {},
   "source": [
    "The features look extremely correlated with each other...is this a potential issue in modeling?"
   ]
  },
  {
   "cell_type": "code",
   "execution_count": 10,
   "metadata": {
    "scrolled": true
   },
   "outputs": [
    {
     "data": {
      "text/html": [
       "<div>\n",
       "<style scoped>\n",
       "    .dataframe tbody tr th:only-of-type {\n",
       "        vertical-align: middle;\n",
       "    }\n",
       "\n",
       "    .dataframe tbody tr th {\n",
       "        vertical-align: top;\n",
       "    }\n",
       "\n",
       "    .dataframe thead th {\n",
       "        text-align: right;\n",
       "    }\n",
       "</style>\n",
       "<table border=\"1\" class=\"dataframe\">\n",
       "  <thead>\n",
       "    <tr style=\"text-align: right;\">\n",
       "      <th></th>\n",
       "      <th>Unnamed: 0</th>\n",
       "      <th>Date</th>\n",
       "      <th>AveragePrice</th>\n",
       "      <th>Total Volume</th>\n",
       "      <th>4046</th>\n",
       "      <th>4225</th>\n",
       "      <th>4770</th>\n",
       "      <th>Total Bags</th>\n",
       "      <th>Small Bags</th>\n",
       "      <th>Large Bags</th>\n",
       "      <th>XLarge Bags</th>\n",
       "      <th>type</th>\n",
       "      <th>year</th>\n",
       "      <th>region</th>\n",
       "      <th>Month</th>\n",
       "    </tr>\n",
       "  </thead>\n",
       "  <tbody>\n",
       "    <tr>\n",
       "      <th>0</th>\n",
       "      <td>0</td>\n",
       "      <td>2015-12-27</td>\n",
       "      <td>1.33</td>\n",
       "      <td>64236.62</td>\n",
       "      <td>1036.74</td>\n",
       "      <td>54454.85</td>\n",
       "      <td>48.16</td>\n",
       "      <td>8696.87</td>\n",
       "      <td>8603.62</td>\n",
       "      <td>93.25</td>\n",
       "      <td>0.0</td>\n",
       "      <td>conventional</td>\n",
       "      <td>2015</td>\n",
       "      <td>Albany</td>\n",
       "      <td>12</td>\n",
       "    </tr>\n",
       "    <tr>\n",
       "      <th>1</th>\n",
       "      <td>1</td>\n",
       "      <td>2015-12-20</td>\n",
       "      <td>1.35</td>\n",
       "      <td>54876.98</td>\n",
       "      <td>674.28</td>\n",
       "      <td>44638.81</td>\n",
       "      <td>58.33</td>\n",
       "      <td>9505.56</td>\n",
       "      <td>9408.07</td>\n",
       "      <td>97.49</td>\n",
       "      <td>0.0</td>\n",
       "      <td>conventional</td>\n",
       "      <td>2015</td>\n",
       "      <td>Albany</td>\n",
       "      <td>12</td>\n",
       "    </tr>\n",
       "    <tr>\n",
       "      <th>2</th>\n",
       "      <td>2</td>\n",
       "      <td>2015-12-13</td>\n",
       "      <td>0.93</td>\n",
       "      <td>118220.22</td>\n",
       "      <td>794.70</td>\n",
       "      <td>109149.67</td>\n",
       "      <td>130.50</td>\n",
       "      <td>8145.35</td>\n",
       "      <td>8042.21</td>\n",
       "      <td>103.14</td>\n",
       "      <td>0.0</td>\n",
       "      <td>conventional</td>\n",
       "      <td>2015</td>\n",
       "      <td>Albany</td>\n",
       "      <td>12</td>\n",
       "    </tr>\n",
       "    <tr>\n",
       "      <th>3</th>\n",
       "      <td>3</td>\n",
       "      <td>2015-12-06</td>\n",
       "      <td>1.08</td>\n",
       "      <td>78992.15</td>\n",
       "      <td>1132.00</td>\n",
       "      <td>71976.41</td>\n",
       "      <td>72.58</td>\n",
       "      <td>5811.16</td>\n",
       "      <td>5677.40</td>\n",
       "      <td>133.76</td>\n",
       "      <td>0.0</td>\n",
       "      <td>conventional</td>\n",
       "      <td>2015</td>\n",
       "      <td>Albany</td>\n",
       "      <td>12</td>\n",
       "    </tr>\n",
       "    <tr>\n",
       "      <th>4</th>\n",
       "      <td>4</td>\n",
       "      <td>2015-11-29</td>\n",
       "      <td>1.28</td>\n",
       "      <td>51039.60</td>\n",
       "      <td>941.48</td>\n",
       "      <td>43838.39</td>\n",
       "      <td>75.78</td>\n",
       "      <td>6183.95</td>\n",
       "      <td>5986.26</td>\n",
       "      <td>197.69</td>\n",
       "      <td>0.0</td>\n",
       "      <td>conventional</td>\n",
       "      <td>2015</td>\n",
       "      <td>Albany</td>\n",
       "      <td>11</td>\n",
       "    </tr>\n",
       "  </tbody>\n",
       "</table>\n",
       "</div>"
      ],
      "text/plain": [
       "   Unnamed: 0       Date  AveragePrice  Total Volume     4046       4225  \\\n",
       "0           0 2015-12-27          1.33      64236.62  1036.74   54454.85   \n",
       "1           1 2015-12-20          1.35      54876.98   674.28   44638.81   \n",
       "2           2 2015-12-13          0.93     118220.22   794.70  109149.67   \n",
       "3           3 2015-12-06          1.08      78992.15  1132.00   71976.41   \n",
       "4           4 2015-11-29          1.28      51039.60   941.48   43838.39   \n",
       "\n",
       "     4770  Total Bags  Small Bags  Large Bags  XLarge Bags          type  \\\n",
       "0   48.16     8696.87     8603.62       93.25          0.0  conventional   \n",
       "1   58.33     9505.56     9408.07       97.49          0.0  conventional   \n",
       "2  130.50     8145.35     8042.21      103.14          0.0  conventional   \n",
       "3   72.58     5811.16     5677.40      133.76          0.0  conventional   \n",
       "4   75.78     6183.95     5986.26      197.69          0.0  conventional   \n",
       "\n",
       "   year  region  Month  \n",
       "0  2015  Albany     12  \n",
       "1  2015  Albany     12  \n",
       "2  2015  Albany     12  \n",
       "3  2015  Albany     12  \n",
       "4  2015  Albany     11  "
      ]
     },
     "execution_count": 10,
     "metadata": {},
     "output_type": "execute_result"
    }
   ],
   "source": [
    "# label encoding categorical features:\n",
    "categorical = avocado.dtypes[avocado.dtypes == 'object'].index\n",
    "avocado['Date'] = pd.to_datetime(avocado.Date)\n",
    "avocado['Month'] = avocado.Date.dt.month\n",
    "avocado.head()"
   ]
  },
  {
   "cell_type": "code",
   "execution_count": 11,
   "metadata": {},
   "outputs": [],
   "source": [
    "del avocado['Unnamed: 0']"
   ]
  },
  {
   "cell_type": "code",
   "execution_count": 12,
   "metadata": {
    "scrolled": true
   },
   "outputs": [],
   "source": [
    "# One-hot encoding categorical variables:\n",
    "\n",
    "avocado = pd.concat([avocado, pd.get_dummies(avocado.type, prefix='type')], axis=1)\n",
    "avocado = pd.concat([avocado, pd.get_dummies(avocado.region, prefix='region',)], axis=1)\n",
    "\n",
    "\n",
    "    "
   ]
  },
  {
   "cell_type": "code",
   "execution_count": 13,
   "metadata": {
    "scrolled": true
   },
   "outputs": [
    {
     "name": "stdout",
     "output_type": "stream",
     "text": [
      "<class 'pandas.core.frame.DataFrame'>\n",
      "RangeIndex: 18249 entries, 0 to 18248\n",
      "Data columns (total 70 columns):\n",
      "Date                          18249 non-null datetime64[ns]\n",
      "AveragePrice                  18249 non-null float64\n",
      "Total Volume                  18249 non-null float64\n",
      "4046                          18249 non-null float64\n",
      "4225                          18249 non-null float64\n",
      "4770                          18249 non-null float64\n",
      "Total Bags                    18249 non-null float64\n",
      "Small Bags                    18249 non-null float64\n",
      "Large Bags                    18249 non-null float64\n",
      "XLarge Bags                   18249 non-null float64\n",
      "type                          18249 non-null object\n",
      "year                          18249 non-null int64\n",
      "region                        18249 non-null object\n",
      "Month                         18249 non-null int64\n",
      "type_conventional             18249 non-null uint8\n",
      "type_organic                  18249 non-null uint8\n",
      "region_Albany                 18249 non-null uint8\n",
      "region_Atlanta                18249 non-null uint8\n",
      "region_BaltimoreWashington    18249 non-null uint8\n",
      "region_Boise                  18249 non-null uint8\n",
      "region_Boston                 18249 non-null uint8\n",
      "region_BuffaloRochester       18249 non-null uint8\n",
      "region_California             18249 non-null uint8\n",
      "region_Charlotte              18249 non-null uint8\n",
      "region_Chicago                18249 non-null uint8\n",
      "region_CincinnatiDayton       18249 non-null uint8\n",
      "region_Columbus               18249 non-null uint8\n",
      "region_DallasFtWorth          18249 non-null uint8\n",
      "region_Denver                 18249 non-null uint8\n",
      "region_Detroit                18249 non-null uint8\n",
      "region_GrandRapids            18249 non-null uint8\n",
      "region_GreatLakes             18249 non-null uint8\n",
      "region_HarrisburgScranton     18249 non-null uint8\n",
      "region_HartfordSpringfield    18249 non-null uint8\n",
      "region_Houston                18249 non-null uint8\n",
      "region_Indianapolis           18249 non-null uint8\n",
      "region_Jacksonville           18249 non-null uint8\n",
      "region_LasVegas               18249 non-null uint8\n",
      "region_LosAngeles             18249 non-null uint8\n",
      "region_Louisville             18249 non-null uint8\n",
      "region_MiamiFtLauderdale      18249 non-null uint8\n",
      "region_Midsouth               18249 non-null uint8\n",
      "region_Nashville              18249 non-null uint8\n",
      "region_NewOrleansMobile       18249 non-null uint8\n",
      "region_NewYork                18249 non-null uint8\n",
      "region_Northeast              18249 non-null uint8\n",
      "region_NorthernNewEngland     18249 non-null uint8\n",
      "region_Orlando                18249 non-null uint8\n",
      "region_Philadelphia           18249 non-null uint8\n",
      "region_PhoenixTucson          18249 non-null uint8\n",
      "region_Pittsburgh             18249 non-null uint8\n",
      "region_Plains                 18249 non-null uint8\n",
      "region_Portland               18249 non-null uint8\n",
      "region_RaleighGreensboro      18249 non-null uint8\n",
      "region_RichmondNorfolk        18249 non-null uint8\n",
      "region_Roanoke                18249 non-null uint8\n",
      "region_Sacramento             18249 non-null uint8\n",
      "region_SanDiego               18249 non-null uint8\n",
      "region_SanFrancisco           18249 non-null uint8\n",
      "region_Seattle                18249 non-null uint8\n",
      "region_SouthCarolina          18249 non-null uint8\n",
      "region_SouthCentral           18249 non-null uint8\n",
      "region_Southeast              18249 non-null uint8\n",
      "region_Spokane                18249 non-null uint8\n",
      "region_StLouis                18249 non-null uint8\n",
      "region_Syracuse               18249 non-null uint8\n",
      "region_Tampa                  18249 non-null uint8\n",
      "region_TotalUS                18249 non-null uint8\n",
      "region_West                   18249 non-null uint8\n",
      "region_WestTexNewMexico       18249 non-null uint8\n",
      "dtypes: datetime64[ns](1), float64(9), int64(2), object(2), uint8(56)\n",
      "memory usage: 2.9+ MB\n"
     ]
    }
   ],
   "source": [
    "\n",
    "avocado.info()"
   ]
  },
  {
   "cell_type": "code",
   "execution_count": 14,
   "metadata": {
    "scrolled": false
   },
   "outputs": [
    {
     "data": {
      "text/plain": [
       "Index(['AveragePrice', 'type_organic', 'type_conventional', '4046',\n",
       "       'Total Volume', '4770', 'Total Bags', 'Small Bags', 'Large Bags',\n",
       "       '4225', 'Month', 'region_HartfordSpringfield', 'region_SanFrancisco',\n",
       "       'region_Houston', 'XLarge Bags', 'region_NewYork',\n",
       "       'region_DallasFtWorth', 'region_SouthCentral', 'year',\n",
       "       'region_Philadelphia'],\n",
       "      dtype='object')"
      ]
     },
     "execution_count": 14,
     "metadata": {},
     "output_type": "execute_result"
    }
   ],
   "source": [
    "# Getting the top 20 most correlated features to our target, AveragePrice:\n",
    "np.abs(avocado.corr().loc[:,'AveragePrice']).sort_values(ascending=False).head(20).index\n",
    "\n"
   ]
  },
  {
   "cell_type": "code",
   "execution_count": 15,
   "metadata": {
    "scrolled": true
   },
   "outputs": [
    {
     "data": {
      "text/html": [
       "<div>\n",
       "<style scoped>\n",
       "    .dataframe tbody tr th:only-of-type {\n",
       "        vertical-align: middle;\n",
       "    }\n",
       "\n",
       "    .dataframe tbody tr th {\n",
       "        vertical-align: top;\n",
       "    }\n",
       "\n",
       "    .dataframe thead th {\n",
       "        text-align: right;\n",
       "    }\n",
       "</style>\n",
       "<table border=\"1\" class=\"dataframe\">\n",
       "  <thead>\n",
       "    <tr style=\"text-align: right;\">\n",
       "      <th></th>\n",
       "      <th>Date</th>\n",
       "      <th>AveragePrice</th>\n",
       "      <th>Total Volume</th>\n",
       "      <th>4046</th>\n",
       "      <th>4225</th>\n",
       "      <th>4770</th>\n",
       "      <th>Total Bags</th>\n",
       "      <th>Small Bags</th>\n",
       "      <th>Large Bags</th>\n",
       "      <th>XLarge Bags</th>\n",
       "      <th>...</th>\n",
       "      <th>region_SouthCarolina</th>\n",
       "      <th>region_SouthCentral</th>\n",
       "      <th>region_Southeast</th>\n",
       "      <th>region_Spokane</th>\n",
       "      <th>region_StLouis</th>\n",
       "      <th>region_Syracuse</th>\n",
       "      <th>region_Tampa</th>\n",
       "      <th>region_TotalUS</th>\n",
       "      <th>region_West</th>\n",
       "      <th>region_WestTexNewMexico</th>\n",
       "    </tr>\n",
       "  </thead>\n",
       "  <tbody>\n",
       "    <tr>\n",
       "      <th>0</th>\n",
       "      <td>2015-12-27</td>\n",
       "      <td>1.33</td>\n",
       "      <td>64236.62</td>\n",
       "      <td>1036.74</td>\n",
       "      <td>54454.85</td>\n",
       "      <td>48.16</td>\n",
       "      <td>8696.87</td>\n",
       "      <td>8603.62</td>\n",
       "      <td>93.25</td>\n",
       "      <td>0.0</td>\n",
       "      <td>...</td>\n",
       "      <td>0</td>\n",
       "      <td>0</td>\n",
       "      <td>0</td>\n",
       "      <td>0</td>\n",
       "      <td>0</td>\n",
       "      <td>0</td>\n",
       "      <td>0</td>\n",
       "      <td>0</td>\n",
       "      <td>0</td>\n",
       "      <td>0</td>\n",
       "    </tr>\n",
       "    <tr>\n",
       "      <th>1</th>\n",
       "      <td>2015-12-20</td>\n",
       "      <td>1.35</td>\n",
       "      <td>54876.98</td>\n",
       "      <td>674.28</td>\n",
       "      <td>44638.81</td>\n",
       "      <td>58.33</td>\n",
       "      <td>9505.56</td>\n",
       "      <td>9408.07</td>\n",
       "      <td>97.49</td>\n",
       "      <td>0.0</td>\n",
       "      <td>...</td>\n",
       "      <td>0</td>\n",
       "      <td>0</td>\n",
       "      <td>0</td>\n",
       "      <td>0</td>\n",
       "      <td>0</td>\n",
       "      <td>0</td>\n",
       "      <td>0</td>\n",
       "      <td>0</td>\n",
       "      <td>0</td>\n",
       "      <td>0</td>\n",
       "    </tr>\n",
       "    <tr>\n",
       "      <th>2</th>\n",
       "      <td>2015-12-13</td>\n",
       "      <td>0.93</td>\n",
       "      <td>118220.22</td>\n",
       "      <td>794.70</td>\n",
       "      <td>109149.67</td>\n",
       "      <td>130.50</td>\n",
       "      <td>8145.35</td>\n",
       "      <td>8042.21</td>\n",
       "      <td>103.14</td>\n",
       "      <td>0.0</td>\n",
       "      <td>...</td>\n",
       "      <td>0</td>\n",
       "      <td>0</td>\n",
       "      <td>0</td>\n",
       "      <td>0</td>\n",
       "      <td>0</td>\n",
       "      <td>0</td>\n",
       "      <td>0</td>\n",
       "      <td>0</td>\n",
       "      <td>0</td>\n",
       "      <td>0</td>\n",
       "    </tr>\n",
       "    <tr>\n",
       "      <th>3</th>\n",
       "      <td>2015-12-06</td>\n",
       "      <td>1.08</td>\n",
       "      <td>78992.15</td>\n",
       "      <td>1132.00</td>\n",
       "      <td>71976.41</td>\n",
       "      <td>72.58</td>\n",
       "      <td>5811.16</td>\n",
       "      <td>5677.40</td>\n",
       "      <td>133.76</td>\n",
       "      <td>0.0</td>\n",
       "      <td>...</td>\n",
       "      <td>0</td>\n",
       "      <td>0</td>\n",
       "      <td>0</td>\n",
       "      <td>0</td>\n",
       "      <td>0</td>\n",
       "      <td>0</td>\n",
       "      <td>0</td>\n",
       "      <td>0</td>\n",
       "      <td>0</td>\n",
       "      <td>0</td>\n",
       "    </tr>\n",
       "    <tr>\n",
       "      <th>4</th>\n",
       "      <td>2015-11-29</td>\n",
       "      <td>1.28</td>\n",
       "      <td>51039.60</td>\n",
       "      <td>941.48</td>\n",
       "      <td>43838.39</td>\n",
       "      <td>75.78</td>\n",
       "      <td>6183.95</td>\n",
       "      <td>5986.26</td>\n",
       "      <td>197.69</td>\n",
       "      <td>0.0</td>\n",
       "      <td>...</td>\n",
       "      <td>0</td>\n",
       "      <td>0</td>\n",
       "      <td>0</td>\n",
       "      <td>0</td>\n",
       "      <td>0</td>\n",
       "      <td>0</td>\n",
       "      <td>0</td>\n",
       "      <td>0</td>\n",
       "      <td>0</td>\n",
       "      <td>0</td>\n",
       "    </tr>\n",
       "  </tbody>\n",
       "</table>\n",
       "<p>5 rows × 70 columns</p>\n",
       "</div>"
      ],
      "text/plain": [
       "        Date  AveragePrice  Total Volume     4046       4225    4770  \\\n",
       "0 2015-12-27          1.33      64236.62  1036.74   54454.85   48.16   \n",
       "1 2015-12-20          1.35      54876.98   674.28   44638.81   58.33   \n",
       "2 2015-12-13          0.93     118220.22   794.70  109149.67  130.50   \n",
       "3 2015-12-06          1.08      78992.15  1132.00   71976.41   72.58   \n",
       "4 2015-11-29          1.28      51039.60   941.48   43838.39   75.78   \n",
       "\n",
       "   Total Bags  Small Bags  Large Bags  XLarge Bags  ... region_SouthCarolina  \\\n",
       "0     8696.87     8603.62       93.25          0.0  ...                    0   \n",
       "1     9505.56     9408.07       97.49          0.0  ...                    0   \n",
       "2     8145.35     8042.21      103.14          0.0  ...                    0   \n",
       "3     5811.16     5677.40      133.76          0.0  ...                    0   \n",
       "4     6183.95     5986.26      197.69          0.0  ...                    0   \n",
       "\n",
       "   region_SouthCentral region_Southeast  region_Spokane  region_StLouis  \\\n",
       "0                    0                0               0               0   \n",
       "1                    0                0               0               0   \n",
       "2                    0                0               0               0   \n",
       "3                    0                0               0               0   \n",
       "4                    0                0               0               0   \n",
       "\n",
       "   region_Syracuse  region_Tampa  region_TotalUS  region_West  \\\n",
       "0                0             0               0            0   \n",
       "1                0             0               0            0   \n",
       "2                0             0               0            0   \n",
       "3                0             0               0            0   \n",
       "4                0             0               0            0   \n",
       "\n",
       "   region_WestTexNewMexico  \n",
       "0                        0  \n",
       "1                        0  \n",
       "2                        0  \n",
       "3                        0  \n",
       "4                        0  \n",
       "\n",
       "[5 rows x 70 columns]"
      ]
     },
     "execution_count": 15,
     "metadata": {},
     "output_type": "execute_result"
    }
   ],
   "source": [
    "\n",
    "avocado.head()"
   ]
  },
  {
   "cell_type": "markdown",
   "metadata": {},
   "source": [
    "## KNN Regression model"
   ]
  },
  {
   "cell_type": "markdown",
   "metadata": {},
   "source": [
    "First, an unweighted approach to the KNN Regressor:"
   ]
  },
  {
   "cell_type": "code",
   "execution_count": 16,
   "metadata": {},
   "outputs": [],
   "source": [
    "\n",
    "avocado.fillna(0, inplace=True)\n",
    "#Feature set:\n",
    "X = avocado[['type_organic', 'type_conventional', '4046',\n",
    "       'Total Volume', '4770', 'Total Bags', 'Small Bags', 'Large Bags',\n",
    "       '4225', 'Month', 'region_HartfordSpringfield', 'region_SanFrancisco',\n",
    "       'region_Houston', 'XLarge Bags', 'region_NewYork',\n",
    "       'region_DallasFtWorth', 'region_SouthCentral', 'year',\n",
    "       'region_Philadelphia']]\n",
    "\n",
    "\n",
    "#Target:\n",
    "Y = avocado.AveragePrice\n",
    "\n",
    "\n"
   ]
  },
  {
   "cell_type": "code",
   "execution_count": 17,
   "metadata": {},
   "outputs": [],
   "source": [
    "# # Creating a train/test data split:\n",
    "from sklearn.model_selection import train_test_split\n",
    "\n",
    "X_train, X_test, y_train, y_test = train_test_split(X, Y, test_size = 0.3, random_state = 465)\n"
   ]
  },
  {
   "cell_type": "markdown",
   "metadata": {},
   "source": [
    "Checking the regression scores of an unweighted KNN Regressor. \n",
    "We are using a holdout-group method to evaluate the model's accuracy:"
   ]
  },
  {
   "cell_type": "code",
   "execution_count": 18,
   "metadata": {
    "scrolled": false
   },
   "outputs": [
    {
     "name": "stdout",
     "output_type": "stream",
     "text": [
      "\n",
      " ************** Unweighted holdout group testing *********** \n",
      "\n",
      "For k = 1, the KNN Regression score is: 0.4906292935439832\n",
      "For k = 2, the KNN Regression score is: 0.6107346748959095\n",
      "For k = 3, the KNN Regression score is: 0.6437163339873894\n",
      "For k = 4, the KNN Regression score is: 0.6595782424797427\n",
      "For k = 5, the KNN Regression score is: 0.664578483269533\n",
      "For k = 6, the KNN Regression score is: 0.6647143421091717\n",
      "For k = 7, the KNN Regression score is: 0.6642941746401461\n",
      "For k = 8, the KNN Regression score is: 0.6618339754786124\n",
      "For k = 9, the KNN Regression score is: 0.661897066541212\n",
      "For k = 10, the KNN Regression score is: 0.6582657403504066\n",
      "For k = 11, the KNN Regression score is: 0.6563473597238744\n",
      "For k = 12, the KNN Regression score is: 0.6541524413582954\n",
      "For k = 13, the KNN Regression score is: 0.6515038381635558\n",
      "For k = 14, the KNN Regression score is: 0.6487157632062293\n",
      "For k = 15, the KNN Regression score is: 0.6463276248995953\n",
      "For k = 16, the KNN Regression score is: 0.6448601897334894\n",
      "For k = 17, the KNN Regression score is: 0.6412792045419654\n",
      "For k = 18, the KNN Regression score is: 0.6388475476647439\n",
      "For k = 19, the KNN Regression score is: 0.6372863556260733\n",
      "\n",
      " (Unweighted) The best k value = 6, with a score of 0.6647143421091717 \n",
      "\n",
      "\n",
      " ************** Weighted holdout group testing *********** \n",
      "\n",
      "For k = 1, the KNN Regression score is: 0.4906292935439832\n",
      "For k = 2, the KNN Regression score is: 0.61336688846282\n",
      "For k = 3, the KNN Regression score is: 0.6490097562058974\n",
      "For k = 4, the KNN Regression score is: 0.6655273684686766\n",
      "For k = 5, the KNN Regression score is: 0.673328918200303\n",
      "For k = 6, the KNN Regression score is: 0.6757294306457213\n",
      "For k = 7, the KNN Regression score is: 0.676865199579203\n",
      "For k = 8, the KNN Regression score is: 0.6766842091601079\n",
      "For k = 9, the KNN Regression score is: 0.6771824919045955\n",
      "For k = 10, the KNN Regression score is: 0.6752112616790074\n",
      "For k = 11, the KNN Regression score is: 0.6745376790455351\n",
      "For k = 12, the KNN Regression score is: 0.67366888608269\n",
      "For k = 13, the KNN Regression score is: 0.6727311808208284\n",
      "For k = 14, the KNN Regression score is: 0.6710391281934498\n",
      "For k = 15, the KNN Regression score is: 0.669614360830892\n",
      "For k = 16, the KNN Regression score is: 0.6687085999656829\n",
      "For k = 17, the KNN Regression score is: 0.6664419404499291\n",
      "For k = 18, the KNN Regression score is: 0.6648502715285323\n",
      "For k = 19, the KNN Regression score is: 0.6637227178814256\n",
      "\n",
      " (Weighted) The best k value = 9, with a score of 0.6771824919045955\n"
     ]
    }
   ],
   "source": [
    "# Unweighted holdout group testing:\n",
    "print(\"\\n ************** Unweighted holdout group testing *********** \\n\")\n",
    "from sklearn.neighbors import KNeighborsRegressor \n",
    "holdout_scores=[] \n",
    "for k in range(1, 20):\n",
    "    knn = KNeighborsRegressor(n_neighbors=k)\n",
    "    knn.fit(X_train,y_train)\n",
    "    y_pred= knn.predict(X_test)\n",
    "    holdout_scores.append(knn.score(X_test, y_test))\n",
    "    print('For k = {}, the KNN Regression score is: {}'.format(k, holdout_scores[k-1]))\n",
    "best_score = max(holdout_scores)\n",
    "best_k = holdout_scores.index(best_score) + 1 #because list indexing starts at 0\n",
    "print(\"\\n (Unweighted) The best k value = {}, with a score of {} \\n\".format(best_k, best_score))\n",
    "\n",
    "# Weighted holdout group testing:\n",
    "print(\"\\n ************** Weighted holdout group testing *********** \\n\")\n",
    "from sklearn.neighbors import KNeighborsRegressor \n",
    "holdout_scores=[] \n",
    "for k in range(1, 20):\n",
    "    knn = KNeighborsRegressor(n_neighbors=k, weights='distance')\n",
    "    knn.fit(X_train,y_train)\n",
    "    y_pred= knn.predict(X_test)\n",
    "    holdout_scores.append(knn.score(X_test, y_test))\n",
    "    print('For k = {}, the KNN Regression score is: {}'.format(k, holdout_scores[k-1]))\n",
    "best_score = max(holdout_scores)\n",
    "best_k = holdout_scores.index(best_score) + 1 #because list indexing starts at 0\n",
    "print(\"\\n (Weighted) The best k value = {}, with a score of {}\".format(best_k, best_score))"
   ]
  },
  {
   "cell_type": "markdown",
   "metadata": {},
   "source": [
    "Here, we are using a 10-fold cross validation to test our holdout group results against:"
   ]
  },
  {
   "cell_type": "code",
   "execution_count": 24,
   "metadata": {
    "scrolled": false
   },
   "outputs": [
    {
     "name": "stdout",
     "output_type": "stream",
     "text": [
      "\n",
      " ************** Unweighted holdout group testing *********** \n",
      "\n",
      "For k = 1, the KNN Regression score is: 0.5156852308737754\n",
      "For k = 2, the KNN Regression score is: 0.6222067418204907\n",
      "For k = 3, the KNN Regression score is: 0.649194308446661\n",
      "For k = 4, the KNN Regression score is: 0.6585395349333777\n",
      "For k = 5, the KNN Regression score is: 0.6630676855499151\n",
      "For k = 6, the KNN Regression score is: 0.6648777480638913\n",
      "For k = 7, the KNN Regression score is: 0.6651544496479854\n",
      "For k = 8, the KNN Regression score is: 0.6658201990974189\n",
      "For k = 9, the KNN Regression score is: 0.6654085623469044\n",
      "For k = 10, the KNN Regression score is: 0.6630518190651543\n",
      "For k = 11, the KNN Regression score is: 0.6619254801793324\n",
      "For k = 12, the KNN Regression score is: 0.6602412240426838\n",
      "For k = 13, the KNN Regression score is: 0.6611545409100923\n",
      "For k = 14, the KNN Regression score is: 0.6581734198469871\n",
      "For k = 15, the KNN Regression score is: 0.6555992283292589\n",
      "For k = 16, the KNN Regression score is: 0.6528597339256914\n",
      "For k = 17, the KNN Regression score is: 0.6515809599155544\n",
      "For k = 18, the KNN Regression score is: 0.6505572451647661\n",
      "For k = 19, the KNN Regression score is: 0.6461593096441599\n",
      "\n",
      " (Unweighted) The best k value = 8, with a score of 0.6658201990974189 \n",
      " \n",
      "\n",
      " ************** Weighted holdout group testing *********** \n",
      "\n",
      "For k = 1, the KNN Regression score is: 0.5146264464194366\n",
      "For k = 2, the KNN Regression score is: 0.6221801565259168\n",
      "For k = 3, the KNN Regression score is: 0.6547302345272059\n",
      "For k = 4, the KNN Regression score is: 0.6660356301197595\n",
      "For k = 5, the KNN Regression score is: 0.6737853026883721\n",
      "For k = 6, the KNN Regression score is: 0.6781381775961373\n",
      "For k = 7, the KNN Regression score is: 0.6781359254676994\n",
      "For k = 8, the KNN Regression score is: 0.6793928085766722\n",
      "For k = 9, the KNN Regression score is: 0.6771282358371249\n",
      "For k = 10, the KNN Regression score is: 0.6789602442954406\n",
      "For k = 11, the KNN Regression score is: 0.6795639476326881\n",
      "For k = 12, the KNN Regression score is: 0.679579514984748\n",
      "For k = 13, the KNN Regression score is: 0.680331073720146\n",
      "For k = 14, the KNN Regression score is: 0.6768471524602726\n",
      "For k = 15, the KNN Regression score is: 0.6754260718979548\n",
      "For k = 16, the KNN Regression score is: 0.6748332774941321\n",
      "For k = 17, the KNN Regression score is: 0.6744905040702387\n",
      "For k = 18, the KNN Regression score is: 0.6715739725639465\n",
      "For k = 19, the KNN Regression score is: 0.6700649808407602\n",
      "\n",
      " (Weighted) The best k value = 13, with a score of 0.680331073720146 \n",
      "\n"
     ]
    }
   ],
   "source": [
    "# Unweighted 10-fold cross validation testing:\n",
    "from sklearn.model_selection import cross_val_score\n",
    "from sklearn.model_selection import KFold\n",
    "\n",
    "kf = KFold(10, shuffle=True)\n",
    "print(\"\\n ************** Unweighted holdout group testing *********** \\n\")\n",
    "cv_scores=[] \n",
    "for k in range(1, 20):\n",
    "    knn = KNeighborsRegressor(n_neighbors=k)\n",
    "    #knn.fit(X,Y)\n",
    "    #train model with 5 fold cross-validation:\n",
    "    score = cross_val_score(knn, X, Y, cv=kf)\n",
    "    cv_scores.append(score.mean())\n",
    "   \n",
    "    print('For k = {}, the KNN Regression score is: {}'.format(k, score.mean()))\n",
    "best_score = max(cv_scores)\n",
    "best_k = cv_scores.index(best_score) + 1 #because list indexing starts at 0\n",
    "print(\"\\n (Unweighted) The best k value = {}, with a score of {} \\n \".format(best_k, best_score))\n",
    "\n",
    "#  Weighted 10-fold cross validation testing:\n",
    "print(\"\\n ************** Weighted holdout group testing *********** \\n\")\n",
    "\n",
    "cv_scores=[] \n",
    "for k in range(1, 20):\n",
    "    knn = KNeighborsRegressor(n_neighbors=k, weights='distance')\n",
    "    #knn.fit(X,Y)\n",
    "    #train model with 5 fold cross-validation:\n",
    "    score = cross_val_score(knn, X, Y, cv=kf)\n",
    "    cv_scores.append(score.mean())\n",
    "   \n",
    "    print('For k = {}, the KNN Regression score is: {}'.format(k, score.mean()))\n",
    "best_score = max(cv_scores)\n",
    "best_k = cv_scores.index(best_score) + 1 #because list indexing starts at 0\n",
    "print(\"\\n (Weighted) The best k value = {}, with a score of {} \\n\".format(best_k, best_score))"
   ]
  },
  {
   "cell_type": "markdown",
   "metadata": {},
   "source": [
    "Preprocessing - Scaling the features\n",
    "\n",
    "This is helpful to do, because k-nearest neighbors with an Euclidean distance measure is sensitive to magnitudes and hence should be scaled for all features to weigh in equally. \n",
    "\n",
    "We can see if there is a large difference in the scaled model score  vs the unscaled:"
   ]
  },
  {
   "cell_type": "code",
   "execution_count": 25,
   "metadata": {},
   "outputs": [],
   "source": [
    "from sklearn.preprocessing import MinMaxScaler\n",
    "scaler = MinMaxScaler(feature_range=(0,1))\n",
    "\n",
    "\n",
    "X_scaled = scaler.fit_transform(X)\n",
    "\n",
    "# Making a train-test split with the scaled features:\n",
    "X_train_s, X_test_s, y_train, y_test = train_test_split(X_scaled, Y, test_size = 0.3, random_state = 465)\n",
    "\n"
   ]
  },
  {
   "cell_type": "code",
   "execution_count": 26,
   "metadata": {
    "scrolled": true
   },
   "outputs": [
    {
     "name": "stdout",
     "output_type": "stream",
     "text": [
      "\n",
      " (Unweighted, scaled) The best k value = 2, with a score of 0.8194780266934137 \n",
      "\n",
      "\n",
      " (Weighted, scaled) The best k value = 4, with a score of 0.8357045557401436\n"
     ]
    }
   ],
   "source": [
    "# Unweighted, scaled holdout group testing:\n",
    "from sklearn.neighbors import KNeighborsRegressor \n",
    "holdout_scores=[] \n",
    "for k in range(1, 20):\n",
    "    knn = KNeighborsRegressor(n_neighbors=k)\n",
    "    knn.fit(X_train_s,y_train)\n",
    "    y_pred= knn.predict(X_test_s)\n",
    "    holdout_scores.append(knn.score(X_test_s, y_test))\n",
    "    #print('For k = {}, the KNN Regression score is: {}'.format(k, holdout_scores[k-1]))\n",
    "best_score = max(holdout_scores)\n",
    "best_k = holdout_scores.index(best_score) + 1 #because list indexing starts at 0\n",
    "print(\"\\n (Unweighted, scaled) The best k value = {}, with a score of {} \\n\".format(best_k, best_score))\n",
    "\n",
    "# Weighted holdout group testing:\n",
    "from sklearn.neighbors import KNeighborsRegressor \n",
    "holdout_scores=[] \n",
    "for k in range(1, 20):\n",
    "    knn = KNeighborsRegressor(n_neighbors=k, weights='distance')\n",
    "    knn.fit(X_train_s,y_train)\n",
    "    y_pred= knn.predict(X_test_s)\n",
    "    holdout_scores.append(knn.score(X_test_s, y_test))\n",
    "    #print('For k = {}, the KNN Regression score is: {}'.format(k, holdout_scores[k-1]))\n",
    "best_score = max(holdout_scores)\n",
    "best_k = holdout_scores.index(best_score) + 1 #because list indexing starts at 0\n",
    "print(\"\\n (Weighted, scaled) The best k value = {}, with a score of {}\".format(best_k, best_score))"
   ]
  },
  {
   "cell_type": "markdown",
   "metadata": {},
   "source": [
    "Looks like the scaled features improve the model accuracy!\n"
   ]
  },
  {
   "cell_type": "code",
   "execution_count": 27,
   "metadata": {},
   "outputs": [
    {
     "name": "stdout",
     "output_type": "stream",
     "text": [
      "\n",
      " (Unweighted, scaled) The best k value = 2, with a score of 0.8395262991138536 \n",
      " \n",
      "\n",
      " (Weighted, scaled) The best k value = 3, with a score of 0.8542865416104222 \n",
      "\n"
     ]
    }
   ],
   "source": [
    "# Unweighted 10-fold cross-validation testing: \n",
    "kf = KFold(10, shuffle=True)\n",
    "cv_scores=[] \n",
    "for k in range(1, 10):\n",
    "    knn = KNeighborsRegressor(n_neighbors=k)\n",
    "    #knn.fit(X,Y)\n",
    "    #train model with 10 fold cross-validation:\n",
    "    score = cross_val_score(knn, X_scaled, Y, cv=kf)\n",
    "    cv_scores.append(score.mean())\n",
    "                     \n",
    "best_score = max(cv_scores)\n",
    "best_k = cv_scores.index(best_score) + 1 #because list indexing starts at 0\n",
    "print(\"\\n (Unweighted, scaled) The best k value = {}, with a score of {} \\n \".format(best_k, best_score))\n",
    "\n",
    "#  Weighted 10-fold cross validation testing:\n",
    "cv_scores=[] \n",
    "for k in range(1, 10):\n",
    "    knn = KNeighborsRegressor(n_neighbors=k, weights='distance')\n",
    "    #knn.fit(X,Y)\n",
    "    #train model with 10 fold cross-validation:\n",
    "    score = cross_val_score(knn, X_scaled, Y, cv=kf)\n",
    "    cv_scores.append(score.mean())\n",
    "   \n",
    "\n",
    "best_score = max(cv_scores)\n",
    "best_k = cv_scores.index(best_score) + 1 #because list indexing starts at 0\n",
    "print(\"\\n (Weighted, scaled) The best k value = {}, with a score of {} \\n\".format(best_k, best_score))"
   ]
  },
  {
   "cell_type": "markdown",
   "metadata": {},
   "source": [
    "## Linear/OLS Regression\n",
    "\n",
    "We found KNN Regression to yield pretty decent results, with scores of around 0.68 for unscaled features and as good as 0.85 when the features were scaled. "
   ]
  },
  {
   "cell_type": "markdown",
   "metadata": {},
   "source": [
    "To compare KNN Regression's performance, we will run our data through a Linear Regression. Checking linear regression with holdout group and cross-validation:"
   ]
  },
  {
   "cell_type": "code",
   "execution_count": 28,
   "metadata": {},
   "outputs": [
    {
     "name": "stdout",
     "output_type": "stream",
     "text": [
      "Coefficients: \n",
      " [ 2.46134960e-01 -2.46134960e-01  5.84671406e-05 -5.85022017e-05\n",
      "  5.83175191e-05 -2.24437864e-02  2.25022941e-02  2.25021297e-02\n",
      "  5.85525003e-05  2.09314963e-02  4.15418700e-01  3.70430654e-01\n",
      " -3.55215048e-01  2.25036800e-02  3.13151597e-01 -3.13054605e-01\n",
      " -2.69624160e-01  5.56605085e-02  2.26635553e-01]\n",
      "Intercept: \n",
      " -110.94612996736741\n",
      "R-squared: \n",
      " 0.5187453888778607\n"
     ]
    }
   ],
   "source": [
    "from sklearn import linear_model\n",
    "# Instantiatie the linear model\n",
    "lrm = linear_model.LinearRegression()\n",
    "\n",
    "# Fitting the model to the training data:\n",
    "lrm.fit(X_train, y_train)\n",
    "\n",
    "# Checking the performace of the model:\n",
    "print(\"Coefficients: \\n\", lrm.coef_)\n",
    "print(\"Intercept: \\n\", lrm.intercept_)\n",
    "print(\"R-squared: \\n\", lrm.score(X_test, y_test))\n"
   ]
  },
  {
   "cell_type": "code",
   "execution_count": 30,
   "metadata": {
    "scrolled": true
   },
   "outputs": [
    {
     "name": "stdout",
     "output_type": "stream",
     "text": [
      "Coefficients: \n",
      " [ 2.45602584e-01 -2.45602584e-01  8.10462756e-05 -8.10806232e-05\n",
      "  8.08829823e-05 -2.06248235e-02  2.07059153e-02  2.07057438e-02\n",
      "  8.11297433e-05  2.08897006e-02  4.11791010e-01  3.95277327e-01\n",
      " -3.40968701e-01  2.07070987e-02  3.05452744e-01 -3.09138167e-01\n",
      " -2.58269595e-01  5.52671687e-02  2.25532374e-01]\n",
      "Intercept: \n",
      " -110.15453386110359\n",
      "R-squared: \n",
      " 0.5194573575705939\n",
      "Cross validation: \n",
      " [0.52885147 0.52112017 0.50415955 0.54927625 0.48751871 0.5352495\n",
      " 0.51737596 0.51455233 0.48691879 0.53776555]\n",
      "Cross validation mean score:  0.5182788301372614\n"
     ]
    }
   ],
   "source": [
    "# Instantiate linear regression model\n",
    "from sklearn import linear_model\n",
    "kf = KFold(10, shuffle=True)\n",
    "lrm = linear_model.LinearRegression()\n",
    "# Fitting the model:\n",
    "lrm.fit(X, Y)\n",
    "\n",
    "# Checking the performace of the model:\n",
    "print(\"Coefficients: \\n\", lrm.coef_)\n",
    "print(\"Intercept: \\n\", lrm.intercept_)\n",
    "print(\"R-squared: \\n\", lrm.score(X, Y))\n",
    "\n",
    "lrm_score = cross_val_score(lrm, X, Y, cv=kf)\n",
    "print('Cross validation: \\n', lrm_score)\n",
    "print('Cross validation mean score: ', lrm_score.mean())"
   ]
  },
  {
   "cell_type": "markdown",
   "metadata": {},
   "source": [
    "### Trying out Random Forest Regressor on the avocado dataset, just because"
   ]
  },
  {
   "cell_type": "code",
   "execution_count": 32,
   "metadata": {},
   "outputs": [
    {
     "name": "stderr",
     "output_type": "stream",
     "text": [
      "/usr/local/lib/python3.7/site-packages/sklearn/ensemble/forest.py:245: FutureWarning: The default value of n_estimators will change from 10 in version 0.20 to 100 in 0.22.\n",
      "  \"10 in version 0.20 to 100 in 0.22.\", FutureWarning)\n",
      "/usr/local/lib/python3.7/site-packages/sklearn/ensemble/forest.py:245: FutureWarning: The default value of n_estimators will change from 10 in version 0.20 to 100 in 0.22.\n",
      "  \"10 in version 0.20 to 100 in 0.22.\", FutureWarning)\n",
      "/usr/local/lib/python3.7/site-packages/sklearn/ensemble/forest.py:245: FutureWarning: The default value of n_estimators will change from 10 in version 0.20 to 100 in 0.22.\n",
      "  \"10 in version 0.20 to 100 in 0.22.\", FutureWarning)\n",
      "/usr/local/lib/python3.7/site-packages/sklearn/ensemble/forest.py:245: FutureWarning: The default value of n_estimators will change from 10 in version 0.20 to 100 in 0.22.\n",
      "  \"10 in version 0.20 to 100 in 0.22.\", FutureWarning)\n",
      "/usr/local/lib/python3.7/site-packages/sklearn/ensemble/forest.py:245: FutureWarning: The default value of n_estimators will change from 10 in version 0.20 to 100 in 0.22.\n",
      "  \"10 in version 0.20 to 100 in 0.22.\", FutureWarning)\n",
      "/usr/local/lib/python3.7/site-packages/sklearn/ensemble/forest.py:245: FutureWarning: The default value of n_estimators will change from 10 in version 0.20 to 100 in 0.22.\n",
      "  \"10 in version 0.20 to 100 in 0.22.\", FutureWarning)\n",
      "/usr/local/lib/python3.7/site-packages/sklearn/ensemble/forest.py:245: FutureWarning: The default value of n_estimators will change from 10 in version 0.20 to 100 in 0.22.\n",
      "  \"10 in version 0.20 to 100 in 0.22.\", FutureWarning)\n",
      "/usr/local/lib/python3.7/site-packages/sklearn/ensemble/forest.py:245: FutureWarning: The default value of n_estimators will change from 10 in version 0.20 to 100 in 0.22.\n",
      "  \"10 in version 0.20 to 100 in 0.22.\", FutureWarning)\n",
      "/usr/local/lib/python3.7/site-packages/sklearn/ensemble/forest.py:245: FutureWarning: The default value of n_estimators will change from 10 in version 0.20 to 100 in 0.22.\n",
      "  \"10 in version 0.20 to 100 in 0.22.\", FutureWarning)\n",
      "/usr/local/lib/python3.7/site-packages/sklearn/ensemble/forest.py:245: FutureWarning: The default value of n_estimators will change from 10 in version 0.20 to 100 in 0.22.\n",
      "  \"10 in version 0.20 to 100 in 0.22.\", FutureWarning)\n"
     ]
    },
    {
     "name": "stdout",
     "output_type": "stream",
     "text": [
      "Cross validation: \n",
      " [0.85304573 0.89695428 0.89438603 0.87957248 0.87988193 0.87422262\n",
      " 0.88433596 0.88025032 0.87910912 0.87872802]\n",
      "Cross validation mean score:  0.8800486479161342\n"
     ]
    }
   ],
   "source": [
    "# Instantiate linear regression model\n",
    "from sklearn import linear_model\n",
    "from sklearn.ensemble import RandomForestRegressor\n",
    "rf = RandomForestRegressor()\n",
    "kf = KFold(10, shuffle=True)\n",
    "# Fitting the model:\n",
    "#rf.fit(X, Y)\n",
    "\n",
    "# Checking the performace of the model:\n",
    "# print(\"Coefficients: \\n\", rf.coef_)\n",
    "# print(\"Intercept: \\n\", lrm.intercept_)\n",
    "#print(\"R-squared: \\n\", rf.score(X, Y))\n",
    "\n",
    "rf_score = cross_val_score(rf, X, Y, cv=kf)\n",
    "print('Cross validation: \\n', rf_score)\n",
    "print('Cross validation mean score: ', rf_score.mean())"
   ]
  },
  {
   "cell_type": "code",
   "execution_count": 33,
   "metadata": {},
   "outputs": [],
   "source": [
    "A_X_train, A_X_test, A_y_train, A_y_test = train_test_split(X, Y, test_size = 0.3, random_state = 465)"
   ]
  },
  {
   "cell_type": "code",
   "execution_count": 34,
   "metadata": {
    "scrolled": true
   },
   "outputs": [
    {
     "name": "stderr",
     "output_type": "stream",
     "text": [
      "/usr/local/lib/python3.7/site-packages/sklearn/ensemble/forest.py:245: FutureWarning: The default value of n_estimators will change from 10 in version 0.20 to 100 in 0.22.\n",
      "  \"10 in version 0.20 to 100 in 0.22.\", FutureWarning)\n"
     ]
    },
    {
     "data": {
      "text/plain": [
       "0.8684794351455949"
      ]
     },
     "execution_count": 34,
     "metadata": {},
     "output_type": "execute_result"
    }
   ],
   "source": [
    "rf = RandomForestRegressor()\n",
    "\n",
    "rf.fit(A_X_train, A_y_train)\n",
    "\n",
    "A_y_pred = rf.predict(A_X_test)\n",
    "\n",
    "rf.score(A_X_test, A_y_test)"
   ]
  },
  {
   "cell_type": "markdown",
   "metadata": {},
   "source": [
    "Looks like Random Forest actually predicts with better performance than either KNN Regression or Linear Regression\n"
   ]
  },
  {
   "cell_type": "markdown",
   "metadata": {},
   "source": [
    "# Repeating the process with the House Prices Dataset \n",
    "[Kaggle House Prices](https://www.kaggle.com/c/house-prices-advanced-regression-techniques/data)\n",
    "\n"
   ]
  },
  {
   "cell_type": "code",
   "execution_count": 35,
   "metadata": {},
   "outputs": [],
   "source": [
    "from sqlalchemy import create_engine\n",
    "warnings.filterwarnings('ignore')\n",
    "\n",
    "postgres_user = 'dsbc_student'\n",
    "postgres_pw = '7*.8G9QH21'\n",
    "postgres_host = '142.93.121.174'\n",
    "postgres_port = '5432'\n",
    "postgres_db = 'houseprices'\n",
    "\n",
    "\n",
    "engine = create_engine('postgresql://{}:{}@{}:{}/{}'.format(\n",
    "    postgres_user, postgres_pw, postgres_host, postgres_port, postgres_db))\n",
    "\n",
    "\n",
    "house_prices_df = pd.read_sql_query('select * from houseprices',con=engine)\n",
    "\n",
    "# no need for an open connection, as we're only doing a single query\n",
    "engine.dispose()\n"
   ]
  },
  {
   "cell_type": "code",
   "execution_count": 36,
   "metadata": {},
   "outputs": [],
   "source": [
    "# organizing the numerical and non-numerical data:\n",
    "# Numerical features:\n",
    "numerical = house_prices_df.dtypes[house_prices_df.dtypes != \"object\"].index\n",
    "# Non-numerical, categorical features:\n",
    "non_numerical = house_prices_df.dtypes[house_prices_df.dtypes == 'object'].index\n",
    "\n"
   ]
  },
  {
   "cell_type": "code",
   "execution_count": 37,
   "metadata": {},
   "outputs": [],
   "source": [
    "# Converting all the non-numerical features to numerical features:\n",
    "# doing this with one-hot encoding\n",
    "\n",
    "for variable in non_numerical:\n",
    "    house_prices_df = pd.concat([house_prices_df, pd.get_dummies(house_prices_df[variable], prefix=variable, drop_first=True)], axis=1)\n",
    "    \n",
    "# Deleting the original non-numerical feature columns:\n",
    "for variable in non_numerical:\n",
    "    house_prices_df.drop(variable, axis=1, inplace=True)\n",
    "    \n",
    "\n"
   ]
  },
  {
   "cell_type": "code",
   "execution_count": 38,
   "metadata": {},
   "outputs": [
    {
     "data": {
      "text/plain": [
       "Index(['saleprice', 'overallqual', 'grlivarea', 'garagecars', 'garagearea',\n",
       "       'totalbsmtsf', 'firstflrsf', 'exterqual_TA', 'fullbath', 'totrmsabvgrd',\n",
       "       'yearbuilt', 'kitchenqual_TA', 'yearremodadd', 'foundation_PConc',\n",
       "       'garageyrblt', 'masvnrarea', 'fireplaces', 'exterqual_Gd',\n",
       "       'bsmtqual_TA', 'bsmtfintype1_GLQ'],\n",
       "      dtype='object')"
      ]
     },
     "execution_count": 38,
     "metadata": {},
     "output_type": "execute_result"
    }
   ],
   "source": [
    "# Finding the top 10 most correlated features:\n",
    "\n",
    "np.abs(house_prices_df.corr().loc[:,'saleprice']).sort_values(ascending=False).head(20).index\n"
   ]
  },
  {
   "cell_type": "code",
   "execution_count": 39,
   "metadata": {
    "scrolled": true
   },
   "outputs": [],
   "source": [
    "del house_prices_df['id']\n"
   ]
  },
  {
   "cell_type": "markdown",
   "metadata": {},
   "source": [
    "## Linear/OLS Regression:\n"
   ]
  },
  {
   "cell_type": "markdown",
   "metadata": {},
   "source": [
    "Linear regression, with cross-validation"
   ]
  },
  {
   "cell_type": "code",
   "execution_count": 41,
   "metadata": {
    "scrolled": false
   },
   "outputs": [
    {
     "name": "stdout",
     "output_type": "stream",
     "text": [
      "Coefficients: \n",
      " [ 1.53382906e+04  4.20362837e+01  1.23115461e+04  1.59301312e+01\n",
      "  1.62615854e+01  8.50675312e+00 -3.82181156e+04 -4.52680355e+03\n",
      "  7.49217695e+02  1.80610255e+02 -6.27915695e+03  2.51379452e+02\n",
      "  8.12187097e+02 -6.57976707e+00  2.31488578e+01  1.08982070e+04\n",
      " -3.69735400e+04  8.90591563e+00  1.28921789e+04]\n",
      "Intercept: \n",
      " -847088.1098564983\n",
      "R-squared: \n",
      " 0.7984057228748349\n",
      "Cross validation: \n",
      " [0.80722845 0.84224991 0.83476366 0.84880864 0.76697424 0.86689462\n",
      " 0.11551451 0.85559063 0.83101781 0.77905451]\n",
      "Cross validation mean score: \n",
      " 0.7548096981017245\n"
     ]
    }
   ],
   "source": [
    "from sklearn import linear_model\n",
    " \n",
    "House_X = house_prices_df[[ 'overallqual', 'grlivarea', 'garagecars', 'garagearea',\n",
    "       'totalbsmtsf', 'firstflrsf', 'exterqual_TA', 'fullbath', 'totrmsabvgrd',\n",
    "       'yearbuilt', 'kitchenqual_TA', 'yearremodadd', 'foundation_PConc',\n",
    "       'garageyrblt', 'masvnrarea', 'fireplaces', 'exterqual_Gd',\n",
    "       'bsmtqual_TA', 'bsmtfintype1_GLQ']]\n",
    "House_X.fillna(0, inplace=True)\n",
    "House_Y = house_prices_df['saleprice']\n",
    "\n",
    "# instantiating the model\n",
    "lrm = linear_model.LinearRegression()\n",
    "# fitting the model:\n",
    "lrm.fit(House_X,House_Y)\n",
    "\n",
    "# Checking the performace of the model:\n",
    "print(\"Coefficients: \\n\", lrm.coef_)\n",
    "print(\"Intercept: \\n\", lrm.intercept_)\n",
    "print(\"R-squared: \\n\", lrm.score(House_X, House_Y))\n",
    "\n",
    "from sklearn.model_selection import KFold\n",
    "kf = KFold(10, shuffle=True)\n",
    "# Cross validation:\n",
    "lrm_score = cross_val_score(lrm, House_X, House_Y, cv=kf)\n",
    "print('Cross validation: \\n', lrm_score)\n",
    "print('Cross validation mean score: \\n', lrm_score.mean())\n"
   ]
  },
  {
   "cell_type": "markdown",
   "metadata": {},
   "source": [
    "Linear regression, with holdout group:"
   ]
  },
  {
   "cell_type": "code",
   "execution_count": 42,
   "metadata": {},
   "outputs": [],
   "source": [
    "# creating train test split:\n",
    "House_X_train, House_X_test, House_y_train, House_y_test = train_test_split(House_X, House_Y, test_size = 0.3, random_state = 465)\n"
   ]
  },
  {
   "cell_type": "code",
   "execution_count": 43,
   "metadata": {},
   "outputs": [
    {
     "name": "stdout",
     "output_type": "stream",
     "text": [
      "Coefficients: \n",
      " [ 1.67182264e+04  3.92077675e+01  1.50064307e+04  6.46538941e+00\n",
      "  1.18672129e+01  8.87004467e+00 -3.76401819e+04 -3.31915754e+03\n",
      "  1.42305299e+03  1.79067589e+02 -5.91775716e+03  1.93696276e+02\n",
      " -6.19989111e+02 -6.82388120e+00  3.30286952e+01  9.69724025e+03\n",
      " -3.41899064e+04  2.26952688e+03  1.27005980e+04]\n",
      "Intercept: \n",
      " -737564.0691899552\n",
      "R-squared: \n",
      " 0.7625249996197485\n"
     ]
    }
   ],
   "source": [
    "# Instantiating the model:\n",
    "lrm = linear_model.LinearRegression()\n",
    "# fitting the model:\n",
    "lrm.fit(House_X_train, House_y_train)\n",
    "# Creating predicitons:\n",
    "lrm.predict(House_X_test)\n",
    "\n",
    "# Checking the performace of the model:\n",
    "print(\"Coefficients: \\n\", lrm.coef_)\n",
    "print(\"Intercept: \\n\", lrm.intercept_)\n",
    "print(\"R-squared: \\n\", lrm.score(House_X_test, House_y_test))\n",
    "\n"
   ]
  },
  {
   "cell_type": "markdown",
   "metadata": {},
   "source": [
    "## KNN Regression:"
   ]
  },
  {
   "cell_type": "markdown",
   "metadata": {},
   "source": [
    "Finding the ideal k value for an unweighted KNN Regression model:"
   ]
  },
  {
   "cell_type": "markdown",
   "metadata": {},
   "source": [
    "#### Using holdout method to test our model:"
   ]
  },
  {
   "cell_type": "code",
   "execution_count": 44,
   "metadata": {
    "scrolled": true
   },
   "outputs": [
    {
     "name": "stdout",
     "output_type": "stream",
     "text": [
      "(Unweighted) best k value is 7, with a KNN Regression score of 0.7060147721334012 \n",
      "\n",
      "(Weighted) best k value is 7, with a KNN Regression score of 0.7046018520593789\n"
     ]
    }
   ],
   "source": [
    "from sklearn.neighbors import KNeighborsRegressor \n",
    "holdout_scores=[] \n",
    "for k in range(1, 20):\n",
    "    knn = KNeighborsRegressor(n_neighbors=k)\n",
    "    knn.fit(House_X_train,House_y_train)\n",
    "    y_pred= knn.predict(House_X_test)\n",
    "    holdout_scores.append(knn.score(House_X_test, House_y_test))\n",
    "#holdout_scores = pd.DataFrame(holdout_scores)\n",
    "#holdout_scores\n",
    "best_score = max(holdout_scores)\n",
    "best_k = holdout_scores.index(best_score) + 1 # because index starts at 0\n",
    "print('(Unweighted) best k value is {}, with a KNN Regression score of {} \\n'.format(best_k, best_score))\n",
    "\n",
    "holdout_scores=[] \n",
    "for k in range(1, 20):\n",
    "    knn = KNeighborsRegressor(n_neighbors=k, weights='distance')\n",
    "    knn.fit(House_X_train,House_y_train)\n",
    "    y_pred= knn.predict(House_X_test)\n",
    "    holdout_scores.append(knn.score(House_X_test, House_y_test))\n",
    "#holdout_scores = pd.DataFrame(holdout_scores)\n",
    "#holdout_scores\n",
    "best_score = max(holdout_scores)\n",
    "best_k = holdout_scores.index(best_score) + 1 # because index starts at 0\n",
    "print('(Weighted) best k value is {}, with a KNN Regression score of {}'.format(best_k, best_score))\n"
   ]
  },
  {
   "cell_type": "markdown",
   "metadata": {},
   "source": [
    "#### Cross-validation method:"
   ]
  },
  {
   "cell_type": "code",
   "execution_count": 45,
   "metadata": {},
   "outputs": [
    {
     "name": "stdout",
     "output_type": "stream",
     "text": [
      "(Unweighted) best k value is 12, with a KNN Regression score of 0.7370283918123277 \n",
      "\n",
      "(Weighted) best k value is 19, with a KNN Regression score of 0.7444921285601007\n"
     ]
    }
   ],
   "source": [
    "from sklearn.model_selection import cross_val_score\n",
    "kf = KFold(10, shuffle=True)\n",
    "# Unweighted Model:\n",
    "\n",
    "cv_scores=[] \n",
    "for k in range(1, 20):\n",
    "    knn = KNeighborsRegressor(n_neighbors=k)\n",
    "    knn.fit(House_X,House_Y)\n",
    "    #train model with 10 fold cross-validation:\n",
    "    score = cross_val_score(knn, House_X, House_Y, cv=kf)\n",
    "    cv_scores.append(score.mean())\n",
    "\n",
    "best_score = max(cv_scores)\n",
    "best_k = cv_scores.index(best_score) + 1 # because index starts at 0\n",
    "print('(Unweighted) best k value is {}, with a KNN Regression score of {} \\n'.format(best_k, best_score))\n",
    "\n",
    "cv_scores=[] \n",
    "for k in range(1, 20):\n",
    "    knn = KNeighborsRegressor(n_neighbors=k, weights='distance')\n",
    "    knn.fit(House_X,House_Y)\n",
    "    #train model with 10 fold cross-validation:\n",
    "    score = cross_val_score(knn, House_X, House_Y, cv=kf)\n",
    "    cv_scores.append(score.mean())\n",
    "\n",
    "best_score = max(cv_scores)\n",
    "best_k = cv_scores.index(best_score) + 1 # because index starts at 0\n",
    "print('(Weighted) best k value is {}, with a KNN Regression score of {}'.format(best_k, best_score))\n"
   ]
  },
  {
   "cell_type": "markdown",
   "metadata": {},
   "source": [
    "Further validation to check if our best k-value for the nearest neighbor model also has the lowest Root Mean Squared Error:"
   ]
  },
  {
   "cell_type": "code",
   "execution_count": 47,
   "metadata": {},
   "outputs": [
    {
     "name": "stdout",
     "output_type": "stream",
     "text": [
      "(Unweighted) Best k value is 7, with RMSE = 44375.68044130725 \n",
      "\n",
      "(Weighted) Best k value is 7, with RMSE = 44482.18942476738\n"
     ]
    }
   ],
   "source": [
    "# Unweighted KNN model:\n",
    "# testing different k values to see how much error there with each one:\n",
    "import math\n",
    "from sklearn.metrics import mean_squared_error\n",
    "errors = []\n",
    "for k in range(1,21):\n",
    "   \n",
    "    model = KNeighborsRegressor(n_neighbors = k)\n",
    "    \n",
    "    model.fit(House_X_train, House_y_train) # Fit them model \n",
    "    House_Y_pred = model.predict(House_X_test) # predicting the model on the test set\n",
    "    \n",
    "    error = (mean_squared_error(House_y_test, House_Y_pred))**0.5 # Calculate RMSE\n",
    "    \n",
    "    errors.append(error) #store rmse values\n",
    "    #print('RMSE value for k= ' , k , 'is:', error)\n",
    "best_rmse = min(errors)\n",
    "best_k = errors.index(best_rmse) + 1\n",
    "print('(Unweighted) Best k value is {}, with RMSE = {} \\n'.format(best_k, best_rmse))\n",
    "\n",
    "# Weighted KNN model:\n",
    "# testing different k values to see how much error there with each one:\n",
    "errors = []\n",
    "for k in range(1,21):\n",
    "   \n",
    "    model = KNeighborsRegressor(n_neighbors = k, weights='distance')\n",
    "    \n",
    "    model.fit(House_X_train, House_y_train) # Fit them model \n",
    "    House_Y_pred = model.predict(House_X_test) # predicting the model on the test set\n",
    "    \n",
    "    error = (mean_squared_error(House_y_test, House_Y_pred))**0.5 # Calculate RMSE\n",
    "    \n",
    "    errors.append(error) #store rmse values\n",
    "    #print('RMSE value for k= ' , k , 'is:', error)\n",
    "best_rmse = min(errors)\n",
    "best_k = errors.index(best_rmse) + 1\n",
    "print('(Weighted) Best k value is {}, with RMSE = {}'.format(best_k, best_rmse))\n"
   ]
  },
  {
   "cell_type": "markdown",
   "metadata": {},
   "source": [
    "#### Scaling the feature set to see if KNN yields better results this way:"
   ]
  },
  {
   "cell_type": "code",
   "execution_count": 48,
   "metadata": {},
   "outputs": [],
   "source": [
    "from sklearn.preprocessing import MinMaxScaler\n",
    "scaler = MinMaxScaler(feature_range=(0,1))\n",
    "\n",
    "\n",
    "House_X_scaled = scaler.fit_transform(House_X)\n",
    "House_X_train_scaled = scaler.fit_transform(House_X_train)\n",
    "House_X_test_scaled = scaler.fit_transform(House_X_test)"
   ]
  },
  {
   "cell_type": "code",
   "execution_count": 49,
   "metadata": {
    "scrolled": true
   },
   "outputs": [
    {
     "name": "stdout",
     "output_type": "stream",
     "text": [
      "\n",
      " ********* Testing scaled feature set ***************** \n",
      "\n",
      "(Unweighted) best k value is 2, with a KNN Regression score of 0.7520308407614833 \n",
      "\n",
      "(Weighted) best k value is 2, with a KNN Regression score of 0.7592653725069964\n"
     ]
    }
   ],
   "source": [
    "print('\\n ********* Testing scaled feature set ***************** \\n')\n",
    "\n",
    "\n",
    "holdout_scores=[] \n",
    "for k in range(1, 20):\n",
    "    knn = KNeighborsRegressor(n_neighbors=k)\n",
    "    knn.fit(House_X_train_scaled,House_y_train)\n",
    "    House_y_pred= knn.predict(House_X_test_scaled)\n",
    "    holdout_scores.append(knn.score(House_X_test_scaled, House_y_test))\n",
    "#holdout_scores = pd.DataFrame(holdout_scores)\n",
    "#holdout_scores\n",
    "best_score = max(holdout_scores)\n",
    "best_k = holdout_scores.index(best_score) + 1 # because index starts at 0\n",
    "print('(Unweighted) best k value is {}, with a KNN Regression score of {} \\n'.format(best_k, best_score))\n",
    "\n",
    "holdout_scores=[] \n",
    "for k in range(1, 20):\n",
    "    knn = KNeighborsRegressor(n_neighbors=k, weights='distance')\n",
    "    knn.fit(House_X_train_scaled,House_y_train)\n",
    "    House_y_pred= knn.predict(House_X_test_scaled)\n",
    "    holdout_scores.append(knn.score(House_X_test_scaled, House_y_test))\n",
    "#holdout_scores = pd.DataFrame(holdout_scores)\n",
    "#holdout_scores\n",
    "best_score = max(holdout_scores)\n",
    "best_k = holdout_scores.index(best_score) + 1 # because index starts at 0\n",
    "print('(Weighted) best k value is {}, with a KNN Regression score of {}'.format(best_k, best_score))\n"
   ]
  },
  {
   "cell_type": "code",
   "execution_count": 50,
   "metadata": {},
   "outputs": [
    {
     "name": "stdout",
     "output_type": "stream",
     "text": [
      "*************** Testing scaled feature set, cross-validation *********\n",
      "(Unweighted) best k value is 15, with a KNN Regression score of 0.7502311664988209 \n",
      "\n",
      "(Weighted) best k value is 6, with a KNN Regression score of 0.7644199130878763\n"
     ]
    }
   ],
   "source": [
    "print('*************** Testing scaled feature set, cross-validation *********')\n",
    "# Unweighted Model:\n",
    "kf = KFold(10, shuffle=True)\n",
    "cv_scores=[] \n",
    "for k in range(1, 20):\n",
    "    knn = KNeighborsRegressor(n_neighbors=k)\n",
    "    knn.fit(House_X_scaled,House_Y)\n",
    "    #train model with 10 fold cross-validation:\n",
    "    score = cross_val_score(knn, House_X_scaled, House_Y, cv=kf)\n",
    "    cv_scores.append(score.mean())\n",
    "\n",
    "best_score = max(cv_scores)\n",
    "best_k = cv_scores.index(best_score) + 1 # because index starts at 0\n",
    "print('(Unweighted) best k value is {}, with a KNN Regression score of {} \\n'.format(best_k, best_score))\n",
    "\n",
    "cv_scores=[] \n",
    "for k in range(1, 20):\n",
    "    knn = KNeighborsRegressor(n_neighbors=k, weights='distance')\n",
    "    knn.fit(House_X_scaled,House_Y)\n",
    "    #train model with 10 fold cross-validation:\n",
    "    score = cross_val_score(knn, House_X_scaled, House_Y, cv=kf)\n",
    "    cv_scores.append(score.mean())\n",
    "\n",
    "best_score = max(cv_scores)\n",
    "best_k = cv_scores.index(best_score) + 1 # because index starts at 0\n",
    "print('(Weighted) best k value is {}, with a KNN Regression score of {}'.format(best_k, best_score))\n"
   ]
  },
  {
   "cell_type": "markdown",
   "metadata": {},
   "source": [
    "Looks like scaling the features only slightly increased the model's performance "
   ]
  },
  {
   "cell_type": "code",
   "execution_count": null,
   "metadata": {},
   "outputs": [],
   "source": []
  },
  {
   "cell_type": "code",
   "execution_count": null,
   "metadata": {},
   "outputs": [],
   "source": []
  },
  {
   "cell_type": "code",
   "execution_count": null,
   "metadata": {},
   "outputs": [],
   "source": []
  }
 ],
 "metadata": {
  "kernelspec": {
   "display_name": "Python 3",
   "language": "python",
   "name": "python3"
  },
  "language_info": {
   "codemirror_mode": {
    "name": "ipython",
    "version": 3
   },
   "file_extension": ".py",
   "mimetype": "text/x-python",
   "name": "python",
   "nbconvert_exporter": "python",
   "pygments_lexer": "ipython3",
   "version": "3.7.3"
  }
 },
 "nbformat": 4,
 "nbformat_minor": 2
}
