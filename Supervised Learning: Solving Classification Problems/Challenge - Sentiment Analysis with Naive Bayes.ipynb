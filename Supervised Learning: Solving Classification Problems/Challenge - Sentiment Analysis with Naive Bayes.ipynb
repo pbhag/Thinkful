{
 "cells": [
  {
   "cell_type": "markdown",
   "metadata": {},
   "source": [
    "# Supervised Learning: Solving Classificaiton Problems\n",
    "\n",
    "## Challenge: Sentiment analysis with Naive Bayes\n",
    "\n",
    "- Building a classfiier based on the UC Irvine's [dataset of sentiment labelled sentences](https://archive.ics.uci.edu/ml/datasets/Sentiment+Labelled+Sentences).\n",
    "\n",
    "\n",
    "We are looking specifcally at the **Amazon Reviews**"
   ]
  },
  {
   "cell_type": "code",
   "execution_count": 756,
   "metadata": {},
   "outputs": [],
   "source": [
    "%matplotlib inline\n",
    "import numpy as np\n",
    "import pandas as pd\n",
    "import scipy\n",
    "import sklearn\n",
    "import matplotlib.pyplot as plt\n",
    "import seaborn as sns"
   ]
  },
  {
   "cell_type": "code",
   "execution_count": 757,
   "metadata": {},
   "outputs": [],
   "source": [
    "# Grab and process the data:\n",
    "reviews_raw = pd.read_csv('/Users/pbhag/Thinkful/Supervised Learning - Solving Classification Problems/sentiment labelled sentences/amazon_cells_labelled.txt', delimiter = '\\t')\n",
    "reviews_raw.columns = ['review', 'positive']\n",
    "reviews_raw['positive'] = (reviews_raw['positive'] == 1)\n"
   ]
  },
  {
   "cell_type": "code",
   "execution_count": 758,
   "metadata": {
    "scrolled": false
   },
   "outputs": [
    {
     "data": {
      "text/html": [
       "<div>\n",
       "<style scoped>\n",
       "    .dataframe tbody tr th:only-of-type {\n",
       "        vertical-align: middle;\n",
       "    }\n",
       "\n",
       "    .dataframe tbody tr th {\n",
       "        vertical-align: top;\n",
       "    }\n",
       "\n",
       "    .dataframe thead th {\n",
       "        text-align: right;\n",
       "    }\n",
       "</style>\n",
       "<table border=\"1\" class=\"dataframe\">\n",
       "  <thead>\n",
       "    <tr style=\"text-align: right;\">\n",
       "      <th></th>\n",
       "      <th>review</th>\n",
       "      <th>positive</th>\n",
       "    </tr>\n",
       "  </thead>\n",
       "  <tbody>\n",
       "    <tr>\n",
       "      <th>0</th>\n",
       "      <td>Good case, Excellent value.</td>\n",
       "      <td>True</td>\n",
       "    </tr>\n",
       "    <tr>\n",
       "      <th>1</th>\n",
       "      <td>Great for the jawbone.</td>\n",
       "      <td>True</td>\n",
       "    </tr>\n",
       "    <tr>\n",
       "      <th>2</th>\n",
       "      <td>Tied to charger for conversations lasting more...</td>\n",
       "      <td>False</td>\n",
       "    </tr>\n",
       "    <tr>\n",
       "      <th>3</th>\n",
       "      <td>The mic is great.</td>\n",
       "      <td>True</td>\n",
       "    </tr>\n",
       "    <tr>\n",
       "      <th>4</th>\n",
       "      <td>I have to jiggle the plug to get it to line up...</td>\n",
       "      <td>False</td>\n",
       "    </tr>\n",
       "  </tbody>\n",
       "</table>\n",
       "</div>"
      ],
      "text/plain": [
       "                                              review  positive\n",
       "0                        Good case, Excellent value.      True\n",
       "1                             Great for the jawbone.      True\n",
       "2  Tied to charger for conversations lasting more...     False\n",
       "3                                  The mic is great.      True\n",
       "4  I have to jiggle the plug to get it to line up...     False"
      ]
     },
     "execution_count": 758,
     "metadata": {},
     "output_type": "execute_result"
    }
   ],
   "source": [
    "# Taking a look at the raw data:\n",
    "reviews_raw.head()"
   ]
  },
  {
   "cell_type": "code",
   "execution_count": 759,
   "metadata": {},
   "outputs": [
    {
     "data": {
      "text/plain": [
       "(999, 2)"
      ]
     },
     "execution_count": 759,
     "metadata": {},
     "output_type": "execute_result"
    }
   ],
   "source": [
    "reviews_raw.shape"
   ]
  },
  {
   "cell_type": "code",
   "execution_count": 760,
   "metadata": {},
   "outputs": [],
   "source": [
    "keywords = ['good','fantastic', 'like','best','easy','nice','great','perfect','recommend', 'easier','love'\n",
    "            ,'Beautiful',' satisfied','must have', 'happy','brilliant','well made','adorable','excellent'\n",
    "           ,'priced right','quickly','comfort','sturdy','seamless','helpful','superb','tremendous','best','bargain',\n",
    "            'waste','fool','do not buy','poor','disappoint',' impressed','keen','ideal','winner','favorite','no problem',\n",
    "            'works well','happy','Incredible','wonderful','not good','breaks','cheap','terrible','not','better']\n",
    "for key in keywords:\n",
    "        reviews_raw[str(key)] = reviews_raw.review.str.contains(str(key),\n",
    "        case = False)\n",
    "\n",
    "\n",
    "\n",
    "\n",
    "        "
   ]
  },
  {
   "cell_type": "markdown",
   "metadata": {},
   "source": [
    "Looking at how our reviews_raw data frame looks now, with features added:"
   ]
  },
  {
   "cell_type": "code",
   "execution_count": 761,
   "metadata": {
    "scrolled": true
   },
   "outputs": [
    {
     "data": {
      "text/html": [
       "<div>\n",
       "<style scoped>\n",
       "    .dataframe tbody tr th:only-of-type {\n",
       "        vertical-align: middle;\n",
       "    }\n",
       "\n",
       "    .dataframe tbody tr th {\n",
       "        vertical-align: top;\n",
       "    }\n",
       "\n",
       "    .dataframe thead th {\n",
       "        text-align: right;\n",
       "    }\n",
       "</style>\n",
       "<table border=\"1\" class=\"dataframe\">\n",
       "  <thead>\n",
       "    <tr style=\"text-align: right;\">\n",
       "      <th></th>\n",
       "      <th>review</th>\n",
       "      <th>positive</th>\n",
       "      <th>good</th>\n",
       "      <th>fantastic</th>\n",
       "      <th>like</th>\n",
       "      <th>best</th>\n",
       "      <th>easy</th>\n",
       "      <th>nice</th>\n",
       "      <th>great</th>\n",
       "      <th>perfect</th>\n",
       "      <th>...</th>\n",
       "      <th>no problem</th>\n",
       "      <th>works well</th>\n",
       "      <th>Incredible</th>\n",
       "      <th>wonderful</th>\n",
       "      <th>not good</th>\n",
       "      <th>breaks</th>\n",
       "      <th>cheap</th>\n",
       "      <th>terrible</th>\n",
       "      <th>not</th>\n",
       "      <th>better</th>\n",
       "    </tr>\n",
       "  </thead>\n",
       "  <tbody>\n",
       "    <tr>\n",
       "      <th>0</th>\n",
       "      <td>Good case, Excellent value.</td>\n",
       "      <td>True</td>\n",
       "      <td>True</td>\n",
       "      <td>False</td>\n",
       "      <td>False</td>\n",
       "      <td>False</td>\n",
       "      <td>False</td>\n",
       "      <td>False</td>\n",
       "      <td>False</td>\n",
       "      <td>False</td>\n",
       "      <td>...</td>\n",
       "      <td>False</td>\n",
       "      <td>False</td>\n",
       "      <td>False</td>\n",
       "      <td>False</td>\n",
       "      <td>False</td>\n",
       "      <td>False</td>\n",
       "      <td>False</td>\n",
       "      <td>False</td>\n",
       "      <td>False</td>\n",
       "      <td>False</td>\n",
       "    </tr>\n",
       "    <tr>\n",
       "      <th>1</th>\n",
       "      <td>Great for the jawbone.</td>\n",
       "      <td>True</td>\n",
       "      <td>False</td>\n",
       "      <td>False</td>\n",
       "      <td>False</td>\n",
       "      <td>False</td>\n",
       "      <td>False</td>\n",
       "      <td>False</td>\n",
       "      <td>True</td>\n",
       "      <td>False</td>\n",
       "      <td>...</td>\n",
       "      <td>False</td>\n",
       "      <td>False</td>\n",
       "      <td>False</td>\n",
       "      <td>False</td>\n",
       "      <td>False</td>\n",
       "      <td>False</td>\n",
       "      <td>False</td>\n",
       "      <td>False</td>\n",
       "      <td>False</td>\n",
       "      <td>False</td>\n",
       "    </tr>\n",
       "    <tr>\n",
       "      <th>2</th>\n",
       "      <td>Tied to charger for conversations lasting more...</td>\n",
       "      <td>False</td>\n",
       "      <td>False</td>\n",
       "      <td>False</td>\n",
       "      <td>False</td>\n",
       "      <td>False</td>\n",
       "      <td>False</td>\n",
       "      <td>False</td>\n",
       "      <td>False</td>\n",
       "      <td>False</td>\n",
       "      <td>...</td>\n",
       "      <td>False</td>\n",
       "      <td>False</td>\n",
       "      <td>False</td>\n",
       "      <td>False</td>\n",
       "      <td>False</td>\n",
       "      <td>False</td>\n",
       "      <td>False</td>\n",
       "      <td>False</td>\n",
       "      <td>False</td>\n",
       "      <td>False</td>\n",
       "    </tr>\n",
       "    <tr>\n",
       "      <th>3</th>\n",
       "      <td>The mic is great.</td>\n",
       "      <td>True</td>\n",
       "      <td>False</td>\n",
       "      <td>False</td>\n",
       "      <td>False</td>\n",
       "      <td>False</td>\n",
       "      <td>False</td>\n",
       "      <td>False</td>\n",
       "      <td>True</td>\n",
       "      <td>False</td>\n",
       "      <td>...</td>\n",
       "      <td>False</td>\n",
       "      <td>False</td>\n",
       "      <td>False</td>\n",
       "      <td>False</td>\n",
       "      <td>False</td>\n",
       "      <td>False</td>\n",
       "      <td>False</td>\n",
       "      <td>False</td>\n",
       "      <td>False</td>\n",
       "      <td>False</td>\n",
       "    </tr>\n",
       "    <tr>\n",
       "      <th>4</th>\n",
       "      <td>I have to jiggle the plug to get it to line up...</td>\n",
       "      <td>False</td>\n",
       "      <td>False</td>\n",
       "      <td>False</td>\n",
       "      <td>False</td>\n",
       "      <td>False</td>\n",
       "      <td>False</td>\n",
       "      <td>False</td>\n",
       "      <td>False</td>\n",
       "      <td>False</td>\n",
       "      <td>...</td>\n",
       "      <td>False</td>\n",
       "      <td>False</td>\n",
       "      <td>False</td>\n",
       "      <td>False</td>\n",
       "      <td>False</td>\n",
       "      <td>False</td>\n",
       "      <td>False</td>\n",
       "      <td>False</td>\n",
       "      <td>False</td>\n",
       "      <td>False</td>\n",
       "    </tr>\n",
       "  </tbody>\n",
       "</table>\n",
       "<p>5 rows × 50 columns</p>\n",
       "</div>"
      ],
      "text/plain": [
       "                                              review  positive   good  \\\n",
       "0                        Good case, Excellent value.      True   True   \n",
       "1                             Great for the jawbone.      True  False   \n",
       "2  Tied to charger for conversations lasting more...     False  False   \n",
       "3                                  The mic is great.      True  False   \n",
       "4  I have to jiggle the plug to get it to line up...     False  False   \n",
       "\n",
       "   fantastic   like   best   easy   nice  great  perfect  ...  no problem  \\\n",
       "0      False  False  False  False  False  False    False  ...       False   \n",
       "1      False  False  False  False  False   True    False  ...       False   \n",
       "2      False  False  False  False  False  False    False  ...       False   \n",
       "3      False  False  False  False  False   True    False  ...       False   \n",
       "4      False  False  False  False  False  False    False  ...       False   \n",
       "\n",
       "   works well  Incredible  wonderful  not good  breaks  cheap  terrible  \\\n",
       "0       False       False      False     False   False  False     False   \n",
       "1       False       False      False     False   False  False     False   \n",
       "2       False       False      False     False   False  False     False   \n",
       "3       False       False      False     False   False  False     False   \n",
       "4       False       False      False     False   False  False     False   \n",
       "\n",
       "     not  better  \n",
       "0  False   False  \n",
       "1  False   False  \n",
       "2  False   False  \n",
       "3  False   False  \n",
       "4  False   False  \n",
       "\n",
       "[5 rows x 50 columns]"
      ]
     },
     "execution_count": 761,
     "metadata": {},
     "output_type": "execute_result"
    }
   ],
   "source": [
    "reviews_raw.head()"
   ]
  },
  {
   "cell_type": "code",
   "execution_count": 762,
   "metadata": {
    "scrolled": true
   },
   "outputs": [],
   "source": [
    "# Create two dataframes that will be used to model positive and negative reviews:\n",
    "reviews_pos = reviews_raw.query('positive == True ')\n",
    "reviews_neg = reviews_raw.query('positive == False ')\n"
   ]
  },
  {
   "cell_type": "code",
   "execution_count": 763,
   "metadata": {},
   "outputs": [
    {
     "data": {
      "image/png": "[encoded data removed]",
      "text/plain": [
       "<Figure size 1080x1080 with 2 Axes>"
      ]
     },
     "metadata": {
      "needs_background": "light"
     },
     "output_type": "display_data"
    }
   ],
   "source": [
    "plt.figure(figsize=(15,15))\n",
    "sns.heatmap(reviews_raw.corr())\n",
    "plt.show()"
   ]
  },
  {
   "cell_type": "markdown",
   "metadata": {},
   "source": [
    "Looks like none of the keywords are strongly correlated with each other, demonstrating independence of variables. "
   ]
  },
  {
   "cell_type": "markdown",
   "metadata": {},
   "source": [
    "Before we actually run the model we have to build out our training data. SKLearn required you to specify an outcome (y or dependent variable) and your inputs (x or independent variables). We'll do that below under the titles `data` and `target`"
   ]
  },
  {
   "cell_type": "code",
   "execution_count": 764,
   "metadata": {},
   "outputs": [],
   "source": [
    "data = reviews_raw[keywords]\n",
    "target = reviews_raw['positive']"
   ]
  },
  {
   "cell_type": "code",
   "execution_count": 765,
   "metadata": {
    "scrolled": true
   },
   "outputs": [
    {
     "name": "stdout",
     "output_type": "stream",
     "text": [
      "Number of mislabeled points out of a total 999 points: 195\n",
      "Number of correctly labeled points out of a total 999 points: 804\n"
     ]
    }
   ],
   "source": [
    "# Our data is binary/boolean, so we will be importing the Bernoulli Classifier.\n",
    "from sklearn.naive_bayes import BernoulliNB\n",
    "\n",
    "# Instantiate our model and store it in a new variable. \n",
    "bnb = BernoulliNB()\n",
    "# Fit our model to the data\n",
    "bnb.fit(data, target)\n",
    "# Classify, storing the result in a new variable called y_pred. \n",
    "y_pred = bnb.predict(data)\n",
    "# Display our results\n",
    "print(\"Number of mislabeled points out of a total {} points: {}\".format(\n",
    "    data.shape[0],\n",
    "    (target != y_pred).sum()\n",
    "))\n",
    "print(\"Number of correctly labeled points out of a total {} points: {}\".format(\n",
    "    data.shape[0],\n",
    "    (y_pred == target).sum()\n",
    "))"
   ]
  },
  {
   "cell_type": "markdown",
   "metadata": {},
   "source": [
    "The accuracy of this model is:\n",
    "- Based on mislabeled points: 1 - 195/999 = 80.5%\n",
    "- Based on correctly labeled points: 804/999 = 80.5%\n",
    "\n",
    "</br> looks like 80.5% of the points in the data set were correctly labeled by the model as positive or negative reviews "
   ]
  },
  {
   "attachments": {
    "image.png": {
     "image/png": "[encoded data removed]"
    }
   },
   "cell_type": "markdown",
   "metadata": {},
   "source": [
    "To check how well the model predicted the positive reviews and negative reviews, we will use a confusion matrix to evaluate a models results.\n",
    "\n",
    "For reference: \n",
    "A confusion matrix is a table that is often used to describe the performance of a classification model (or \"classifier\") on a set of test data for which the true values are known. The confusion matrix itself is relatively simple to understand, but the related terminology can be confusing\n",
    "\n",
    "Heres an example of a confusion matrix for a binary classifier (appicable to our case, as we are using the BernoulliNB classifier)\n",
    "\n",
    "![image.png](attachment:image.png)\n"
   ]
  },
  {
   "cell_type": "code",
   "execution_count": 766,
   "metadata": {},
   "outputs": [
    {
     "data": {
      "text/plain": [
       "array([[477,  22],\n",
       "       [173, 327]])"
      ]
     },
     "execution_count": 766,
     "metadata": {},
     "output_type": "execute_result"
    }
   ],
   "source": [
    "from sklearn.metrics import confusion_matrix\n",
    "confusion_matrix(target, y_pred)\n",
    "\n",
    "\n",
    "                # Predicted\n",
    "#Actual        False         True\n",
    "#False      True Neg        False Pos\n",
    "#True         False Neg      True Pos\n"
   ]
  },
  {
   "cell_type": "markdown",
   "metadata": {},
   "source": [
    "Calculating the **Sensitivity**, the percentage of positives correctly identified: \n",
    "\n",
    "(calculated by taking the predicted true positives divided by the number of actual positives)"
   ]
  },
  {
   "cell_type": "code",
   "execution_count": 767,
   "metadata": {},
   "outputs": [
    {
     "name": "stdout",
     "output_type": "stream",
     "text": [
      "Sensitivity:\n",
      "0.654\n"
     ]
    }
   ],
   "source": [
    "print(\"Sensitivity:\")\n",
    "print(327/(327 + 173))"
   ]
  },
  {
   "cell_type": "markdown",
   "metadata": {},
   "source": [
    "Calculating the **Specificity**, the percentage of negatives correctly identified: \n",
    "\n",
    "(Calculated by taking the number of predicted true negatives divided by the number of actual negatives)"
   ]
  },
  {
   "cell_type": "code",
   "execution_count": 768,
   "metadata": {},
   "outputs": [
    {
     "name": "stdout",
     "output_type": "stream",
     "text": [
      "Specificity:\n",
      "0.9559118236472945\n"
     ]
    }
   ],
   "source": [
    "print(\"Specificity:\")\n",
    "print(477/(477+22))"
   ]
  },
  {
   "cell_type": "markdown",
   "metadata": {},
   "source": [
    "## In-sample evaluation and cross-validation"
   ]
  },
  {
   "cell_type": "markdown",
   "metadata": {},
   "source": [
    "### Testing for overfitting: Holdout Groups\n",
    "To combat overfitting (when your model is so excessively complex that it starts to catch random noise instead of describing the true underlying relationships).\n",
    "\n",
    "A holdout group is a reserved amount of data that is used for testing. 30% is a common starting point, but really anything from 50% to 1% of the original dataset could be reasonable"
   ]
  },
  {
   "cell_type": "code",
   "execution_count": 769,
   "metadata": {},
   "outputs": [
    {
     "name": "stdout",
     "output_type": "stream",
     "text": [
      "With 20% Holdout: 0.815\n",
      "Testing on Sample: 0.8048048048048048\n"
     ]
    }
   ],
   "source": [
    "# Test your model with different holdout groups.\n",
    "\n",
    "from sklearn.model_selection import train_test_split\n",
    "# Use train_test_split to create the necessary training and test groups\n",
    "X_train, X_test, y_train, y_test = train_test_split(data, target, test_size=0.2, random_state=20)\n",
    "print('With 20% Holdout: ' + str(bnb.fit(X_train, y_train).score(X_test, y_test)))\n",
    "print('Testing on Sample: ' + str(bnb.fit(data, target).score(data, target)))"
   ]
  },
  {
   "cell_type": "markdown",
   "metadata": {},
   "source": [
    "### Cross-validation:\n",
    "\n",
    "Essentially multiple holdout groups, or **folds**. \n",
    "\n",
    "The way it works is this: start by breaking up your data into several equally sized pieces, or __folds__. Let's say you make _x_ folds. You then go through the training and testing process _x_ times, each time with a different fold held out from the training data and used as the test set. The number of folds you create is up to you, but it will depend on how much data you want in your testing set. At its most extreme, you're creating the same number of folds as you have observations in your data set. This kind of cross validation has a special name: __Leave One Out__. Leave one out is useful if you're worried about single observations skewing your model, whereas large folds combat more general overfitting."
   ]
  },
  {
   "cell_type": "code",
   "execution_count": 770,
   "metadata": {
    "scrolled": false
   },
   "outputs": [
    {
     "data": {
      "text/plain": [
       "array([0.84      , 0.8       , 0.82      , 0.77      , 0.81      ,\n",
       "       0.74      , 0.76      , 0.72      , 0.8       , 0.74747475])"
      ]
     },
     "execution_count": 770,
     "metadata": {},
     "output_type": "execute_result"
    }
   ],
   "source": [
    "from sklearn.model_selection import cross_val_score\n",
    "cross_val_score(bnb, data, target, cv=10)"
   ]
  },
  {
   "cell_type": "markdown",
   "metadata": {},
   "source": [
    "# Challenge: evaluate your sentiment classifier\n",
    "It's time to revisit your classifier from the previous assignment. Using the evaluation techniques we've covered here, look at your classifier's performance in more detail. Then go back and iterate by engineering new features, removing poor features, or tuning parameters. Repeat this process until you have five different versions of your classifier. Once you've iterated, answer these questions to compare the performance of each:\n",
    "- Do any of your classifiers seem to overfit?\n",
    "- Which seem to perform the best? Why?\n",
    "- Which features seemed to be most impactful to performance?"
   ]
  },
  {
   "cell_type": "markdown",
   "metadata": {},
   "source": [
    "### Re-engineering the features:\n",
    "\n",
    "We will be parsing through all the positive and negative reviews and looking at the words most common to each of those reviews. "
   ]
  },
  {
   "cell_type": "code",
   "execution_count": 771,
   "metadata": {},
   "outputs": [],
   "source": [
    "# Grab and process the data:\n",
    "amazon = pd.read_csv('/Users/pbhag/Thinkful/Supervised Learning - Solving Classification Problems/sentiment labelled sentences/amazon_cells_labelled.txt', delimiter = '\\t')\n",
    "amazon.columns = ['review', 'positive']\n",
    "amazon['positive'] = (amazon['positive'] == 1)\n"
   ]
  },
  {
   "cell_type": "code",
   "execution_count": 772,
   "metadata": {
    "scrolled": false
   },
   "outputs": [],
   "source": [
    "# Feature re-engineering:\n",
    "# Preprocessing the reviews:\n",
    "# Frst, lowercase all rows:\n",
    "amazon.review = amazon.review.str.lower()\n",
    "# Then, remove the punctuation from the strings, by creating a table that has the characters we want to remove:\n",
    "table = str.maketrans(\"!?.\\/*()\", 8*\" \") \n",
    "amazon.review = amazon.review.str.translate(table)\n",
    "\n",
    "# Create an array of the words used in positive reviews:\n",
    "# Then, take all the positive reviews and make them one long string and split it:\n",
    "goodwords = amazon.review[amazon.positive == 1].str.cat(sep=\" \").split()\n",
    "\n",
    "# Create another array, of words used in negative reviews:\n",
    "badwords = amazon.review[amazon.positive == 0].str.cat(sep=' ').split()"
   ]
  },
  {
   "cell_type": "code",
   "execution_count": 773,
   "metadata": {},
   "outputs": [
    {
     "name": "stdout",
     "output_type": "stream",
     "text": [
      "Positive: 1222 Negative: 1377\n"
     ]
    }
   ],
   "source": [
    "#Unique words from goodwords and badwords:\n",
    "print('Positive:', len(np.unique(goodwords)), 'Negative:', len(np.unique(badwords)))"
   ]
  },
  {
   "cell_type": "code",
   "execution_count": 774,
   "metadata": {},
   "outputs": [],
   "source": [
    "# Creating arrays that contain lists of words unique to goodwords and badwords\n",
    "# We will use the np.setdiff1d() method, which returns the set difference between \n",
    "# two arrays\n",
    "\n",
    "# Words unique to the good words\n",
    "gooddiff = np.setdiff1d(ar1=pd.Series(goodwords).value_counts().keys(),\n",
    "                        ar2=pd.Series(badwords).value_counts().keys())\n",
    "\n",
    "# Words unique to the bad words\n",
    "baddiff = np.setdiff1d(ar1=pd.Series(badwords).value_counts().keys(),\n",
    "                   ar2=pd.Series(goodwords).value_counts().keys())\n",
    "    \n",
    "    "
   ]
  },
  {
   "cell_type": "code",
   "execution_count": 775,
   "metadata": {
    "scrolled": false
   },
   "outputs": [
    {
     "data": {
      "text/plain": [
       "array(['works', 'best', 'love', 'nice', 'fine', 'definitely', 'awesome',\n",
       "       'sturdy', 'cases', 'pleased', 'perfectly', 'priced', 'seller',\n",
       "       'order', 'charm', 'satisfied', 'seems', 'glad', 'value', 'fast',\n",
       "       'free', 'range', 'family', 'leather', 'keyboard', 'overall,',\n",
       "       'rocks', 'jawbone', 'pc', 'well,', 'sharp', 'features',\n",
       "       'reasonably', 'noise', 'instead', 'setup', 'fantastic',\n",
       "       'comfortably', 'market', 'beautiful', 'handsfree', 'happier'],\n",
       "      dtype=object)"
      ]
     },
     "execution_count": 775,
     "metadata": {},
     "output_type": "execute_result"
    }
   ],
   "source": [
    "# Reduce gooddiff to list of words that occur three or more times:\n",
    "\n",
    "good_df = pd.DataFrame(goodwords)\n",
    "good_freq = good_df[good_df[0].isin(gooddiff)]\n",
    "good_rank = pd.DataFrame(good_freq[0].value_counts()).reset_index()\n",
    "top_good = good_rank[good_rank[0] >= 3]['index']\n",
    "top_good.ravel()"
   ]
  },
  {
   "cell_type": "markdown",
   "metadata": {},
   "source": [
    "Removing the contextual and incidental words from the list, leaving the more descriptively \"good\" words that will be used to predict positive reviews:\n",
    "(removing words like 'cases', 'priced', 'seller', 'order', 'seems', 'free', 'range', 'family', 'leather', 'keyboard', 'overall', 'jawbone', 'pc, 'setup', 'market','instead', 'handsfree', etc)"
   ]
  },
  {
   "cell_type": "code",
   "execution_count": 776,
   "metadata": {},
   "outputs": [],
   "source": [
    "good_key = ['works', 'best', 'love', 'nice', 'fine', 'definitely', 'awesome',\n",
    "            'sturdy', 'pleased', 'perfectly', 'charm', 'satisfied', 'glad', \n",
    "            'value', 'fast', 'free', 'range','rocks', 'well',\n",
    "            'reasonably', 'fantastic','comfortably', 'beautiful', 'happier']"
   ]
  },
  {
   "cell_type": "code",
   "execution_count": 777,
   "metadata": {},
   "outputs": [
    {
     "data": {
      "text/plain": [
       "array(['waste', 'poor', 'worst', 'bad', 'terrible', 'disappointed',\n",
       "       'broke', \"didn't\", 'junk', 'unit', 'crap', 'horrible', 'stay',\n",
       "       'useless', 'difficult', '1', 'disappointing', 'easily', 'return',\n",
       "       'none', 'week', 'anything', 'disappointment', 'goes', 'buying',\n",
       "       'cingular', 'unfortunately', 'unreliable', 'later', 'support',\n",
       "       'weak', 'instructions', 'old', 'mistake', 'hate', 'might', 'break',\n",
       "       'above', 'pay', 'drain', 'slow', 'dead', 'once', 'match', 'sprint',\n",
       "       'dont', 'may', 'poorly', 'turned', 'longer', 'plugged', 'lost',\n",
       "       'beep', 'weeks', 'failed', 'refund', 'care', 'experience', 'sucks',\n",
       "       'player', 'wrong', 'coverage'], dtype=object)"
      ]
     },
     "execution_count": 777,
     "metadata": {},
     "output_type": "execute_result"
    }
   ],
   "source": [
    "# Reduce baddiff into a list of words that occur three or more times\n",
    " \n",
    "bad_df = pd.DataFrame(badwords)\n",
    "bad_freq = bad_df[bad_df[0].isin(baddiff)]\n",
    "bad_rank = pd.DataFrame(bad_freq[0].value_counts()).reset_index()\n",
    "top_bad = bad_rank[bad_rank[0] >= 3]['index']\n",
    "top_bad.ravel()\n"
   ]
  },
  {
   "cell_type": "markdown",
   "metadata": {},
   "source": [
    "Once again, removing contextual and incidental words:"
   ]
  },
  {
   "cell_type": "code",
   "execution_count": 778,
   "metadata": {},
   "outputs": [],
   "source": [
    "bad_key = ['waste', 'poor', 'worst', 'bad', 'terrible', 'disappointed',\n",
    "           'broke', 'junk',  'crap', 'horrible',\n",
    "           'useless', 'difficult', 'disappointing', 'return',\n",
    "           'anything', 'disappointment', 'unfortunately', 'unreliable',\n",
    "           'weak', 'old', 'mistake', 'hate', 'break', 'drain', 'slow', 'dead', \n",
    "           'dont', 'poorly', 'longer', 'lost','failed', \n",
    "           'refund', 'sucks', 'player', 'wrong', \n",
    "          ]"
   ]
  },
  {
   "cell_type": "markdown",
   "metadata": {},
   "source": [
    "### Naive Bayes model, now using re-engineered positive keywords:"
   ]
  },
  {
   "cell_type": "markdown",
   "metadata": {},
   "source": [
    "Now running the features into our model:\n"
   ]
  },
  {
   "cell_type": "code",
   "execution_count": 779,
   "metadata": {},
   "outputs": [],
   "source": [
    "# Create new dataframe with the re-engineered good words:\n",
    "amazon_pos = amazon.copy()\n",
    "for key in good_key:\n",
    "        amazon_pos[str(key)] = amazon_pos.review.str.contains(str(key),\n",
    "        case = False)"
   ]
  },
  {
   "cell_type": "code",
   "execution_count": 780,
   "metadata": {},
   "outputs": [
    {
     "data": {
      "image/png": "[encoded data removed]",
      "text/plain": [
       "<Figure size 720x720 with 2 Axes>"
      ]
     },
     "metadata": {
      "needs_background": "light"
     },
     "output_type": "display_data"
    }
   ],
   "source": [
    "plt.figure(figsize = (10,10))\n",
    "sns.heatmap(amazon_pos.corr())\n",
    "plt.show()"
   ]
  },
  {
   "cell_type": "markdown",
   "metadata": {},
   "source": [
    "Looks like variables are pretty independent, with the exception of some words. "
   ]
  },
  {
   "cell_type": "markdown",
   "metadata": {},
   "source": [
    "Preparing the Bernoulli Naive Bayes arguments:"
   ]
  },
  {
   "cell_type": "code",
   "execution_count": 781,
   "metadata": {},
   "outputs": [
    {
     "name": "stdout",
     "output_type": "stream",
     "text": [
      "\n",
      "\n",
      "Number of mislabeled points out of a total 999 points : 312\n",
      "Cross Validation Scores (10 Folds): [0.75       0.72       0.68       0.68       0.72       0.71\n",
      " 0.62       0.66       0.67       0.64646465]\n",
      "Averaged Cross-Validation Score:  0.6856464646464646\n",
      "Bernoulli Naïve Bayes Score:  0.6876876876876877\n",
      "Confusion Matrix:\n",
      " [[482  17]\n",
      " [295 205]]\n"
     ]
    }
   ],
   "source": [
    "data = amazon_pos[good_key]\n",
    "target = amazon_pos['positive']\n",
    "\n",
    "bnb.fit(data, target)\n",
    "y_pred = bnb.predict(data)\n",
    "\n",
    "\n",
    "print('\\n')\n",
    "print(\"Number of mislabeled points out of a total {} points : {}\".format(\n",
    "       data.shape[0], \n",
    "       (target != y_pred).sum()\n",
    "    ))\n",
    "    \n",
    "cvs = cross_val_score(bnb, data, target, cv=10)\n",
    "print(\"Cross Validation Scores (10 Folds):\", cvs)\n",
    "    \n",
    "print(\"Averaged Cross-Validation Score: \", cvs.mean())\n",
    "    \n",
    "print(\"Bernoulli Naïve Bayes Score: \", bnb.score(data, target))\n",
    "print(\"Confusion Matrix:\\n\", confusion_matrix(target, y_pred))"
   ]
  },
  {
   "cell_type": "markdown",
   "metadata": {},
   "source": [
    "### Naive Bayes, using re-engineered negative keywords:"
   ]
  },
  {
   "cell_type": "code",
   "execution_count": 782,
   "metadata": {},
   "outputs": [],
   "source": [
    "amazon_neg = amazon.copy()\n",
    "\n",
    "for key in bad_key:\n",
    "        amazon_neg[str(key)] = amazon_neg.review.str.contains(str(key),\n",
    "        case = False)"
   ]
  },
  {
   "cell_type": "code",
   "execution_count": 783,
   "metadata": {},
   "outputs": [
    {
     "data": {
      "image/png": "[encoded data removed]",
      "text/plain": [
       "<Figure size 720x720 with 2 Axes>"
      ]
     },
     "metadata": {
      "needs_background": "light"
     },
     "output_type": "display_data"
    }
   ],
   "source": [
    "plt.figure(figsize = (10,10))\n",
    "sns.heatmap(amazon_neg.corr())\n",
    "plt.show()"
   ]
  },
  {
   "cell_type": "markdown",
   "metadata": {},
   "source": [
    "Looks like variables are fairly independent, with the exception of some slightly correlated words. On to the Naive Bayes arguments:\n"
   ]
  },
  {
   "cell_type": "code",
   "execution_count": 784,
   "metadata": {},
   "outputs": [
    {
     "name": "stdout",
     "output_type": "stream",
     "text": [
      "\n",
      "\n",
      "Number of mislabeled points out of a total 999 points : 307\n",
      "Cross Validation Scores (10 Folds): [0.66       0.65       0.75       0.75       0.73       0.68\n",
      " 0.67       0.64       0.72       0.67676768]\n",
      "Averaged Cross-Validation Score:  0.6926767676767677\n",
      "Bernoulli Naïve Bayes Score:  0.6926926926926927\n",
      "Confusion Matrix:\n",
      " [[194 305]\n",
      " [  2 498]]\n"
     ]
    }
   ],
   "source": [
    "data = amazon_neg[bad_key]\n",
    "target = amazon_neg['positive']\n",
    "\n",
    "bnb.fit(data, target)\n",
    "y_pred = bnb.predict(data)\n",
    "\n",
    "\n",
    "\n",
    "print('\\n')\n",
    "print(\"Number of mislabeled points out of a total {} points : {}\".format(\n",
    "       data.shape[0], \n",
    "       (target != y_pred).sum()\n",
    "    ))\n",
    "    \n",
    "cvs = cross_val_score(bnb, data, target, cv=10)\n",
    "print(\"Cross Validation Scores (10 Folds):\", cvs)\n",
    "    \n",
    "print(\"Averaged Cross-Validation Score: \", cvs.mean())\n",
    "    \n",
    "print(\"Bernoulli Naïve Bayes Score: \", bnb.score(data, target))\n",
    "print(\"Confusion Matrix:\\n\", confusion_matrix(target, y_pred))"
   ]
  },
  {
   "cell_type": "code",
   "execution_count": null,
   "metadata": {},
   "outputs": [],
   "source": []
  }
 ],
 "metadata": {
  "kernelspec": {
   "display_name": "Python 3",
   "language": "python",
   "name": "python3"
  },
  "language_info": {
   "codemirror_mode": {
    "name": "ipython",
    "version": 3
   },
   "file_extension": ".py",
   "mimetype": "text/x-python",
   "name": "python",
   "nbconvert_exporter": "python",
   "pygments_lexer": "ipython3",
   "version": "3.7.3"
  }
 },
 "nbformat": 4,
 "nbformat_minor": 2
}
