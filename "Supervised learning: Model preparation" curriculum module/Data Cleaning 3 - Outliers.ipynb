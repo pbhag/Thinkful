{
 "cells": [
  {
   "cell_type": "markdown",
   "metadata": {},
   "source": [
    "# Supervised Learning: Model Preparation - Data Cleaning 3 - Outliers"
   ]
  },
  {
   "cell_type": "markdown",
   "metadata": {},
   "source": [
    "## Assignment: \n",
    "\n",
    "- Working with [U.S. Education Dataset](https://www.kaggle.com/noriuk/us-education-datasets-unification-project/home)"
   ]
  },
  {
   "cell_type": "code",
   "execution_count": 15,
   "metadata": {},
   "outputs": [],
   "source": [
    "import pandas as pd\n",
    "import matplotlib.pyplot as plt\n",
    "from sqlalchemy import create_engine\n",
    "import warnings\n",
    "\n",
    "warnings.filterwarnings('ignore')"
   ]
  },
  {
   "cell_type": "code",
   "execution_count": 16,
   "metadata": {},
   "outputs": [],
   "source": [
    "postgres_user = 'dsbc_student'\n",
    "postgres_pw = '7*.8G9QH21'\n",
    "postgres_host = '142.93.121.174'\n",
    "postgres_port = '5432'\n",
    "postgres_db = 'useducation'\n",
    "\n",
    "engine = create_engine('postgresql://{}:{}@{}:{}/{}'.format(\n",
    "    postgres_user, postgres_pw, postgres_host, postgres_port, postgres_db))\n",
    "\n",
    "education_df = pd.read_sql_query('select * from useducation',con=engine)\n",
    "\n",
    "# no need for an open connection, \n",
    "# as we're only doing a single query\n",
    "engine.dispose()"
   ]
  },
  {
   "cell_type": "markdown",
   "metadata": {},
   "source": [
    "First, we fill in missing values using interpolation:"
   ]
  },
  {
   "cell_type": "code",
   "execution_count": 17,
   "metadata": {},
   "outputs": [],
   "source": [
    "\n",
    "fill_list = [\"ENROLL\", \"TOTAL_REVENUE\", \"FEDERAL_REVENUE\",\n",
    "             \"STATE_REVENUE\", \"LOCAL_REVENUE\", \"TOTAL_EXPENDITURE\",\n",
    "             \"INSTRUCTION_EXPENDITURE\", \"SUPPORT_SERVICES_EXPENDITURE\",\n",
    "             \"OTHER_EXPENDITURE\", \"CAPITAL_OUTLAY_EXPENDITURE\", \"GRADES_PK_G\",\n",
    "             \"GRADES_KG_G\", \"GRADES_4_G\", \"GRADES_8_G\", \"GRADES_12_G\", \"GRADES_1_8_G\",\n",
    "             \"GRADES_9_12_G\", \"GRADES_ALL_G\"]\n",
    "\n",
    "states = education_df[\"STATE\"].unique()\n",
    "\n",
    "for state in states:\n",
    "    education_df.loc[education_df[\"STATE\"] == state, fill_list] = education_df.loc[education_df[\"STATE\"] == state, fill_list].interpolate()\n",
    "\n",
    "# we drop the null values after interpolation\n",
    "education_df.dropna(inplace=True)"
   ]
  },
  {
   "cell_type": "code",
   "execution_count": 33,
   "metadata": {
    "scrolled": true
   },
   "outputs": [
    {
     "data": {
      "text/html": [
       "<div>\n",
       "<style scoped>\n",
       "    .dataframe tbody tr th:only-of-type {\n",
       "        vertical-align: middle;\n",
       "    }\n",
       "\n",
       "    .dataframe tbody tr th {\n",
       "        vertical-align: top;\n",
       "    }\n",
       "\n",
       "    .dataframe thead th {\n",
       "        text-align: right;\n",
       "    }\n",
       "</style>\n",
       "<table border=\"1\" class=\"dataframe\">\n",
       "  <thead>\n",
       "    <tr style=\"text-align: right;\">\n",
       "      <th></th>\n",
       "      <th>PRIMARY_KEY</th>\n",
       "      <th>STATE</th>\n",
       "      <th>YEAR</th>\n",
       "      <th>ENROLL</th>\n",
       "      <th>TOTAL_REVENUE</th>\n",
       "      <th>FEDERAL_REVENUE</th>\n",
       "      <th>STATE_REVENUE</th>\n",
       "      <th>LOCAL_REVENUE</th>\n",
       "      <th>TOTAL_EXPENDITURE</th>\n",
       "      <th>INSTRUCTION_EXPENDITURE</th>\n",
       "      <th>...</th>\n",
       "      <th>GRADES_4_G</th>\n",
       "      <th>GRADES_8_G</th>\n",
       "      <th>GRADES_12_G</th>\n",
       "      <th>GRADES_1_8_G</th>\n",
       "      <th>GRADES_9_12_G</th>\n",
       "      <th>GRADES_ALL_G</th>\n",
       "      <th>AVG_MATH_4_SCORE</th>\n",
       "      <th>AVG_MATH_8_SCORE</th>\n",
       "      <th>AVG_READING_4_SCORE</th>\n",
       "      <th>AVG_READING_8_SCORE</th>\n",
       "    </tr>\n",
       "  </thead>\n",
       "  <tbody>\n",
       "    <tr>\n",
       "      <th>209</th>\n",
       "      <td>1996_ALABAMA</td>\n",
       "      <td>ALABAMA</td>\n",
       "      <td>1996</td>\n",
       "      <td>735912.0</td>\n",
       "      <td>3365113.0</td>\n",
       "      <td>334858.0</td>\n",
       "      <td>2138717.0</td>\n",
       "      <td>891538.0</td>\n",
       "      <td>3572283.0</td>\n",
       "      <td>1987018.0</td>\n",
       "      <td>...</td>\n",
       "      <td>57098.0</td>\n",
       "      <td>58305.0</td>\n",
       "      <td>42510.0</td>\n",
       "      <td>469370.0</td>\n",
       "      <td>207980.0</td>\n",
       "      <td>686983.0</td>\n",
       "      <td>211.646974</td>\n",
       "      <td>256.594863</td>\n",
       "      <td>210.920767</td>\n",
       "      <td>260.276441</td>\n",
       "    </tr>\n",
       "    <tr>\n",
       "      <th>211</th>\n",
       "      <td>1996_ARIZONA</td>\n",
       "      <td>ARIZONA</td>\n",
       "      <td>1996</td>\n",
       "      <td>764681.0</td>\n",
       "      <td>4143304.0</td>\n",
       "      <td>378917.0</td>\n",
       "      <td>1798363.0</td>\n",
       "      <td>1966024.0</td>\n",
       "      <td>4391555.0</td>\n",
       "      <td>1860007.0</td>\n",
       "      <td>...</td>\n",
       "      <td>62793.0</td>\n",
       "      <td>60514.0</td>\n",
       "      <td>42041.0</td>\n",
       "      <td>511925.0</td>\n",
       "      <td>210289.0</td>\n",
       "      <td>726709.0</td>\n",
       "      <td>217.575940</td>\n",
       "      <td>267.874834</td>\n",
       "      <td>206.529788</td>\n",
       "      <td>263.283638</td>\n",
       "    </tr>\n",
       "    <tr>\n",
       "      <th>212</th>\n",
       "      <td>1996_ARKANSAS</td>\n",
       "      <td>ARKANSAS</td>\n",
       "      <td>1996</td>\n",
       "      <td>452907.0</td>\n",
       "      <td>2183384.0</td>\n",
       "      <td>192152.0</td>\n",
       "      <td>1296247.0</td>\n",
       "      <td>694985.0</td>\n",
       "      <td>2297381.0</td>\n",
       "      <td>1264275.0</td>\n",
       "      <td>...</td>\n",
       "      <td>33855.0</td>\n",
       "      <td>37064.0</td>\n",
       "      <td>27613.0</td>\n",
       "      <td>283883.0</td>\n",
       "      <td>131997.0</td>\n",
       "      <td>417860.0</td>\n",
       "      <td>215.846436</td>\n",
       "      <td>261.652745</td>\n",
       "      <td>208.837716</td>\n",
       "      <td>271.834590</td>\n",
       "    </tr>\n",
       "    <tr>\n",
       "      <th>213</th>\n",
       "      <td>1996_CALIFORNIA</td>\n",
       "      <td>CALIFORNIA</td>\n",
       "      <td>1996</td>\n",
       "      <td>5460484.0</td>\n",
       "      <td>31282981.0</td>\n",
       "      <td>2603882.0</td>\n",
       "      <td>17061474.0</td>\n",
       "      <td>11617625.0</td>\n",
       "      <td>31561692.0</td>\n",
       "      <td>16880730.0</td>\n",
       "      <td>...</td>\n",
       "      <td>435217.0</td>\n",
       "      <td>406456.0</td>\n",
       "      <td>298669.0</td>\n",
       "      <td>3516572.0</td>\n",
       "      <td>1525618.0</td>\n",
       "      <td>5115423.0</td>\n",
       "      <td>209.129083</td>\n",
       "      <td>262.772478</td>\n",
       "      <td>201.912591</td>\n",
       "      <td>269.197451</td>\n",
       "    </tr>\n",
       "    <tr>\n",
       "      <th>214</th>\n",
       "      <td>1996_COLORADO</td>\n",
       "      <td>COLORADO</td>\n",
       "      <td>1996</td>\n",
       "      <td>655679.0</td>\n",
       "      <td>3891203.0</td>\n",
       "      <td>194998.0</td>\n",
       "      <td>1664676.0</td>\n",
       "      <td>2031529.0</td>\n",
       "      <td>4075165.0</td>\n",
       "      <td>2052264.0</td>\n",
       "      <td>...</td>\n",
       "      <td>52524.0</td>\n",
       "      <td>52269.0</td>\n",
       "      <td>37179.0</td>\n",
       "      <td>423510.0</td>\n",
       "      <td>185700.0</td>\n",
       "      <td>621730.0</td>\n",
       "      <td>225.805858</td>\n",
       "      <td>275.608214</td>\n",
       "      <td>221.653243</td>\n",
       "      <td>268.168154</td>\n",
       "    </tr>\n",
       "  </tbody>\n",
       "</table>\n",
       "<p>5 rows × 25 columns</p>\n",
       "</div>"
      ],
      "text/plain": [
       "         PRIMARY_KEY       STATE  YEAR     ENROLL  TOTAL_REVENUE  \\\n",
       "209     1996_ALABAMA     ALABAMA  1996   735912.0      3365113.0   \n",
       "211     1996_ARIZONA     ARIZONA  1996   764681.0      4143304.0   \n",
       "212    1996_ARKANSAS    ARKANSAS  1996   452907.0      2183384.0   \n",
       "213  1996_CALIFORNIA  CALIFORNIA  1996  5460484.0     31282981.0   \n",
       "214    1996_COLORADO    COLORADO  1996   655679.0      3891203.0   \n",
       "\n",
       "     FEDERAL_REVENUE  STATE_REVENUE  LOCAL_REVENUE  TOTAL_EXPENDITURE  \\\n",
       "209         334858.0      2138717.0       891538.0          3572283.0   \n",
       "211         378917.0      1798363.0      1966024.0          4391555.0   \n",
       "212         192152.0      1296247.0       694985.0          2297381.0   \n",
       "213        2603882.0     17061474.0     11617625.0         31561692.0   \n",
       "214         194998.0      1664676.0      2031529.0          4075165.0   \n",
       "\n",
       "     INSTRUCTION_EXPENDITURE  ...  GRADES_4_G  GRADES_8_G  GRADES_12_G  \\\n",
       "209                1987018.0  ...     57098.0     58305.0      42510.0   \n",
       "211                1860007.0  ...     62793.0     60514.0      42041.0   \n",
       "212                1264275.0  ...     33855.0     37064.0      27613.0   \n",
       "213               16880730.0  ...    435217.0    406456.0     298669.0   \n",
       "214                2052264.0  ...     52524.0     52269.0      37179.0   \n",
       "\n",
       "     GRADES_1_8_G  GRADES_9_12_G  GRADES_ALL_G  AVG_MATH_4_SCORE  \\\n",
       "209      469370.0       207980.0      686983.0        211.646974   \n",
       "211      511925.0       210289.0      726709.0        217.575940   \n",
       "212      283883.0       131997.0      417860.0        215.846436   \n",
       "213     3516572.0      1525618.0     5115423.0        209.129083   \n",
       "214      423510.0       185700.0      621730.0        225.805858   \n",
       "\n",
       "     AVG_MATH_8_SCORE  AVG_READING_4_SCORE  AVG_READING_8_SCORE  \n",
       "209        256.594863           210.920767           260.276441  \n",
       "211        267.874834           206.529788           263.283638  \n",
       "212        261.652745           208.837716           271.834590  \n",
       "213        262.772478           201.912591           269.197451  \n",
       "214        275.608214           221.653243           268.168154  \n",
       "\n",
       "[5 rows x 25 columns]"
      ]
     },
     "execution_count": 33,
     "metadata": {},
     "output_type": "execute_result"
    }
   ],
   "source": [
    "education_df.head()"
   ]
  },
  {
   "cell_type": "code",
   "execution_count": 39,
   "metadata": {
    "scrolled": true
   },
   "outputs": [
    {
     "data": {
      "text/html": [
       "<div>\n",
       "<style scoped>\n",
       "    .dataframe tbody tr th:only-of-type {\n",
       "        vertical-align: middle;\n",
       "    }\n",
       "\n",
       "    .dataframe tbody tr th {\n",
       "        vertical-align: top;\n",
       "    }\n",
       "\n",
       "    .dataframe thead th {\n",
       "        text-align: right;\n",
       "    }\n",
       "</style>\n",
       "<table border=\"1\" class=\"dataframe\">\n",
       "  <thead>\n",
       "    <tr style=\"text-align: right;\">\n",
       "      <th></th>\n",
       "      <th>ENROLL</th>\n",
       "      <th>TOTAL_REVENUE</th>\n",
       "    </tr>\n",
       "  </thead>\n",
       "  <tbody>\n",
       "    <tr>\n",
       "      <th>211</th>\n",
       "      <td>764681.0</td>\n",
       "      <td>4143304.0</td>\n",
       "    </tr>\n",
       "    <tr>\n",
       "      <th>418</th>\n",
       "      <td>814807.0</td>\n",
       "      <td>5479168.0</td>\n",
       "    </tr>\n",
       "    <tr>\n",
       "      <th>574</th>\n",
       "      <td>875111.0</td>\n",
       "      <td>6529894.0</td>\n",
       "    </tr>\n",
       "    <tr>\n",
       "      <th>678</th>\n",
       "      <td>919875.0</td>\n",
       "      <td>7550109.0</td>\n",
       "    </tr>\n",
       "    <tr>\n",
       "      <th>782</th>\n",
       "      <td>969875.0</td>\n",
       "      <td>8724434.0</td>\n",
       "    </tr>\n",
       "  </tbody>\n",
       "</table>\n",
       "</div>"
      ],
      "text/plain": [
       "       ENROLL  TOTAL_REVENUE\n",
       "211  764681.0      4143304.0\n",
       "418  814807.0      5479168.0\n",
       "574  875111.0      6529894.0\n",
       "678  919875.0      7550109.0\n",
       "782  969875.0      8724434.0"
      ]
     },
     "execution_count": 39,
     "metadata": {},
     "output_type": "execute_result"
    }
   ],
   "source": [
    "education_df.loc[education_df[\"STATE\"] == \"ARIZONA\", [\"ENROLL\", \"TOTAL_REVENUE\"]].head()"
   ]
  },
  {
   "cell_type": "code",
   "execution_count": 47,
   "metadata": {
    "scrolled": true
   },
   "outputs": [
    {
     "data": {
      "text/plain": [
       "211     764681.0\n",
       "418     814807.0\n",
       "574     875111.0\n",
       "678     919875.0\n",
       "782     969875.0\n",
       "889     981303.0\n",
       "995     946571.0\n",
       "1099    941726.0\n",
       "1201    944978.0\n",
       "1449    938274.0\n",
       "Name: ENROLL, dtype: float64"
      ]
     },
     "execution_count": 47,
     "metadata": {},
     "output_type": "execute_result"
    }
   ],
   "source": [
    "education_df.loc[education_df.STATE == \"ARIZONA\", \"ENROLL\"].interpolate()"
   ]
  },
  {
   "cell_type": "code",
   "execution_count": 46,
   "metadata": {},
   "outputs": [
    {
     "data": {
      "text/plain": [
       "211     764681.0\n",
       "212     452907.0\n",
       "213    5460484.0\n",
       "214     655679.0\n",
       "215     499815.0\n",
       "217      79802.0\n",
       "218    2175352.0\n",
       "220     187104.0\n",
       "224     502343.0\n",
       "Name: ENROLL, dtype: float64"
      ]
     },
     "execution_count": 46,
     "metadata": {},
     "output_type": "execute_result"
    }
   ],
   "source": [
    "education_df.iloc[1:10, 3]"
   ]
  },
  {
   "cell_type": "markdown",
   "metadata": {},
   "source": [
    "### 1. Consider the two variables: *TOTAL_REVENUE* and *TOTAL_EXPENDITURE*. Do these variables have outlier values?"
   ]
  },
  {
   "cell_type": "markdown",
   "metadata": {},
   "source": [
    "Plotting the TOTAL_REVENUE and TOTAL_EXPENDITURE variables as boxplots: "
   ]
  },
  {
   "cell_type": "code",
   "execution_count": 18,
   "metadata": {},
   "outputs": [
    {
     "data": {
      "image/png": "[encoded data removed]",
      "text/plain": [
       "<Figure size 1080x360 with 2 Axes>"
      ]
     },
     "metadata": {
      "needs_background": "light"
     },
     "output_type": "display_data"
    }
   ],
   "source": [
    "\n",
    "plt.figure(figsize = (15,5))\n",
    "\n",
    "plt.subplot(1,2,1)\n",
    "plt.boxplot(education_df[\"TOTAL_REVENUE\"], whis = 5)\n",
    "plt.title(\"Box plot of total revenue\")\n",
    "\n",
    "plt.subplot(1,2,2)\n",
    "plt.boxplot(education_df[\"TOTAL_EXPENDITURE\"], whis = 5)\n",
    "plt.title(\"Box plot of total expenditure\")\n",
    "plt.show()"
   ]
  },
  {
   "cell_type": "markdown",
   "metadata": {},
   "source": [
    "The points above the whiskers in the boxplots indicate outliers in both variables, TOTAL_REVENUE and TOTAL_EXPENDITURE"
   ]
  },
  {
   "cell_type": "markdown",
   "metadata": {},
   "source": [
    "### 2. If you detect outliers in the TOTAL_REVENUE and TOTAL_EXPENDITURE variables, apply the techniques you learned in this checkpoint to eliminate them and validate that there's no outlier values after you handled them."
   ]
  },
  {
   "cell_type": "markdown",
   "metadata": {},
   "source": [
    "From the course material: \n",
    "\n",
    "One common way of limiting the outlier values is called **winsorization**. Winsorization can be applied in *one-way* or *two-way* techniques. In one-way winsorization, we either limit the lowest end of the value distribution or the highest end. In two-way winsorization, we set both the lowest end and the highest end. \n",
    "\n",
    "The idea in winsorization is to set the values of the extreme points to the value of a specified percentile. For example, we may set the values of the highest end of the distribution to the value of the $95^{th}$ percentile. Similary, we can set the values of the lowest end to the value of the $5^{th}$ percentile.\n",
    "\n",
    "We can winsorize a variable using scipy's `winsorize()` method."
   ]
  },
  {
   "cell_type": "code",
   "execution_count": 19,
   "metadata": {},
   "outputs": [],
   "source": [
    "from scipy.stats.mstats import winsorize\n",
    "\n",
    "# Winsorizing the values - limiting the distributions to the 95th percentile:\n",
    "\n",
    "winsorized_revenue = winsorize(education_df[\"TOTAL_REVENUE\"], (0, 0.05))\n",
    "\n",
    "winsorized_expenditure = winsorize(education_df[\"TOTAL_EXPENDITURE\"], (0, 0.05))"
   ]
  },
  {
   "cell_type": "code",
   "execution_count": 20,
   "metadata": {},
   "outputs": [
    {
     "data": {
      "image/png": "[encoded data removed]",
      "text/plain": [
       "<Figure size 1080x360 with 2 Axes>"
      ]
     },
     "metadata": {
      "needs_background": "light"
     },
     "output_type": "display_data"
    }
   ],
   "source": [
    "plt.figure(figsize = (15,5))\n",
    "\n",
    "plt.subplot(1,2,1)\n",
    "plt.boxplot(winsorized_revenue, whis = 5)\n",
    "plt.title(\"Box plot of winsorized total revenue\")\n",
    "\n",
    "plt.subplot(1,2,2)\n",
    "plt.boxplot(winsorized_expenditure, whis = 5)\n",
    "plt.title(\"Box plot of winsorized total expenditure\")\n",
    "plt.show()"
   ]
  },
  {
   "cell_type": "markdown",
   "metadata": {},
   "source": [
    "Looks like the outliers above the upper whiskers are gone, now the values in the distribution are capped at the 95th percentile"
   ]
  },
  {
   "cell_type": "markdown",
   "metadata": {},
   "source": [
    "### 3. Create another variable by subtracting the original TOTAL_EXPENDITURE from TOTAL_REVENUE (before you eliminated the outliers). You can think of it as a kind of budget deficit in education. Do you find any outlier values in this new variable? If so, eliminate them using the technique you think most suitable."
   ]
  },
  {
   "cell_type": "code",
   "execution_count": 21,
   "metadata": {},
   "outputs": [],
   "source": [
    "# Creating budget_deficit:\n",
    "budget_deficit = education_df.TOTAL_REVENUE - education_df.TOTAL_EXPENDITURE"
   ]
  },
  {
   "cell_type": "code",
   "execution_count": 22,
   "metadata": {},
   "outputs": [
    {
     "data": {
      "image/png": "[encoded data removed]",
      "text/plain": [
       "<Figure size 432x288 with 1 Axes>"
      ]
     },
     "metadata": {
      "needs_background": "light"
     },
     "output_type": "display_data"
    }
   ],
   "source": [
    "plt.boxplot(budget_deficit, whis = 5)\n",
    "plt.show()"
   ]
  },
  {
   "cell_type": "markdown",
   "metadata": {},
   "source": [
    "Looks like we have outliers above and below the quantiles. Time to winsorize to the 5th and 95th percentile:"
   ]
  },
  {
   "cell_type": "code",
   "execution_count": 23,
   "metadata": {},
   "outputs": [],
   "source": [
    "winsorized_budget = winsorize(budget_deficit, (0.05, 0.05))"
   ]
  },
  {
   "cell_type": "code",
   "execution_count": 25,
   "metadata": {},
   "outputs": [
    {
     "data": {
      "image/png": "[encoded data removed]",
      "text/plain": [
       "<Figure size 432x288 with 1 Axes>"
      ]
     },
     "metadata": {
      "needs_background": "light"
     },
     "output_type": "display_data"
    }
   ],
   "source": [
    "plt.boxplot(winsorized_budget, whis = 5)\n",
    "plt.show()"
   ]
  },
  {
   "cell_type": "markdown",
   "metadata": {},
   "source": [
    "### 4. Now create another variable by subtracting the TOTAL_EXPENDITURE from TOTAL_REVENUE. But this time, use the outlier eliminated versions of TOTAL_EXPENDITURE from TOTAL_REVENUE. In this newly created variable, can you find any outliers? If so, eliminate them."
   ]
  },
  {
   "cell_type": "code",
   "execution_count": 26,
   "metadata": {},
   "outputs": [],
   "source": [
    "budget_deficit2 = winsorized_revenue - winsorized_expenditure\n"
   ]
  },
  {
   "cell_type": "code",
   "execution_count": 27,
   "metadata": {},
   "outputs": [
    {
     "data": {
      "text/plain": [
       "Text(0.5, 1.0, 'Box plot of budget deficit 2')"
      ]
     },
     "execution_count": 27,
     "metadata": {},
     "output_type": "execute_result"
    },
    {
     "data": {
      "image/png": "[encoded data removed]",
      "text/plain": [
       "<Figure size 432x288 with 1 Axes>"
      ]
     },
     "metadata": {
      "needs_background": "light"
     },
     "output_type": "display_data"
    }
   ],
   "source": [
    "plt.boxplot(budget_deficit2, whis = 5)\n",
    "plt.title(\"Box plot of budget deficit 2\")\n"
   ]
  },
  {
   "cell_type": "code",
   "execution_count": 29,
   "metadata": {},
   "outputs": [],
   "source": [
    "winsorized_budget2 = winsorize(budget_deficit2, (0.05, 0.05))\n"
   ]
  },
  {
   "cell_type": "code",
   "execution_count": 30,
   "metadata": {},
   "outputs": [
    {
     "data": {
      "text/plain": [
       "Text(0.5, 1.0, 'Box plot of budget deficit 2')"
      ]
     },
     "execution_count": 30,
     "metadata": {},
     "output_type": "execute_result"
    },
    {
     "data": {
      "image/png": "[encoded data removed]",
      "text/plain": [
       "<Figure size 432x288 with 1 Axes>"
      ]
     },
     "metadata": {
      "needs_background": "light"
     },
     "output_type": "display_data"
    }
   ],
   "source": [
    "# Eliminataing the outliers with winsorization:\n",
    "\n",
    "plt.boxplot(winsorized_budget2, whis = 5)\n",
    "plt.title(\"Box plot of budget deficit 2\")"
   ]
  },
  {
   "cell_type": "markdown",
   "metadata": {},
   "source": [
    "The remaining outliers in can be eliminated with a increased lower bound for our winsorization function"
   ]
  },
  {
   "cell_type": "markdown",
   "metadata": {},
   "source": [
    "### 5. Compare some basic statistics of the budget variables you end up with in the third and the fourth questions. Do you see any differences?"
   ]
  },
  {
   "cell_type": "code",
   "execution_count": 31,
   "metadata": {},
   "outputs": [
    {
     "data": {
      "text/html": [
       "<div>\n",
       "<style scoped>\n",
       "    .dataframe tbody tr th:only-of-type {\n",
       "        vertical-align: middle;\n",
       "    }\n",
       "\n",
       "    .dataframe tbody tr th {\n",
       "        vertical-align: top;\n",
       "    }\n",
       "\n",
       "    .dataframe thead th {\n",
       "        text-align: right;\n",
       "    }\n",
       "</style>\n",
       "<table border=\"1\" class=\"dataframe\">\n",
       "  <thead>\n",
       "    <tr style=\"text-align: right;\">\n",
       "      <th></th>\n",
       "      <th>original_budget</th>\n",
       "      <th>winsorized_budget1</th>\n",
       "      <th>winsorized_budget2</th>\n",
       "    </tr>\n",
       "  </thead>\n",
       "  <tbody>\n",
       "    <tr>\n",
       "      <th>count</th>\n",
       "      <td>4.660000e+02</td>\n",
       "      <td>466.000000</td>\n",
       "      <td>4.660000e+02</td>\n",
       "    </tr>\n",
       "    <tr>\n",
       "      <th>mean</th>\n",
       "      <td>-8.094882e+04</td>\n",
       "      <td>-58733.012876</td>\n",
       "      <td>-1.720532e+05</td>\n",
       "    </tr>\n",
       "    <tr>\n",
       "      <th>std</th>\n",
       "      <td>6.144222e+05</td>\n",
       "      <td>341300.816505</td>\n",
       "      <td>6.509561e+05</td>\n",
       "    </tr>\n",
       "    <tr>\n",
       "      <th>min</th>\n",
       "      <td>-5.487742e+06</td>\n",
       "      <td>-913765.000000</td>\n",
       "      <td>-2.518429e+06</td>\n",
       "    </tr>\n",
       "    <tr>\n",
       "      <th>25%</th>\n",
       "      <td>-1.965748e+05</td>\n",
       "      <td>-196574.750000</td>\n",
       "      <td>-2.047750e+05</td>\n",
       "    </tr>\n",
       "    <tr>\n",
       "      <th>50%</th>\n",
       "      <td>-8.872500e+03</td>\n",
       "      <td>-8872.500000</td>\n",
       "      <td>-1.282350e+04</td>\n",
       "    </tr>\n",
       "    <tr>\n",
       "      <th>75%</th>\n",
       "      <td>1.013948e+05</td>\n",
       "      <td>101394.750000</td>\n",
       "      <td>9.826300e+04</td>\n",
       "    </tr>\n",
       "    <tr>\n",
       "      <th>max</th>\n",
       "      <td>3.897129e+06</td>\n",
       "      <td>560511.000000</td>\n",
       "      <td>5.400550e+05</td>\n",
       "    </tr>\n",
       "  </tbody>\n",
       "</table>\n",
       "</div>"
      ],
      "text/plain": [
       "       original_budget  winsorized_budget1  winsorized_budget2\n",
       "count     4.660000e+02          466.000000        4.660000e+02\n",
       "mean     -8.094882e+04       -58733.012876       -1.720532e+05\n",
       "std       6.144222e+05       341300.816505        6.509561e+05\n",
       "min      -5.487742e+06      -913765.000000       -2.518429e+06\n",
       "25%      -1.965748e+05      -196574.750000       -2.047750e+05\n",
       "50%      -8.872500e+03        -8872.500000       -1.282350e+04\n",
       "75%       1.013948e+05       101394.750000        9.826300e+04\n",
       "max       3.897129e+06       560511.000000        5.400550e+05"
      ]
     },
     "execution_count": 31,
     "metadata": {},
     "output_type": "execute_result"
    }
   ],
   "source": [
    "pd.DataFrame({\"original_budget\": budget_deficit, \"winsorized_budget1\": winsorized_budget,\n",
    "              \"winsorized_budget2\": winsorized_budget2}).describe()"
   ]
  },
  {
   "cell_type": "markdown",
   "metadata": {},
   "source": [
    "For almost all critical statistics, the two variables differ substantially. For example:\n",
    "\n",
    "1. The mean of the first variant is -61210.33 whereas the mean of the second variant is -173636.\n",
    "\n",
    "2. The median of the first variant is -12823.5 whereas the median of the second variant is -14600.5.\n",
    "\n",
    "3. The maximum of the first variant is 560511 whereas the maximum of the second variant is 540055.\n",
    "\n",
    "The differences imply that chosing the outlier elimination strategy is very critical as it substantially affects the statistics of the variables!"
   ]
  },
  {
   "cell_type": "markdown",
   "metadata": {},
   "source": [
    "### 6. If our variable of interest is the budget deficit variable, which method do you think is the most appropriate one in dealing with the outliers in this variable. The method in the third question or the one in the fourth question?"
   ]
  },
  {
   "cell_type": "markdown",
   "metadata": {},
   "source": [
    "Sometimes, differencing may help us to eliminate the outliers. So, it's better to first create a variable from the originals and then to apply outlier elimination techniques next. Hence, the approach in the third question is more desirable in most of the cases."
   ]
  },
  {
   "cell_type": "code",
   "execution_count": null,
   "metadata": {},
   "outputs": [],
   "source": []
  }
 ],
 "metadata": {
  "kernelspec": {
   "display_name": "Python 3",
   "language": "python",
   "name": "python3"
  },
  "language_info": {
   "codemirror_mode": {
    "name": "ipython",
    "version": 3
   },
   "file_extension": ".py",
   "mimetype": "text/x-python",
   "name": "python",
   "nbconvert_exporter": "python",
   "pygments_lexer": "ipython3",
   "version": "3.7.3"
  }
 },
 "nbformat": 4,
 "nbformat_minor": 2
}
