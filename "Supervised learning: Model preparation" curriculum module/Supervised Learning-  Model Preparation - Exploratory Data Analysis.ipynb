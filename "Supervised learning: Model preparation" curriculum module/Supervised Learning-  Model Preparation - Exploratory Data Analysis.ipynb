{
 "cells": [
  {
   "cell_type": "markdown",
   "metadata": {},
   "source": [
    "# Supervised Learning: Model Preparation - Exploratory Data Analysis\n",
    "## Assignment\n"
   ]
  },
  {
   "cell_type": "markdown",
   "metadata": {},
   "source": [
    "#### 1. What is the goal of exploratory data analysis?\n",
    "\n",
    "The goal of exploratory data analysis is to understand the data and find the relevant features that help explain our variable of interest."
   ]
  },
  {
   "cell_type": "markdown",
   "metadata": {},
   "source": [
    "#### 2. Suppose that you are given a dataset of customer product reviews for an e-commerce company. Each review is scored as a Likert-style survey item where 1 indicates a negative sentiment about the product and 5 a positive. These reviews are collected on the company's website.\n",
    "   \n",
    "- a. What problems do you expect to find in the raw data? \n",
    "    - Attitudes of the population for one particular item in reality exist on a vast, multi-dimensional continuum. However, the Likert Scale is uni-dimensional and only gives 5-7 options of choice, and the space between each choice cannot possibly be equidistant. Therefore, it fails to measure the true attitudes of respondents. Also, it is not unlikely that peoples’ answers will be influences by previous questions, or will heavily concentrate on one response side (agree/disagree). Frequently, people avoid choosing the “extremes” options on the scale, because of the negative implications involved with “extremists”, even if an extreme choice would be the most accurate.\n",
    "- b. If your task is to build features that give information about customer sentiments, how would you approach to this task and what kind of methods can you apply to accomplish it?\n",
    "    - Feature Engineering Likert Scale data: \n",
    "        - Need to go into this example more. \n",
    "- c. Try to identify some potential useful features that you might derive from the raw data. How would you derive them and how would you assess the usefulness of those features?\n",
    "    - Look at the frequency of each response value to get a better idea if your respondents tend to be more polar or in unison in their sentiment."
   ]
  },
  {
   "cell_type": "code",
   "execution_count": null,
   "metadata": {},
   "outputs": [],
   "source": []
  }
 ],
 "metadata": {
  "kernelspec": {
   "display_name": "Python 3",
   "language": "python",
   "name": "python3"
  },
  "language_info": {
   "codemirror_mode": {
    "name": "ipython",
    "version": 3
   },
   "file_extension": ".py",
   "mimetype": "text/x-python",
   "name": "python",
   "nbconvert_exporter": "python",
   "pygments_lexer": "ipython3",
   "version": "3.7.3"
  }
 },
 "nbformat": 4,
 "nbformat_minor": 2
}
