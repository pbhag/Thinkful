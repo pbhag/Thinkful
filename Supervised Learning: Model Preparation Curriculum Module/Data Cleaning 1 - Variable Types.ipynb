{
 "cells": [
  {
   "cell_type": "markdown",
   "metadata": {},
   "source": [
    "## Assignment\n",
    "\n",
    "You will see the benefits of transforming continuous variables into categorical variables when we begin to model the data. For now, let's continue to pratice identifying variable types.\n",
    "\n",
    "1. Consider the advantages and disadvantages of treating the *Rank* variable as categorical. Discuss your arguments with your mentor.\n",
    "    - If we treat rank as categorical, then we give up the information in the distances between the ranks and treat each rank as a seperate category with an ordinal relationship. In this sense, we lose some information (the meaning of the distances between the ranks). However, this may be advantageous in some cases.\n",
    "2. What are the types of the following variables?\n",
    "    * Age\n",
    "        - Can be a continuous ratio variable, as age can indicate rank and distance, and has a meaningful absolute zero value. Can also be a categorical ordinal variable, as data points can be ranked according to age or placed in age groups. \n",
    "    * Salary\n",
    "        - Continuous ratio variable. \n",
    "    * Revenue\n",
    "        - Continouous ratio variable.\n",
    "    * Customer type\n",
    "        - Nominal categorical variable. \n",
    "    * Stock price\n",
    "        - Continous ratio variable"
   ]
  }
 ],
 "metadata": {
  "kernelspec": {
   "display_name": "Python 3",
   "language": "python",
   "name": "python3"
  },
  "language_info": {
   "codemirror_mode": {
    "name": "ipython",
    "version": 3
   },
   "file_extension": ".py",
   "mimetype": "text/x-python",
   "name": "python",
   "nbconvert_exporter": "python",
   "pygments_lexer": "ipython3",
   "version": "3.7.3"
  }
 },
 "nbformat": 4,
 "nbformat_minor": 2
}
