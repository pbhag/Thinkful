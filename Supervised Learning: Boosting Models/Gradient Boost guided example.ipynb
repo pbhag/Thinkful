{
 "cells": [
  {
   "cell_type": "code",
   "execution_count": 1,
   "metadata": {},
   "outputs": [],
   "source": [
    "import pandas as pd\n",
    "import numpy as np\n",
    "import scipy\n",
    "import matplotlib.pyplot as plt\n",
    "%matplotlib inline\n",
    "\n",
    "from sklearn import ensemble\n",
    "from sklearn import datasets\n",
    "from sklearn.utils import shuffle\n",
    "from sklearn.metrics import mean_squared_error"
   ]
  },
  {
   "cell_type": "markdown",
   "metadata": {},
   "source": [
    "### Gradient boost guided example\n",
    "\n",
    "Having walked through gradient boost by hand, now let's try it with SKlearn.  We'll still use the European Social Survey Data, but now with a categorical outcome: Whether or not someone lives with a partner."
   ]
  },
  {
   "cell_type": "code",
   "execution_count": 54,
   "metadata": {},
   "outputs": [],
   "source": [
    "df = pd.read_csv((\n",
    "    \"https://raw.githubusercontent.com/Thinkful-Ed/data-201-resources/\"\n",
    "    \"master/ESS_practice_data/ESSdata_Thinkful.csv\")).dropna()\n",
    "\n",
    "# Definine outcome and predictors.\n",
    "# Set our outcome to 0 and 1.\n",
    "y = df['partner'] - 1\n",
    "X = df.loc[:, ~df.columns.isin(['partner', 'cntry', 'idno'])]\n",
    "\n",
    "# Make the categorical variable 'country' into dummies.\n",
    "X = pd.concat([X, pd.get_dummies(df['cntry'])], axis=1)\n",
    "\n",
    "# Create training and test sets.\n",
    "offset = int(X.shape[0] * 0.9)\n",
    "\n",
    "# Put 90% of the data in the training set.\n",
    "X_train, y_train = X[:offset], y[:offset]\n",
    "\n",
    "# And put 10% in the test set.\n",
    "X_test, y_test = X[offset:], y[offset:]"
   ]
  },
  {
   "cell_type": "code",
   "execution_count": 56,
   "metadata": {},
   "outputs": [
    {
     "data": {
      "text/plain": [
       "array([1., 2.])"
      ]
     },
     "execution_count": 56,
     "metadata": {},
     "output_type": "execute_result"
    }
   ],
   "source": [
    "df.partner.unique()"
   ]
  },
  {
   "cell_type": "code",
   "execution_count": 52,
   "metadata": {},
   "outputs": [
    {
     "data": {
      "text/plain": [
       "(8147, 13)"
      ]
     },
     "execution_count": 52,
     "metadata": {},
     "output_type": "execute_result"
    }
   ],
   "source": [
    "df.shape"
   ]
  },
  {
   "cell_type": "code",
   "execution_count": 81,
   "metadata": {},
   "outputs": [
    {
     "name": "stdout",
     "output_type": "stream",
     "text": [
      "<class 'pandas.core.frame.DataFrame'>\n",
      "Int64Index: 8147 entries, 0 to 8593\n",
      "Data columns (total 13 columns):\n",
      "cntry      8147 non-null object\n",
      "idno       8147 non-null float64\n",
      "year       8147 non-null int64\n",
      "tvtot      8147 non-null float64\n",
      "ppltrst    8147 non-null float64\n",
      "pplfair    8147 non-null float64\n",
      "pplhlp     8147 non-null float64\n",
      "happy      8147 non-null float64\n",
      "sclmeet    8147 non-null float64\n",
      "sclact     8147 non-null float64\n",
      "gndr       8147 non-null float64\n",
      "agea       8147 non-null float64\n",
      "partner    8147 non-null float64\n",
      "dtypes: float64(11), int64(1), object(1)\n",
      "memory usage: 891.1+ KB\n"
     ]
    }
   ],
   "source": [
    "df.info()"
   ]
  },
  {
   "cell_type": "markdown",
   "metadata": {},
   "source": [
    "Since we're now working with a binary outcome, we've switched to a classifier.  Now our loss function can't be the residuals.  Our options are \"deviance\", or \"exponential\".  Deviance is used for logistic regression, and we'll try that here.\n",
    "\n",
    "- Switch to classifier since outcome is binary\n",
    "- Loss function can't be residuals like with regressor\n",
    "- Loss function options are deviance or exponentia"
   ]
  },
  {
   "cell_type": "code",
   "execution_count": 46,
   "metadata": {
    "scrolled": false
   },
   "outputs": [
    {
     "name": "stdout",
     "output_type": "stream",
     "text": [
      "\n",
      "\n",
      "Baseline results:\n",
      "\n",
      "Training set accuracy:\n",
      "R^2 score: 0.7774140752864157\n",
      "Percent Type I errors: 0.04650845608292417\n",
      "Percent Type II errors: 0.17607746863066012\n",
      "\n",
      "Test set accuracy:\n",
      "R^2 score: 0.7521472392638037\n",
      "Percent Type I errors: 0.06257668711656442\n",
      "Percent Type II errors: 0.18527607361963191\n"
     ]
    }
   ],
   "source": [
    "# We'll make 500 iterations, use 2-deep trees, and set our loss function.\n",
    "params = {'n_estimators': 500,\n",
    "          'max_depth': 2,\n",
    "          'loss': 'deviance'}\n",
    "\n",
    "# Initialize and fit the model.\n",
    "clf = ensemble.GradientBoostingClassifier(**params)\n",
    "clf.fit(X_train, y_train)\n",
    "\n",
    "predict_train = clf.predict(X_train)\n",
    "predict_test = clf.predict(X_test)\n",
    "\n",
    "# Performance/variance check:\n",
    "train_score = clf.score(X_train, y_train)\n",
    "test_score = clf.score(X_test, y_test)\n",
    "# Accuracy tables.\n",
    "table_train = pd.crosstab(y_train, predict_train, margins=True)\n",
    "table_test = pd.crosstab(y_test, predict_test, margins=True)\n",
    "\n",
    "train_tI_errors = table_train.loc[0.0,1.0] / table_train.loc['All','All']\n",
    "train_tII_errors = table_train.loc[1.0,0.0] / table_train.loc['All','All']\n",
    "\n",
    "test_tI_errors = table_test.loc[0.0,1.0]/table_test.loc['All','All']\n",
    "test_tII_errors = table_test.loc[1.0,0.0]/table_test.loc['All','All']\n",
    "\n",
    "\n",
    "print('\\n\\nBaseline results:\\n')\n",
    "print((\n",
    "    'Training set accuracy:\\n'\n",
    "    'R^2 score: {}\\n'\n",
    "    'Percent Type I errors: {}\\n'\n",
    "    'Percent Type II errors: {}\\n\\n'\n",
    "    'Test set accuracy:\\n'\n",
    "    'R^2 score: {}\\n'\n",
    "    'Percent Type I errors: {}\\n'\n",
    "    'Percent Type II errors: {}'\n",
    ").format(train_score, train_tI_errors, train_tII_errors,\n",
    "         test_score, test_tI_errors, test_tII_errors))"
   ]
  },
  {
   "cell_type": "markdown",
   "metadata": {},
   "source": [
    "Unlike decision trees, gradient boost solutions are not terribly easy to interpret on the surface.  But they aren't quite a black box.  We can get a measure of how important various features are by counting how many times a feature is used over the course of many decision trees."
   ]
  },
  {
   "cell_type": "code",
   "execution_count": 14,
   "metadata": {},
   "outputs": [
    {
     "data": {
      "image/png": "[encoded data removed]",
      "text/plain": [
       "<Figure size 432x288 with 1 Axes>"
      ]
     },
     "metadata": {
      "needs_background": "light"
     },
     "output_type": "display_data"
    }
   ],
   "source": [
    "feature_importance = clf.feature_importances_\n",
    "\n",
    "# Make importances relative to max importance.\n",
    "feature_importance = 100.0 * (feature_importance / feature_importance.max())\n",
    "sorted_idx = np.argsort(feature_importance)\n",
    "pos = np.arange(sorted_idx.shape[0]) + .5\n",
    "plt.subplot(1, 2, 2)\n",
    "plt.barh(pos, feature_importance[sorted_idx], align='center')\n",
    "plt.yticks(pos, X.columns[sorted_idx])\n",
    "plt.xlabel('Relative Importance')\n",
    "plt.title('Variable Importance')\n",
    "plt.show()"
   ]
  },
  {
   "cell_type": "markdown",
   "metadata": {},
   "source": [
    "### DRILL: Improve this gradient boost model\n",
    "\n",
    "While this model is already doing alright, we've seen from the Type I and Type II error rates that there is definitely room for improvement.  Your task is to see how low you can get the error rates to go in the test set, based on your model in the training set.  Strategies you might use include:\n",
    "\n",
    "* Creating new features\n",
    "* Applying more overfitting-prevention strategies like subsampling\n",
    "* More iterations\n",
    "* Trying a different loss function\n",
    "* Changing the structure of the weak learner: Allowing more leaves in the tree, or other modifications"
   ]
  },
  {
   "cell_type": "markdown",
   "metadata": {},
   "source": [
    "### Adjusting parameters:"
   ]
  },
  {
   "cell_type": "code",
   "execution_count": 47,
   "metadata": {},
   "outputs": [
    {
     "name": "stdout",
     "output_type": "stream",
     "text": [
      "Baseline results:\n",
      "\n",
      "Training set accuracy:\n",
      "R^2 score: 0.7774140752864157\n",
      "Percent Type I errors: 0.04650845608292417\n",
      "Percent Type II errors: 0.17607746863066012\n",
      "\n",
      "Test set accuracy:\n",
      "R^2 score: 0.7521472392638037\n",
      "Percent Type I errors: 0.06257668711656442\n",
      "Percent Type II errors: 0.18527607361963191\n",
      "\n",
      "Current results:\n",
      "\n",
      "Training set accuracy:\n",
      "R^2 score: 0.9079378068739771\n",
      "Percent Type I errors: 0.011320240043644299\n",
      "Percent Type II errors: 0.08074195308237861\n",
      "\n",
      "Test set accuracy:\n",
      "R^2 score: 0.7153374233128834\n",
      "Percent Type I errors: 0.10429447852760736\n",
      "Percent Type II errors: 0.18036809815950922\n"
     ]
    }
   ],
   "source": [
    "\n",
    "#increase iterations from 500 to 1000\n",
    "#increase max depth from 2 to 4\n",
    "#change loss function from deviance to exponential\n",
    "params1 = {'n_estimators': 1000,\n",
    "           'max_depth':4,\n",
    "           'loss':'deviance'}\n",
    "\n",
    "#updated model, predictions, and accuracy calculations\n",
    "clf1 = ensemble.GradientBoostingClassifier(**params1)\n",
    "clf1.fit(X_train,y_train)\n",
    "\n",
    "predict_train1 = clf1.predict(X_train)\n",
    "predict_test1 = clf1.predict(X_test)\n",
    "\n",
    "train_score1 = clf1.score(X_train, y_train)\n",
    "test_score1 = clf1.score(X_test, y_test)\n",
    "\n",
    "table_train1 = pd.crosstab(y_train, predict_train1, margins=True)\n",
    "table_test1 = pd.crosstab(y_test, predict_test1, margins=True)\n",
    "\n",
    "train_tI_errors1 = table_train1.loc[0.0,1.0] / table_train1.loc['All','All']\n",
    "train_tII_errors1 = table_train1.loc[1.0,0.0] / table_train1.loc['All','All']\n",
    "\n",
    "test_tI_errors1 = table_test1.loc[0.0,1.0] / table_test1.loc['All','All']\n",
    "test_tII_errors1 = table_test1.loc[1.0,0.0] / table_test1.loc['All','All']\n",
    "\n",
    "print('Baseline results:\\n')\n",
    "print((\n",
    "    'Training set accuracy:\\n'\n",
    "    'R^2 score: {}\\n'\n",
    "    'Percent Type I errors: {}\\n'\n",
    "    'Percent Type II errors: {}\\n\\n'\n",
    "    'Test set accuracy:\\n'\n",
    "    'R^2 score: {}\\n'\n",
    "    'Percent Type I errors: {}\\n'\n",
    "    'Percent Type II errors: {}'\n",
    ").format(train_score, train_tI_errors, train_tII_errors,\n",
    "         test_score, test_tI_errors, test_tII_errors))\n",
    "print('\\nCurrent results:\\n')\n",
    "print((\n",
    "    'Training set accuracy:\\n'\n",
    "    'R^2 score: {}\\n'\n",
    "    'Percent Type I errors: {}\\n'\n",
    "    'Percent Type II errors: {}\\n\\n'\n",
    "    'Test set accuracy:\\n'\n",
    "    'R^2 score: {}\\n'\n",
    "    'Percent Type I errors: {}\\n'\n",
    "    'Percent Type II errors: {}'\n",
    ").format(train_score1, train_tI_errors1, train_tII_errors1,\n",
    "         test_score1, test_tI_errors1, test_tII_errors1))"
   ]
  },
  {
   "cell_type": "markdown",
   "metadata": {},
   "source": [
    "**Result:** changing parameters doesn't have too much effect on predicting this data, and for the most part decreases in training set error did not translate to the test set; indicative model is overfitting\n",
    "\n",
    "**Note:** many different iteration and depths were tried one at a time, each with deviance and exponential loss functions; there was no real improvement seen"
   ]
  },
  {
   "cell_type": "markdown",
   "metadata": {},
   "source": [
    "### Trying subsampling, in order to decrease overfitting:"
   ]
  },
  {
   "cell_type": "code",
   "execution_count": 50,
   "metadata": {},
   "outputs": [
    {
     "name": "stdout",
     "output_type": "stream",
     "text": [
      "Baseline results:\n",
      "\n",
      "Training set accuracy:\n",
      "R^2 score: 0.7774140752864157\n",
      "Percent Type I errors: 0.04650845608292417\n",
      "Percent Type II errors: 0.17607746863066012\n",
      "\n",
      "Test set accuracy:\n",
      "R^2 score: 0.7521472392638037\n",
      "Percent Type I errors: 0.06257668711656442\n",
      "Percent Type II errors: 0.18527607361963191\n",
      "\n",
      "Current results:\n",
      "\n",
      "Training set accuracy:\n",
      "R^2 score: 0.8181942171303873\n",
      "Percent Type I errors: 0.046235679214402615\n",
      "Percent Type II errors: 0.13557010365521005\n",
      "\n",
      "Test set accuracy:\n",
      "R^2 score: 0.7141104294478527\n",
      "Percent Type I errors: 0.12269938650306748\n",
      "Percent Type II errors: 0.16319018404907976\n"
     ]
    }
   ],
   "source": [
    "#apply subsample & learning rate\n",
    "params2 = {'n_estimators': 500,\n",
    "           'max_depth':2,\n",
    "           'loss':'deviance',\n",
    "           'subsample':.8,\n",
    "           'learning_rate':.9}\n",
    "\n",
    "#updated model, predictions, and accuracy calculations\n",
    "clf2 = ensemble.GradientBoostingClassifier(**params2)\n",
    "clf2.fit(X_train,y_train)\n",
    "\n",
    "predict_train2 = clf2.predict(X_train)\n",
    "predict_test2 = clf2.predict(X_test)\n",
    "\n",
    "train_score2 = clf2.score(X_train, y_train)\n",
    "test_score2 = clf2.score(X_test, y_test)\n",
    "\n",
    "table_train2 = pd.crosstab(y_train, predict_train2, margins=True)\n",
    "table_test2 = pd.crosstab(y_test, predict_test2, margins=True)\n",
    "\n",
    "train_tI_errors2 = table_train2.loc[0.0,1.0] / table_train2.loc['All','All']\n",
    "train_tII_errors2 = table_train2.loc[1.0,0.0] / table_train2.loc['All','All']\n",
    "\n",
    "test_tI_errors2 = table_test2.loc[0.0,1.0] / table_test2.loc['All','All']\n",
    "test_tII_errors2 = table_test2.loc[1.0,0.0] / table_test2.loc['All','All']\n",
    "\n",
    "print('Baseline results:\\n')\n",
    "print((\n",
    "    'Training set accuracy:\\n'\n",
    "    'R^2 score: {}\\n'\n",
    "    'Percent Type I errors: {}\\n'\n",
    "    'Percent Type II errors: {}\\n\\n'\n",
    "    'Test set accuracy:\\n'\n",
    "    'R^2 score: {}\\n'\n",
    "    'Percent Type I errors: {}\\n'\n",
    "    'Percent Type II errors: {}'\n",
    ").format(train_score, train_tI_errors, train_tII_errors,\n",
    "         test_score, test_tI_errors, test_tII_errors))\n",
    "print('\\nCurrent results:\\n')\n",
    "print((\n",
    "    'Training set accuracy:\\n'\n",
    "    'R^2 score: {}\\n'\n",
    "    'Percent Type I errors: {}\\n'\n",
    "    'Percent Type II errors: {}\\n\\n'\n",
    "    'Test set accuracy:\\n'\n",
    "    'R^2 score: {}\\n'\n",
    "    'Percent Type I errors: {}\\n'\n",
    "    'Percent Type II errors: {}'\n",
    ").format(train_score2, train_tI_errors2, train_tII_errors2,\n",
    "         test_score2, test_tI_errors2, test_tII_errors2))"
   ]
  },
  {
   "cell_type": "markdown",
   "metadata": {},
   "source": [
    "### Trying out feature engineering to see if we can get better results:"
   ]
  },
  {
   "cell_type": "code",
   "execution_count": 127,
   "metadata": {
    "scrolled": true
   },
   "outputs": [
    {
     "data": {
      "text/html": [
       "<div>\n",
       "<style scoped>\n",
       "    .dataframe tbody tr th:only-of-type {\n",
       "        vertical-align: middle;\n",
       "    }\n",
       "\n",
       "    .dataframe tbody tr th {\n",
       "        vertical-align: top;\n",
       "    }\n",
       "\n",
       "    .dataframe thead th {\n",
       "        text-align: right;\n",
       "    }\n",
       "</style>\n",
       "<table border=\"1\" class=\"dataframe\">\n",
       "  <thead>\n",
       "    <tr style=\"text-align: right;\">\n",
       "      <th></th>\n",
       "      <th>year</th>\n",
       "      <th>tvtot</th>\n",
       "      <th>ppltrst</th>\n",
       "      <th>pplfair</th>\n",
       "      <th>pplhlp</th>\n",
       "      <th>happy</th>\n",
       "      <th>sclmeet</th>\n",
       "      <th>sclact</th>\n",
       "      <th>gndr</th>\n",
       "      <th>agea</th>\n",
       "      <th>partner</th>\n",
       "      <th>CH</th>\n",
       "      <th>CZ</th>\n",
       "      <th>DE</th>\n",
       "      <th>ES</th>\n",
       "      <th>NO</th>\n",
       "      <th>SE</th>\n",
       "    </tr>\n",
       "  </thead>\n",
       "  <tbody>\n",
       "    <tr>\n",
       "      <th>0</th>\n",
       "      <td>6</td>\n",
       "      <td>3.0</td>\n",
       "      <td>3.0</td>\n",
       "      <td>10.0</td>\n",
       "      <td>5.0</td>\n",
       "      <td>8.0</td>\n",
       "      <td>5.0</td>\n",
       "      <td>4.0</td>\n",
       "      <td>1.0</td>\n",
       "      <td>60.0</td>\n",
       "      <td>0.0</td>\n",
       "      <td>1</td>\n",
       "      <td>0</td>\n",
       "      <td>0</td>\n",
       "      <td>0</td>\n",
       "      <td>0</td>\n",
       "      <td>0</td>\n",
       "    </tr>\n",
       "    <tr>\n",
       "      <th>1</th>\n",
       "      <td>6</td>\n",
       "      <td>6.0</td>\n",
       "      <td>5.0</td>\n",
       "      <td>7.0</td>\n",
       "      <td>5.0</td>\n",
       "      <td>9.0</td>\n",
       "      <td>3.0</td>\n",
       "      <td>2.0</td>\n",
       "      <td>1.0</td>\n",
       "      <td>59.0</td>\n",
       "      <td>0.0</td>\n",
       "      <td>1</td>\n",
       "      <td>0</td>\n",
       "      <td>0</td>\n",
       "      <td>0</td>\n",
       "      <td>0</td>\n",
       "      <td>0</td>\n",
       "    </tr>\n",
       "    <tr>\n",
       "      <th>2</th>\n",
       "      <td>6</td>\n",
       "      <td>1.0</td>\n",
       "      <td>8.0</td>\n",
       "      <td>8.0</td>\n",
       "      <td>8.0</td>\n",
       "      <td>7.0</td>\n",
       "      <td>6.0</td>\n",
       "      <td>3.0</td>\n",
       "      <td>0.0</td>\n",
       "      <td>24.0</td>\n",
       "      <td>1.0</td>\n",
       "      <td>1</td>\n",
       "      <td>0</td>\n",
       "      <td>0</td>\n",
       "      <td>0</td>\n",
       "      <td>0</td>\n",
       "      <td>0</td>\n",
       "    </tr>\n",
       "    <tr>\n",
       "      <th>3</th>\n",
       "      <td>6</td>\n",
       "      <td>4.0</td>\n",
       "      <td>6.0</td>\n",
       "      <td>6.0</td>\n",
       "      <td>7.0</td>\n",
       "      <td>10.0</td>\n",
       "      <td>6.0</td>\n",
       "      <td>2.0</td>\n",
       "      <td>1.0</td>\n",
       "      <td>64.0</td>\n",
       "      <td>0.0</td>\n",
       "      <td>1</td>\n",
       "      <td>0</td>\n",
       "      <td>0</td>\n",
       "      <td>0</td>\n",
       "      <td>0</td>\n",
       "      <td>0</td>\n",
       "    </tr>\n",
       "    <tr>\n",
       "      <th>4</th>\n",
       "      <td>6</td>\n",
       "      <td>5.0</td>\n",
       "      <td>6.0</td>\n",
       "      <td>7.0</td>\n",
       "      <td>5.0</td>\n",
       "      <td>8.0</td>\n",
       "      <td>7.0</td>\n",
       "      <td>2.0</td>\n",
       "      <td>1.0</td>\n",
       "      <td>55.0</td>\n",
       "      <td>0.0</td>\n",
       "      <td>1</td>\n",
       "      <td>0</td>\n",
       "      <td>0</td>\n",
       "      <td>0</td>\n",
       "      <td>0</td>\n",
       "      <td>0</td>\n",
       "    </tr>\n",
       "  </tbody>\n",
       "</table>\n",
       "</div>"
      ],
      "text/plain": [
       "   year  tvtot  ppltrst  pplfair  pplhlp  happy  sclmeet  sclact  gndr  agea  \\\n",
       "0     6    3.0      3.0     10.0     5.0    8.0      5.0     4.0   1.0  60.0   \n",
       "1     6    6.0      5.0      7.0     5.0    9.0      3.0     2.0   1.0  59.0   \n",
       "2     6    1.0      8.0      8.0     8.0    7.0      6.0     3.0   0.0  24.0   \n",
       "3     6    4.0      6.0      6.0     7.0   10.0      6.0     2.0   1.0  64.0   \n",
       "4     6    5.0      6.0      7.0     5.0    8.0      7.0     2.0   1.0  55.0   \n",
       "\n",
       "   partner  CH  CZ  DE  ES  NO  SE  \n",
       "0      0.0   1   0   0   0   0   0  \n",
       "1      0.0   1   0   0   0   0   0  \n",
       "2      1.0   1   0   0   0   0   0  \n",
       "3      0.0   1   0   0   0   0   0  \n",
       "4      0.0   1   0   0   0   0   0  "
      ]
     },
     "execution_count": 127,
     "metadata": {},
     "output_type": "execute_result"
    }
   ],
   "source": [
    "#make a copy of the df to work with\n",
    "df2 = df.copy()\n",
    "\n",
    "# Turn the partner feature into a binary feature (0 and 1)\n",
    "df2.partner = df2.partner - 1\n",
    "# turn the 'gndr' feature into a binary feature as well:\n",
    "df2.gndr = df2.gndr - 1\n",
    "\n",
    "# get dummies for 'cntry', a categorical variable\n",
    "df2 = pd.concat([df2, pd.get_dummies(df2['cntry'])],axis=1)\n",
    "# dropping the cntry since we have dummy variables now, as well as idno\n",
    "df2 = df2.drop(['cntry','idno'], 1)\n",
    "df2.head()"
   ]
  },
  {
   "cell_type": "markdown",
   "metadata": {},
   "source": [
    "Checking for multicollinearity: "
   ]
  },
  {
   "cell_type": "code",
   "execution_count": 128,
   "metadata": {
    "scrolled": true
   },
   "outputs": [
    {
     "data": {
      "image/png": "[encoded data removed]",
      "text/plain": [
       "<Figure size 432x288 with 2 Axes>"
      ]
     },
     "metadata": {
      "needs_background": "light"
     },
     "output_type": "display_data"
    }
   ],
   "source": [
    "sns.heatmap(df2.corr(), square=True)\n",
    "plt.show()"
   ]
  },
  {
   "cell_type": "markdown",
   "metadata": {},
   "source": [
    "Looks like the 'ppltrst', 'pplfair', and 'pplhlp' variables exhibit high multicollinearity. These \"human interaction\" variables can be combined and averaged to create a new variable:"
   ]
  },
  {
   "cell_type": "code",
   "execution_count": 129,
   "metadata": {
    "scrolled": true
   },
   "outputs": [
    {
     "data": {
      "text/html": [
       "<div>\n",
       "<style scoped>\n",
       "    .dataframe tbody tr th:only-of-type {\n",
       "        vertical-align: middle;\n",
       "    }\n",
       "\n",
       "    .dataframe tbody tr th {\n",
       "        vertical-align: top;\n",
       "    }\n",
       "\n",
       "    .dataframe thead th {\n",
       "        text-align: right;\n",
       "    }\n",
       "</style>\n",
       "<table border=\"1\" class=\"dataframe\">\n",
       "  <thead>\n",
       "    <tr style=\"text-align: right;\">\n",
       "      <th></th>\n",
       "      <th>year</th>\n",
       "      <th>tvtot</th>\n",
       "      <th>happy</th>\n",
       "      <th>sclmeet</th>\n",
       "      <th>sclact</th>\n",
       "      <th>gndr</th>\n",
       "      <th>agea</th>\n",
       "      <th>partner</th>\n",
       "      <th>CH</th>\n",
       "      <th>CZ</th>\n",
       "      <th>DE</th>\n",
       "      <th>ES</th>\n",
       "      <th>NO</th>\n",
       "      <th>SE</th>\n",
       "      <th>people</th>\n",
       "    </tr>\n",
       "  </thead>\n",
       "  <tbody>\n",
       "    <tr>\n",
       "      <th>0</th>\n",
       "      <td>6</td>\n",
       "      <td>3.0</td>\n",
       "      <td>8.0</td>\n",
       "      <td>5.0</td>\n",
       "      <td>4.0</td>\n",
       "      <td>1.0</td>\n",
       "      <td>60.0</td>\n",
       "      <td>0.0</td>\n",
       "      <td>1</td>\n",
       "      <td>0</td>\n",
       "      <td>0</td>\n",
       "      <td>0</td>\n",
       "      <td>0</td>\n",
       "      <td>0</td>\n",
       "      <td>6.000000</td>\n",
       "    </tr>\n",
       "    <tr>\n",
       "      <th>1</th>\n",
       "      <td>6</td>\n",
       "      <td>6.0</td>\n",
       "      <td>9.0</td>\n",
       "      <td>3.0</td>\n",
       "      <td>2.0</td>\n",
       "      <td>1.0</td>\n",
       "      <td>59.0</td>\n",
       "      <td>0.0</td>\n",
       "      <td>1</td>\n",
       "      <td>0</td>\n",
       "      <td>0</td>\n",
       "      <td>0</td>\n",
       "      <td>0</td>\n",
       "      <td>0</td>\n",
       "      <td>5.666667</td>\n",
       "    </tr>\n",
       "    <tr>\n",
       "      <th>2</th>\n",
       "      <td>6</td>\n",
       "      <td>1.0</td>\n",
       "      <td>7.0</td>\n",
       "      <td>6.0</td>\n",
       "      <td>3.0</td>\n",
       "      <td>0.0</td>\n",
       "      <td>24.0</td>\n",
       "      <td>1.0</td>\n",
       "      <td>1</td>\n",
       "      <td>0</td>\n",
       "      <td>0</td>\n",
       "      <td>0</td>\n",
       "      <td>0</td>\n",
       "      <td>0</td>\n",
       "      <td>8.000000</td>\n",
       "    </tr>\n",
       "    <tr>\n",
       "      <th>3</th>\n",
       "      <td>6</td>\n",
       "      <td>4.0</td>\n",
       "      <td>10.0</td>\n",
       "      <td>6.0</td>\n",
       "      <td>2.0</td>\n",
       "      <td>1.0</td>\n",
       "      <td>64.0</td>\n",
       "      <td>0.0</td>\n",
       "      <td>1</td>\n",
       "      <td>0</td>\n",
       "      <td>0</td>\n",
       "      <td>0</td>\n",
       "      <td>0</td>\n",
       "      <td>0</td>\n",
       "      <td>6.333333</td>\n",
       "    </tr>\n",
       "    <tr>\n",
       "      <th>4</th>\n",
       "      <td>6</td>\n",
       "      <td>5.0</td>\n",
       "      <td>8.0</td>\n",
       "      <td>7.0</td>\n",
       "      <td>2.0</td>\n",
       "      <td>1.0</td>\n",
       "      <td>55.0</td>\n",
       "      <td>0.0</td>\n",
       "      <td>1</td>\n",
       "      <td>0</td>\n",
       "      <td>0</td>\n",
       "      <td>0</td>\n",
       "      <td>0</td>\n",
       "      <td>0</td>\n",
       "      <td>6.000000</td>\n",
       "    </tr>\n",
       "  </tbody>\n",
       "</table>\n",
       "</div>"
      ],
      "text/plain": [
       "   year  tvtot  happy  sclmeet  sclact  gndr  agea  partner  CH  CZ  DE  ES  \\\n",
       "0     6    3.0    8.0      5.0     4.0   1.0  60.0      0.0   1   0   0   0   \n",
       "1     6    6.0    9.0      3.0     2.0   1.0  59.0      0.0   1   0   0   0   \n",
       "2     6    1.0    7.0      6.0     3.0   0.0  24.0      1.0   1   0   0   0   \n",
       "3     6    4.0   10.0      6.0     2.0   1.0  64.0      0.0   1   0   0   0   \n",
       "4     6    5.0    8.0      7.0     2.0   1.0  55.0      0.0   1   0   0   0   \n",
       "\n",
       "   NO  SE    people  \n",
       "0   0   0  6.000000  \n",
       "1   0   0  5.666667  \n",
       "2   0   0  8.000000  \n",
       "3   0   0  6.333333  \n",
       "4   0   0  6.000000  "
      ]
     },
     "execution_count": 129,
     "metadata": {},
     "output_type": "execute_result"
    }
   ],
   "source": [
    "# Creating a people variable \n",
    "df2['people'] = (df2['ppltrst'] + df2['pplfair'] + df['pplhlp']) / 3\n",
    "df2 = df2.drop(['ppltrst', 'pplfair', 'pplhlp'], 1)\n",
    "df2.head()"
   ]
  },
  {
   "cell_type": "code",
   "execution_count": 130,
   "metadata": {},
   "outputs": [],
   "source": [
    "#set target and data\n",
    "y2 = df2['partner']\n",
    "X2 = df2.loc[:, ~df2.columns.isin(['partner'])]\n",
    "\n",
    "\n",
    "#create new train and test sets\n",
    "from sklearn.model_selection import train_test_split\n",
    "\n",
    "#put 90% into train, 10% into test\n",
    "X_train2,X_test2, y_train2, y_test2 = train_test_split(X2, y2, test_size=0.1, random_state=4)"
   ]
  },
  {
   "cell_type": "code",
   "execution_count": 131,
   "metadata": {},
   "outputs": [
    {
     "name": "stdout",
     "output_type": "stream",
     "text": [
      "Baseline results:\n",
      "\n",
      "Training set accuracy:\n",
      "R^2 score: 0.7774140752864157\n",
      "Percent Type I errors: 0.04650845608292417\n",
      "Percent Type II errors: 0.17607746863066012\n",
      "\n",
      "Test set accuracy:\n",
      "R^2 score: 0.7521472392638037\n",
      "Percent Type I errors: 0.06257668711656442\n",
      "Percent Type II errors: 0.18527607361963191\n",
      "\n",
      "Current results:\n",
      "\n",
      "Training set accuracy:\n",
      "R^2 score: 0.7710038188761593\n",
      "Percent Type I errors: 0.04841789416257501\n",
      "Percent Type II errors: 0.18057828696126568\n",
      "\n",
      "Test set accuracy:\n",
      "R^2 score: 0.7815950920245399\n",
      "Percent Type I errors: 0.04049079754601227\n",
      "Percent Type II errors: 0.17791411042944785\n"
     ]
    }
   ],
   "source": [
    "#try original model params on this dataset\n",
    "params3 = {'n_estimators':500,\n",
    "           'max_depth':2,\n",
    "           'loss':'deviance',}\n",
    "\n",
    "clf3 = ensemble.GradientBoostingClassifier(**params3)\n",
    "clf3.fit(X_train2,y_train2)\n",
    " \n",
    "predict_train3 = clf3.predict(X_train2)\n",
    "predict_test3 = clf3.predict(X_test2)\n",
    "\n",
    "train_score3 = clf3.score(X_train2, y_train2)\n",
    "test_score3 = clf3.score(X_test2, y_test2)\n",
    "\n",
    "table_train3 = pd.crosstab(y_train2, predict_train3, margins=True)\n",
    "table_test3 = pd.crosstab(y_test2, predict_test3, margins=True)\n",
    "\n",
    "train_tI_errors3 = table_train3.loc[0.0,1.0] / table_train3.loc['All','All']\n",
    "train_tII_errors3 = table_train3.loc[1.0,0.0] / table_train3.loc['All','All']\n",
    "\n",
    "test_tI_errors3 = table_test3.loc[0.0,1.0] / table_test3.loc['All','All']\n",
    "test_tII_errors3 = table_test3.loc[1.0,0.0] / table_test3.loc['All','All']\n",
    "\n",
    "print('Baseline results:\\n')\n",
    "print((\n",
    "    'Training set accuracy:\\n'\n",
    "    'R^2 score: {}\\n'\n",
    "    'Percent Type I errors: {}\\n'\n",
    "    'Percent Type II errors: {}\\n\\n'\n",
    "    'Test set accuracy:\\n'\n",
    "    'R^2 score: {}\\n'\n",
    "    'Percent Type I errors: {}\\n'\n",
    "    'Percent Type II errors: {}'\n",
    ").format(train_score, train_tI_errors, train_tII_errors,\n",
    "         test_score, test_tI_errors, test_tII_errors))\n",
    "print('\\nCurrent results:\\n')\n",
    "print((\n",
    "    'Training set accuracy:\\n'\n",
    "    'R^2 score: {}\\n'\n",
    "    'Percent Type I errors: {}\\n'\n",
    "    'Percent Type II errors: {}\\n\\n'\n",
    "    'Test set accuracy:\\n'\n",
    "    'R^2 score: {}\\n'\n",
    "    'Percent Type I errors: {}\\n'\n",
    "    'Percent Type II errors: {}'\n",
    ").format(train_score3, train_tI_errors3, train_tII_errors3,\n",
    "         test_score3, test_tI_errors3, test_tII_errors3))\n"
   ]
  },
  {
   "cell_type": "code",
   "execution_count": 132,
   "metadata": {},
   "outputs": [
    {
     "data": {
      "image/png": "[encoded data removed]",
      "text/plain": [
       "<Figure size 432x288 with 1 Axes>"
      ]
     },
     "metadata": {
      "needs_background": "light"
     },
     "output_type": "display_data"
    }
   ],
   "source": [
    "#see how feature importance is affected\n",
    "feature_importance3 = clf3.feature_importances_\n",
    "\n",
    "#make importances relative to max importance\n",
    "feature_importance3 = 100.0 * (feature_importance3 / feature_importance3.max())\n",
    "sorted_idx3 = np.argsort(feature_importance3)\n",
    "pos3 = np.arange(sorted_idx3.shape[0]) + .5\n",
    "plt.subplot(1,2,2)\n",
    "plt.barh(pos3, feature_importance3[sorted_idx3], align='center')\n",
    "plt.yticks(pos3, X2.columns[sorted_idx3])\n",
    "plt.xlabel('relative importance')\n",
    "plt.title('variable importance')\n",
    "plt.show()"
   ]
  },
  {
   "cell_type": "markdown",
   "metadata": {},
   "source": [
    "looks like this new variable, \"people\" doesnt really have much importance. No change from before the features were engineered unfortunately"
   ]
  },
  {
   "cell_type": "markdown",
   "metadata": {},
   "source": [
    "Try SelectKBest:"
   ]
  },
  {
   "cell_type": "code",
   "execution_count": 163,
   "metadata": {},
   "outputs": [
    {
     "name": "stdout",
     "output_type": "stream",
     "text": [
      "      Specs       Score\n",
      "6      agea  574.431925\n",
      "3   sclmeet  222.226726\n",
      "2     happy  175.077793\n",
      "13   people   10.997969\n",
      "5      gndr    9.417373\n"
     ]
    }
   ],
   "source": [
    "from sklearn.pipeline import make_pipeline\n",
    "from sklearn.feature_selection import SelectKBest, f_classif #using f_classif to select the best features:\n",
    "import warnings\n",
    "warnings.filterwarnings('ignore')\n",
    "\n",
    "\n",
    "select = SelectKBest(score_func=f_classif, k=5)\n",
    "fit = select.fit(X2,y2)\n",
    "\n",
    "dfscores = pd.DataFrame(fit.scores_)\n",
    "dfcolumns = pd.DataFrame(X2.columns)\n",
    "\n",
    "#concat two dataframes for better visualization \n",
    "featureScores = pd.concat([dfcolumns,dfscores],axis=1)\n",
    "featureScores.columns = ['Specs','Score']  #naming the dataframe columns\n",
    "print(featureScores.nlargest(5,'Score'))  #print 5 best features"
   ]
  },
  {
   "cell_type": "code",
   "execution_count": 154,
   "metadata": {},
   "outputs": [
    {
     "data": {
      "text/plain": [
       "['agea', 'sclmeet', 'happy', 'people', 'gndr']"
      ]
     },
     "execution_count": 154,
     "metadata": {},
     "output_type": "execute_result"
    }
   ],
   "source": [
    "features2 = featureScores.sort_values(by='Score', ascending=False)\n",
    "features2 = features2.head(5)\n",
    "\n",
    "# Put the top keywords into a list: \n",
    "features2_list = list(features2.Specs)\n",
    "features2_list\n"
   ]
  },
  {
   "cell_type": "code",
   "execution_count": 158,
   "metadata": {},
   "outputs": [],
   "source": [
    "#set target and data\n",
    "y3 = df2['partner']\n",
    "X3 = df2[features2_list]\n",
    "\n",
    "\n",
    "#create new train and test sets\n",
    "from sklearn.model_selection import train_test_split\n",
    "\n",
    "#put 90% into train, 10% into test\n",
    "X_train3,X_test3, y_train3, y_test3 = train_test_split(X3, y3, test_size=0.1, random_state=4)\n"
   ]
  },
  {
   "cell_type": "code",
   "execution_count": 162,
   "metadata": {},
   "outputs": [
    {
     "name": "stdout",
     "output_type": "stream",
     "text": [
      "Baseline results:\n",
      "\n",
      "Training set accuracy:\n",
      "R^2 score: 0.7774140752864157\n",
      "Percent Type I errors: 0.04650845608292417\n",
      "Percent Type II errors: 0.17607746863066012\n",
      "\n",
      "Test set accuracy:\n",
      "R^2 score: 0.7521472392638037\n",
      "Percent Type I errors: 0.06257668711656442\n",
      "Percent Type II errors: 0.18527607361963191\n",
      "\n",
      "Current results:\n",
      "\n",
      "Training set accuracy:\n",
      "R^2 score: 0.7650027277686852\n",
      "Percent Type I errors: 0.048554282596835786\n",
      "Percent Type II errors: 0.186442989634479\n",
      "\n",
      "Test set accuracy:\n",
      "R^2 score: 0.7668711656441718\n",
      "Percent Type I errors: 0.04785276073619632\n",
      "Percent Type II errors: 0.18527607361963191\n"
     ]
    }
   ],
   "source": [
    "#try original model params on this dataset\n",
    "params3 = {'n_estimators':500,\n",
    "           'max_depth':2,\n",
    "           'loss':'deviance',}\n",
    "\n",
    "clf4 = ensemble.GradientBoostingClassifier(**params3)\n",
    "clf4.fit(X_train3,y_train3)\n",
    " \n",
    "predict_train4 = clf4.predict(X_train3)\n",
    "predict_test4 = clf4.predict(X_test3)\n",
    "\n",
    "train_score4 = clf4.score(X_train3, y_train3)\n",
    "test_score4 = clf4.score(X_test3, y_test3)\n",
    "\n",
    "table_train4 = pd.crosstab(y_train3, predict_train4, margins=True)\n",
    "table_test4 = pd.crosstab(y_test3, predict_test4, margins=True)\n",
    "\n",
    "train_tI_errors4 = table_train4.loc[0.0,1.0] / table_train4.loc['All','All']\n",
    "train_tII_errors4 = table_train4.loc[1.0,0.0] / table_train4.loc['All','All']\n",
    "\n",
    "test_tI_errors4 = table_test4.loc[0.0,1.0] / table_test4.loc['All','All']\n",
    "test_tII_errors4 = table_test4.loc[1.0,0.0] / table_test4.loc['All','All']\n",
    "\n",
    "print('Baseline results:\\n')\n",
    "print((\n",
    "    'Training set accuracy:\\n'\n",
    "    'R^2 score: {}\\n'\n",
    "    'Percent Type I errors: {}\\n'\n",
    "    'Percent Type II errors: {}\\n\\n'\n",
    "    'Test set accuracy:\\n'\n",
    "    'R^2 score: {}\\n'\n",
    "    'Percent Type I errors: {}\\n'\n",
    "    'Percent Type II errors: {}'\n",
    ").format(train_score, train_tI_errors, train_tII_errors,\n",
    "         test_score, test_tI_errors, test_tII_errors))\n",
    "print('\\nCurrent results:\\n')\n",
    "print((\n",
    "    'Training set accuracy:\\n'\n",
    "    'R^2 score: {}\\n'\n",
    "    'Percent Type I errors: {}\\n'\n",
    "    'Percent Type II errors: {}\\n\\n'\n",
    "    'Test set accuracy:\\n'\n",
    "    'R^2 score: {}\\n'\n",
    "    'Percent Type I errors: {}\\n'\n",
    "    'Percent Type II errors: {}'\n",
    ").format(train_score4, train_tI_errors4, train_tII_errors4,\n",
    "         test_score4, test_tI_errors4, test_tII_errors4))\n"
   ]
  },
  {
   "cell_type": "markdown",
   "metadata": {},
   "source": [
    "**Result:** eliminating features, even ones that don't explain much variance on their own, does not result in better predictions for this data."
   ]
  },
  {
   "cell_type": "code",
   "execution_count": 171,
   "metadata": {},
   "outputs": [],
   "source": [
    "#set target and data\n",
    "y2 = df2['partner']\n",
    "X2 = df2.loc[:, ~df2.columns.isin(['partner'])]\n",
    "from sklearn.feature_selection import chi2\n",
    "\n",
    "featurez = SelectKBest(score_func=chi2, k=5).fit_transform(X2,y2)"
   ]
  },
  {
   "cell_type": "code",
   "execution_count": 172,
   "metadata": {
    "scrolled": false
   },
   "outputs": [],
   "source": [
    "#set target and data\n",
    "y3 = df2['partner']\n",
    "X3 = featurez\n",
    "\n",
    "\n",
    "#create new train and test sets\n",
    "from sklearn.model_selection import train_test_split\n",
    "\n",
    "#put 90% into train, 10% into test\n",
    "X_train3,X_test3, y_train3, y_test3 = train_test_split(X3, y3, test_size=0.1, random_state=4)\n"
   ]
  },
  {
   "cell_type": "code",
   "execution_count": 173,
   "metadata": {},
   "outputs": [
    {
     "name": "stdout",
     "output_type": "stream",
     "text": [
      "Baseline results:\n",
      "\n",
      "Training set accuracy:\n",
      "R^2 score: 0.7774140752864157\n",
      "Percent Type I errors: 0.04650845608292417\n",
      "Percent Type II errors: 0.17607746863066012\n",
      "\n",
      "Test set accuracy:\n",
      "R^2 score: 0.7521472392638037\n",
      "Percent Type I errors: 0.06257668711656442\n",
      "Percent Type II errors: 0.18527607361963191\n",
      "\n",
      "Current results:\n",
      "\n",
      "Training set accuracy:\n",
      "R^2 score: 0.7624113475177305\n",
      "Percent Type I errors: 0.049509001636661214\n",
      "Percent Type II errors: 0.1880796508456083\n",
      "\n",
      "Test set accuracy:\n",
      "R^2 score: 0.7668711656441718\n",
      "Percent Type I errors: 0.04785276073619632\n",
      "Percent Type II errors: 0.18527607361963191\n"
     ]
    }
   ],
   "source": [
    "#try original model params on this dataset\n",
    "params3 = {'n_estimators':500,\n",
    "           'max_depth':2,\n",
    "           'loss':'deviance',}\n",
    "\n",
    "clf4 = ensemble.GradientBoostingClassifier(**params3)\n",
    "clf4.fit(X_train3,y_train3)\n",
    " \n",
    "predict_train4 = clf4.predict(X_train3)\n",
    "predict_test4 = clf4.predict(X_test3)\n",
    "\n",
    "train_score4 = clf4.score(X_train3, y_train3)\n",
    "test_score4 = clf4.score(X_test3, y_test3)\n",
    "\n",
    "table_train4 = pd.crosstab(y_train3, predict_train4, margins=True)\n",
    "table_test4 = pd.crosstab(y_test3, predict_test4, margins=True)\n",
    "\n",
    "train_tI_errors4 = table_train4.loc[0.0,1.0] / table_train4.loc['All','All']\n",
    "train_tII_errors4 = table_train4.loc[1.0,0.0] / table_train4.loc['All','All']\n",
    "\n",
    "test_tI_errors4 = table_test4.loc[0.0,1.0] / table_test4.loc['All','All']\n",
    "test_tII_errors4 = table_test4.loc[1.0,0.0] / table_test4.loc['All','All']\n",
    "\n",
    "print('Baseline results:\\n')\n",
    "print((\n",
    "    'Training set accuracy:\\n'\n",
    "    'R^2 score: {}\\n'\n",
    "    'Percent Type I errors: {}\\n'\n",
    "    'Percent Type II errors: {}\\n\\n'\n",
    "    'Test set accuracy:\\n'\n",
    "    'R^2 score: {}\\n'\n",
    "    'Percent Type I errors: {}\\n'\n",
    "    'Percent Type II errors: {}'\n",
    ").format(train_score, train_tI_errors, train_tII_errors,\n",
    "         test_score, test_tI_errors, test_tII_errors))\n",
    "print('\\nCurrent results:\\n')\n",
    "print((\n",
    "    'Training set accuracy:\\n'\n",
    "    'R^2 score: {}\\n'\n",
    "    'Percent Type I errors: {}\\n'\n",
    "    'Percent Type II errors: {}\\n\\n'\n",
    "    'Test set accuracy:\\n'\n",
    "    'R^2 score: {}\\n'\n",
    "    'Percent Type I errors: {}\\n'\n",
    "    'Percent Type II errors: {}'\n",
    ").format(train_score4, train_tI_errors4, train_tII_errors4,\n",
    "         test_score4, test_tI_errors4, test_tII_errors4))\n"
   ]
  },
  {
   "cell_type": "code",
   "execution_count": null,
   "metadata": {},
   "outputs": [],
   "source": []
  }
 ],
 "metadata": {
  "kernelspec": {
   "display_name": "Python 3",
   "language": "python",
   "name": "python3"
  },
  "language_info": {
   "codemirror_mode": {
    "name": "ipython",
    "version": 3
   },
   "file_extension": ".py",
   "mimetype": "text/x-python",
   "name": "python",
   "nbconvert_exporter": "python",
   "pygments_lexer": "ipython3",
   "version": "3.7.3"
  }
 },
 "nbformat": 4,
 "nbformat_minor": 2
}
