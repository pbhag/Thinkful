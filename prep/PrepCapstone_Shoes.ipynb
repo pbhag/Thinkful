{
 "cells": [
  {
   "cell_type": "markdown",
   "metadata": {},
   "source": [
    "# Shoes: A list of several shoes and the various prices at which they are sold\n",
    "\n",
    "## Introduction\n",
    "\n",
    "The two datasets we are working with are a list of women's shoes and a list of men's shoes. The datasets include shoe name, brand, price, and more. The data is provided by Datafiniti's Product Database, and looks to be scraped from popular retail sites such as Overstock, Walmart, and Amazon. \n",
    "\n",
    "Looking at this data, we can hope to understand:\n",
    "- If women's and men's shoes are priced similarly\n",
    "- What brands are prevalent in women's and men's shoes\n",
    "- What types of price distributions there are across brands, and if there is a significant difference in prices for men's and women's shoes in those brands\n",
    "- If there are price distributions within the brands based on shoe color"
   ]
  },
  {
   "cell_type": "code",
   "execution_count": 323,
   "metadata": {},
   "outputs": [],
   "source": [
    "# Importing the libraries\n",
    "import numpy as np\n",
    "import pandas as pd\n",
    "import matplotlib.pyplot as plt\n",
    "%matplotlib inline\n",
    "import scipy.stats as stats\n",
    "import seaborn as sns"
   ]
  },
  {
   "cell_type": "markdown",
   "metadata": {},
   "source": [
    "## Importing and Formatting Data: \n",
    "\n"
   ]
  },
  {
   "cell_type": "code",
   "execution_count": 202,
   "metadata": {},
   "outputs": [
    {
     "name": "stderr",
     "output_type": "stream",
     "text": [
      "b'Skipping line 251: expected 48 fields, saw 49\\nSkipping line 444: expected 48 fields, saw 50\\nSkipping line 847: expected 48 fields, saw 49\\nSkipping line 848: expected 48 fields, saw 49\\nSkipping line 1018: expected 48 fields, saw 49\\nSkipping line 1575: expected 48 fields, saw 51\\nSkipping line 2133: expected 48 fields, saw 49\\nSkipping line 2922: expected 48 fields, saw 51\\nSkipping line 3777: expected 48 fields, saw 51\\nSkipping line 4057: expected 48 fields, saw 49\\nSkipping line 4239: expected 48 fields, saw 49\\nSkipping line 4240: expected 48 fields, saw 49\\nSkipping line 4384: expected 48 fields, saw 49\\nSkipping line 4385: expected 48 fields, saw 49\\nSkipping line 5388: expected 48 fields, saw 49\\nSkipping line 5480: expected 48 fields, saw 49\\nSkipping line 5481: expected 48 fields, saw 49\\nSkipping line 5907: expected 48 fields, saw 50\\nSkipping line 5908: expected 48 fields, saw 50\\nSkipping line 6600: expected 48 fields, saw 49\\nSkipping line 6601: expected 48 fields, saw 49\\nSkipping line 6602: expected 48 fields, saw 49\\nSkipping line 6603: expected 48 fields, saw 49\\nSkipping line 7227: expected 48 fields, saw 49\\nSkipping line 7228: expected 48 fields, saw 49\\nSkipping line 7229: expected 48 fields, saw 49\\nSkipping line 7267: expected 48 fields, saw 51\\nSkipping line 9025: expected 48 fields, saw 49\\nSkipping line 9026: expected 48 fields, saw 49\\nSkipping line 9027: expected 48 fields, saw 49\\nSkipping line 9417: expected 48 fields, saw 50\\nSkipping line 10815: expected 48 fields, saw 49\\nSkipping line 11034: expected 48 fields, saw 50\\nSkipping line 11059: expected 48 fields, saw 49\\nSkipping line 11060: expected 48 fields, saw 49\\nSkipping line 11339: expected 48 fields, saw 50\\nSkipping line 11357: expected 48 fields, saw 49\\nSkipping line 11358: expected 48 fields, saw 49\\nSkipping line 11646: expected 48 fields, saw 49\\nSkipping line 11647: expected 48 fields, saw 49\\nSkipping line 12161: expected 48 fields, saw 50\\nSkipping line 12307: expected 48 fields, saw 49\\nSkipping line 12308: expected 48 fields, saw 49\\nSkipping line 12614: expected 48 fields, saw 49\\nSkipping line 12615: expected 48 fields, saw 49\\nSkipping line 12616: expected 48 fields, saw 49\\nSkipping line 12617: expected 48 fields, saw 49\\nSkipping line 12618: expected 48 fields, saw 49\\nSkipping line 12619: expected 48 fields, saw 49\\nSkipping line 12620: expected 48 fields, saw 49\\nSkipping line 12621: expected 48 fields, saw 49\\nSkipping line 12622: expected 48 fields, saw 49\\nSkipping line 12623: expected 48 fields, saw 49\\nSkipping line 12799: expected 48 fields, saw 49\\nSkipping line 14200: expected 48 fields, saw 49\\nSkipping line 14595: expected 48 fields, saw 49\\nSkipping line 16747: expected 48 fields, saw 49\\nSkipping line 16748: expected 48 fields, saw 49\\nSkipping line 16749: expected 48 fields, saw 49\\nSkipping line 16750: expected 48 fields, saw 49\\nSkipping line 16751: expected 48 fields, saw 49\\nSkipping line 16752: expected 48 fields, saw 49\\nSkipping line 16753: expected 48 fields, saw 49\\nSkipping line 17318: expected 48 fields, saw 49\\nSkipping line 17319: expected 48 fields, saw 49\\nSkipping line 17766: expected 48 fields, saw 49\\nSkipping line 17767: expected 48 fields, saw 49\\nSkipping line 18000: expected 48 fields, saw 52\\nSkipping line 18001: expected 48 fields, saw 52\\nSkipping line 18308: expected 48 fields, saw 51\\nSkipping line 19223: expected 48 fields, saw 52\\nSkipping line 19224: expected 48 fields, saw 52\\n'\n"
     ]
    }
   ],
   "source": [
    "# Importing the Women's shoes dataset\n",
    "df = pd.read_csv('Womens_shoes.csv', low_memory=False)\n",
    "\n",
    "# Importing the Men's shoes dataset\n",
    "\n",
    "df2 = pd.read_csv('7004_1.csv', error_bad_lines=False, low_memory=False)"
   ]
  },
  {
   "cell_type": "code",
   "execution_count": 203,
   "metadata": {},
   "outputs": [
    {
     "data": {
      "text/html": [
       "<div>\n",
       "<style scoped>\n",
       "    .dataframe tbody tr th:only-of-type {\n",
       "        vertical-align: middle;\n",
       "    }\n",
       "\n",
       "    .dataframe tbody tr th {\n",
       "        vertical-align: top;\n",
       "    }\n",
       "\n",
       "    .dataframe thead th {\n",
       "        text-align: right;\n",
       "    }\n",
       "</style>\n",
       "<table border=\"1\" class=\"dataframe\">\n",
       "  <thead>\n",
       "    <tr style=\"text-align: right;\">\n",
       "      <th></th>\n",
       "      <th>id</th>\n",
       "      <th>asins</th>\n",
       "      <th>brand</th>\n",
       "      <th>categories</th>\n",
       "      <th>colors</th>\n",
       "      <th>count</th>\n",
       "      <th>dateAdded</th>\n",
       "      <th>dateUpdated</th>\n",
       "      <th>descriptions</th>\n",
       "      <th>dimension</th>\n",
       "      <th>...</th>\n",
       "      <th>skus</th>\n",
       "      <th>sourceURLs</th>\n",
       "      <th>upc</th>\n",
       "      <th>vin</th>\n",
       "      <th>websiteIDs</th>\n",
       "      <th>weight</th>\n",
       "      <th>Unnamed: 48</th>\n",
       "      <th>Unnamed: 49</th>\n",
       "      <th>Unnamed: 50</th>\n",
       "      <th>Unnamed: 51</th>\n",
       "    </tr>\n",
       "  </thead>\n",
       "  <tbody>\n",
       "    <tr>\n",
       "      <th>0</th>\n",
       "      <td>AVpe__eOilAPnD_xSt-H</td>\n",
       "      <td>NaN</td>\n",
       "      <td>Novica</td>\n",
       "      <td>Access.,Clothing,Shoes,Women's Clothing</td>\n",
       "      <td>Purple</td>\n",
       "      <td>NaN</td>\n",
       "      <td>2017-02-03T22:06:24Z</td>\n",
       "      <td>2017-03-28T11:53:51Z</td>\n",
       "      <td>[{\"dateSeen\":[\"2017-03-26T05:04:46.539Z\",\"2017...</td>\n",
       "      <td>NaN</td>\n",
       "      <td>...</td>\n",
       "      <td>[{\"sourceURLs\":[\"https://www.overstock.com/Wor...</td>\n",
       "      <td>https://www.overstock.com/Worldstock-Fair-Trad...</td>\n",
       "      <td>NaN</td>\n",
       "      <td>NaN</td>\n",
       "      <td>NaN</td>\n",
       "      <td>NaN</td>\n",
       "      <td>NaN</td>\n",
       "      <td>NaN</td>\n",
       "      <td>NaN</td>\n",
       "      <td>NaN</td>\n",
       "    </tr>\n",
       "    <tr>\n",
       "      <th>1</th>\n",
       "      <td>AVpe__eOilAPnD_xSt-H</td>\n",
       "      <td>NaN</td>\n",
       "      <td>Novica</td>\n",
       "      <td>Access.,Clothing,Shoes,Women's Clothing</td>\n",
       "      <td>Purple</td>\n",
       "      <td>NaN</td>\n",
       "      <td>2017-02-03T22:06:24Z</td>\n",
       "      <td>2017-03-28T11:53:51Z</td>\n",
       "      <td>[{\"dateSeen\":[\"2017-03-26T05:04:46.539Z\",\"2017...</td>\n",
       "      <td>NaN</td>\n",
       "      <td>...</td>\n",
       "      <td>[{\"sourceURLs\":[\"https://www.overstock.com/Wor...</td>\n",
       "      <td>https://www.overstock.com/Worldstock-Fair-Trad...</td>\n",
       "      <td>NaN</td>\n",
       "      <td>NaN</td>\n",
       "      <td>NaN</td>\n",
       "      <td>NaN</td>\n",
       "      <td>NaN</td>\n",
       "      <td>NaN</td>\n",
       "      <td>NaN</td>\n",
       "      <td>NaN</td>\n",
       "    </tr>\n",
       "    <tr>\n",
       "      <th>2</th>\n",
       "      <td>AVpe__eOilAPnD_xSt-H</td>\n",
       "      <td>NaN</td>\n",
       "      <td>Novica</td>\n",
       "      <td>Access.,Clothing,Shoes,Women's Clothing</td>\n",
       "      <td>Purple</td>\n",
       "      <td>NaN</td>\n",
       "      <td>2017-02-03T22:06:24Z</td>\n",
       "      <td>2017-03-28T11:53:51Z</td>\n",
       "      <td>[{\"dateSeen\":[\"2017-03-26T05:04:46.539Z\",\"2017...</td>\n",
       "      <td>NaN</td>\n",
       "      <td>...</td>\n",
       "      <td>[{\"sourceURLs\":[\"https://www.overstock.com/Wor...</td>\n",
       "      <td>https://www.overstock.com/Worldstock-Fair-Trad...</td>\n",
       "      <td>NaN</td>\n",
       "      <td>NaN</td>\n",
       "      <td>NaN</td>\n",
       "      <td>NaN</td>\n",
       "      <td>NaN</td>\n",
       "      <td>NaN</td>\n",
       "      <td>NaN</td>\n",
       "      <td>NaN</td>\n",
       "    </tr>\n",
       "    <tr>\n",
       "      <th>3</th>\n",
       "      <td>AVpe__eOilAPnD_xSt-H</td>\n",
       "      <td>NaN</td>\n",
       "      <td>Novica</td>\n",
       "      <td>Access.,Clothing,Shoes,Women's Clothing</td>\n",
       "      <td>Purple</td>\n",
       "      <td>NaN</td>\n",
       "      <td>2017-02-03T22:06:24Z</td>\n",
       "      <td>2017-03-28T11:53:51Z</td>\n",
       "      <td>[{\"dateSeen\":[\"2017-03-26T05:04:46.539Z\",\"2017...</td>\n",
       "      <td>NaN</td>\n",
       "      <td>...</td>\n",
       "      <td>[{\"sourceURLs\":[\"https://www.overstock.com/Wor...</td>\n",
       "      <td>https://www.overstock.com/Worldstock-Fair-Trad...</td>\n",
       "      <td>NaN</td>\n",
       "      <td>NaN</td>\n",
       "      <td>NaN</td>\n",
       "      <td>NaN</td>\n",
       "      <td>NaN</td>\n",
       "      <td>NaN</td>\n",
       "      <td>NaN</td>\n",
       "      <td>NaN</td>\n",
       "    </tr>\n",
       "    <tr>\n",
       "      <th>4</th>\n",
       "      <td>AVpe__eOilAPnD_xSt-H</td>\n",
       "      <td>NaN</td>\n",
       "      <td>Novica</td>\n",
       "      <td>Access.,Clothing,Shoes,Women's Clothing</td>\n",
       "      <td>Purple</td>\n",
       "      <td>NaN</td>\n",
       "      <td>2017-02-03T22:06:24Z</td>\n",
       "      <td>2017-03-28T11:53:51Z</td>\n",
       "      <td>[{\"dateSeen\":[\"2017-03-26T05:04:46.539Z\",\"2017...</td>\n",
       "      <td>NaN</td>\n",
       "      <td>...</td>\n",
       "      <td>[{\"sourceURLs\":[\"https://www.overstock.com/Wor...</td>\n",
       "      <td>https://www.overstock.com/Worldstock-Fair-Trad...</td>\n",
       "      <td>NaN</td>\n",
       "      <td>NaN</td>\n",
       "      <td>NaN</td>\n",
       "      <td>NaN</td>\n",
       "      <td>NaN</td>\n",
       "      <td>NaN</td>\n",
       "      <td>NaN</td>\n",
       "      <td>NaN</td>\n",
       "    </tr>\n",
       "  </tbody>\n",
       "</table>\n",
       "<p>5 rows × 52 columns</p>\n",
       "</div>"
      ],
      "text/plain": [
       "                     id asins   brand  \\\n",
       "0  AVpe__eOilAPnD_xSt-H   NaN  Novica   \n",
       "1  AVpe__eOilAPnD_xSt-H   NaN  Novica   \n",
       "2  AVpe__eOilAPnD_xSt-H   NaN  Novica   \n",
       "3  AVpe__eOilAPnD_xSt-H   NaN  Novica   \n",
       "4  AVpe__eOilAPnD_xSt-H   NaN  Novica   \n",
       "\n",
       "                                categories  colors  count  \\\n",
       "0  Access.,Clothing,Shoes,Women's Clothing  Purple    NaN   \n",
       "1  Access.,Clothing,Shoes,Women's Clothing  Purple    NaN   \n",
       "2  Access.,Clothing,Shoes,Women's Clothing  Purple    NaN   \n",
       "3  Access.,Clothing,Shoes,Women's Clothing  Purple    NaN   \n",
       "4  Access.,Clothing,Shoes,Women's Clothing  Purple    NaN   \n",
       "\n",
       "              dateAdded           dateUpdated  \\\n",
       "0  2017-02-03T22:06:24Z  2017-03-28T11:53:51Z   \n",
       "1  2017-02-03T22:06:24Z  2017-03-28T11:53:51Z   \n",
       "2  2017-02-03T22:06:24Z  2017-03-28T11:53:51Z   \n",
       "3  2017-02-03T22:06:24Z  2017-03-28T11:53:51Z   \n",
       "4  2017-02-03T22:06:24Z  2017-03-28T11:53:51Z   \n",
       "\n",
       "                                        descriptions dimension  ...  \\\n",
       "0  [{\"dateSeen\":[\"2017-03-26T05:04:46.539Z\",\"2017...       NaN  ...   \n",
       "1  [{\"dateSeen\":[\"2017-03-26T05:04:46.539Z\",\"2017...       NaN  ...   \n",
       "2  [{\"dateSeen\":[\"2017-03-26T05:04:46.539Z\",\"2017...       NaN  ...   \n",
       "3  [{\"dateSeen\":[\"2017-03-26T05:04:46.539Z\",\"2017...       NaN  ...   \n",
       "4  [{\"dateSeen\":[\"2017-03-26T05:04:46.539Z\",\"2017...       NaN  ...   \n",
       "\n",
       "                                                skus  \\\n",
       "0  [{\"sourceURLs\":[\"https://www.overstock.com/Wor...   \n",
       "1  [{\"sourceURLs\":[\"https://www.overstock.com/Wor...   \n",
       "2  [{\"sourceURLs\":[\"https://www.overstock.com/Wor...   \n",
       "3  [{\"sourceURLs\":[\"https://www.overstock.com/Wor...   \n",
       "4  [{\"sourceURLs\":[\"https://www.overstock.com/Wor...   \n",
       "\n",
       "                                          sourceURLs  upc vin  websiteIDs  \\\n",
       "0  https://www.overstock.com/Worldstock-Fair-Trad...  NaN NaN         NaN   \n",
       "1  https://www.overstock.com/Worldstock-Fair-Trad...  NaN NaN         NaN   \n",
       "2  https://www.overstock.com/Worldstock-Fair-Trad...  NaN NaN         NaN   \n",
       "3  https://www.overstock.com/Worldstock-Fair-Trad...  NaN NaN         NaN   \n",
       "4  https://www.overstock.com/Worldstock-Fair-Trad...  NaN NaN         NaN   \n",
       "\n",
       "  weight Unnamed: 48 Unnamed: 49 Unnamed: 50 Unnamed: 51  \n",
       "0    NaN         NaN         NaN         NaN         NaN  \n",
       "1    NaN         NaN         NaN         NaN         NaN  \n",
       "2    NaN         NaN         NaN         NaN         NaN  \n",
       "3    NaN         NaN         NaN         NaN         NaN  \n",
       "4    NaN         NaN         NaN         NaN         NaN  \n",
       "\n",
       "[5 rows x 52 columns]"
      ]
     },
     "execution_count": 203,
     "metadata": {},
     "output_type": "execute_result"
    }
   ],
   "source": [
    "# Getting a glimpse of the datasets\n",
    "df.head()"
   ]
  },
  {
   "cell_type": "code",
   "execution_count": 204,
   "metadata": {
    "scrolled": true
   },
   "outputs": [
    {
     "data": {
      "text/html": [
       "<div>\n",
       "<style scoped>\n",
       "    .dataframe tbody tr th:only-of-type {\n",
       "        vertical-align: middle;\n",
       "    }\n",
       "\n",
       "    .dataframe tbody tr th {\n",
       "        vertical-align: top;\n",
       "    }\n",
       "\n",
       "    .dataframe thead th {\n",
       "        text-align: right;\n",
       "    }\n",
       "</style>\n",
       "<table border=\"1\" class=\"dataframe\">\n",
       "  <thead>\n",
       "    <tr style=\"text-align: right;\">\n",
       "      <th></th>\n",
       "      <th>id</th>\n",
       "      <th>asins</th>\n",
       "      <th>brand</th>\n",
       "      <th>categories</th>\n",
       "      <th>colors</th>\n",
       "      <th>count</th>\n",
       "      <th>dateAdded</th>\n",
       "      <th>dateUpdated</th>\n",
       "      <th>descriptions</th>\n",
       "      <th>dimension</th>\n",
       "      <th>...</th>\n",
       "      <th>prices.warranty</th>\n",
       "      <th>quantities</th>\n",
       "      <th>reviews</th>\n",
       "      <th>sizes</th>\n",
       "      <th>skus</th>\n",
       "      <th>sourceURLs</th>\n",
       "      <th>upc</th>\n",
       "      <th>vin</th>\n",
       "      <th>websiteIDs</th>\n",
       "      <th>weight</th>\n",
       "    </tr>\n",
       "  </thead>\n",
       "  <tbody>\n",
       "    <tr>\n",
       "      <th>0</th>\n",
       "      <td>AVpfHrJ6ilAPnD_xVXOI</td>\n",
       "      <td>NaN</td>\n",
       "      <td>Josmo</td>\n",
       "      <td>Clothing,Shoes,Men's Shoes,All Men's Shoes</td>\n",
       "      <td>NaN</td>\n",
       "      <td>NaN</td>\n",
       "      <td>2016-11-07T00:45:12Z</td>\n",
       "      <td>2016-11-07T00:45:12Z</td>\n",
       "      <td>[{\"dateSeen\":[\"2016-11-07T00:45:12Z\"],\"sourceU...</td>\n",
       "      <td>NaN</td>\n",
       "      <td>...</td>\n",
       "      <td>NaN</td>\n",
       "      <td>NaN</td>\n",
       "      <td>NaN</td>\n",
       "      <td>NaN</td>\n",
       "      <td>NaN</td>\n",
       "      <td>https://www.walmart.com/ip/Josmo-8190-Plain-In...</td>\n",
       "      <td>6.993020e+11</td>\n",
       "      <td>NaN</td>\n",
       "      <td>NaN</td>\n",
       "      <td>NaN</td>\n",
       "    </tr>\n",
       "    <tr>\n",
       "      <th>1</th>\n",
       "      <td>AVpfHrJ6ilAPnD_xVXOI</td>\n",
       "      <td>NaN</td>\n",
       "      <td>Josmo</td>\n",
       "      <td>Clothing,Shoes,Men's Shoes,All Men's Shoes</td>\n",
       "      <td>NaN</td>\n",
       "      <td>NaN</td>\n",
       "      <td>2016-11-07T00:45:12Z</td>\n",
       "      <td>2016-11-07T00:45:12Z</td>\n",
       "      <td>[{\"dateSeen\":[\"2016-11-07T00:45:12Z\"],\"sourceU...</td>\n",
       "      <td>NaN</td>\n",
       "      <td>...</td>\n",
       "      <td>NaN</td>\n",
       "      <td>NaN</td>\n",
       "      <td>NaN</td>\n",
       "      <td>NaN</td>\n",
       "      <td>NaN</td>\n",
       "      <td>https://www.walmart.com/ip/Josmo-8190-Plain-In...</td>\n",
       "      <td>6.993020e+11</td>\n",
       "      <td>NaN</td>\n",
       "      <td>NaN</td>\n",
       "      <td>NaN</td>\n",
       "    </tr>\n",
       "    <tr>\n",
       "      <th>2</th>\n",
       "      <td>AVpfHsWP1cnluZ0-eVZ7</td>\n",
       "      <td>NaN</td>\n",
       "      <td>SERVUS BY HONEYWELL</td>\n",
       "      <td>All Men's Shoes,Shoes,Men's Shoes,Clothing</td>\n",
       "      <td>NaN</td>\n",
       "      <td>NaN</td>\n",
       "      <td>2016-06-14T04:29:57Z</td>\n",
       "      <td>2016-07-09T20:26:48Z</td>\n",
       "      <td>[{\"dateSeen\":[\"2016-07-09T20:26:48Z\"],\"sourceU...</td>\n",
       "      <td>NaN</td>\n",
       "      <td>...</td>\n",
       "      <td>NaN</td>\n",
       "      <td>NaN</td>\n",
       "      <td>NaN</td>\n",
       "      <td>NaN</td>\n",
       "      <td>NaN</td>\n",
       "      <td>http://www.walmart.com/ip/Studs-Shoe-Large-Pr-...</td>\n",
       "      <td>NaN</td>\n",
       "      <td>NaN</td>\n",
       "      <td>NaN</td>\n",
       "      <td>NaN</td>\n",
       "    </tr>\n",
       "    <tr>\n",
       "      <th>3</th>\n",
       "      <td>AVpfHsWP1cnluZ0-eVZ7</td>\n",
       "      <td>NaN</td>\n",
       "      <td>SERVUS BY HONEYWELL</td>\n",
       "      <td>All Men's Shoes,Shoes,Men's Shoes,Clothing</td>\n",
       "      <td>NaN</td>\n",
       "      <td>NaN</td>\n",
       "      <td>2016-06-14T04:29:57Z</td>\n",
       "      <td>2016-07-09T20:26:48Z</td>\n",
       "      <td>[{\"dateSeen\":[\"2016-07-09T20:26:48Z\"],\"sourceU...</td>\n",
       "      <td>NaN</td>\n",
       "      <td>...</td>\n",
       "      <td>NaN</td>\n",
       "      <td>NaN</td>\n",
       "      <td>NaN</td>\n",
       "      <td>NaN</td>\n",
       "      <td>NaN</td>\n",
       "      <td>http://www.walmart.com/ip/Studs-Shoe-Large-Pr-...</td>\n",
       "      <td>NaN</td>\n",
       "      <td>NaN</td>\n",
       "      <td>NaN</td>\n",
       "      <td>NaN</td>\n",
       "    </tr>\n",
       "    <tr>\n",
       "      <th>4</th>\n",
       "      <td>AVpfHsWP1cnluZ0-eVZ7</td>\n",
       "      <td>NaN</td>\n",
       "      <td>SERVUS BY HONEYWELL</td>\n",
       "      <td>All Men's Shoes,Shoes,Men's Shoes,Clothing</td>\n",
       "      <td>NaN</td>\n",
       "      <td>NaN</td>\n",
       "      <td>2016-06-14T04:29:57Z</td>\n",
       "      <td>2016-07-09T20:26:48Z</td>\n",
       "      <td>[{\"dateSeen\":[\"2016-07-09T20:26:48Z\"],\"sourceU...</td>\n",
       "      <td>NaN</td>\n",
       "      <td>...</td>\n",
       "      <td>NaN</td>\n",
       "      <td>NaN</td>\n",
       "      <td>NaN</td>\n",
       "      <td>NaN</td>\n",
       "      <td>NaN</td>\n",
       "      <td>http://www.walmart.com/ip/Studs-Shoe-Large-Pr-...</td>\n",
       "      <td>NaN</td>\n",
       "      <td>NaN</td>\n",
       "      <td>NaN</td>\n",
       "      <td>NaN</td>\n",
       "    </tr>\n",
       "  </tbody>\n",
       "</table>\n",
       "<p>5 rows × 48 columns</p>\n",
       "</div>"
      ],
      "text/plain": [
       "                     id asins                brand  \\\n",
       "0  AVpfHrJ6ilAPnD_xVXOI   NaN                Josmo   \n",
       "1  AVpfHrJ6ilAPnD_xVXOI   NaN                Josmo   \n",
       "2  AVpfHsWP1cnluZ0-eVZ7   NaN  SERVUS BY HONEYWELL   \n",
       "3  AVpfHsWP1cnluZ0-eVZ7   NaN  SERVUS BY HONEYWELL   \n",
       "4  AVpfHsWP1cnluZ0-eVZ7   NaN  SERVUS BY HONEYWELL   \n",
       "\n",
       "                                   categories colors  count  \\\n",
       "0  Clothing,Shoes,Men's Shoes,All Men's Shoes    NaN    NaN   \n",
       "1  Clothing,Shoes,Men's Shoes,All Men's Shoes    NaN    NaN   \n",
       "2  All Men's Shoes,Shoes,Men's Shoes,Clothing    NaN    NaN   \n",
       "3  All Men's Shoes,Shoes,Men's Shoes,Clothing    NaN    NaN   \n",
       "4  All Men's Shoes,Shoes,Men's Shoes,Clothing    NaN    NaN   \n",
       "\n",
       "              dateAdded           dateUpdated  \\\n",
       "0  2016-11-07T00:45:12Z  2016-11-07T00:45:12Z   \n",
       "1  2016-11-07T00:45:12Z  2016-11-07T00:45:12Z   \n",
       "2  2016-06-14T04:29:57Z  2016-07-09T20:26:48Z   \n",
       "3  2016-06-14T04:29:57Z  2016-07-09T20:26:48Z   \n",
       "4  2016-06-14T04:29:57Z  2016-07-09T20:26:48Z   \n",
       "\n",
       "                                        descriptions dimension  ...  \\\n",
       "0  [{\"dateSeen\":[\"2016-11-07T00:45:12Z\"],\"sourceU...       NaN  ...   \n",
       "1  [{\"dateSeen\":[\"2016-11-07T00:45:12Z\"],\"sourceU...       NaN  ...   \n",
       "2  [{\"dateSeen\":[\"2016-07-09T20:26:48Z\"],\"sourceU...       NaN  ...   \n",
       "3  [{\"dateSeen\":[\"2016-07-09T20:26:48Z\"],\"sourceU...       NaN  ...   \n",
       "4  [{\"dateSeen\":[\"2016-07-09T20:26:48Z\"],\"sourceU...       NaN  ...   \n",
       "\n",
       "   prices.warranty quantities  reviews sizes  skus  \\\n",
       "0              NaN        NaN      NaN   NaN   NaN   \n",
       "1              NaN        NaN      NaN   NaN   NaN   \n",
       "2              NaN        NaN      NaN   NaN   NaN   \n",
       "3              NaN        NaN      NaN   NaN   NaN   \n",
       "4              NaN        NaN      NaN   NaN   NaN   \n",
       "\n",
       "                                          sourceURLs           upc vin  \\\n",
       "0  https://www.walmart.com/ip/Josmo-8190-Plain-In...  6.993020e+11 NaN   \n",
       "1  https://www.walmart.com/ip/Josmo-8190-Plain-In...  6.993020e+11 NaN   \n",
       "2  http://www.walmart.com/ip/Studs-Shoe-Large-Pr-...           NaN NaN   \n",
       "3  http://www.walmart.com/ip/Studs-Shoe-Large-Pr-...           NaN NaN   \n",
       "4  http://www.walmart.com/ip/Studs-Shoe-Large-Pr-...           NaN NaN   \n",
       "\n",
       "  websiteIDs weight  \n",
       "0        NaN    NaN  \n",
       "1        NaN    NaN  \n",
       "2        NaN    NaN  \n",
       "3        NaN    NaN  \n",
       "4        NaN    NaN  \n",
       "\n",
       "[5 rows x 48 columns]"
      ]
     },
     "execution_count": 204,
     "metadata": {},
     "output_type": "execute_result"
    }
   ],
   "source": [
    "df2.head()"
   ]
  },
  {
   "cell_type": "code",
   "execution_count": 205,
   "metadata": {},
   "outputs": [
    {
     "name": "stdout",
     "output_type": "stream",
     "text": [
      "(33801, 52)\n",
      "(19315, 48)\n"
     ]
    }
   ],
   "source": [
    "print(df.shape)\n",
    "print(df2.shape)"
   ]
  },
  {
   "cell_type": "markdown",
   "metadata": {},
   "source": [
    "The women's and men's shoe datasets are large (33801 rows x 52 columns and 19315 rows x 48 columns, respectively) and have several columns of information, such as features and image URLS that are not of interest to us. There are also many rows with missing price information, which need to be removed. The information on the data that we are going to focus on is brand, color, and price. \n",
    "\n"
   ]
  },
  {
   "cell_type": "code",
   "execution_count": 206,
   "metadata": {},
   "outputs": [
    {
     "name": "stderr",
     "output_type": "stream",
     "text": [
      "/usr/local/lib/python3.7/site-packages/ipykernel_launcher.py:19: FutureWarning: convert_objects is deprecated.  To re-infer data dtypes for object columns, use Series.infer_objects()\n",
      "For all other conversions use the data-type specific converters pd.to_datetime, pd.to_timedelta and pd.to_numeric.\n",
      "/usr/local/lib/python3.7/site-packages/ipykernel_launcher.py:20: FutureWarning: convert_objects is deprecated.  To re-infer data dtypes for object columns, use Series.infer_objects()\n",
      "For all other conversions use the data-type specific converters pd.to_datetime, pd.to_timedelta and pd.to_numeric.\n"
     ]
    }
   ],
   "source": [
    "# Limiting the datasets to id, brand, color, and price\n",
    "\n",
    "# Women's dataset\n",
    "df = df[['brand', 'colors', 'prices.amountMin', 'prices.amountMax']]\n",
    "\n",
    "# Men's dataset\n",
    "df2 = df2[['brand', 'colors', 'prices.amountMin', 'prices.amountMax']]\n",
    "\n",
    "# Getting rid of any data points with missing values\n",
    "df.dropna(inplace=True)\n",
    "df2.dropna(inplace=True)\n",
    "\n",
    "# To get an average price for each shoe, we will take the average of 'prices.amountMin' and 'prices.amountMax'\n",
    "df['price'] = (df['prices.amountMin'] + df['prices.amountMax']) / 2\n",
    "# Narrowing down the dataframe to brand, color, and the average price for each shoe\n",
    "df = df[['brand', 'colors', 'price']]\n",
    "\n",
    "# For men's, the prices are stored as objects, so we have to convert them into float value first\n",
    "df2['prices.amountMin'] = df2['prices.amountMin'].convert_objects(convert_numeric=True)\n",
    "df2['prices.amountMax'] = df2['prices.amountMax'].convert_objects(convert_numeric=True)\n",
    "# Creating a column for the average price of the shoes\n",
    "df2['price'] = (df2['prices.amountMin'] + df2['prices.amountMax']) / 2\n",
    "df2 = df2[['brand', 'colors', 'price']]\n",
    "\n"
   ]
  },
  {
   "cell_type": "code",
   "execution_count": 247,
   "metadata": {},
   "outputs": [],
   "source": [
    "# Finalizing the structure of the datasets and concactenating them\n",
    "\n",
    "# Adding a column to each dataframe and populating it based on the gender \n",
    "\n",
    "df['gender'] = 'womens'\n",
    "df2['gender'] = 'mens'\n",
    "\n",
    "df.columns = ['brand', 'color', 'price', 'gender']\n",
    "df2.columns = ['brand', 'color', 'price', 'gender']\n",
    "\n",
    "frames = [df, df2]\n",
    "shoes = pd.concat(frames, keys = ['womens', 'mens'])\n",
    "shoes = shoes[shoes.price > 0].dropna()"
   ]
  },
  {
   "cell_type": "markdown",
   "metadata": {},
   "source": [
    "## Description of the Dataset:\n",
    "\n",
    "Now that we have cleaned up our data and organized it all into one working dataframe, we can start to dive into it. There are 30,077 rows of entries for shoes, with 4 columns of data for the brand, color, price, and gender of the shoes. "
   ]
  },
  {
   "cell_type": "code",
   "execution_count": 248,
   "metadata": {},
   "outputs": [
    {
     "data": {
      "text/plain": [
       "Index(['brand', 'color', 'price', 'gender'], dtype='object')"
      ]
     },
     "execution_count": 248,
     "metadata": {},
     "output_type": "execute_result"
    }
   ],
   "source": [
    "shoes.columns"
   ]
  },
  {
   "cell_type": "code",
   "execution_count": 249,
   "metadata": {},
   "outputs": [
    {
     "data": {
      "text/plain": [
       "(30077, 4)"
      ]
     },
     "execution_count": 249,
     "metadata": {},
     "output_type": "execute_result"
    }
   ],
   "source": [
    "shoes.shape"
   ]
  },
  {
   "cell_type": "code",
   "execution_count": 250,
   "metadata": {
    "scrolled": true
   },
   "outputs": [
    {
     "data": {
      "text/plain": [
       "brand      object\n",
       "color      object\n",
       "price     float64\n",
       "gender     object\n",
       "dtype: object"
      ]
     },
     "execution_count": 250,
     "metadata": {},
     "output_type": "execute_result"
    }
   ],
   "source": [
    "shoes.dtypes"
   ]
  },
  {
   "cell_type": "code",
   "execution_count": 251,
   "metadata": {},
   "outputs": [
    {
     "data": {
      "text/html": [
       "<div>\n",
       "<style scoped>\n",
       "    .dataframe tbody tr th:only-of-type {\n",
       "        vertical-align: middle;\n",
       "    }\n",
       "\n",
       "    .dataframe tbody tr th {\n",
       "        vertical-align: top;\n",
       "    }\n",
       "\n",
       "    .dataframe thead th {\n",
       "        text-align: right;\n",
       "    }\n",
       "</style>\n",
       "<table border=\"1\" class=\"dataframe\">\n",
       "  <thead>\n",
       "    <tr style=\"text-align: right;\">\n",
       "      <th></th>\n",
       "      <th></th>\n",
       "      <th>brand</th>\n",
       "      <th>color</th>\n",
       "      <th>price</th>\n",
       "      <th>gender</th>\n",
       "    </tr>\n",
       "  </thead>\n",
       "  <tbody>\n",
       "    <tr>\n",
       "      <th rowspan=\"5\" valign=\"top\">womens</th>\n",
       "      <th>0</th>\n",
       "      <td>Novica</td>\n",
       "      <td>Purple</td>\n",
       "      <td>62.99</td>\n",
       "      <td>womens</td>\n",
       "    </tr>\n",
       "    <tr>\n",
       "      <th>1</th>\n",
       "      <td>Novica</td>\n",
       "      <td>Purple</td>\n",
       "      <td>62.99</td>\n",
       "      <td>womens</td>\n",
       "    </tr>\n",
       "    <tr>\n",
       "      <th>2</th>\n",
       "      <td>Novica</td>\n",
       "      <td>Purple</td>\n",
       "      <td>62.99</td>\n",
       "      <td>womens</td>\n",
       "    </tr>\n",
       "    <tr>\n",
       "      <th>3</th>\n",
       "      <td>Novica</td>\n",
       "      <td>Purple</td>\n",
       "      <td>62.99</td>\n",
       "      <td>womens</td>\n",
       "    </tr>\n",
       "    <tr>\n",
       "      <th>4</th>\n",
       "      <td>Novica</td>\n",
       "      <td>Purple</td>\n",
       "      <td>62.99</td>\n",
       "      <td>womens</td>\n",
       "    </tr>\n",
       "  </tbody>\n",
       "</table>\n",
       "</div>"
      ],
      "text/plain": [
       "           brand   color  price  gender\n",
       "womens 0  Novica  Purple  62.99  womens\n",
       "       1  Novica  Purple  62.99  womens\n",
       "       2  Novica  Purple  62.99  womens\n",
       "       3  Novica  Purple  62.99  womens\n",
       "       4  Novica  Purple  62.99  womens"
      ]
     },
     "execution_count": 251,
     "metadata": {},
     "output_type": "execute_result"
    }
   ],
   "source": [
    "shoes.head()"
   ]
  },
  {
   "cell_type": "markdown",
   "metadata": {},
   "source": [
    "## Visualizing the Data:\n",
    "\n",
    "Before we conduct any in-depth analysis of the dataset, we should look at how the data is distributed."
   ]
  },
  {
   "cell_type": "code",
   "execution_count": 313,
   "metadata": {
    "scrolled": false
   },
   "outputs": [
    {
     "data": {
      "image/png": "[encoded data removed]",
      "text/plain": [
       "<Figure size 792x360 with 1 Axes>"
      ]
     },
     "metadata": {
      "needs_background": "light"
     },
     "output_type": "display_data"
    },
    {
     "data": {
      "image/png": "[encoded data removed]",
      "text/plain": [
       "<Figure size 792x360 with 1 Axes>"
      ]
     },
     "metadata": {
      "needs_background": "light"
     },
     "output_type": "display_data"
    }
   ],
   "source": [
    "# Plotting the distribution of prices in women's shoes and men's shoes\n",
    "\n",
    "shoes.loc['womens'].hist(bins=100)\n",
    "plt.title('Distribution of Womens shoe prices')\n",
    "plt.xlabel('Prices in USD')\n",
    "plt.ylabel('Number of shoes')\n",
    "\n",
    "shoes.loc['mens'].hist(bins=100)\n",
    "plt.title('Distribution of Mens shoe prices')\n",
    "plt.xlabel('Prices in USD')\n",
    "plt.ylabel('Number of shoes')\n",
    "\n",
    "plt.show()"
   ]
  },
  {
   "cell_type": "markdown",
   "metadata": {},
   "source": [
    "Both women's and men's price subsets display right-skewedness, and need to be normalized in order to be compnared. Using a natural logarithimic transformation, we can normalize the distributions."
   ]
  },
  {
   "cell_type": "code",
   "execution_count": 265,
   "metadata": {
    "scrolled": true
   },
   "outputs": [
    {
     "data": {
      "image/png": "[encoded data removed]",
      "text/plain": [
       "<Figure size 792x360 with 2 Axes>"
      ]
     },
     "metadata": {
      "needs_background": "light"
     },
     "output_type": "display_data"
    }
   ],
   "source": [
    "plt.rcParams['figure.figsize'] = 11, 5\n",
    "\n",
    "plt.subplot(1, 2, 1)\n",
    "np.log(shoes.loc['womens'].price).hist()\n",
    "plt.title('Distribution of womens shoe prices (log transform)')\n",
    "plt.xlabel('Prices in USD (log transformed)')\n",
    "plt.ylabel('Number of shoes')\n",
    "\n",
    "plt.subplot(1, 2, 2)\n",
    "np.log(shoes.loc['mens'].price).hist()\n",
    "plt.title('Distribution of mens shoe prices (log transform)')\n",
    "plt.xlabel('Prices in USD (log transformed)')\n",
    "plt.ylabel('Number of shoes')\n",
    "\n",
    "plt.show()\n"
   ]
  },
  {
   "cell_type": "markdown",
   "metadata": {},
   "source": [
    "Now that we have normalized the women's and men's shoe price distributions, we can compare them. Using a t-test, we can compare the normalized mean prices of women's and men's shoes in this dataset. The null hypothesis is that women's and men's shoes are priced similarly, and have no significant difference in mean prices respectively. The test will be evaluated at a default p = 0.05\n"
   ]
  },
  {
   "cell_type": "code",
   "execution_count": 290,
   "metadata": {},
   "outputs": [],
   "source": [
    "# Taking random samples from the log-transformed womens and mens shoes:\n",
    "\n",
    "womens_sample = np.log(shoes.loc['womens'].price).sample(n=100, random_state=1)\n",
    "mens_sample = np.log(shoes.loc['mens'].price).sample(n=100, random_state=1)\n"
   ]
  },
  {
   "cell_type": "code",
   "execution_count": 291,
   "metadata": {
    "scrolled": true
   },
   "outputs": [
    {
     "name": "stdout",
     "output_type": "stream",
     "text": [
      "Ttest_indResult(statistic=-1.9964977365545986, pvalue=0.04725226712964421)\n"
     ]
    }
   ],
   "source": [
    "from scipy.stats import ttest_ind\n",
    "\n",
    "print(ttest_ind(womens_sample, mens_sample, equal_var=False))\n"
   ]
  },
  {
   "cell_type": "markdown",
   "metadata": {},
   "source": [
    "Results from the t-test yield a negative t-statistic and p-value of 0.0472, which tells us to reject our null hypothesis at the 0.05 significance level. In other words, women's and men's shoe mean prices are significantly different. The negative t-statistic value tells us that men's shoe prices are actually more expensive than women's shoe prices on average."
   ]
  },
  {
   "cell_type": "markdown",
   "metadata": {},
   "source": [
    "### Looking at the most popular brands for women's and men's shoes:\n",
    "\n",
    "To get a better idea of how prices for women's and men's shoes compare, we can take a look at the brands in the data set. "
   ]
  },
  {
   "cell_type": "markdown",
   "metadata": {},
   "source": [
    "Most frequent brands in women's shoes: "
   ]
  },
  {
   "cell_type": "code",
   "execution_count": 257,
   "metadata": {},
   "outputs": [
    {
     "data": {
      "text/plain": [
       "Journee Collection    1397\n",
       "Ralph Lauren           990\n",
       "Novica                 574\n",
       "Propet                 446\n",
       "Nike                   404\n",
       "Easy Spirit            326\n",
       "Nature Breeze          301\n",
       "In-Sattva              288\n",
       "Nine West              278\n",
       "Hadari                 258\n",
       "Name: brand, dtype: int64"
      ]
     },
     "execution_count": 257,
     "metadata": {},
     "output_type": "execute_result"
    }
   ],
   "source": [
    "shoes.loc['womens'].brand.value_counts().head(10)"
   ]
  },
  {
   "cell_type": "markdown",
   "metadata": {},
   "source": [
    "Most frequent brands in men's shoes:"
   ]
  },
  {
   "cell_type": "code",
   "execution_count": 258,
   "metadata": {},
   "outputs": [
    {
     "data": {
      "text/plain": [
       "Nike            1244\n",
       "Ralph Lauren     692\n",
       "PUMA             401\n",
       "New Balance      296\n",
       "VANS             272\n",
       "Reebok           207\n",
       "Converse         135\n",
       "Unbranded        124\n",
       "adidas           122\n",
       "Jordan           114\n",
       "Name: brand, dtype: int64"
      ]
     },
     "execution_count": 258,
     "metadata": {},
     "output_type": "execute_result"
    }
   ],
   "source": [
    "shoes.loc['mens'].brand.value_counts().head(10)"
   ]
  },
  {
   "cell_type": "markdown",
   "metadata": {},
   "source": [
    "## Looking at the price distribution across the most popular brands\n"
   ]
  },
  {
   "cell_type": "markdown",
   "metadata": {},
   "source": [
    "Looks like Ralph Lauren and Nike are both in the top 10 for most popular brands of shoes for women and men. Lets take a look at how the prices of these shoes are distributed with respect to women and men "
   ]
  },
  {
   "cell_type": "markdown",
   "metadata": {},
   "source": [
    "#### Ralph Lauren"
   ]
  },
  {
   "cell_type": "code",
   "execution_count": 356,
   "metadata": {
    "scrolled": true
   },
   "outputs": [
    {
     "data": {
      "image/png": "[encoded data removed]",
      "text/plain": [
       "<Figure size 792x360 with 1 Axes>"
      ]
     },
     "metadata": {
      "needs_background": "light"
     },
     "output_type": "display_data"
    }
   ],
   "source": [
    "plt.rcParams['figure.figsize'] = 11, 5\n",
    "\n",
    "plt.hist(shoes[shoes.brand == 'Ralph Lauren'].loc['womens'].price, bins = 35, alpha=0.5, label='womens') # bin size a little coarse\n",
    "plt.hist(shoes[shoes.brand == 'Ralph Lauren'].loc['mens'].price, bins = 35, alpha=0.5, label='mens')\n",
    "\n",
    "plt.title('Distribution of Ralph Lauren shoe prices')\n",
    "plt.xlabel('Prices in USD')\n",
    "plt.ylabel('Number of shoes')\n",
    "\n",
    "\n",
    "plt.legend(loc='upper right')\n",
    "plt.show()"
   ]
  },
  {
   "cell_type": "markdown",
   "metadata": {},
   "source": [
    "In order to compare the women's and men's Ralph Lauren shoe prices, we need to fit these distributions to parametric models so that we can get an idea of what type of transformation these distributions require:"
   ]
  },
  {
   "cell_type": "code",
   "execution_count": 369,
   "metadata": {
    "scrolled": false
   },
   "outputs": [
    {
     "data": {
      "image/png": "[encoded data removed]",
      "text/plain": [
       "<Figure size 792x360 with 1 Axes>"
      ]
     },
     "metadata": {
      "needs_background": "light"
     },
     "output_type": "display_data"
    }
   ],
   "source": [
    "plt.rcParams['figure.figsize'] = 11, 5\n",
    "\n",
    "sns.distplot(shoes[shoes.brand == 'Ralph Lauren'].loc['womens'].price, label='womens',bins=35, kde=True, rug=True, fit=stats.gamma)\n",
    "sns.distplot(shoes[shoes.brand == 'Ralph Lauren'].loc['mens'].price, label='mens', bins=35, kde=True, rug=True, fit=stats.gamma)\n",
    "plt.xlabel('Prices in USD')\n",
    "plt.ylabel('Density')\n",
    "plt.legend();\n"
   ]
  },
  {
   "cell_type": "markdown",
   "metadata": {},
   "source": [
    "Looks like the women's Ralph Lauren distribution is somewhat normal, while the men's Ralph Lauren distribution is more vague. Both distributions can't be normalized with the same transformation. Due to the non-parametric nature of these distributions, we will use the Mann-Whitney U test to compare them."
   ]
  },
  {
   "cell_type": "markdown",
   "metadata": {},
   "source": [
    "The Mann-Whitney U test is a non-parametric test that can be used in place of an\n",
    "unpaired t-test. It is used to test the null hypothesis that two samples come from the\n",
    "same population (i.e. have the same median) or, alternatively, whether observations in one\n",
    "sample tend to be larger than observations in the other."
   ]
  },
  {
   "cell_type": "code",
   "execution_count": 401,
   "metadata": {
    "scrolled": true
   },
   "outputs": [
    {
     "data": {
      "text/plain": [
       "MannwhitneyuResult(statistic=3332.5, pvalue=2.273560708864803e-05)"
      ]
     },
     "execution_count": 401,
     "metadata": {},
     "output_type": "execute_result"
    }
   ],
   "source": [
    "# Using the Mann-Whitney U Test to compare the sample means of womens and mens Ralph Lauren Shoes\n",
    "RL_womens_sample = shoes[shoes.brand == 'Ralph Lauren'].loc['womens'].price.sample(n=100, random_state=1)\n",
    "RL_mens_sample = shoes[shoes.brand == 'Ralph Lauren'].loc['mens'].price.sample(n=100, random_state=1)\n",
    "\n",
    "stats.mannwhitneyu(RL_womens_sample, RL_mens_sample, use_continuity=True, alternative=None)"
   ]
  },
  {
   "cell_type": "markdown",
   "metadata": {},
   "source": [
    "The Mann-Whitney U Test yields a p-value of $ 2.27 * 10 ^{-5} $, which allows us to reject the null hypothesis that the samples come from the same population, and that there is a significant difference between women's Ralph Lauren shoe prices compared to men. A caveat about this conclusion - This dataset has prices listed for all sorts of women's and men's Ralph Lauren shoes and many different styles of shoes are lumped together. It is difficult to draw a one-to-one comparision between vastly different styles of shoes, which may be the the primary contributing factor to the shoe prices. I.e. a women's knee-high riding boot does not draw a one-to-one comparision between a men's chukka boot. "
   ]
  },
  {
   "cell_type": "markdown",
   "metadata": {},
   "source": [
    "### Nike\n",
    "\n",
    "Nike is the world's largest supplier of athletic shoes, and unsurprisngly one of the most popular brands to appear on this dataset. Nike is interesting because many of the shoes the company manufactures have a men's and women's version. This allows us to draw a more accurate one-to-one comparision. Lets see how women's and men's Nike shoe prices are distributed, and if there is a significant difference in their pricing.  "
   ]
  },
  {
   "cell_type": "markdown",
   "metadata": {},
   "source": [
    "Women's Nike shoe price statistics: "
   ]
  },
  {
   "cell_type": "code",
   "execution_count": 381,
   "metadata": {
    "scrolled": true
   },
   "outputs": [
    {
     "data": {
      "text/plain": [
       "count    404.000000\n",
       "mean      98.135012\n",
       "std       32.038731\n",
       "min       16.750000\n",
       "25%       75.210000\n",
       "50%       97.780000\n",
       "75%      114.900000\n",
       "max      212.000000\n",
       "Name: price, dtype: float64"
      ]
     },
     "execution_count": 381,
     "metadata": {},
     "output_type": "execute_result"
    }
   ],
   "source": [
    "shoes[shoes.brand == 'Nike'].loc['womens'].price.describe()"
   ]
  },
  {
   "cell_type": "markdown",
   "metadata": {},
   "source": [
    "Men's Nike shoe price statistics:"
   ]
  },
  {
   "cell_type": "code",
   "execution_count": 382,
   "metadata": {},
   "outputs": [
    {
     "data": {
      "text/plain": [
       "count    1244.000000\n",
       "mean      102.051949\n",
       "std        79.393643\n",
       "min         1.000000\n",
       "25%        54.990000\n",
       "50%        80.540000\n",
       "75%       122.510000\n",
       "max       751.800000\n",
       "Name: price, dtype: float64"
      ]
     },
     "execution_count": 382,
     "metadata": {},
     "output_type": "execute_result"
    }
   ],
   "source": [
    "shoes[shoes.brand == 'Nike'].loc['mens'].price.describe()"
   ]
  },
  {
   "cell_type": "code",
   "execution_count": 342,
   "metadata": {
    "scrolled": true
   },
   "outputs": [
    {
     "data": {
      "image/png": "[encoded data removed]",
      "text/plain": [
       "<Figure size 792x360 with 1 Axes>"
      ]
     },
     "metadata": {
      "needs_background": "light"
     },
     "output_type": "display_data"
    }
   ],
   "source": [
    "plt.rcParams['figure.figsize'] = 11, 5\n",
    "plt.hist(shoes[shoes.brand == 'Nike'].loc['womens'].price, bins=40, alpha=0.5, label='womens')\n",
    "plt.hist(shoes[shoes.brand == 'Nike'].loc['mens'].price, bins=40, alpha=0.5, label='mens')\n",
    "#shoes[shoes.brand == 'Nike'].loc['womens'].hist(alpha=0.5, label='womens')\n",
    "plt.title('Distribution of Nike shoe prices')\n",
    "plt.xlabel('Prices in USD')\n",
    "plt.ylabel('Number of shoes')\n",
    "\n",
    "\n",
    "plt.legend(loc='upper right')\n",
    "plt.show()"
   ]
  },
  {
   "cell_type": "markdown",
   "metadata": {},
   "source": [
    "In order to compare the women's and men's Nike shoe prices, we need to fit these distributions to parametric models so that we can get an idea of what type of statistical tests to run and transformation these distributions require:"
   ]
  },
  {
   "cell_type": "code",
   "execution_count": 344,
   "metadata": {
    "scrolled": true
   },
   "outputs": [
    {
     "data": {
      "image/png": "[encoded data removed]",
      "text/plain": [
       "<Figure size 792x360 with 1 Axes>"
      ]
     },
     "metadata": {
      "needs_background": "light"
     },
     "output_type": "display_data"
    }
   ],
   "source": [
    "plt.rcParams['figure.figsize'] = 11, 5\n",
    "sns.distplot(shoes[shoes.brand == 'Nike'].loc['womens'].price, label='womens',bins=35, kde=True, rug=True)#, fit=stats.gamma)\n",
    "sns.distplot(shoes[shoes.brand == 'Nike'].loc['mens'].price, label='mens', bins=35, kde=True, rug=True)#, fit=stats.gamma)\n",
    "plt.legend();"
   ]
  },
  {
   "cell_type": "markdown",
   "metadata": {},
   "source": [
    "Looks like both of the shoe distributions follow a similar distribution, looking slightly normal but with some outliers causing a slight rightward skew in the mens shoes, and very high density in the middle of the women's distribution. We will use both a t-test and cross-validate with a Mann-Whitney U Test at a 0.05 siginificance level to determine if there is a significant difference in women's and men's Nike shoe prices. The null hypothesis is that women's and men's Nike shoe prices are equal."
   ]
  },
  {
   "cell_type": "code",
   "execution_count": 338,
   "metadata": {},
   "outputs": [
    {
     "name": "stdout",
     "output_type": "stream",
     "text": [
      "Ttest_indResult(statistic=-1.09129164872419, pvalue=0.27721487201232115)\n"
     ]
    }
   ],
   "source": [
    "# T test to see if there is a difference in Women's and Men's Nike shoe prices\n",
    "nike_womens_sample = shoes[shoes.brand == 'Nike'].loc['womens'].price.sample(n=100, random_state=1)\n",
    "nike_mens_sample = shoes[shoes.brand == 'Nike'].loc['mens'].price.sample(n=100, random_state=1)                                                                           \n",
    "print(ttest_ind(nike_womens_sample, nike_mens_sample, equal_var=False))\n"
   ]
  },
  {
   "cell_type": "code",
   "execution_count": 383,
   "metadata": {},
   "outputs": [
    {
     "data": {
      "text/plain": [
       "MannwhitneyuResult(statistic=4415.5, pvalue=0.07678969903449932)"
      ]
     },
     "execution_count": 383,
     "metadata": {},
     "output_type": "execute_result"
    }
   ],
   "source": [
    "# Mann-Whitney U Test:\n",
    "stats.mannwhitneyu(nike_womens_sample, nike_mens_sample, use_continuity=True, alternative=None)\n"
   ]
  },
  {
   "cell_type": "markdown",
   "metadata": {},
   "source": [
    "The t-test and Mann-Whitney U test yield p-values of 0.27 and 0.07, failing to reject the null hypothesis. Looks like Nike does price its shoes similarly for women and men, which is nice to see."
   ]
  },
  {
   "cell_type": "markdown",
   "metadata": {},
   "source": [
    "### Is color a contributing factor to price differences? Are there certain colors within brands that are more expensive?\n",
    "\n"
   ]
  },
  {
   "cell_type": "markdown",
   "metadata": {},
   "source": [
    "Here are the most popular colors in the Ralph Lauren women's shoe subset:"
   ]
  },
  {
   "cell_type": "code",
   "execution_count": 386,
   "metadata": {},
   "outputs": [
    {
     "data": {
      "text/plain": [
       "Black                      167\n",
       "RL Gold,Black              109\n",
       "Black,Brown                 87\n",
       "Dark Brown,Black,Saddle     79\n",
       "Tan                         58\n",
       "Dark Brown,Black            56\n",
       "Camel,Snuff,Cream           41\n",
       "Camel                       33\n",
       "Snuff                       29\n",
       "Brown,Black                 28\n",
       "Name: color, dtype: int64"
      ]
     },
     "execution_count": 386,
     "metadata": {},
     "output_type": "execute_result"
    }
   ],
   "source": [
    "# Looking at the most popular colors within Women's Ralph Lauren Shoes\n",
    "shoes[shoes.brand == 'Ralph Lauren'].loc['womens'].color.value_counts().head(10)"
   ]
  },
  {
   "cell_type": "markdown",
   "metadata": {},
   "source": [
    "#### Ralph Lauren price distributions\n",
    "Here we look at the price distributions across the most popular shoe colors of Ralph Lauren Women's shoes:"
   ]
  },
  {
   "cell_type": "code",
   "execution_count": 347,
   "metadata": {
    "scrolled": false
   },
   "outputs": [
    {
     "name": "stdout",
     "output_type": "stream",
     "text": [
      "Index(['Black', 'RL Gold,Black', 'Black,Brown', 'Dark Brown,Black,Saddle',\n",
      "       'Tan', 'Dark Brown,Black', 'Camel,Snuff,Cream', 'Camel', 'Snuff',\n",
      "       'Brown,Black'],\n",
      "      dtype='object')\n"
     ]
    },
    {
     "data": {
      "image/png": "[encoded data removed]",
      "text/plain": [
       "<Figure size 792x792 with 1 Axes>"
      ]
     },
     "metadata": {
      "needs_background": "light"
     },
     "output_type": "display_data"
    }
   ],
   "source": [
    "plt.rcParams['figure.figsize'] = 11, 11\n",
    "RL = shoes[shoes.brand == 'Ralph Lauren'].loc['womens'].color.value_counts().head(10).index\n",
    "print(RL)\n",
    "sns.boxplot(x='price', y='color', data=shoes[(shoes.brand=='Ralph Lauren') & (shoes.color.isin(RL))])\n",
    "plt.show()"
   ]
  },
  {
   "cell_type": "markdown",
   "metadata": {},
   "source": [
    "Looks like there is a very diverse spread of pricing based on the color"
   ]
  },
  {
   "cell_type": "markdown",
   "metadata": {},
   "source": [
    "#### An interesting comparision would be to see if \"tan\" and \"camel\" colored Ralph Lauren shoes are distributed differently and if there is a significant difference in prices between those two colors\n",
    "\n",
    "Tan and camel are both very similar colors but have very different price distributions. Lets look into them:"
   ]
  },
  {
   "cell_type": "markdown",
   "metadata": {},
   "source": [
    "Tan colored women's Ralph Lauren shoe price statistics:"
   ]
  },
  {
   "cell_type": "code",
   "execution_count": 398,
   "metadata": {},
   "outputs": [
    {
     "name": "stderr",
     "output_type": "stream",
     "text": [
      "/usr/local/lib/python3.7/site-packages/ipykernel_launcher.py:1: UserWarning: Boolean Series key will be reindexed to match DataFrame index.\n",
      "  \"\"\"Entry point for launching an IPython kernel.\n"
     ]
    },
    {
     "data": {
      "text/plain": [
       "count     58.000000\n",
       "mean     772.724138\n",
       "std      105.919830\n",
       "min      378.000000\n",
       "25%      650.000000\n",
       "50%      795.000000\n",
       "75%      795.000000\n",
       "max      895.000000\n",
       "Name: price, dtype: float64"
      ]
     },
     "execution_count": 398,
     "metadata": {},
     "output_type": "execute_result"
    }
   ],
   "source": [
    "shoes[shoes.brand == 'Ralph Lauren'][shoes.color == 'Tan'].loc['womens'].price.describe()"
   ]
  },
  {
   "cell_type": "code",
   "execution_count": 399,
   "metadata": {},
   "outputs": [
    {
     "name": "stderr",
     "output_type": "stream",
     "text": [
      "/usr/local/lib/python3.7/site-packages/ipykernel_launcher.py:1: UserWarning: Boolean Series key will be reindexed to match DataFrame index.\n",
      "  \"\"\"Entry point for launching an IPython kernel.\n"
     ]
    },
    {
     "data": {
      "text/plain": [
       "count      33.000000\n",
       "mean      992.151515\n",
       "std       300.839359\n",
       "min       299.000000\n",
       "25%       850.000000\n",
       "50%       850.000000\n",
       "75%      1300.000000\n",
       "max      1300.000000\n",
       "Name: price, dtype: float64"
      ]
     },
     "execution_count": 399,
     "metadata": {},
     "output_type": "execute_result"
    }
   ],
   "source": [
    "shoes[shoes.brand == 'Ralph Lauren'][shoes.color == 'Camel'].loc['womens'].price.describe()"
   ]
  },
  {
   "cell_type": "code",
   "execution_count": 390,
   "metadata": {
    "scrolled": false
   },
   "outputs": [
    {
     "name": "stderr",
     "output_type": "stream",
     "text": [
      "/usr/local/lib/python3.7/site-packages/ipykernel_launcher.py:4: UserWarning: Boolean Series key will be reindexed to match DataFrame index.\n",
      "  after removing the cwd from sys.path.\n",
      "/usr/local/lib/python3.7/site-packages/ipykernel_launcher.py:10: UserWarning: Boolean Series key will be reindexed to match DataFrame index.\n",
      "  # Remove the CWD from sys.path while we load stuff.\n"
     ]
    },
    {
     "data": {
      "image/png": "[encoded data removed]",
      "text/plain": [
       "<Figure size 792x720 with 2 Axes>"
      ]
     },
     "metadata": {
      "needs_background": "light"
     },
     "output_type": "display_data"
    }
   ],
   "source": [
    "plt.rcParams['figure.figsize'] = 11, 10\n",
    "\n",
    "plt.subplot(2, 1, 1)\n",
    "shoes[shoes.brand == 'Ralph Lauren'][shoes.color == 'Tan'].loc['womens'].price.hist(color='tan')\n",
    "plt.title('Distribution of Tan Ralph Lauren womens shoe prices')\n",
    "plt.xlabel('Prices in USD')\n",
    "plt.ylabel('Number of shoes')\n",
    "\n",
    "plt.subplot(2, 1, 2)\n",
    "shoes[shoes.brand == 'Ralph Lauren'][shoes.color == 'Camel'].loc['womens'].price.hist(color='#C19A6B')\n",
    "plt.title('Distribution of Camel Ralph Lauren womens shoe prices')\n",
    "plt.xlabel('Prices in USD')\n",
    "plt.ylabel('Number of shoes')\n",
    "\n",
    "plt.legend\n",
    "plt.show()"
   ]
  },
  {
   "cell_type": "markdown",
   "metadata": {},
   "source": [
    "Due to the clear non-parametric nature of the tan and camel shoe distributions, we will use a Mann-Whitney U Test to see if there is a significant difference in prices between these colors. The null hypothesis is that these colors have the same median price and that there is no difference in pricing between these colors. We will evaluate at a 0.05 significance level.\n"
   ]
  },
  {
   "cell_type": "code",
   "execution_count": 400,
   "metadata": {},
   "outputs": [
    {
     "name": "stderr",
     "output_type": "stream",
     "text": [
      "/usr/local/lib/python3.7/site-packages/ipykernel_launcher.py:3: UserWarning: Boolean Series key will be reindexed to match DataFrame index.\n",
      "  This is separate from the ipykernel package so we can avoid doing imports until\n",
      "/usr/local/lib/python3.7/site-packages/ipykernel_launcher.py:4: UserWarning: Boolean Series key will be reindexed to match DataFrame index.\n",
      "  after removing the cwd from sys.path.\n"
     ]
    },
    {
     "data": {
      "text/plain": [
       "MannwhitneyuResult(statistic=432.0, pvalue=4.725281366480138e-06)"
      ]
     },
     "execution_count": 400,
     "metadata": {},
     "output_type": "execute_result"
    }
   ],
   "source": [
    "# T-Test to see if there is a significant difference in prices between \n",
    "# Tan and Camel Ralph Lauren shoes\n",
    "tan_RL = shoes[shoes.brand == 'Ralph Lauren'][shoes.color == 'Tan'].loc['womens'].price\n",
    "camel_RL = shoes[shoes.brand == 'Ralph Lauren'][shoes.color == 'Camel'].loc['womens'].price\n",
    "stats.mannwhitneyu(tan_RL, camel_RL, use_continuity=True, alternative=None)\n"
   ]
  },
  {
   "cell_type": "markdown",
   "metadata": {},
   "source": [
    "The Mann-Whitney U Test yields a p-value of $4.73 * 10^{-6}$, clearly below the 0.05 siginificance level, allowing us to reject our null hypothesis. Looks like camel colored shoes are significantly more expensive than tan colored shoes. Camel sounds like a premium colorway as opposed to tan."
   ]
  },
  {
   "cell_type": "markdown",
   "metadata": {},
   "source": [
    "## Limitations and Further Research\n",
    "\n",
    "The primary datasets used in this study gave insights about many women's and men's shoes, but did not account for all shoes in general. While these datasets had many data points, they are not representative of the shoe market as a whole, but serve to give a small glimpse into it. The data was sourced from multiple retailers which provides a a more diverse source of pricing, but does not focus on any one type of shoe. \n",
    "\n",
    "### Future thoughts \n",
    "\n",
    "In order to draw better one-to-one comparisions between shoe types, such as sandals, boots, sneakers, etc., methodology such as NLP could be used in the future to parse this dataset and provide more detailed insights. NLP could be used to identify the different retailers and provide information on which websites, such as Amazon or Overstock, provide the best prices for the same shoes. If the dataset was populated more robustly with shoe sizes, we could observe trends amongst shoe sizes and prices as well. The orignial datasets had a lot of image URLs, which provide opportunities for using computer vision to implement image classification techniques and provide further differentiation between styles of shoe and drive e-commerce insights. "
   ]
  },
  {
   "cell_type": "code",
   "execution_count": null,
   "metadata": {},
   "outputs": [],
   "source": []
  }
 ],
 "metadata": {
  "kernelspec": {
   "display_name": "Python 3",
   "language": "python",
   "name": "python3"
  },
  "language_info": {
   "codemirror_mode": {
    "name": "ipython",
    "version": 3
   },
   "file_extension": ".py",
   "mimetype": "text/x-python",
   "name": "python",
   "nbconvert_exporter": "python",
   "pygments_lexer": "ipython3",
   "version": "3.7.3"
  }
 },
 "nbformat": 4,
 "nbformat_minor": 2
}
