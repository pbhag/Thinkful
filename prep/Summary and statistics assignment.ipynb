{
 "cells": [
  {
   "cell_type": "markdown",
   "metadata": {},
   "source": [
    "# Summary and statistics assignment\n",
    "1. Greg was 14, Marcia was 12, Peter was 11, Jan was 10, Bobby was 8, and Cindy was 6 when they started playing the Brady kids on The Brady Bunch. Cousin Oliver was 8 years old when he joined the show. What are the mean, median, and mode of the kids' ages when they first appeared on the show? What are the variance, standard deviation, and standard error?"
   ]
  },
  {
   "cell_type": "code",
   "execution_count": 26,
   "metadata": {},
   "outputs": [
    {
     "name": "stdout",
     "output_type": "stream",
     "text": [
      "mean:  9.857142857142858\n",
      "median:  10.0\n",
      "variance:  6.408163265306122\n",
      "std. deviation : 2.531435020952764\n",
      "standard error : 1.0334540197243194\n",
      "Mode is 8\n"
     ]
    }
   ],
   "source": [
    "import numpy as np\n",
    "ages =[14,12,11,10,8,6,8]\n",
    "\n",
    "def summarystats(ages):\n",
    "    print(\"mean: \",np.mean(ages))\n",
    "    print(\"median: \",np.median(ages))\n",
    "    print(\"variance: \",np.var(ages))\n",
    "    print(\"std. deviation :\",np.std(ages))\n",
    "    print(\"standard error :\",np.std(ages)/np.sqrt(len(ages)-1))\n",
    "    \n",
    "summarystats(ages)\n",
    "print(\"Mode is 8\")"
   ]
  },
  {
   "cell_type": "markdown",
   "metadata": {},
   "source": [
    "2. Using these estimates, if you had to choose only one estimate of central tendency and one estimate of variance to describe the data, which would you pick and why?"
   ]
  },
  {
   "cell_type": "markdown",
   "metadata": {},
   "source": [
    "The mean and standard deviation are good estimates, as the mean is close to the median"
   ]
  },
  {
   "cell_type": "markdown",
   "metadata": {},
   "source": [
    "3. Next, Cindy has a birthday. Update your estimates- what changed, and what didn't?"
   ]
  },
  {
   "cell_type": "code",
   "execution_count": 27,
   "metadata": {},
   "outputs": [
    {
     "name": "stdout",
     "output_type": "stream",
     "text": [
      "mean:  10.0\n",
      "median:  10.0\n",
      "variance:  5.428571428571429\n",
      "std. deviation : 2.32992949004287\n",
      "standard error : 0.951189731211342\n",
      "Mode is 8\n"
     ]
    }
   ],
   "source": [
    "ages2 =[14,12,11,10,8,7,8]\n",
    "summarystats(ages2)\n",
    "print(\"Mode is 8\")"
   ]
  },
  {
   "cell_type": "markdown",
   "metadata": {},
   "source": [
    "4. Nobody likes Cousin Oliver. Maybe the network should have used an even younger actor. Replace Cousin Oliver with 1-year-old Jessica, then recalculate again. Does this change your choice of central tendency or variance estimation methods?"
   ]
  },
  {
   "cell_type": "code",
   "execution_count": 31,
   "metadata": {},
   "outputs": [
    {
     "name": "stdout",
     "output_type": "stream",
     "text": [
      "mean:  9.0\n",
      "median:  10.0\n",
      "variance:  15.428571428571429\n",
      "std. deviation : 3.927922024247863\n",
      "standard error : 1.6035674514745466\n",
      "There is no mode\n"
     ]
    }
   ],
   "source": [
    "ages3 = [14, 12, 11, 10, 8, 7, 1]\n",
    "summarystats(ages3)\n",
    "print(\"There is no mode\")"
   ]
  },
  {
   "cell_type": "markdown",
   "metadata": {},
   "source": [
    "The outlier, 1, skews the median. Use mode "
   ]
  },
  {
   "cell_type": "markdown",
   "metadata": {},
   "source": [
    "5. On the 50th anniversary of The Brady Bunch, four different magazines asked their readers whether they were fans of the show. The answers were: TV Guide 20% fans Entertainment Weekly 23% fans Pop Culture Today 17% fans SciPhi Phanatic 5% fans\n",
    "\n",
    "Based on these numbers, what percentage of adult Americans would you estimate were Brady Bunch fans on the 50th anniversary of the show?"
   ]
  },
  {
   "cell_type": "code",
   "execution_count": 35,
   "metadata": {},
   "outputs": [
    {
     "data": {
      "text/plain": [
       "20.0"
      ]
     },
     "execution_count": 35,
     "metadata": {},
     "output_type": "execute_result"
    }
   ],
   "source": [
    "np.average([20, 23, 17])\n",
    "# SciPhi Phanatic is not a representative data point, introduces bias\n",
    "# SciPhi is not included"
   ]
  },
  {
   "cell_type": "code",
   "execution_count": null,
   "metadata": {},
   "outputs": [],
   "source": []
  }
 ],
 "metadata": {
  "kernelspec": {
   "display_name": "Python 3",
   "language": "python",
   "name": "python3"
  },
  "language_info": {
   "codemirror_mode": {
    "name": "ipython",
    "version": 3
   },
   "file_extension": ".py",
   "mimetype": "text/x-python",
   "name": "python",
   "nbconvert_exporter": "python",
   "pygments_lexer": "ipython3",
   "version": "3.7.2"
  }
 },
 "nbformat": 4,
 "nbformat_minor": 2
}
