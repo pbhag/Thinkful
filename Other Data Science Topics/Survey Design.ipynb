{
 "cells": [
  {
   "cell_type": "markdown",
   "metadata": {},
   "source": [
    "# Survey Design\n",
    "\n",
    "Observed and recorded behavior is the gold standard for people prediction\n",
    "\n",
    "- Better predictions looking at what people have done in the past than from asking them\n",
    "\n",
    "__Self reported data:__ information about peoples thoughts/actions provided by the person themselves\n",
    "\n",
    "- Is all that's available for many scenarios\n",
    "- Reasons:\n",
    "    - Behavior is too sensitive to collect directly (sex, hygiene, income)\n",
    "    - Behavior is too expensive or slow to study\n",
    "    - Lack the infrastructure or access to the information directly\n",
    "\n",
    "__Surveys__ are used when this is the case to get information to use to understand a sample and predict its behavio"
   ]
  },
  {
   "cell_type": "markdown",
   "metadata": {},
   "source": [
    "## Question Design\n",
    "- Since a survey is just a list of questions, a survey is only as good as the questions it contains\n",
    "- Question design considerations: question type, question wording, dealing with non-response\n",
    "\n",
    "### Question Types\n",
    "- Multiple choice/choose one: options are typically mutually exclusive\n",
    "- Multiple choice/choose as many as apply\n",
    "- Write in/free response\n",
    "- True/False (Yes/No): often used to filter people in or out of the population of interest\n",
    "- Rating scales: can have word or numeric anchors at each end\n",
    "- Ranking\n",
    "- Constant sum: divide points, often 100 (percentage) across multiple items to indicate time, money, attention, etc\n",
    "__Drill:__ indicate the best type of question to use for each and why\n",
    "- Age: write in, range of ages too long for multiple choice\n",
    "- Gender: multiple choice, M/F/Other/Decline to answer seems reasonably inclusive here\n",
    "- Income: multiple choice of ranges or write in but that might get joke answers\n",
    "- Opinions about dish soap: rating scales\n",
    "- Brand of dish soap used: multiple choice/choose many to handle cases where people use a few interchangeably or just buy whatever\n",
    "- Dish soap brand preference: multiple choice to get one answer or ranking to compare\n",
    "- Positive vs. negative feelings about dish soap: true/false for binary answers or a scale to get ranges"
   ]
  },
  {
   "cell_type": "markdown",
   "metadata": {},
   "source": [
    "## Flawed Questions\n",
    "- Question phrasing can influence answers, but surveys should be designed to discover the respondents true answers\n",
    "- Framing: allowing something vs. forbidding something\n",
    "- Allowing: implies that its currently disallowed and would be a potential gain\n",
    "- Forbidding: implies that its already allowed and would be a potential loss\n",
    "- Instead, ask what the opinion is and give an option to allow and an option to forbid\n",
    "- __Loaded questions:__ contains two questions with the answer to the first assumed\n",
    "    - Cause confusion for survey taker and for interpretation of responses\n",
    "    - Make the assumed question its own explicit question\n",
    "    \n",
    "__Drill__: choose 5 questions from this Mainstream Media Accountability Survey that can be improved. Describe the flaw and write an improved version of the question\n",
    "- Original: 1 Do you trust the mainstream media to put the interests of Americans first? Yes / No / No opinion / Other, please specify\n",
    "    - Flaw: assumes a universal set of interests exclusive to Americans the media is responsible for or capable of affecting\n",
    "    - Fix: a well written survey wouldn't include this at all, but: Rate how well you feel the media is representing or reporting on your interests (American interests? lol): scale of numbers, 0: not at all, 5 (or whatever): excellent\n",
    "- Original: 7 What television source do you primarily get your news from? NBC / CNN / MSNBC / Fox News / Local News\n",
    "    - Flaw: assumes respondent gets news from tv, answers are very strange (no ABC, CBS, but 2 versions of NBC) though there is a write in afterwards\n",
    "    - Fix: What source(s) do you get your news from? Assign points out of 100 or for each write never/sometimes/often/exclusively: TV / Internet / Print / Social Media / Radio / NA / Other, write in. For each source you use, which organization(s) do you get your news from? Answers would either have to be a huge drop down with more comprehensive (and international) news organizations or just write in which could be messy\n",
    "- Original: 9 On which issues does the mainstream media do the worst job of representing President Trump? (Select as many that apply.) Immigration / Economics / Radical Islamic Terrorism / Pro-life values / social issues / Religion / Health care / Second Amendment rights\n",
    "    - Flaw: implies survey taker's opinion that media is misrepresenting Trump\n",
    "    - Fix: Are there any issues you believe Trump has been misrepresented by media? If so, select as many that apply, answers should include a na or none option\n",
    "- Original: 10 Do you feel that the media is too eager to slur conservatives with baseless accusations of racism and sexism? Yes / No / No opinion / Other please specify\n",
    "    - Flaw: there is so much bias in this question & phrasing (eager, slur, conservative, baseless accusations) I can't believe this is a real survey from the executive office nonetheless\n",
    "    - Fix: I'm not sure this can be fixed. Split sexism and racism into separate questions, don't imply media intent (eager, slur), don't single out a party, don't imply accusations are baseless, don't ask this question\n",
    "- Original: 14 Do you believe that the media purposely tries to divide Republicans in order to help elect Democrats? Yes / No / No opinion / Other, please specify\n",
    "    - Flaw: assumes that media is dividing republicans/helping democrats, asks whether survey taker thinks it's on purpose or not\n",
    "     - Fix: Do you believe the media plays a role in divisions within political parties? Yes / No / NA. If yes, do you believe one party is benefited from this? Yes, democrats benefit / Yes, republicans benefit / No, neither party benefits. If Yes, do you believe the media does this purposely? Yes / No / NA"
   ]
  },
  {
   "cell_type": "markdown",
   "metadata": {},
   "source": [
    "## No answer\n",
    "- Likely to have a few questions where none of the response options are a good fit to some respondents\n",
    "- Questions covering sensitive subjects are more likely to be skipped\n",
    "- Options depend on survey administration: online, in person, or on paper\n",
    "    - Require an answer before moving on\n",
    "        - Risky: people may get offended or confused and quit the survey or choose randomly\n",
    "        - Not an option for paper\n",
    "- Offer a 'choose not to respond'\n",
    "    - Bias: answers reflect information given willingly and can lead to misrepresentation of the respondent population\n",
    "    - May simply not respond to longer or complex questions\n",
    "    - Choice to skip is an answer itself, just not very informative\n",
    "- Offer 'other' with write in follow up\n",
    "    - Write in data is messy: misspellings, answers can be nonsensical, non-serious, or hard to understand\n",
    "    - Avoids forcing people to choose an answer that doesn't apply to them"
   ]
  },
  {
   "cell_type": "code",
   "execution_count": null,
   "metadata": {},
   "outputs": [],
   "source": []
  }
 ],
 "metadata": {
  "kernelspec": {
   "display_name": "Python 3",
   "language": "python",
   "name": "python3"
  },
  "language_info": {
   "codemirror_mode": {
    "name": "ipython",
    "version": 3
   },
   "file_extension": ".py",
   "mimetype": "text/x-python",
   "name": "python",
   "nbconvert_exporter": "python",
   "pygments_lexer": "ipython3",
   "version": "3.7.3"
  }
 },
 "nbformat": 4,
 "nbformat_minor": 2
}
