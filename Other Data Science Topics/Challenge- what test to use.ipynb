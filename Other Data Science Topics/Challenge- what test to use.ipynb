{
 "cells": [
  {
   "cell_type": "markdown",
   "metadata": {},
   "source": [
    "# Challenge: what test to use\n",
    "\n",
    "Use the [European Social Survey](http://www.europeansocialsurvey.org/data/round-index.html) to address the following questions. The same participants answered questions in 2012 and again in 2014. \n",
    "\n",
    "[Raw Data](https://raw.githubusercontent.com/Thinkful-Ed/data-201-resources/master/ESS_practice_data/ESSdata_Thinkful.csv)\n",
    "\n",
    "[Variable Coding and content](https://thinkful-ed.github.io/data-201-resources/ESS_practice_data/ESS_codebook.html)"
   ]
  },
  {
   "cell_type": "code",
   "execution_count": 1,
   "metadata": {},
   "outputs": [],
   "source": [
    "import pandas as pd\n",
    "import numpy as np\n",
    "import matplotlib.pyplot as plt\n",
    "import seaborn as sns\n",
    "import scipy.stats as stats\n",
    "%matplotlib inline\n",
    "import warnings\n",
    "warnings.filterwarnings('ignore')"
   ]
  },
  {
   "cell_type": "code",
   "execution_count": 2,
   "metadata": {
    "scrolled": false
   },
   "outputs": [
    {
     "data": {
      "text/html": [
       "<div>\n",
       "<style scoped>\n",
       "    .dataframe tbody tr th:only-of-type {\n",
       "        vertical-align: middle;\n",
       "    }\n",
       "\n",
       "    .dataframe tbody tr th {\n",
       "        vertical-align: top;\n",
       "    }\n",
       "\n",
       "    .dataframe thead th {\n",
       "        text-align: right;\n",
       "    }\n",
       "</style>\n",
       "<table border=\"1\" class=\"dataframe\">\n",
       "  <thead>\n",
       "    <tr style=\"text-align: right;\">\n",
       "      <th></th>\n",
       "      <th>cntry</th>\n",
       "      <th>idno</th>\n",
       "      <th>year</th>\n",
       "      <th>tvtot</th>\n",
       "      <th>ppltrst</th>\n",
       "      <th>pplfair</th>\n",
       "      <th>pplhlp</th>\n",
       "      <th>happy</th>\n",
       "      <th>sclmeet</th>\n",
       "      <th>sclact</th>\n",
       "      <th>gndr</th>\n",
       "      <th>agea</th>\n",
       "      <th>partner</th>\n",
       "    </tr>\n",
       "  </thead>\n",
       "  <tbody>\n",
       "    <tr>\n",
       "      <th>0</th>\n",
       "      <td>CH</td>\n",
       "      <td>5.0</td>\n",
       "      <td>6</td>\n",
       "      <td>3.0</td>\n",
       "      <td>3.0</td>\n",
       "      <td>10.0</td>\n",
       "      <td>5.0</td>\n",
       "      <td>8.0</td>\n",
       "      <td>5.0</td>\n",
       "      <td>4.0</td>\n",
       "      <td>2.0</td>\n",
       "      <td>60.0</td>\n",
       "      <td>1.0</td>\n",
       "    </tr>\n",
       "    <tr>\n",
       "      <th>1</th>\n",
       "      <td>CH</td>\n",
       "      <td>25.0</td>\n",
       "      <td>6</td>\n",
       "      <td>6.0</td>\n",
       "      <td>5.0</td>\n",
       "      <td>7.0</td>\n",
       "      <td>5.0</td>\n",
       "      <td>9.0</td>\n",
       "      <td>3.0</td>\n",
       "      <td>2.0</td>\n",
       "      <td>2.0</td>\n",
       "      <td>59.0</td>\n",
       "      <td>1.0</td>\n",
       "    </tr>\n",
       "    <tr>\n",
       "      <th>2</th>\n",
       "      <td>CH</td>\n",
       "      <td>26.0</td>\n",
       "      <td>6</td>\n",
       "      <td>1.0</td>\n",
       "      <td>8.0</td>\n",
       "      <td>8.0</td>\n",
       "      <td>8.0</td>\n",
       "      <td>7.0</td>\n",
       "      <td>6.0</td>\n",
       "      <td>3.0</td>\n",
       "      <td>1.0</td>\n",
       "      <td>24.0</td>\n",
       "      <td>2.0</td>\n",
       "    </tr>\n",
       "    <tr>\n",
       "      <th>3</th>\n",
       "      <td>CH</td>\n",
       "      <td>28.0</td>\n",
       "      <td>6</td>\n",
       "      <td>4.0</td>\n",
       "      <td>6.0</td>\n",
       "      <td>6.0</td>\n",
       "      <td>7.0</td>\n",
       "      <td>10.0</td>\n",
       "      <td>6.0</td>\n",
       "      <td>2.0</td>\n",
       "      <td>2.0</td>\n",
       "      <td>64.0</td>\n",
       "      <td>1.0</td>\n",
       "    </tr>\n",
       "    <tr>\n",
       "      <th>4</th>\n",
       "      <td>CH</td>\n",
       "      <td>29.0</td>\n",
       "      <td>6</td>\n",
       "      <td>5.0</td>\n",
       "      <td>6.0</td>\n",
       "      <td>7.0</td>\n",
       "      <td>5.0</td>\n",
       "      <td>8.0</td>\n",
       "      <td>7.0</td>\n",
       "      <td>2.0</td>\n",
       "      <td>2.0</td>\n",
       "      <td>55.0</td>\n",
       "      <td>1.0</td>\n",
       "    </tr>\n",
       "  </tbody>\n",
       "</table>\n",
       "</div>"
      ],
      "text/plain": [
       "  cntry  idno  year  tvtot  ppltrst  pplfair  pplhlp  happy  sclmeet  sclact  \\\n",
       "0    CH   5.0     6    3.0      3.0     10.0     5.0    8.0      5.0     4.0   \n",
       "1    CH  25.0     6    6.0      5.0      7.0     5.0    9.0      3.0     2.0   \n",
       "2    CH  26.0     6    1.0      8.0      8.0     8.0    7.0      6.0     3.0   \n",
       "3    CH  28.0     6    4.0      6.0      6.0     7.0   10.0      6.0     2.0   \n",
       "4    CH  29.0     6    5.0      6.0      7.0     5.0    8.0      7.0     2.0   \n",
       "\n",
       "   gndr  agea  partner  \n",
       "0   2.0  60.0      1.0  \n",
       "1   2.0  59.0      1.0  \n",
       "2   1.0  24.0      2.0  \n",
       "3   2.0  64.0      1.0  \n",
       "4   2.0  55.0      1.0  "
      ]
     },
     "execution_count": 2,
     "metadata": {},
     "output_type": "execute_result"
    }
   ],
   "source": [
    "path = 'https://raw.githubusercontent.com/Thinkful-Ed/data-201-resources/master/ESS_practice_data/ESSdata_Thinkful.csv'\n",
    "df = pd.read_csv(path)\n",
    "df.head()"
   ]
  },
  {
   "cell_type": "code",
   "execution_count": 31,
   "metadata": {},
   "outputs": [
    {
     "data": {
      "text/plain": [
       "(8594, 13)"
      ]
     },
     "execution_count": 31,
     "metadata": {},
     "output_type": "execute_result"
    }
   ],
   "source": [
    "df.shape"
   ]
  },
  {
   "cell_type": "code",
   "execution_count": 39,
   "metadata": {
    "scrolled": true
   },
   "outputs": [
    {
     "data": {
      "text/plain": [
       "cntry        0\n",
       "idno         0\n",
       "year         0\n",
       "tvtot        8\n",
       "ppltrst     14\n",
       "pplfair     39\n",
       "pplhlp      25\n",
       "happy       31\n",
       "sclmeet     15\n",
       "sclact      94\n",
       "gndr        10\n",
       "agea       239\n",
       "partner     17\n",
       "dtype: int64"
      ]
     },
     "execution_count": 39,
     "metadata": {},
     "output_type": "execute_result"
    }
   ],
   "source": [
    "df.isnull().sum()"
   ]
  },
  {
   "cell_type": "code",
   "execution_count": 32,
   "metadata": {},
   "outputs": [
    {
     "data": {
      "text/plain": [
       "6"
      ]
     },
     "execution_count": 32,
     "metadata": {},
     "output_type": "execute_result"
    }
   ],
   "source": [
    "df['cntry'].nunique()"
   ]
  },
  {
   "cell_type": "code",
   "execution_count": 33,
   "metadata": {},
   "outputs": [
    {
     "data": {
      "text/plain": [
       "ES    2426\n",
       "SE    1816\n",
       "CH    1546\n",
       "NO    1462\n",
       "CZ    1316\n",
       "DE      28\n",
       "Name: cntry, dtype: int64"
      ]
     },
     "execution_count": 33,
     "metadata": {},
     "output_type": "execute_result"
    }
   ],
   "source": [
    "df['cntry'].value_counts()"
   ]
  },
  {
   "cell_type": "markdown",
   "metadata": {},
   "source": [
    "## 1. Did people become less trusting from 2012 to 2014? Compute results for each country in the sample.\n"
   ]
  },
  {
   "cell_type": "code",
   "execution_count": 7,
   "metadata": {},
   "outputs": [],
   "source": [
    "def ess_hist(self):\n",
    "    g = sns.FacetGrid(data=df, \n",
    "                      row='year',\n",
    "                      col='cntry',\n",
    "                      margin_titles=True,\n",
    "                      dropna=True,\n",
    "                      sharey=False)\n",
    "    g.map(plt.hist, self)\n",
    "    plt.show()\n",
    "    \n",
    "def ess_normaltest(self):\n",
    "    for cntry in df['cntry'].unique():\n",
    "        x = df.loc[(df['year'] == 6) & (df['cntry'] == cntry), self]\n",
    "        y = df.loc[(df['year'] == 7) & (df['cntry'] == cntry), self]\n",
    "        print('normal test {}'.format(cntry))\n",
    "        print('2012: {}'.format(stats.normaltest(x, nan_policy='omit')))\n",
    "        print('2014: {}'.format(stats.normaltest(y, nan_policy='omit')))"
   ]
  },
  {
   "cell_type": "code",
   "execution_count": 8,
   "metadata": {},
   "outputs": [
    {
     "data": {
      "image/png": "[encoded data removed]",
      "text/plain": [
       "<Figure size 1296x432 with 12 Axes>"
      ]
     },
     "metadata": {
      "needs_background": "light"
     },
     "output_type": "display_data"
    }
   ],
   "source": [
    "ess_hist('ppltrst')"
   ]
  },
  {
   "cell_type": "code",
   "execution_count": 9,
   "metadata": {},
   "outputs": [
    {
     "name": "stdout",
     "output_type": "stream",
     "text": [
      "normal test CH\n",
      "2012: NormaltestResult(statistic=34.41403485540727, pvalue=3.365792056559453e-08)\n",
      "2014: NormaltestResult(statistic=32.07122389622901, pvalue=1.0859809748932778e-07)\n",
      "normal test CZ\n",
      "2012: NormaltestResult(statistic=25.049370820773337, pvalue=3.6357853778444874e-06)\n",
      "2014: NormaltestResult(statistic=8.015640651166011, pvalue=0.0181729632415102)\n",
      "normal test DE\n",
      "2012: NormaltestResult(statistic=0.5537028123495471, pvalue=0.7581671476973477)\n",
      "2014: NormaltestResult(statistic=0.6451892229565249, pvalue=0.7242674045554323)\n",
      "normal test ES\n",
      "2012: NormaltestResult(statistic=48.02764152552339, pvalue=3.7233182008430934e-11)\n",
      "2014: NormaltestResult(statistic=29.796593978669407, pvalue=3.3865058313913864e-07)\n",
      "normal test NO\n",
      "2012: NormaltestResult(statistic=85.4862970000314, pvalue=2.7345537691839186e-19)\n",
      "2014: NormaltestResult(statistic=71.2109329693447, pvalue=3.441457258129768e-16)\n",
      "normal test SE\n",
      "2012: NormaltestResult(statistic=72.6342910118729, pvalue=1.6891340175735596e-16)\n",
      "2014: NormaltestResult(statistic=66.17133174781476, pvalue=4.276395667350845e-15)\n"
     ]
    }
   ],
   "source": [
    "ess_normaltest('ppltrst')"
   ]
  },
  {
   "cell_type": "markdown",
   "metadata": {},
   "source": [
    "Looks like none of the distributions are normal, except DE (but there was a very small sample size)\n",
    "\n",
    "We will use Wilcoxon Ranked for A/B where participants did both versions"
   ]
  },
  {
   "cell_type": "code",
   "execution_count": 10,
   "metadata": {},
   "outputs": [
    {
     "name": "stdout",
     "output_type": "stream",
     "text": [
      "\n",
      "Trust results for CH\n",
      "Mean 2012: 5.677878395860285\n",
      "Mean 2014: 5.751617076326003\n",
      "WilcoxonResult(statistic=106278.5, pvalue=0.4411286510952477)\n",
      "\n",
      "Trust results for CZ\n",
      "Mean 2012: 4.362519201228879\n",
      "Mean 2014: 4.424657534246576\n",
      "WilcoxonResult(statistic=82837.0, pvalue=0.2931891426327379)\n",
      "\n",
      "Trust results for DE\n",
      "Mean 2012: 5.214285714285714\n",
      "Mean 2014: 5.357142857142857\n",
      "WilcoxonResult(statistic=44.0, pvalue=0.9157134600899863)\n",
      "Ttest_relResult(statistic=-0.18399501804849683, pvalue=0.8568563797095805)\n",
      "\n",
      "Trust results for ES\n",
      "Mean 2012: 5.114591920857379\n",
      "Mean 2014: 4.895127993393889\n",
      "WilcoxonResult(statistic=243475.5, pvalue=0.005570829650439684)\n",
      "\n",
      "Trust results for NO\n",
      "Mean 2012: 6.64931506849315\n",
      "Mean 2014: 6.598630136986301\n",
      "WilcoxonResult(statistic=85392.0, pvalue=0.6139175669970661)\n",
      "\n",
      "Trust results for SE\n",
      "Mean 2012: 6.058498896247241\n",
      "Mean 2014: 6.257709251101321\n",
      "WilcoxonResult(statistic=130719.5, pvalue=0.028545290985536906)\n"
     ]
    }
   ],
   "source": [
    "# non-normal distributions (except DE but small sample size...)\n",
    "# use wilcoxon ranked for a/b where participants did both versions\n",
    "for cntry in df['cntry'].unique():\n",
    "    x = df.loc[(df['year'] == 6) & (df['cntry'] == cntry), 'ppltrst']\n",
    "    y = df.loc[(df['year'] == 7) & (df['cntry'] == cntry), 'ppltrst']\n",
    "    result = stats.wilcoxon(x,y)\n",
    "    print('\\nTrust results for {}'.format(cntry))\n",
    "    print('Mean 2012: {}'.format(np.mean(x)))\n",
    "    print('Mean 2014: {}'.format(np.mean(y)))\n",
    "    print(result)\n",
    "    if cntry == 'DE':\n",
    "        print(stats.ttest_rel(x, y, nan_policy='omit'))"
   ]
  },
  {
   "cell_type": "markdown",
   "metadata": {},
   "source": [
    "__Results:__ given the range of answers 0-10 of H values between ~82xxx and ~243xxxx\n",
    "\n",
    "- Significant change\n",
    "    - ES (Spain): significant decrease in trust, mean went down about .2\n",
    "    - SE (Sweden): significant increase in trust, mean went up about .2\n",
    "- No significant change\n",
    "    - CH (Switzerland): non significant pval = .44\n",
    "    - CZ (Czech Republic): non significant pval = .29\n",
    "    - DE (Denmark): non significant pval = .91, .85\n",
    "    - NO (Norway): non significant pval = .61"
   ]
  },
  {
   "cell_type": "markdown",
   "metadata": {},
   "source": [
    "## 2. Did people become happier from 2012 to 2014? Compute results for each country in the sample"
   ]
  },
  {
   "cell_type": "code",
   "execution_count": 11,
   "metadata": {},
   "outputs": [
    {
     "data": {
      "image/png": "[encoded data removed]",
      "text/plain": [
       "<Figure size 1296x432 with 12 Axes>"
      ]
     },
     "metadata": {
      "needs_background": "light"
     },
     "output_type": "display_data"
    }
   ],
   "source": [
    "ess_hist('happy')"
   ]
  },
  {
   "cell_type": "code",
   "execution_count": 12,
   "metadata": {},
   "outputs": [
    {
     "name": "stdout",
     "output_type": "stream",
     "text": [
      "normal test CH\n",
      "2012: NormaltestResult(statistic=188.44583258657116, pvalue=1.2009014936632828e-41)\n",
      "2014: NormaltestResult(statistic=156.83716655039797, pvalue=8.774896545471838e-35)\n",
      "normal test CZ\n",
      "2012: NormaltestResult(statistic=33.31170486577394, pvalue=5.840569510842764e-08)\n",
      "2014: NormaltestResult(statistic=41.51459060672008, pvalue=9.665430236613688e-10)\n",
      "normal test DE\n",
      "2012: NormaltestResult(statistic=1.506462655423323, pvalue=0.4708426450576315)\n",
      "2014: NormaltestResult(statistic=2.1782905366822414, pvalue=0.33650399143734494)\n",
      "normal test ES\n",
      "2012: NormaltestResult(statistic=211.81535847203477, pvalue=1.0112983918145527e-46)\n",
      "2014: NormaltestResult(statistic=196.39100576911136, pvalue=2.260658435940068e-43)\n",
      "normal test NO\n",
      "2012: NormaltestResult(statistic=228.52086537729167, pvalue=2.38410063518236e-50)\n",
      "2014: NormaltestResult(statistic=182.17416218051966, pvalue=2.7630154274213406e-40)\n",
      "normal test SE\n",
      "2012: NormaltestResult(statistic=142.6192698491184, pvalue=1.0730477437761676e-31)\n",
      "2014: NormaltestResult(statistic=88.99061407595354, pvalue=4.7416957358270756e-20)\n"
     ]
    }
   ],
   "source": [
    "ess_normaltest('happy')"
   ]
  },
  {
   "cell_type": "code",
   "execution_count": 13,
   "metadata": {},
   "outputs": [
    {
     "name": "stdout",
     "output_type": "stream",
     "text": [
      "\n",
      "Happy results for CH\n",
      "Mean 2012: 8.088311688311688\n",
      "Mean 2014: 8.116429495472186\n",
      "WilcoxonResult(statistic=92816.5, pvalue=0.8208688161425343)\n",
      "\n",
      "Happy results for CZ\n",
      "Mean 2012: 6.7708978328173375\n",
      "Mean 2014: 6.914110429447852\n",
      "WilcoxonResult(statistic=73213.0, pvalue=0.01064243454053068)\n",
      "\n",
      "Happy results for DE\n",
      "Mean 2012: 7.428571428571429\n",
      "Mean 2014: 7.857142857142857\n",
      "WilcoxonResult(statistic=23.5, pvalue=0.393351316918508)\n",
      "Ttest_relResult(statistic=-0.8062257748298549, pvalue=0.4346138707734991)\n",
      "\n",
      "Happy results for ES\n",
      "Mean 2012: 7.548679867986799\n",
      "Mean 2014: 7.41996699669967\n",
      "WilcoxonResult(statistic=231958.5, pvalue=0.04923868084306013)\n",
      "\n",
      "Happy results for NO\n",
      "Mean 2012: 8.25171939477304\n",
      "Mean 2014: 7.9151846785225715\n",
      "WilcoxonResult(statistic=67571.5, pvalue=2.7264367804254175e-06)\n",
      "\n",
      "Happy results for SE\n",
      "Mean 2012: 7.907386990077177\n",
      "Mean 2014: 7.946961325966851\n",
      "WilcoxonResult(statistic=125481.0, pvalue=0.5136403441005022)\n"
     ]
    }
   ],
   "source": [
    "# non normal dists so non parametric\n",
    "# wilcoxon signed-rank for a/b test where participants did both versions\n",
    "for cntry in df['cntry'].unique():\n",
    "    x = df.loc[(df['year'] == 6) & (df['cntry'] == cntry), 'happy']\n",
    "    y = df.loc[(df['year'] == 7) & (df['cntry'] == cntry), 'happy']\n",
    "    result = stats.wilcoxon(x, y)\n",
    "    print('\\nHappy results for {}'.format(cntry))\n",
    "    print('Mean 2012: {}'.format(np.mean(x)))\n",
    "    print('Mean 2014: {}'.format(np.mean(y)))\n",
    "    print(result)\n",
    "    if cntry == 'DE':\n",
    "        print(stats.ttest_rel(x, y, nan_policy='omit'))"
   ]
  },
  {
   "cell_type": "markdown",
   "metadata": {},
   "source": [
    "__Results:__ given the range of answers 0-10 of H values between 23.5 and ~23xxxx\n",
    "\n",
    "- Significant change\n",
    "    - CZ (Czech Republic): significant increase in happiness, mean is up .2 p val .01\n",
    "- Borderline\n",
    "    - ES (Spain): pval is .49 so technically this could be interpreted as a significant decrease in happiness (mean down ~ .13)\n",
    "- No significant change\n",
    "    - CH (Switzerland): non significant pval = .44\n",
    "    - DE (Denmark): non significant pval = .91, .85\n",
    "    - NO (Norway): non significant pval = .61\n",
    "    - SE (Sweden): non significant pval = .51"
   ]
  },
  {
   "cell_type": "markdown",
   "metadata": {},
   "source": [
    "## 3. Who reported watching more TV in 2012, men or women?"
   ]
  },
  {
   "cell_type": "code",
   "execution_count": 18,
   "metadata": {},
   "outputs": [
    {
     "name": "stdout",
     "output_type": "stream",
     "text": [
      "2154\n",
      "2143\n"
     ]
    }
   ],
   "source": [
    "print(len(df.loc[(df['year'] == 6) & (df['gndr'] == 1), 'tvtot']))\n",
    "print(len(df.loc[(df['year'] == 6) & (df['gndr'] == 2), 'tvtot']))"
   ]
  },
  {
   "cell_type": "code",
   "execution_count": 20,
   "metadata": {},
   "outputs": [
    {
     "data": {
      "image/png": "[encoded data removed]",
      "text/plain": [
       "<Figure size 432x288 with 2 Axes>"
      ]
     },
     "metadata": {
      "needs_background": "light"
     },
     "output_type": "display_data"
    },
    {
     "name": "stdout",
     "output_type": "stream",
     "text": [
      "NormaltestResult(statistic=404.31757946854253, pvalue=1.5979130741376727e-88)\n",
      "NormaltestResult(statistic=473.95970583307366, pvalue=1.2049181771413786e-103)\n",
      "WilcoxonResult(statistic=842386.0, pvalue=0.424144580611013)\n"
     ]
    }
   ],
   "source": [
    "tv_women_2012 = df.loc[(df['year'] == 6) & (df['gndr'] == 2), 'tvtot'].dropna()\n",
    "tv_men_2012 = df.loc[\n",
    "    (df['year'] == 6) & (df['gndr'] == 1), 'tvtot'\n",
    "].dropna().sample(len(tv_women_2012))\n",
    "\n",
    "plt.subplot(1,2,1)\n",
    "plt.hist(tv_men_2012.dropna())\n",
    "plt.title('tv men')\n",
    "         \n",
    "plt.subplot(1,2,2)\n",
    "plt.hist(tv_women_2012.dropna())\n",
    "plt.title('tv women')\n",
    "plt.show()\n",
    "\n",
    "print(stats.normaltest(tv_men_2012))\n",
    "print(stats.normaltest(tv_women_2012))\n",
    "print(stats.wilcoxon(tv_men_2012, tv_women_2012))"
   ]
  },
  {
   "cell_type": "markdown",
   "metadata": {},
   "source": [
    "__Result:__ with a pval of .424 we can't confidently conclude there was a significant difference in the amount of tv men and women watched in 2012"
   ]
  },
  {
   "cell_type": "markdown",
   "metadata": {},
   "source": [
    "## 4. Who was more likely to believe people were fair in 2012, people living with a partner or people living alone?"
   ]
  },
  {
   "cell_type": "code",
   "execution_count": 21,
   "metadata": {},
   "outputs": [
    {
     "name": "stdout",
     "output_type": "stream",
     "text": [
      "2663 1608\n"
     ]
    }
   ],
   "source": [
    "# 1 live w partner 2 live alone\n",
    "live_partner = df.loc[(df['partner'] == 1) & (df['year'] == 6), 'pplfair'].dropna()\n",
    "live_alone = df.loc[(df['partner'] == 2) & (df['year'] == 6), 'pplfair'].dropna()\n",
    "\n",
    "print(len(live_partner), len(live_alone))"
   ]
  },
  {
   "cell_type": "code",
   "execution_count": 22,
   "metadata": {},
   "outputs": [],
   "source": [
    "live_partner = live_partner.sample(len(live_alone))"
   ]
  },
  {
   "cell_type": "code",
   "execution_count": 23,
   "metadata": {},
   "outputs": [
    {
     "data": {
      "image/png": "[encoded data removed]",
      "text/plain": [
       "<Figure size 432x288 with 2 Axes>"
      ]
     },
     "metadata": {
      "needs_background": "light"
     },
     "output_type": "display_data"
    },
    {
     "name": "stdout",
     "output_type": "stream",
     "text": [
      "NormaltestResult(statistic=121.4699684754831, pvalue=4.198860895294423e-27)\n",
      "NormaltestResult(statistic=64.92830332216809, pvalue=7.961558194894824e-15)\n"
     ]
    }
   ],
   "source": [
    "plt.subplot(1,2,1)\n",
    "plt.hist(live_partner)\n",
    "plt.title('live with partner')\n",
    "\n",
    "plt.subplot(1,2,2)\n",
    "plt.hist(live_alone)\n",
    "plt.title('live alone')\n",
    "plt.show()\n",
    "\n",
    "print(stats.normaltest(live_partner))\n",
    "print(stats.normaltest(live_alone))"
   ]
  },
  {
   "cell_type": "code",
   "execution_count": 24,
   "metadata": {},
   "outputs": [
    {
     "name": "stdout",
     "output_type": "stream",
     "text": [
      "mean live with partner: 6.172885572139304\n",
      "mean live alone: 5.856965174129353\n",
      "WilcoxonResult(statistic=403997.0, pvalue=4.48173585626916e-06)\n"
     ]
    }
   ],
   "source": [
    "print('mean live with partner: {}'.format(np.mean(live_partner)))\n",
    "print('mean live alone: {}'.format(np.mean(live_alone)))\n",
    "print(stats.wilcoxon(live_partner, live_alone))"
   ]
  },
  {
   "cell_type": "markdown",
   "metadata": {},
   "source": [
    "__Results:__ can say with confidence that those who lived alone in 2012 thought people were less trustworthy than people who lived with a partner"
   ]
  },
  {
   "cell_type": "code",
   "execution_count": 25,
   "metadata": {},
   "outputs": [
    {
     "name": "stdout",
     "output_type": "stream",
     "text": [
      "['CZ' 'SE' 'ES' 'NO']\n"
     ]
    },
    {
     "data": {
      "image/png": "[encoded data removed]",
      "text/plain": [
       "<Figure size 864x216 with 4 Axes>"
      ]
     },
     "metadata": {
      "needs_background": "light"
     },
     "output_type": "display_data"
    },
    {
     "name": "stdout",
     "output_type": "stream",
     "text": [
      "CZ: NormaltestResult(statistic=79.93520409212844, pvalue=4.3882461097052515e-18)\n",
      "SE: NormaltestResult(statistic=145.63772426391498, pvalue=2.3723021236027454e-32)\n",
      "ES: NormaltestResult(statistic=207.30963817201416, pvalue=9.622414221022273e-46)\n",
      "NO: NormaltestResult(statistic=117.20984403812162, pvalue=3.533505362569494e-26)\n"
     ]
    }
   ],
   "source": [
    "# randomly choose 4 countries\n",
    "countries = np.random.choice(\n",
    "    df.loc[df['cntry'] != 'DE', 'cntry'].unique(),\n",
    "    4,\n",
    "    replace=False\n",
    ")\n",
    "print(countries)\n",
    "\n",
    "df_countries = df[(df.cntry).isin(countries) & (df.year == 7)]\n",
    "g = sns.FacetGrid(df_countries,\n",
    "                  col='cntry',\n",
    "                  dropna=True,\n",
    "                  sharey=False)\n",
    "g.map(plt.hist, 'sclmeet')\n",
    "plt.show()\n",
    "\n",
    "for cntry in countries:\n",
    "    print('{}: {}'.format(\n",
    "        cntry,\n",
    "        stats.stats.normaltest(df.loc[df['cntry'] == cntry, 'sclmeet'],\n",
    "                               nan_policy='omit')))"
   ]
  },
  {
   "cell_type": "code",
   "execution_count": 26,
   "metadata": {},
   "outputs": [
    {
     "name": "stdout",
     "output_type": "stream",
     "text": [
      "CZ and SE: WilcoxonResult(statistic=30309.5, pvalue=1.859061952178424e-30)\n",
      "CZ and ES: WilcoxonResult(statistic=38976.0, pvalue=8.781478008871816e-22)\n",
      "CZ and NO: WilcoxonResult(statistic=42167.5, pvalue=2.9934515976233213e-22)\n",
      "SE and ES: WilcoxonResult(statistic=115257.5, pvalue=0.048728187079984255)\n",
      "SE and NO: WilcoxonResult(statistic=71576.0, pvalue=0.06504909375003737)\n",
      "ES and NO: WilcoxonResult(statistic=80595.0, pvalue=0.4381776776522046)\n"
     ]
    }
   ],
   "source": [
    "import itertools\n",
    "cntry_pairs = list(itertools.combinations(countries, 2))\n",
    "\n",
    "for pair in cntry_pairs:\n",
    "    x = df_countries.loc[df_countries['cntry'] == pair[0], 'sclmeet']\n",
    "    y = df_countries.loc[df_countries['cntry'] == pair[1], 'sclmeet']\n",
    "    if len(x) < len(y):\n",
    "        y = y.sample(len(x))\n",
    "        result = stats.wilcoxon(x,y)\n",
    "    elif len(y) < len(x):\n",
    "        x = x.sample(len(y))\n",
    "        result = stats.wilcoxon(x,y)\n",
    "    else:\n",
    "        result = stats.wilcoxon(x,y)\n",
    "    print('{0} and {1}: {2}'.format(pair[0], pair[1], result))"
   ]
  },
  {
   "cell_type": "markdown",
   "metadata": {},
   "source": [
    "## 5. Pick three or four of the countries in the sample and compare how often people met socially in 2014. Are there differences, and if so, which countries stand out?"
   ]
  },
  {
   "cell_type": "code",
   "execution_count": 27,
   "metadata": {},
   "outputs": [
    {
     "name": "stdout",
     "output_type": "stream",
     "text": [
      "['CZ' 'SE' 'ES' 'NO']\n"
     ]
    },
    {
     "data": {
      "image/png": "[encoded data removed]",
      "text/plain": [
       "<Figure size 864x216 with 4 Axes>"
      ]
     },
     "metadata": {
      "needs_background": "light"
     },
     "output_type": "display_data"
    },
    {
     "name": "stdout",
     "output_type": "stream",
     "text": [
      "CZ: NormaltestResult(statistic=79.93520409212844, pvalue=4.3882461097052515e-18)\n",
      "SE: NormaltestResult(statistic=145.63772426391498, pvalue=2.3723021236027454e-32)\n",
      "ES: NormaltestResult(statistic=207.30963817201416, pvalue=9.622414221022273e-46)\n",
      "NO: NormaltestResult(statistic=117.20984403812162, pvalue=3.533505362569494e-26)\n"
     ]
    }
   ],
   "source": [
    "# randomly choose 4 countries\n",
    "countries = np.random.choice(\n",
    "    df.loc[df['cntry'] != 'DE', 'cntry'].unique(),\n",
    "    4,\n",
    "    replace=False\n",
    ")\n",
    "print(countries)\n",
    "\n",
    "df_countries = df[(df.cntry).isin(countries) & (df.year == 7)]\n",
    "g = sns.FacetGrid(df_countries,\n",
    "                  col='cntry',\n",
    "                  dropna=True,\n",
    "                  sharey=False)\n",
    "g.map(plt.hist, 'sclmeet')\n",
    "plt.show()\n",
    "\n",
    "for cntry in countries:\n",
    "    print('{}: {}'.format(\n",
    "        cntry,\n",
    "        stats.stats.normaltest(df.loc[df['cntry'] == cntry, 'sclmeet'],\n",
    "                               nan_policy='omit')))"
   ]
  },
  {
   "cell_type": "code",
   "execution_count": 28,
   "metadata": {
    "scrolled": true
   },
   "outputs": [
    {
     "name": "stdout",
     "output_type": "stream",
     "text": [
      "CZ and SE: WilcoxonResult(statistic=33130.0, pvalue=5.471406434883582e-30)\n",
      "CZ and ES: WilcoxonResult(statistic=35643.0, pvalue=3.022586562051644e-22)\n",
      "CZ and NO: WilcoxonResult(statistic=33361.5, pvalue=7.941312510088789e-26)\n",
      "SE and ES: WilcoxonResult(statistic=112875.0, pvalue=0.0006169463847528957)\n",
      "SE and NO: WilcoxonResult(statistic=68808.0, pvalue=0.0424506075373959)\n",
      "ES and NO: WilcoxonResult(statistic=86048.5, pvalue=0.6758317168263005)\n"
     ]
    }
   ],
   "source": [
    "import itertools\n",
    "cntry_pairs = list(itertools.combinations(countries, 2))\n",
    "\n",
    "for pair in cntry_pairs:\n",
    "    x = df_countries.loc[df_countries['cntry'] == pair[0], 'sclmeet']\n",
    "    y = df_countries.loc[df_countries['cntry'] == pair[1], 'sclmeet']\n",
    "    if len(x) < len(y):\n",
    "        y = y.sample(len(x))\n",
    "        result = stats.wilcoxon(x,y)\n",
    "    elif len(y) < len(x):\n",
    "        x = x.sample(len(y))\n",
    "        result = stats.wilcoxon(x,y)\n",
    "    else:\n",
    "        result = stats.wilcoxon(x,y)\n",
    "    print('{0} and {1}: {2}'.format(pair[0], pair[1], result))"
   ]
  },
  {
   "cell_type": "markdown",
   "metadata": {},
   "source": [
    "__Result__: Sweden (SE) and Spain (ES) have a significant difference in how often they met socially in 2014"
   ]
  },
  {
   "cell_type": "markdown",
   "metadata": {},
   "source": [
    "## 6. Pick three or four of the countries in the sample and compare how often people took part in social activities, relative to others their age, in 2014. Are there differences, and if so, which countries stand out?"
   ]
  },
  {
   "cell_type": "code",
   "execution_count": 43,
   "metadata": {
    "scrolled": false
   },
   "outputs": [
    {
     "data": {
      "text/plain": [
       "83"
      ]
     },
     "execution_count": 43,
     "metadata": {},
     "output_type": "execute_result"
    }
   ],
   "source": [
    "df['agea'].nunique()"
   ]
  },
  {
   "cell_type": "code",
   "execution_count": 47,
   "metadata": {},
   "outputs": [
    {
     "data": {
      "text/plain": [
       "count    8355.000000\n",
       "mean       47.470736\n",
       "std        18.397369\n",
       "min        15.000000\n",
       "25%        33.000000\n",
       "50%        47.000000\n",
       "75%        62.000000\n",
       "max       114.000000\n",
       "Name: agea, dtype: float64"
      ]
     },
     "execution_count": 47,
     "metadata": {},
     "output_type": "execute_result"
    }
   ],
   "source": [
    "df.agea.describe()"
   ]
  },
  {
   "cell_type": "markdown",
   "metadata": {},
   "source": [
    "83 different ages, we need to bucket them into age groups to compare their social activities. Since the youngest age in this dataset is 15, the respondents will be bucketed into the following age bands:\n",
    "\n",
    "\n",
    "- 15 – 29 years\n",
    "- 30 – 44 years\n",
    "- 45 – 59 years\n",
    "- 60 years and above\n"
   ]
  },
  {
   "cell_type": "code",
   "execution_count": 74,
   "metadata": {
    "scrolled": false
   },
   "outputs": [
    {
     "data": {
      "text/html": [
       "<div>\n",
       "<style scoped>\n",
       "    .dataframe tbody tr th:only-of-type {\n",
       "        vertical-align: middle;\n",
       "    }\n",
       "\n",
       "    .dataframe tbody tr th {\n",
       "        vertical-align: top;\n",
       "    }\n",
       "\n",
       "    .dataframe thead th {\n",
       "        text-align: right;\n",
       "    }\n",
       "</style>\n",
       "<table border=\"1\" class=\"dataframe\">\n",
       "  <thead>\n",
       "    <tr style=\"text-align: right;\">\n",
       "      <th></th>\n",
       "      <th>cntry</th>\n",
       "      <th>idno</th>\n",
       "      <th>year</th>\n",
       "      <th>tvtot</th>\n",
       "      <th>ppltrst</th>\n",
       "      <th>pplfair</th>\n",
       "      <th>pplhlp</th>\n",
       "      <th>happy</th>\n",
       "      <th>sclmeet</th>\n",
       "      <th>sclact</th>\n",
       "      <th>gndr</th>\n",
       "      <th>agea</th>\n",
       "      <th>partner</th>\n",
       "      <th>age_band</th>\n",
       "    </tr>\n",
       "  </thead>\n",
       "  <tbody>\n",
       "    <tr>\n",
       "      <th>0</th>\n",
       "      <td>CH</td>\n",
       "      <td>5.0</td>\n",
       "      <td>6</td>\n",
       "      <td>3.0</td>\n",
       "      <td>3.0</td>\n",
       "      <td>10.0</td>\n",
       "      <td>5.0</td>\n",
       "      <td>8.0</td>\n",
       "      <td>5.0</td>\n",
       "      <td>4.0</td>\n",
       "      <td>2.0</td>\n",
       "      <td>60.0</td>\n",
       "      <td>1.0</td>\n",
       "      <td>4</td>\n",
       "    </tr>\n",
       "    <tr>\n",
       "      <th>1</th>\n",
       "      <td>CH</td>\n",
       "      <td>25.0</td>\n",
       "      <td>6</td>\n",
       "      <td>6.0</td>\n",
       "      <td>5.0</td>\n",
       "      <td>7.0</td>\n",
       "      <td>5.0</td>\n",
       "      <td>9.0</td>\n",
       "      <td>3.0</td>\n",
       "      <td>2.0</td>\n",
       "      <td>2.0</td>\n",
       "      <td>59.0</td>\n",
       "      <td>1.0</td>\n",
       "      <td>3</td>\n",
       "    </tr>\n",
       "    <tr>\n",
       "      <th>2</th>\n",
       "      <td>CH</td>\n",
       "      <td>26.0</td>\n",
       "      <td>6</td>\n",
       "      <td>1.0</td>\n",
       "      <td>8.0</td>\n",
       "      <td>8.0</td>\n",
       "      <td>8.0</td>\n",
       "      <td>7.0</td>\n",
       "      <td>6.0</td>\n",
       "      <td>3.0</td>\n",
       "      <td>1.0</td>\n",
       "      <td>24.0</td>\n",
       "      <td>2.0</td>\n",
       "      <td>1</td>\n",
       "    </tr>\n",
       "    <tr>\n",
       "      <th>3</th>\n",
       "      <td>CH</td>\n",
       "      <td>28.0</td>\n",
       "      <td>6</td>\n",
       "      <td>4.0</td>\n",
       "      <td>6.0</td>\n",
       "      <td>6.0</td>\n",
       "      <td>7.0</td>\n",
       "      <td>10.0</td>\n",
       "      <td>6.0</td>\n",
       "      <td>2.0</td>\n",
       "      <td>2.0</td>\n",
       "      <td>64.0</td>\n",
       "      <td>1.0</td>\n",
       "      <td>4</td>\n",
       "    </tr>\n",
       "    <tr>\n",
       "      <th>4</th>\n",
       "      <td>CH</td>\n",
       "      <td>29.0</td>\n",
       "      <td>6</td>\n",
       "      <td>5.0</td>\n",
       "      <td>6.0</td>\n",
       "      <td>7.0</td>\n",
       "      <td>5.0</td>\n",
       "      <td>8.0</td>\n",
       "      <td>7.0</td>\n",
       "      <td>2.0</td>\n",
       "      <td>2.0</td>\n",
       "      <td>55.0</td>\n",
       "      <td>1.0</td>\n",
       "      <td>3</td>\n",
       "    </tr>\n",
       "  </tbody>\n",
       "</table>\n",
       "</div>"
      ],
      "text/plain": [
       "  cntry  idno  year  tvtot  ppltrst  pplfair  pplhlp  happy  sclmeet  sclact  \\\n",
       "0    CH   5.0     6    3.0      3.0     10.0     5.0    8.0      5.0     4.0   \n",
       "1    CH  25.0     6    6.0      5.0      7.0     5.0    9.0      3.0     2.0   \n",
       "2    CH  26.0     6    1.0      8.0      8.0     8.0    7.0      6.0     3.0   \n",
       "3    CH  28.0     6    4.0      6.0      6.0     7.0   10.0      6.0     2.0   \n",
       "4    CH  29.0     6    5.0      6.0      7.0     5.0    8.0      7.0     2.0   \n",
       "\n",
       "   gndr  agea  partner age_band  \n",
       "0   2.0  60.0      1.0        4  \n",
       "1   2.0  59.0      1.0        3  \n",
       "2   1.0  24.0      2.0        1  \n",
       "3   2.0  64.0      1.0        4  \n",
       "4   2.0  55.0      1.0        3  "
      ]
     },
     "execution_count": 74,
     "metadata": {},
     "output_type": "execute_result"
    }
   ],
   "source": [
    "age_bands = [14, 29, 44, 59, 10000]\n",
    "labels = [1, 2, 3, 4]\n",
    "\n",
    "df['age_band'] = pd.cut(x=df['agea'], bins=age_bands, labels=labels)\n",
    "df.head()"
   ]
  },
  {
   "cell_type": "code",
   "execution_count": 75,
   "metadata": {},
   "outputs": [
    {
     "data": {
      "text/plain": [
       "4    2366\n",
       "3    2227\n",
       "2    2090\n",
       "1    1672\n",
       "Name: age_band, dtype: int64"
      ]
     },
     "execution_count": 75,
     "metadata": {},
     "output_type": "execute_result"
    }
   ],
   "source": [
    "df.age_band.value_counts()"
   ]
  },
  {
   "cell_type": "code",
   "execution_count": 152,
   "metadata": {
    "scrolled": false
   },
   "outputs": [
    {
     "name": "stdout",
     "output_type": "stream",
     "text": [
      "Countries selected:  ['CH' 'NO' 'CZ' 'SE']\n",
      "\n",
      "\n",
      "Country:  CH\n"
     ]
    },
    {
     "data": {
      "image/png": "[encoded data removed]",
      "text/plain": [
       "<Figure size 864x216 with 4 Axes>"
      ]
     },
     "metadata": {
      "needs_background": "light"
     },
     "output_type": "display_data"
    },
    {
     "name": "stdout",
     "output_type": "stream",
     "text": [
      "Country:  NO\n"
     ]
    },
    {
     "data": {
      "image/png": "[encoded data removed]",
      "text/plain": [
       "<Figure size 864x216 with 4 Axes>"
      ]
     },
     "metadata": {
      "needs_background": "light"
     },
     "output_type": "display_data"
    },
    {
     "name": "stdout",
     "output_type": "stream",
     "text": [
      "Country:  CZ\n"
     ]
    },
    {
     "data": {
      "image/png": "[encoded data removed]",
      "text/plain": [
       "<Figure size 864x216 with 4 Axes>"
      ]
     },
     "metadata": {
      "needs_background": "light"
     },
     "output_type": "display_data"
    },
    {
     "name": "stdout",
     "output_type": "stream",
     "text": [
      "Country:  SE\n"
     ]
    },
    {
     "data": {
      "image/png": "[encoded data removed]",
      "text/plain": [
       "<Figure size 864x216 with 4 Axes>"
      ]
     },
     "metadata": {
      "needs_background": "light"
     },
     "output_type": "display_data"
    },
    {
     "name": "stdout",
     "output_type": "stream",
     "text": [
      "Country: CH, Age band 1: NormaltestResult(statistic=0.17929856180492426, pvalue=0.9142517746068534)\n",
      "Country: CH, Age band 2: NormaltestResult(statistic=0.39169506969210005, pvalue=0.8221375724546744)\n",
      "Country: CH, Age band 3: NormaltestResult(statistic=0.13305547690396013, pvalue=0.9356369623754262)\n",
      "Country: CH, Age band 4: NormaltestResult(statistic=2.4690356576802044, pvalue=0.29097502831594113)\n",
      "\n",
      "\n",
      "Country: NO, Age band 1: NormaltestResult(statistic=5.626489431620492, pvalue=0.06000996088372266)\n",
      "Country: NO, Age band 2: NormaltestResult(statistic=3.719239668734242, pvalue=0.15573182300283295)\n",
      "Country: NO, Age band 3: NormaltestResult(statistic=4.994502025527661, pvalue=0.08231095967712483)\n",
      "Country: NO, Age band 4: NormaltestResult(statistic=0.09033117170995593, pvalue=0.9558391952780827)\n",
      "\n",
      "\n",
      "Country: CZ, Age band 1: NormaltestResult(statistic=6.494008611196747, pvalue=0.038890537666371086)\n",
      "Country: CZ, Age band 2: NormaltestResult(statistic=5.982403377414385, pvalue=0.050227043173158896)\n",
      "Country: CZ, Age band 3: NormaltestResult(statistic=3.78302503305082, pvalue=0.1508434829458521)\n",
      "Country: CZ, Age band 4: NormaltestResult(statistic=1.3441793377503657, pvalue=0.5106403927635808)\n",
      "\n",
      "\n",
      "Country: SE, Age band 1: NormaltestResult(statistic=1.402106565516351, pvalue=0.4960625344132793)\n",
      "Country: SE, Age band 2: NormaltestResult(statistic=0.23139028590243216, pvalue=0.8907467323296806)\n",
      "Country: SE, Age band 3: NormaltestResult(statistic=1.3270451458076953, pvalue=0.5150338909035854)\n",
      "Country: SE, Age band 4: NormaltestResult(statistic=1.9435845909975218, pvalue=0.37840421778556554)\n",
      "\n",
      "\n",
      "Social activities in groups with normal distribution: \n",
      "{'Country': 'CZ', 'Age_band': 1}\n"
     ]
    }
   ],
   "source": [
    "# randomly choose 4 countries\n",
    "countries = np.random.choice(\n",
    "    df.loc[df['cntry'] != 'DE', 'cntry'].unique(),\n",
    "    4,\n",
    "    replace=False\n",
    ")\n",
    "\n",
    "print(\"Countries selected: \", countries)\n",
    "print(\"\\n\")\n",
    "\n",
    "\n",
    "\n",
    "df_countries = df[(df.cntry).isin(countries) & (df.year == 7)]\n",
    "\n",
    "# plot the social activities for each age band, per country:\n",
    "\n",
    "for country in countries:    \n",
    "    print(\"Country: \", country)\n",
    "    g = sns.FacetGrid(df_countries.loc[df_countries.cntry == country],\n",
    "                      col='age_band',\n",
    "                      dropna=True,\n",
    "                      sharey=False)\n",
    "    g.map(plt.hist, 'sclact')\n",
    "    plt.show()\n",
    "\n",
    "normal_sclact = {}    \n",
    "for country in countries:\n",
    "    \n",
    "    for age_band in [1, 2, 3, 4]: \n",
    "        normaltest = stats.stats.normaltest(df_countries.loc[(df_countries['cntry'] == country) &\n",
    "                                                             (df_countries['age_band'] == age_band), \n",
    "                                                             'sclact'],\n",
    "                                                              nan_policy='omit')\n",
    "        print('Country: {}, Age band {}: {}'.format(country, age_band, normaltest))\n",
    "        \n",
    "        if normaltest.pvalue < 0.05:\n",
    "            normal_sclact.update(Country=country, Age_band=age_band)\n",
    "    print(\"\\n\")\n",
    "\n",
    "print(\"Social activities in groups with normal distribution: \")\n",
    "print(normal_sclact)"
   ]
  },
  {
   "cell_type": "code",
   "execution_count": 156,
   "metadata": {
    "scrolled": true
   },
   "outputs": [
    {
     "name": "stdout",
     "output_type": "stream",
     "text": [
      "*****************\n",
      "Age Band: 1\n",
      "*****************\n",
      "Age Band: 2\n",
      "CH and CZ: WilcoxonResult(statistic=2343.0, pvalue=0.03957542911944402)\n",
      "CH and SE: WilcoxonResult(statistic=2401.0, pvalue=0.012665089330114232)\n",
      "NO and CZ: WilcoxonResult(statistic=2148.5, pvalue=0.002948249205968483)\n",
      "CZ and SE: WilcoxonResult(statistic=2269.0, pvalue=0.0008172954292486671)\n",
      "*****************\n",
      "Age Band: 3\n",
      "CH and CZ: WilcoxonResult(statistic=2874.0, pvalue=0.009348781595645658)\n",
      "*****************\n",
      "Age Band: 4\n",
      "CH and SE: WilcoxonResult(statistic=4272.0, pvalue=0.049699652178788516)\n",
      "NO and CZ: WilcoxonResult(statistic=1934.5, pvalue=0.03334592398632947)\n",
      "CZ and SE: WilcoxonResult(statistic=1931.0, pvalue=0.016292991340042577)\n"
     ]
    }
   ],
   "source": [
    "import itertools\n",
    "cntry_pairs = list(itertools.combinations(countries, 2))\n",
    "\n",
    "for age_band in [1, 2, 3, 4]:\n",
    "    print(\"*****************\")\n",
    "    print(\"Age Band: {}\".format(age_band))\n",
    "    for pair in cntry_pairs:\n",
    "        x = df_countries.loc[(df_countries['cntry'] == pair[0]) & (df_countries['age_band'] == age_band), 'sclact']\n",
    "        y = df_countries.loc[(df_countries['cntry'] == pair[1]) & (df_countries['age_band'] == age_band), 'sclact']\n",
    "        if len(x) < len(y):\n",
    "            y = y.sample(len(x))\n",
    "            result = stats.wilcoxon(x,y)\n",
    "        elif len(y) < len(x):\n",
    "            x = x.sample(len(y))\n",
    "            result = stats.wilcoxon(x,y)\n",
    "        else:\n",
    "            result = stats.wilcoxon(x,y)\n",
    "        \n",
    "        if result.pvalue < 0.05:\n",
    "            print('{0} and {1}: {2}'.format(pair[0], pair[1], result))"
   ]
  },
  {
   "cell_type": "markdown",
   "metadata": {},
   "source": [
    "Looks like there are no significant differences in the social activities between the first age band amongst the countries, but there are significant differences in the social activity levels of next couple of age bands, between certain country pairs. "
   ]
  },
  {
   "cell_type": "code",
   "execution_count": null,
   "metadata": {},
   "outputs": [],
   "source": []
  }
 ],
 "metadata": {
  "kernelspec": {
   "display_name": "Python 3",
   "language": "python",
   "name": "python3"
  },
  "language_info": {
   "codemirror_mode": {
    "name": "ipython",
    "version": 3
   },
   "file_extension": ".py",
   "mimetype": "text/x-python",
   "name": "python",
   "nbconvert_exporter": "python",
   "pygments_lexer": "ipython3",
   "version": "3.7.3"
  }
 },
 "nbformat": 4,
 "nbformat_minor": 2
}
